{
 "cells": [
  {
   "cell_type": "markdown",
   "metadata": {},
   "source": [
    "# DataSport Scraping"
   ]
  },
  {
   "cell_type": "code",
   "execution_count": null,
   "metadata": {
    "collapsed": true
   },
   "outputs": [],
   "source": [
    "import requests as rq\n",
    "from bs4 import BeautifulSoup as bfs\n",
    "from IPython.display import HTML\n",
    "import pandas as pd\n",
    "import numpy as np\n",
    "import collections"
   ]
  },
  {
   "cell_type": "markdown",
   "metadata": {},
   "source": [
    "## Scraping a table"
   ]
  },
  {
   "cell_type": "code",
   "execution_count": null,
   "metadata": {
    "collapsed": false
   },
   "outputs": [],
   "source": [
    "HTML('<iframe src=https://services.datasport.com/2015/lauf/transviamala/alfaw.htm width=1000 height=350></iframe>')"
   ]
  },
  {
   "cell_type": "code",
   "execution_count": null,
   "metadata": {
    "collapsed": false
   },
   "outputs": [],
   "source": [
    "page = rq.get('https://services.datasport.com/2015/lauf/transviamala/alfaw.htm')\n",
    "soup = bfs(page.text, 'html5lib')\n",
    "\n",
    "fonts = soup.select('pre > font')"
   ]
  },
  {
   "cell_type": "code",
   "execution_count": null,
   "metadata": {
    "collapsed": false
   },
   "outputs": [],
   "source": [
    "def clean_raw_table(raw, min_len=10, max_len=-1):\n",
    "    return [line for line in raw if len(line) > min_len and (max_len < 0 or len(line) < max_len)]"
   ]
  },
  {
   "cell_type": "code",
   "execution_count": null,
   "metadata": {
    "collapsed": false
   },
   "outputs": [],
   "source": [
    "def split_raw_table(raw, header=''):\n",
    "\n",
    "    lines = clean_raw_table(raw.split('\\n'))\n",
    "\n",
    "    nb_char_max = len(max(lines, key=len))\n",
    "\n",
    "    values = [[] for _ in range(0, len(lines))]\n",
    "\n",
    "    column_char_idx = 0\n",
    "    column_names = []\n",
    "    column_idx = 0\n",
    "\n",
    "    for char_idx in range(0, nb_char_max):\n",
    "\n",
    "        # If all lines have a blank at the same character index,\n",
    "        # this is a separator and we need to split in two columns\n",
    "        nb_blank = 0\n",
    "        \n",
    "        # In order to don't add a full blank column,\n",
    "        # we need to check if a value is present a least in one line\n",
    "        has_value = False\n",
    "\n",
    "        for line_idx, line in enumerate(lines):\n",
    "\n",
    "            if len(line) > char_idx:\n",
    "                \n",
    "                if line[char_idx] == ' ':\n",
    "                    nb_blank += 1\n",
    "\n",
    "                if len(values[line_idx]) == column_idx:\n",
    "                    values[line_idx].append('')\n",
    "\n",
    "                # Remove blank before values\n",
    "                if line[char_idx] != ' ' or len(values[line_idx][column_idx]) > 0:\n",
    "                    values[line_idx][column_idx] += line[char_idx]\n",
    "                    has_value = True\n",
    "\n",
    "        if nb_blank == len(lines) and has_value:\n",
    "            column_idx += 1\n",
    "            if len(header) > char_idx:\n",
    "                column_names.append(header[column_char_idx:char_idx])\n",
    "                column_char_idx = char_idx\n",
    "\n",
    "    return values, column_names"
   ]
  },
  {
   "cell_type": "code",
   "execution_count": null,
   "metadata": {
    "collapsed": false
   },
   "outputs": [],
   "source": [
    "def create_clean_dataframe(raw, header):\n",
    "    \n",
    "    data, columns = split_raw_table(raw, header)\n",
    "\n",
    "    clean_data = []\n",
    "    \n",
    "    for row in data:\n",
    "        clean_row = []\n",
    "        \n",
    "        # Remove the last column\n",
    "        for value in row[0:-1]:\n",
    "            \n",
    "            clean_value = value.strip()\n",
    "            if len(clean_value) > 0:\n",
    "                \n",
    "                # Remove the point present in last character of the value (like in rank)\n",
    "                if clean_value[len(clean_value)-1] == '.':\n",
    "                    clean_value = clean_value[0:-1]\n",
    "\n",
    "                # Remove parenthesis\n",
    "                if clean_value[0] == '(' and clean_value[len(clean_value)-1] == ')':\n",
    "                    clean_value = clean_value[1:-1]\n",
    "\n",
    "                # Set empty value when there is no real value\n",
    "                if clean_value[0] == '-' and clean_value[len(clean_value)-1] == '-':\n",
    "                    clean_value = ''\n",
    "\n",
    "            clean_row.append(clean_value)\n",
    "        clean_data.append(clean_row)\n",
    "\n",
    "    # Create the dataframe (we remove the last column like rows above)\n",
    "    df = pd.DataFrame(data=clean_data, columns=columns[0:-1])\n",
    "    \n",
    "    \"\"\"\n",
    "        TODO:\n",
    "            - Set types\n",
    "            - Translate column names ?\n",
    "    \"\"\"\n",
    "    return df"
   ]
  },
  {
   "cell_type": "code",
   "execution_count": null,
   "metadata": {
    "collapsed": false
   },
   "outputs": [],
   "source": [
    "create_clean_dataframe(fonts[2].text, fonts[0].text)"
   ]
  },
  {
   "cell_type": "code",
   "execution_count": null,
   "metadata": {
    "collapsed": true
   },
   "outputs": [],
   "source": []
  }
 ],
 "metadata": {
  "anaconda-cloud": {},
  "kernelspec": {
   "display_name": "Python [Root]",
   "language": "python",
   "name": "Python [Root]"
  },
  "language_info": {
   "codemirror_mode": {
    "name": "ipython",
    "version": 3
   },
   "file_extension": ".py",
   "mimetype": "text/x-python",
   "name": "python",
   "nbconvert_exporter": "python",
   "pygments_lexer": "ipython3",
   "version": "3.5.2"
  }
 },
 "nbformat": 4,
 "nbformat_minor": 0
}
