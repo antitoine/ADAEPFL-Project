{
 "cells": [
  {
   "cell_type": "markdown",
   "metadata": {},
   "source": [
    "# DataSport Scraping"
   ]
  },
  {
   "cell_type": "code",
   "execution_count": null,
   "metadata": {
    "collapsed": true
   },
   "outputs": [],
   "source": [
    "import requests as rq\n",
    "from bs4 import BeautifulSoup as bfs\n",
    "from IPython.display import HTML\n",
    "import pandas as pd\n",
    "import numpy as np\n",
    "import collections"
   ]
  },
  {
   "cell_type": "markdown",
   "metadata": {},
   "source": [
    "## Scraping a table"
   ]
  },
  {
   "cell_type": "code",
   "execution_count": null,
   "metadata": {
    "collapsed": false
   },
   "outputs": [],
   "source": [
    "HTML('<iframe src=https://services.datasport.com/2015/lauf/transviamala/alfaw.htm width=1000 height=350></iframe>')"
   ]
  },
  {
   "cell_type": "code",
   "execution_count": null,
   "metadata": {
    "collapsed": false
   },
   "outputs": [],
   "source": [
    "page = rq.get('https://services.datasport.com/2015/lauf/transviamala/alfaw.htm')\n",
    "soup = bfs(page.text, 'html5lib')\n",
    "\n",
    "fonts = soup.select('pre > font')\n",
    "data = fonts[2].text.split('\\n')"
   ]
  },
  {
   "cell_type": "code",
   "execution_count": null,
   "metadata": {
    "collapsed": false
   },
   "outputs": [],
   "source": [
    "data_pd = pd.DataFrame(data)\n",
    "data_pd['length'] = data_pd.apply(lambda x: len(x[0]), axis=1)\n",
    "data_pd['length'].value_counts()"
   ]
  },
  {
   "cell_type": "code",
   "execution_count": null,
   "metadata": {
    "collapsed": false
   },
   "outputs": [],
   "source": [
    "max_line = max(data, key=len)\n",
    "clean_data = [line for line in data if len(line) > 10]"
   ]
  },
  {
   "cell_type": "code",
   "execution_count": null,
   "metadata": {
    "collapsed": false
   },
   "outputs": [],
   "source": [
    "lines = []\n",
    "columns = []\n",
    "for i in range(0, len(max_line)):\n",
    "    nb_blank = 0\n",
    "    for j, line in enumerate(clean_data):\n",
    "        if len(line) > i:\n",
    "            if line[i] == ' ':\n",
    "                nb_blank += 1\n",
    "            else:\n",
    "                if len(lines) == 0:\n",
    "                    lines = ['']*len(clean_data)\n",
    "                lines[j] += line[i]\n",
    "    if nb_blank == len(clean_data) and len(lines):\n",
    "        columns.append(lines)\n",
    "        lines = []\n",
    "\n",
    "pd.DataFrame(columns).T"
   ]
  },
  {
   "cell_type": "code",
   "execution_count": null,
   "metadata": {
    "collapsed": true
   },
   "outputs": [],
   "source": []
  },
  {
   "cell_type": "code",
   "execution_count": null,
   "metadata": {
    "collapsed": true
   },
   "outputs": [],
   "source": []
  }
 ],
 "metadata": {
  "kernelspec": {
   "display_name": "Python [Root]",
   "language": "python",
   "name": "Python [Root]"
  },
  "language_info": {
   "codemirror_mode": {
    "name": "ipython",
    "version": 3
   },
   "file_extension": ".py",
   "mimetype": "text/x-python",
   "name": "python",
   "nbconvert_exporter": "python",
   "pygments_lexer": "ipython3",
   "version": "3.5.2"
  }
 },
 "nbformat": 4,
 "nbformat_minor": 0
}
