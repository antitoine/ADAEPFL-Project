{
 "cells": [
  {
   "cell_type": "code",
   "execution_count": null,
   "metadata": {
    "collapsed": true
   },
   "outputs": [],
   "source": [
    "import requests as rq\n",
    "from bs4 import BeautifulSoup as bfs\n",
    "from IPython.display import HTML\n",
    "import pandas as pd\n",
    "import numpy as np\n",
    "import time\n",
    "import random"
   ]
  },
  {
   "cell_type": "markdown",
   "metadata": {},
   "source": [
    "# Get all acode (runner unique code) in a run event"
   ]
  },
  {
   "cell_type": "code",
   "execution_count": null,
   "metadata": {
    "collapsed": false
   },
   "outputs": [],
   "source": [
    "HTML('<iframe src=https://services.datasport.com/2015/lauf/transviamala/alfaw.htm width=1000 height=350></iframe>')"
   ]
  },
  {
   "cell_type": "code",
   "execution_count": null,
   "metadata": {
    "collapsed": false
   },
   "outputs": [],
   "source": [
    "def get_all_acode(url):\n",
    "    page = rq.get(url)\n",
    "    page_soup = bfs(page.text, 'html5lib')\n",
    "\n",
    "    runners = page_soup.body.findAll('span', attrs={'class': 'myds'})\n",
    "    \n",
    "    return [runner['acode'] for runner in runners]\n",
    "\n",
    "def get_all_acode_from_run_event(url):\n",
    "    data = []\n",
    "    page = rq.get(url)\n",
    "    soup = bfs(page.text, 'html5lib')\n",
    "    table_links = soup.select('font > a[href*=ALF]')\n",
    "    all_acode = []\n",
    "    for idx, link in enumerate(table_links):\n",
    "        full_link = url + link['href']\n",
    "        \n",
    "        print(str(idx+1) + '/' + str(len(table_links)) + ' - Processing ' + full_link)\n",
    "\n",
    "        # Remove duplicate entries and merges acodes\n",
    "        #all_acode = all_acode + list(set(get_all_acode(full_link)) - set(all_acode))\n",
    "        all_acode += get_all_acode(full_link)\n",
    "        \n",
    "        time.sleep(random.uniform(0.5, 2))\n",
    "\n",
    "    return all_acode"
   ]
  },
  {
   "cell_type": "code",
   "execution_count": null,
   "metadata": {
    "collapsed": false
   },
   "outputs": [],
   "source": [
    "acode_list = get_all_acode_from_run_event('https://services.datasport.com/2015/lauf/transviamala/')"
   ]
  },
  {
   "cell_type": "markdown",
   "metadata": {},
   "source": [
    "# Get run events"
   ]
  },
  {
   "cell_type": "code",
   "execution_count": null,
   "metadata": {
    "collapsed": false,
    "scrolled": true
   },
   "outputs": [],
   "source": [
    "HTML('<iframe src=https://www.datasport.com/fr/calendrier/ width=1000 height=350></iframe>')"
   ]
  },
  {
   "cell_type": "markdown",
   "metadata": {},
   "source": [
    "## Get all params"
   ]
  },
  {
   "cell_type": "code",
   "execution_count": null,
   "metadata": {
    "collapsed": true
   },
   "outputs": [],
   "source": [
    "def get_all_params_calendar():\n",
    "    calendar_page = rq.post('https://www.datasport.com/fr/calendrier/', data = calendar_params)\n",
    "    calendar_soup = bfs(calendar_page.text, 'html5lib')\n",
    "\n",
    "    selector_table = calendar_soup.find('table', attrs={'id': 'ds-calendar-header'})\n",
    "\n",
    "    available_params = {}\n",
    "    for selector in selector_table.findAll('select'):\n",
    "        available_params[selector['name']] = {option.text: option['value'] for option in selector.findAll('option')}\n",
    "\n",
    "    return available_params"
   ]
  },
  {
   "cell_type": "code",
   "execution_count": null,
   "metadata": {
    "collapsed": false
   },
   "outputs": [],
   "source": [
    "calendar_available_params = get_all_params_calendar()\n",
    "calendar_available_params"
   ]
  },
  {
   "cell_type": "markdown",
   "metadata": {},
   "source": [
    "## Get all run events url in a calendar"
   ]
  },
  {
   "cell_type": "code",
   "execution_count": null,
   "metadata": {
    "collapsed": false
   },
   "outputs": [],
   "source": [
    "def get_run_events_url(year=2009, month=1, country='CCH', sport='Running'):\n",
    "\n",
    "    calendar_params = {\n",
    "        'dr': '',\n",
    "        'lastQuery': 'D147BC896417D2D2B96FA1AADD893731',\n",
    "        'eventsearch': '',\n",
    "        'eventservice': 'all',\n",
    "        'start': 1,\n",
    "        'etyp': sport,\n",
    "        'eventlocation': country,\n",
    "        'eventmonth': month,\n",
    "        'eventyear': year,\n",
    "    }\n",
    "\n",
    "    calendar_page = rq.post('https://www.datasport.com/fr/calendrier/', data = calendar_params)\n",
    "    calendar_soup = bfs(calendar_page.text, 'html5lib')\n",
    "\n",
    "    table = calendar_soup.find('table', attrs={'id': 'ds-calendar-body'})\n",
    "\n",
    "    all_event_url = []\n",
    "    for row in table.findAll('tr'):\n",
    "        columns = row.findAll('td')\n",
    "        if len(columns) >= 4:\n",
    "            url = columns[4].find('a')\n",
    "            if url:\n",
    "                all_event_url.append(url['href'])\n",
    "\n",
    "    return all_event_url"
   ]
  },
  {
   "cell_type": "code",
   "execution_count": null,
   "metadata": {
    "collapsed": false
   },
   "outputs": [],
   "source": [
    "get_run_events_url()"
   ]
  },
  {
   "cell_type": "markdown",
   "metadata": {},
   "source": [
    "## Get all run event urls"
   ]
  },
  {
   "cell_type": "code",
   "execution_count": null,
   "metadata": {
    "collapsed": false
   },
   "outputs": [],
   "source": [
    "def get_all_run_events():\n",
    "    run_events = []\n",
    "    for year_text, year_value in calendar_available_params['eventyear'].items():\n",
    "        if year_value != 'all':\n",
    "            for month_text, month_value in calendar_available_params['eventmonth'].items():\n",
    "                if month_value != 'all':\n",
    "                    print('Year ' + year_value + ' / Month ' + month_value)\n",
    "                    run_events += get_run_events_url(year_value, month_value)\n",
    "                    time.sleep(random.uniform(0.5, 2))\n",
    "    return run_events"
   ]
  },
  {
   "cell_type": "code",
   "execution_count": null,
   "metadata": {
    "collapsed": false
   },
   "outputs": [],
   "source": [
    "run_events = get_all_run_events()\n",
    "run_events"
   ]
  },
  {
   "cell_type": "code",
   "execution_count": null,
   "metadata": {
    "collapsed": true
   },
   "outputs": [],
   "source": []
  }
 ],
 "metadata": {
  "anaconda-cloud": {},
  "kernelspec": {
   "display_name": "Python [default]",
   "language": "python",
   "name": "python3"
  },
  "language_info": {
   "codemirror_mode": {
    "name": "ipython",
    "version": 3
   },
   "file_extension": ".py",
   "mimetype": "text/x-python",
   "name": "python",
   "nbconvert_exporter": "python",
   "pygments_lexer": "ipython3",
   "version": "3.5.2"
  }
 },
 "nbformat": 4,
 "nbformat_minor": 1
}
