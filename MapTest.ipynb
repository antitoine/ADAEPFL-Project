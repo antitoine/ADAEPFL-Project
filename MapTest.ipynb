{
 "cells": [
  {
   "cell_type": "code",
   "execution_count": null,
   "metadata": {
    "collapsed": false
   },
   "outputs": [],
   "source": [
    "# request import\n",
    "import requests as rq\n",
    "\n",
    "# BSoup imports\n",
    "import urllib.request\n",
    "from bs4 import BeautifulSoup as BSoup\n",
    "\n",
    "# Selenium imports\n",
    "from selenium import webdriver\n",
    "from selenium.webdriver.common.keys import Keys\n",
    "from selenium.common.exceptions import NoSuchElementException, StaleElementReferenceException\n",
    "from selenium.webdriver.support.ui import WebDriverWait\n",
    "from selenium.webdriver.support.ui import Select\n",
    "\n",
    "# Pandas imports\n",
    "import pandas as pd\n",
    "import numpy as np\n",
    "import matplotlib.pyplot as plt\n",
    "\n",
    "# Utils import\n",
    "import os\n",
    "import random\n",
    "import collections\n",
    "import string\n",
    "import time"
   ]
  },
  {
   "cell_type": "code",
   "execution_count": null,
   "metadata": {
    "collapsed": true
   },
   "outputs": [],
   "source": [
    "DATA_FILE = './DataMeteo/StationInformation.csv'\n",
    "FILTER_URL = 'http://www.infoclimat.fr/observations-meteo/temps-reel/lausanne/06710.html'\n",
    "LATITUDE = 'latitude'\n",
    "LONGITUDE = 'longitude'\n",
    "ALTITUDE = 'altitude (m)'\n",
    "CURRENT_ADRESS = 'current_adress'\n",
    "STATION = 'stationCity'"
   ]
  },
  {
   "cell_type": "markdown",
   "metadata": {},
   "source": [
    "Get the different value for all the selection."
   ]
  },
  {
   "cell_type": "code",
   "execution_count": null,
   "metadata": {
    "collapsed": false
   },
   "outputs": [],
   "source": [
    "filters_page = rq.get(FILTER_URL) # Retrieving content of online form\n",
    "filters = BSoup(filters_page.text, 'html.parser')\n",
    "\n",
    "selects = filters.find('select',{'id': 'select_station'}) # Filter to get all stations\n",
    "availableStation = []\n",
    "\n",
    "for option in selects.findAll('option'):\n",
    "    if option.text != 'Changer de station...':\n",
    "        availableStation.append(option.text)\n",
    "        \n",
    "len(availableStation)\n",
    "print(availableStation)"
   ]
  },
  {
   "cell_type": "code",
   "execution_count": null,
   "metadata": {
    "collapsed": false
   },
   "outputs": [],
   "source": [
    "def getLatitude(valueListElement):\n",
    "    temp = valueListElement.rsplit('\\t',4)\n",
    "    temp = temp[2].rsplit('|',1)\n",
    "    temp = temp[0].replace(\" \",\"\")\n",
    "    temp = temp.replace(\"Â°N\",\"\")\n",
    "    print ('lattitude is: '+temp )\n",
    "    return temp"
   ]
  },
  {
   "cell_type": "code",
   "execution_count": null,
   "metadata": {
    "collapsed": true
   },
   "outputs": [],
   "source": [
    "def getAltitude(valueListElement):\n",
    "    temp = valueListElement.rsplit(' ',3)\n",
    "    print ('altitude is: '+temp[1] )\n",
    "    return temp[1]"
   ]
  },
  {
   "cell_type": "code",
   "execution_count": null,
   "metadata": {
    "collapsed": true
   },
   "outputs": [],
   "source": [
    "def getLongitude(valueListElement):\n",
    "    temp = valueListElement.rsplit('\\t',4)\n",
    "    temp = temp[2].rsplit('|',1)\n",
    "    temp = temp[1].replace(\" \",\"\")\n",
    "    temp = temp.replace(\"Â°E\",\"\")\n",
    "    print ('longitude is: '+ temp )\n",
    "    return temp"
   ]
  },
  {
   "cell_type": "code",
   "execution_count": null,
   "metadata": {
    "collapsed": false
   },
   "outputs": [],
   "source": [
    "getLongitude('\\nCoordonnÃ©es\\n\\t\\t    46,30Â°N | 7,34Â°E \\t\\t')"
   ]
  },
  {
   "cell_type": "code",
   "execution_count": null,
   "metadata": {
    "collapsed": false
   },
   "outputs": [],
   "source": [
    "def multiselect_set_selections(driver, element_id, labels):\n",
    "    result = collections.defaultdict(list)\n",
    "    \n",
    "    # Select with the id and loop in oder to get all information about the station.\n",
    "    for labelText in labels:\n",
    "        \n",
    "        #Selenium soup request.\n",
    "        print ('request for : ' + labelText)\n",
    "        select = WebDriverWait(driver, 10).until(lambda driver:Select(driver.find_element_by_id(element_id)))\n",
    "        select.select_by_visible_text(labelText)\n",
    "        \n",
    "        #BeautifulSoup request.\n",
    "        filters = BSoup(driver.page_source.encode('utf-8'), 'html.parser')\n",
    "        selects = filters.find('ul',{'id': 'station-informations'}).findAll('li')\n",
    "        \n",
    "        #get the result.\n",
    "        result[CURRENT_ADRESS].append(driver.current_url)\n",
    "        result[LATITUDE].append((getLatitude(selects[1].get_text())))\n",
    "        result[LONGITUDE].append((getLongitude(selects[1].get_text())))\n",
    "        result[ALTITUDE].append(getAltitude(selects[0].get_text())) \n",
    "        \n",
    "        # We have to wait to avoid the capcha.\n",
    "        time.sleep(5)\n",
    "              \n",
    "    result[STATION] = availableStation\n",
    "    return pd.DataFrame(data=result)\n",
    "        "
   ]
  },
  {
   "cell_type": "code",
   "execution_count": null,
   "metadata": {
    "collapsed": true
   },
   "outputs": [],
   "source": [
    "def getInformationStation():\n",
    "    chromedriver = \"./Utils/chromedriver\"\n",
    "    os.environ[\"webdriver.chrome.driver\"] = chromedriver\n",
    "    driver = webdriver.Chrome(chromedriver)\n",
    "    driver.get(FILTER_URL)\n",
    "    \n",
    "    # get the result.\n",
    "    result_screen_scraping = multiselect_set_selections(driver,'select_station',availableStation)\n",
    "    result_screen_scraping.to_csv('example.csv')\n",
    "    driver.close()"
   ]
  },
  {
   "cell_type": "code",
   "execution_count": null,
   "metadata": {
    "collapsed": false
   },
   "outputs": [],
   "source": [
    "getInformationStation()"
   ]
  },
  {
   "cell_type": "code",
   "execution_count": null,
   "metadata": {
    "collapsed": true
   },
   "outputs": [],
   "source": []
  }
 ],
 "metadata": {
  "anaconda-cloud": {},
  "kernelspec": {
   "display_name": "Python [Root]",
   "language": "python",
   "name": "Python [Root]"
  },
  "language_info": {
   "codemirror_mode": {
    "name": "ipython",
    "version": 3
   },
   "file_extension": ".py",
   "mimetype": "text/x-python",
   "name": "python",
   "nbconvert_exporter": "python",
   "pygments_lexer": "ipython3",
   "version": "3.5.2"
  }
 },
 "nbformat": 4,
 "nbformat_minor": 0
}
