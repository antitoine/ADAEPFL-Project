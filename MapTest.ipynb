{
 "cells": [
  {
   "cell_type": "code",
   "execution_count": 60,
   "metadata": {
    "collapsed": false
   },
   "outputs": [],
   "source": [
    "# BSoup imports\n",
    "import urllib.request\n",
    "from bs4 import BeautifulSoup as BSoup\n",
    "\n",
    "# Selenium imports\n",
    "from selenium import webdriver\n",
    "from selenium.webdriver.common.keys import Keys\n",
    "from selenium.common.exceptions import NoSuchElementException, StaleElementReferenceException\n",
    "\n",
    "# Pandas imports\n",
    "import pandas as pd\n",
    "import numpy as np\n",
    "import matplotlib.pyplot as plt"
   ]
  },
  {
   "cell_type": "code",
   "execution_count": 61,
   "metadata": {
    "collapsed": true
   },
   "outputs": [],
   "source": [
    "DATA_FOLDER = 'DataMeteo/'\n",
    "FILTER_URL = 'http://www.infoclimat.fr/observations-meteo/temps-reel/lausanne/06710.html'"
   ]
  },
  {
   "cell_type": "markdown",
   "metadata": {},
   "source": [
    "Get the different value for all the selection."
   ]
  },
  {
   "cell_type": "code",
   "execution_count": 62,
   "metadata": {
    "collapsed": false
   },
   "outputs": [
    {
     "name": "stderr",
     "output_type": "stream",
     "text": [
      "Exception ignored in: <bound method Service.__del__ of <selenium.webdriver.firefox.service.Service object at 0x114b412b0>>\n",
      "Traceback (most recent call last):\n",
      "  File \"/Users/adupeyrat/anaconda/lib/python3.5/site-packages/selenium/webdriver/common/service.py\", line 163, in __del__\n",
      "    self.stop()\n",
      "  File \"/Users/adupeyrat/anaconda/lib/python3.5/site-packages/selenium/webdriver/common/service.py\", line 135, in stop\n",
      "    if self.process is None:\n",
      "AttributeError: 'Service' object has no attribute 'process'\n"
     ]
    },
    {
     "data": {
      "text/plain": [
       "[<option data-seo=\"adelboden\" value=\"06735\">Adelboden</option>,\n",
       " <option data-seo=\"aigle\" value=\"06712\">Aigle</option>,\n",
       " <option data-seo=\"alpnach\" value=\"LSMA\">Alpnach</option>,\n",
       " <option data-seo=\"altdorf\" value=\"06672\">Altdorf</option>,\n",
       " <option data-seo=\"altenrhein\" value=\"06690\">Altenrhein</option>,\n",
       " <option data-seo=\"ascona\" value=\"06990\">Ascona</option>,\n",
       " <option data-seo=\"bale-binningen\" value=\"06601\">Bâle-Binningen</option>,\n",
       " <option data-seo=\"bern-belp-berne\" value=\"06630\">Bern/Belp (Berne)</option>,\n",
       " <option data-seo=\"berne-liebefeld\" value=\"06631\">Berne Liebefeld</option>,\n",
       " <option data-seo=\"buchs-suhr\" value=\"06633\">Buchs-Suhr</option>,\n",
       " <option data-seo=\"buochs\" value=\"LSMU\">Buochs</option>,\n",
       " <option data-seo=\"buochs\" value=\"06658\">Buochs</option>,\n",
       " <option data-seo=\"buochs\" value=\"LSZC\">BUOCHS</option>,\n",
       " <option data-seo=\"changins\" value=\"06705\">Changins</option>,\n",
       " <option data-seo=\"chasseral\" value=\"06605\">Chasseral</option>,\n",
       " <option data-seo=\"chur-ems\" value=\"06786\">Chur-Ems</option>,\n",
       " <option data-seo=\"cimetta\" value=\"06759\">Cimetta</option>,\n",
       " <option data-seo=\"comprovasco\" value=\"06756\">Comprovasco</option>,\n",
       " <option data-seo=\"corvatsch\" value=\"06791\">Corvatsch</option>,\n",
       " <option data-seo=\"disentis\" value=\"06782\">Disentis</option>,\n",
       " <option data-seo=\"dubendorf\" value=\"LSMD\">Dübendorf</option>,\n",
       " <option data-seo=\"emmen\" value=\"LSME\">Emmen</option>,\n",
       " <option data-seo=\"ernen\" value=\"06743\">Ernen</option>,\n",
       " <option data-seo=\"evolene-villaz\" value=\"06722\">Evolene-Villaz</option>,\n",
       " <option data-seo=\"fahy-boncourt\" value=\"06616\">Fahy-Boncourt</option>,\n",
       " <option data-seo=\"fionnay\" value=\"06721\">Fionnay</option>,\n",
       " <option data-seo=\"gemmi\" value=\"06726\">Gemmi</option>,\n",
       " <option data-seo=\"geneve-cointrin\" value=\"06700\">Genève-Cointrin</option>,\n",
       " <option data-seo=\"giswil\" value=\"06657\">Giswil</option>,\n",
       " <option data-seo=\"goesgen\" value=\"06626\">Goesgen</option>,\n",
       " <option data-seo=\"grand-saint-bernhard\" value=\"06717\">Grand Saint-Bernhard</option>,\n",
       " <option data-seo=\"grenchen\" value=\"06632\">Grenchen</option>,\n",
       " <option data-seo=\"guetsch\" value=\"06750\">Guetsch</option>,\n",
       " <option data-seo=\"hoernli\" value=\"06689\">Hoernli</option>,\n",
       " <option data-seo=\"interlaken\" value=\"06734\">Interlaken</option>,\n",
       " <option data-seo=\"jungfraujoch\" value=\"06730\">Jungfraujoch</option>,\n",
       " <option data-seo=\"la-cure\" value=\"06703\">La Cure</option>,\n",
       " <option data-seo=\"la-dole\" value=\"06702\">La Dole</option>,\n",
       " <option class=\"deroulant-stnc-static\" data-seo=\"la-fouly\" value=\"000F4\">La Fouly</option>,\n",
       " <option data-seo=\"la-fretaz\" value=\"06619\">La Fretaz</option>,\n",
       " <option data-seo=\"laegern\" value=\"06669\">Laegern</option>,\n",
       " <option data-seo=\"laufenburg\" value=\"06649\">Laufenburg</option>,\n",
       " <option data-seo=\"lausanne\" value=\"06710\">Lausanne</option>,\n",
       " <option data-seo=\"lausanne-pully\" value=\"06711\">Lausanne - Pully</option>,\n",
       " <option data-seo=\"leibstadt\" value=\"06666\">Leibstadt</option>,\n",
       " <option data-seo=\"les-eplatures\" value=\"06612\">Les Eplatures</option>,\n",
       " <option class=\"deroulant-stnc-static\" data-seo=\"leysin\" value=\"000A6\">Leysin</option>,\n",
       " <option data-seo=\"locarno-monti\" value=\"06760\">Locarno Monti</option>,\n",
       " <option data-seo=\"locarno-magadino\" value=\"06762\">Locarno-Magadino</option>,\n",
       " <option data-seo=\"lugano\" value=\"06770\">Lugano</option>,\n",
       " <option data-seo=\"lugano-agno\" value=\"06775\">Lugano/Agno</option>,\n",
       " <option data-seo=\"meiringen\" value=\"LSMM\">Meiringen</option>,\n",
       " <option data-seo=\"mettlen\" value=\"06652\">Mettlen</option>,\n",
       " <option data-seo=\"moleson\" value=\"06609\">Moleson</option>,\n",
       " <option data-seo=\"montana\" value=\"06724\">Montana</option>,\n",
       " <option data-seo=\"muhleberg\" value=\"06636\">Mühleberg</option>,\n",
       " <option data-seo=\"napf\" value=\"06639\">Napf</option>,\n",
       " <option data-seo=\"neuchatel\" value=\"06604\">Neuchatel</option>,\n",
       " <option class=\"deroulant-stnc-static\" data-seo=\"payerne\" value=\"00022\">Payerne</option>,\n",
       " <option data-seo=\"payerne-metar\" value=\"06610\">Payerne/Metar</option>,\n",
       " <option data-seo=\"piotta\" value=\"06753\">Piotta</option>,\n",
       " <option data-seo=\"plaffeien\" value=\"06628\">Plaffeien</option>,\n",
       " <option data-seo=\"robbia\" value=\"06794\">Robbia</option>,\n",
       " <option data-seo=\"ruenenberg\" value=\"06645\">Ruenenberg</option>,\n",
       " <option data-seo=\"saentis\" value=\"06680\">Saentis</option>,\n",
       " <option data-seo=\"saint-gallen\" value=\"06681\">Saint Gallen</option>,\n",
       " <option data-seo=\"saint-gallen-altenrhein\" value=\"06691\">Saint Gallen-Altenrhein</option>,\n",
       " <option class=\"deroulant-stnc-static\" data-seo=\"saint-triphon\" value=\"00025\">Saint-Triphon</option>,\n",
       " <option data-seo=\"samedan\" value=\"06792\">Samedan</option>,\n",
       " <option data-seo=\"san-bernardino\" value=\"06783\">San Bernardino</option>,\n",
       " <option data-seo=\"savatan\" value=\"06718\">Savatan</option>,\n",
       " <option data-seo=\"sion\" value=\"06720\">Sion</option>,\n",
       " <option data-seo=\"sion-mil\" value=\"LSMS\">SION (MIL)</option>,\n",
       " <option data-seo=\"st-moritz\" value=\"06790\">St. Moritz</option>,\n",
       " <option data-seo=\"stabio\" value=\"06771\">Stabio</option>,\n",
       " <option data-seo=\"ulrichen\" value=\"06745\">Ulrichen</option>,\n",
       " <option class=\"deroulant-stnc-static\" data-seo=\"versoix\" value=\"000F7\">Versoix</option>,\n",
       " <option class=\"deroulant-stnc-static\" data-seo=\"villarzel\" value=\"000R9\">Villarzel</option>,\n",
       " <option data-seo=\"visp\" value=\"06727\">Visp</option>,\n",
       " <option data-seo=\"weesen\" value=\"06684\">Weesen</option>,\n",
       " <option data-seo=\"wynau\" value=\"06643\">Wynau</option>,\n",
       " <option data-seo=\"zermatt\" value=\"06748\">Zermatt</option>,\n",
       " <option data-seo=\"zurich-sma\" value=\"06660\">Zurich SMA</option>,\n",
       " <option data-seo=\"zurich-kloten\" value=\"06670\">Zürich/Kloten</option>]"
      ]
     },
     "execution_count": 62,
     "metadata": {},
     "output_type": "execute_result"
    }
   ],
   "source": [
    "filters_page = rq.get(FILTER_URL) # Retrieving content of online form\n",
    "filters = bfs(filters_page.text, 'html.parser')\n",
    "\n",
    "selects = filters.find('select',{'id': 'select_station'}) # Filter to get all stations\n",
    "availableStation = []\n",
    "\n",
    "for option in selects.findAll('option'):\n",
    "    if option.text != 'Changer de station...':\n",
    "        availableStation.append(option)\n",
    "        \n",
    "len(availableStation)\n",
    "availableStation"
   ]
  },
  {
   "cell_type": "code",
   "execution_count": 63,
   "metadata": {
    "collapsed": false
   },
   "outputs": [
    {
     "ename": "SyntaxError",
     "evalue": "invalid syntax (<ipython-input-63-21942111b1b7>, line 1)",
     "output_type": "error",
     "traceback": [
      "\u001b[0;36m  File \u001b[0;32m\"<ipython-input-63-21942111b1b7>\"\u001b[0;36m, line \u001b[0;32m1\u001b[0m\n\u001b[0;31m    def multiselect_set_selections(driver, 'select_station', labels):\u001b[0m\n\u001b[0m                                                          ^\u001b[0m\n\u001b[0;31mSyntaxError\u001b[0m\u001b[0;31m:\u001b[0m invalid syntax\n"
     ]
    }
   ],
   "source": [
    "def multiselect_set_selections(driver, 'select_station', labels):\n",
    "    el = driver.find_element_by_id(element_id)\n",
    "    for option in el.find_elements_by_tag_name('option'):\n",
    "        if option.text in labels:\n",
    "            option.click()"
   ]
  },
  {
   "cell_type": "code",
   "execution_count": 64,
   "metadata": {
    "collapsed": false
   },
   "outputs": [
    {
     "ename": "WebDriverException",
     "evalue": "Message: 'chromedriver' executable needs to be in PATH. Please see https://sites.google.com/a/chromium.org/chromedriver/home\n",
     "output_type": "error",
     "traceback": [
      "\u001b[0;31m---------------------------------------------------------------------------\u001b[0m",
      "\u001b[0;31mFileNotFoundError\u001b[0m                         Traceback (most recent call last)",
      "\u001b[0;32m/Users/adupeyrat/anaconda/lib/python3.5/site-packages/selenium/webdriver/common/service.py\u001b[0m in \u001b[0;36mstart\u001b[0;34m(self)\u001b[0m\n\u001b[1;32m     63\u001b[0m                                             \u001b[0mclose_fds\u001b[0m\u001b[0;34m=\u001b[0m\u001b[0mplatform\u001b[0m\u001b[0;34m.\u001b[0m\u001b[0msystem\u001b[0m\u001b[0;34m(\u001b[0m\u001b[0;34m)\u001b[0m \u001b[0;34m!=\u001b[0m \u001b[0;34m'Windows'\u001b[0m\u001b[0;34m,\u001b[0m\u001b[0;34m\u001b[0m\u001b[0m\n\u001b[0;32m---> 64\u001b[0;31m                                             stdout=self.log_file, stderr=self.log_file)\n\u001b[0m\u001b[1;32m     65\u001b[0m         \u001b[0;32mexcept\u001b[0m \u001b[0mTypeError\u001b[0m\u001b[0;34m:\u001b[0m\u001b[0;34m\u001b[0m\u001b[0m\n",
      "\u001b[0;32m/Users/adupeyrat/anaconda/lib/python3.5/subprocess.py\u001b[0m in \u001b[0;36m__init__\u001b[0;34m(self, args, bufsize, executable, stdin, stdout, stderr, preexec_fn, close_fds, shell, cwd, env, universal_newlines, startupinfo, creationflags, restore_signals, start_new_session, pass_fds)\u001b[0m\n\u001b[1;32m    946\u001b[0m                                 \u001b[0merrread\u001b[0m\u001b[0;34m,\u001b[0m \u001b[0merrwrite\u001b[0m\u001b[0;34m,\u001b[0m\u001b[0;34m\u001b[0m\u001b[0m\n\u001b[0;32m--> 947\u001b[0;31m                                 restore_signals, start_new_session)\n\u001b[0m\u001b[1;32m    948\u001b[0m         \u001b[0;32mexcept\u001b[0m\u001b[0;34m:\u001b[0m\u001b[0;34m\u001b[0m\u001b[0m\n",
      "\u001b[0;32m/Users/adupeyrat/anaconda/lib/python3.5/subprocess.py\u001b[0m in \u001b[0;36m_execute_child\u001b[0;34m(self, args, executable, preexec_fn, close_fds, pass_fds, cwd, env, startupinfo, creationflags, shell, p2cread, p2cwrite, c2pread, c2pwrite, errread, errwrite, restore_signals, start_new_session)\u001b[0m\n\u001b[1;32m   1550\u001b[0m                                 \u001b[0merr_msg\u001b[0m \u001b[0;34m+=\u001b[0m \u001b[0;34m': '\u001b[0m \u001b[0;34m+\u001b[0m \u001b[0mrepr\u001b[0m\u001b[0;34m(\u001b[0m\u001b[0morig_executable\u001b[0m\u001b[0;34m)\u001b[0m\u001b[0;34m\u001b[0m\u001b[0m\n\u001b[0;32m-> 1551\u001b[0;31m                     \u001b[0;32mraise\u001b[0m \u001b[0mchild_exception_type\u001b[0m\u001b[0;34m(\u001b[0m\u001b[0merrno_num\u001b[0m\u001b[0;34m,\u001b[0m \u001b[0merr_msg\u001b[0m\u001b[0;34m)\u001b[0m\u001b[0;34m\u001b[0m\u001b[0m\n\u001b[0m\u001b[1;32m   1552\u001b[0m                 \u001b[0;32mraise\u001b[0m \u001b[0mchild_exception_type\u001b[0m\u001b[0;34m(\u001b[0m\u001b[0merr_msg\u001b[0m\u001b[0;34m)\u001b[0m\u001b[0;34m\u001b[0m\u001b[0m\n",
      "\u001b[0;31mFileNotFoundError\u001b[0m: [Errno 2] No such file or directory: 'chromedriver'",
      "\nDuring handling of the above exception, another exception occurred:\n",
      "\u001b[0;31mWebDriverException\u001b[0m                        Traceback (most recent call last)",
      "\u001b[0;32m<ipython-input-64-ebe79edf7344>\u001b[0m in \u001b[0;36m<module>\u001b[0;34m()\u001b[0m\n\u001b[1;32m      3\u001b[0m \u001b[0mchrome_options\u001b[0m\u001b[0;34m.\u001b[0m\u001b[0madd_experimental_option\u001b[0m\u001b[0;34m(\u001b[0m\u001b[0;34m\"prefs\"\u001b[0m\u001b[0;34m,\u001b[0m \u001b[0mprefs\u001b[0m\u001b[0;34m)\u001b[0m\u001b[0;34m\u001b[0m\u001b[0m\n\u001b[1;32m      4\u001b[0m \u001b[0;34m\u001b[0m\u001b[0m\n\u001b[0;32m----> 5\u001b[0;31m \u001b[0mdriver\u001b[0m \u001b[0;34m=\u001b[0m \u001b[0mwebdriver\u001b[0m\u001b[0;34m.\u001b[0m\u001b[0mChrome\u001b[0m\u001b[0;34m(\u001b[0m\u001b[0mchrome_options\u001b[0m\u001b[0;34m=\u001b[0m\u001b[0mchrome_options\u001b[0m\u001b[0;34m)\u001b[0m\u001b[0;34m\u001b[0m\u001b[0m\n\u001b[0m\u001b[1;32m      6\u001b[0m \u001b[0;34m\u001b[0m\u001b[0m\n\u001b[1;32m      7\u001b[0m \u001b[0mdriver\u001b[0m\u001b[0;34m.\u001b[0m\u001b[0mfind_element_by_xpath\u001b[0m\u001b[0;34m(\u001b[0m\u001b[0;34m\"//select[@name='select_station']/option[text()='data-seo']\"\u001b[0m\u001b[0;34m)\u001b[0m\u001b[0;34m.\u001b[0m\u001b[0mclick\u001b[0m\u001b[0;34m(\u001b[0m\u001b[0;34m)\u001b[0m\u001b[0;34m\u001b[0m\u001b[0m\n",
      "\u001b[0;32m/Users/adupeyrat/anaconda/lib/python3.5/site-packages/selenium/webdriver/chrome/webdriver.py\u001b[0m in \u001b[0;36m__init__\u001b[0;34m(self, executable_path, port, chrome_options, service_args, desired_capabilities, service_log_path)\u001b[0m\n\u001b[1;32m     60\u001b[0m             \u001b[0mservice_args\u001b[0m\u001b[0;34m=\u001b[0m\u001b[0mservice_args\u001b[0m\u001b[0;34m,\u001b[0m\u001b[0;34m\u001b[0m\u001b[0m\n\u001b[1;32m     61\u001b[0m             log_path=service_log_path)\n\u001b[0;32m---> 62\u001b[0;31m         \u001b[0mself\u001b[0m\u001b[0;34m.\u001b[0m\u001b[0mservice\u001b[0m\u001b[0;34m.\u001b[0m\u001b[0mstart\u001b[0m\u001b[0;34m(\u001b[0m\u001b[0;34m)\u001b[0m\u001b[0;34m\u001b[0m\u001b[0m\n\u001b[0m\u001b[1;32m     63\u001b[0m \u001b[0;34m\u001b[0m\u001b[0m\n\u001b[1;32m     64\u001b[0m         \u001b[0;32mtry\u001b[0m\u001b[0;34m:\u001b[0m\u001b[0;34m\u001b[0m\u001b[0m\n",
      "\u001b[0;32m/Users/adupeyrat/anaconda/lib/python3.5/site-packages/selenium/webdriver/common/service.py\u001b[0m in \u001b[0;36mstart\u001b[0;34m(self)\u001b[0m\n\u001b[1;32m     69\u001b[0m                 raise WebDriverException(\n\u001b[1;32m     70\u001b[0m                     \"'%s' executable needs to be in PATH. %s\" % (\n\u001b[0;32m---> 71\u001b[0;31m                         os.path.basename(self.path), self.start_error_message)\n\u001b[0m\u001b[1;32m     72\u001b[0m                 )\n\u001b[1;32m     73\u001b[0m             \u001b[0;32melif\u001b[0m \u001b[0merr\u001b[0m\u001b[0;34m.\u001b[0m\u001b[0merrno\u001b[0m \u001b[0;34m==\u001b[0m \u001b[0merrno\u001b[0m\u001b[0;34m.\u001b[0m\u001b[0mEACCES\u001b[0m\u001b[0;34m:\u001b[0m\u001b[0;34m\u001b[0m\u001b[0m\n",
      "\u001b[0;31mWebDriverException\u001b[0m: Message: 'chromedriver' executable needs to be in PATH. Please see https://sites.google.com/a/chromium.org/chromedriver/home\n"
     ]
    }
   ],
   "source": [
    "chrome_options = webdriver.ChromeOptions()\n",
    "prefs = {\"profile.default_content_setting_values.notifications\" : 2}\n",
    "chrome_options.add_experimental_option(\"prefs\", prefs)\n",
    "\n",
    "driver = webdriver.Chrome(chrome_options=chrome_options)\n",
    "\n",
    "driver.find_element_by_xpath(\"//select[@name='select_station']/option[text()='data-seo']\").click()"
   ]
  },
  {
   "cell_type": "code",
   "execution_count": null,
   "metadata": {
    "collapsed": true
   },
   "outputs": [],
   "source": []
  }
 ],
 "metadata": {
  "anaconda-cloud": {},
  "kernelspec": {
   "display_name": "Python [Root]",
   "language": "python",
   "name": "Python [Root]"
  },
  "language_info": {
   "codemirror_mode": {
    "name": "ipython",
    "version": 3
   },
   "file_extension": ".py",
   "mimetype": "text/x-python",
   "name": "python",
   "nbconvert_exporter": "python",
   "pygments_lexer": "ipython3",
   "version": "3.5.2"
  }
 },
 "nbformat": 4,
 "nbformat_minor": 0
}
