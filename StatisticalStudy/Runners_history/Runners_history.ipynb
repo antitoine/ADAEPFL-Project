{
 "cells": [
  {
   "cell_type": "code",
   "execution_count": null,
   "metadata": {
    "collapsed": false
   },
   "outputs": [],
   "source": [
    "import pandas as pd\n",
    "import numpy as np\n",
    "import re\n",
    "import seaborn as sns\n",
    "import matplotlib.pyplot as plt\n",
    "\n",
    "# our code (mark it at autoreload at every cell execution - useful in developement mode)\n",
    "%load_ext autoreload\n",
    "%autoreload 1\n",
    "%aimport Runner_history_utis"
   ]
  },
  {
   "cell_type": "code",
   "execution_count": null,
   "metadata": {
    "collapsed": true
   },
   "outputs": [],
   "source": [
    "PATH_TO_DATA = '../../Scraping/DataSport/Data/Runners/'\n",
    "# change the name to the global like website but need to see if the website still works.\n",
    "RUNNERS_FILE = 'runners_2009.csv'\n",
    "RUNS_FILE = 'runs_2009.csv'"
   ]
  },
  {
   "cell_type": "code",
   "execution_count": null,
   "metadata": {
    "collapsed": false
   },
   "outputs": [],
   "source": [
    "runners = pd.read_csv(PATH_TO_DATA + RUNNERS_FILE)\n",
    "runs = pd.read_csv(PATH_TO_DATA + RUNS_FILE)"
   ]
  },
  {
   "cell_type": "code",
   "execution_count": null,
   "metadata": {
    "collapsed": false
   },
   "outputs": [],
   "source": [
    "runners.head()"
   ]
  },
  {
   "cell_type": "code",
   "execution_count": null,
   "metadata": {
    "collapsed": false
   },
   "outputs": [],
   "source": [
    "runs['resultState'].value_counts(dropna=False)"
   ]
  },
  {
   "cell_type": "code",
   "execution_count": null,
   "metadata": {
    "collapsed": false
   },
   "outputs": [],
   "source": [
    "Runner_history_utis.preprocess_runs(runs)\n",
    "Runner_history_utis.preprocess_runners(runners)"
   ]
  },
  {
   "cell_type": "code",
   "execution_count": null,
   "metadata": {
    "collapsed": false
   },
   "outputs": [],
   "source": [
    "runs.head()"
   ]
  },
  {
   "cell_type": "code",
   "execution_count": null,
   "metadata": {
    "collapsed": false
   },
   "outputs": [],
   "source": [
    "import re\n",
    "\n",
    "SEMI_MARATHON = '(Semi)|(1/2)|(Halbmarathon)'\n",
    "MARATHON = 'Marathon'\n",
    "KILOMETER = '\\d*(\\.?|\\,?)\\d*(\\s?|-?)[kK][mM]'\n",
    "\n",
    "OTHER_SPORT = 'Triathlon|Skating|Walking|Duathlon' \n",
    "\n",
    "# https://live.escalade.ch/the-race/timetable-prizes-and-courses\n",
    "GENEVE_RACE = 'Course de l\\'Escalade, Genève'\n",
    "# http://www.christmasmidnightrun.ch/cms/index.php?option=com_content&view=category&layout=blog&id=22&Itemid=107\n",
    "LAUSSANE_RACE = 'Christmas Midnight Run, Lausanne' \n",
    "# http://www.lausanne.ch/course_co\n",
    "OLYMPIC_RACE = 'Course capitale olympique'\n",
    "# http://www.sierre-zinal.com/la-course/\n",
    "SIERRE_ZINAL = 'Sierre-Zinal, Sierre'\n",
    "# http://www.thyon-dixence.ch/le-parcours/description-2/\n",
    "THYON_DIXENCE = 'Course pédestre Thyon-Dixence, Thyon'\n",
    "# https://www.coursedenoel.ch/3222-trail-des-chateaux-2018!.html\n",
    "SION = 'Course Titzé de noël Sion'\n",
    "# http://www.morat-fribourg.ch/francais/classique.aspx\n",
    "MORAT = \"Morat-Fribourg\"\n",
    "\n",
    "def compute_distance_from_category (runner):\n",
    "    attributes = [ 'eventName', 'overCategoryName', 'categoryName']\n",
    "    \n",
    "    for attribute in attributes:\n",
    "        if pd.isnull(runner[attribute]):\n",
    "            break\n",
    "            \n",
    "        if (re.search(OTHER_SPORT, runner[attribute]) != None):\n",
    "            return None\n",
    "        \n",
    "        # check if the string contains information about distance.\n",
    "        elif (re.search(SEMI_MARATHON, runner[attribute]) != None):\n",
    "            return 21\n",
    "        \n",
    "        elif (re.search(MARATHON, runner[attribute]) != None):\n",
    "            return 42\n",
    "        \n",
    "        elif (re.search(LAUSSANE_RACE, runner[attribute]) != None):\n",
    "            return 2.4\n",
    "    \n",
    "        elif (re.search(GENEVE_RACE, runner[attribute]) != None):\n",
    "            return 7.3\n",
    "        \n",
    "        elif (re.search(OLYMPIC_RACE, runner[attribute]) != None):\n",
    "            return 5\n",
    "        \n",
    "        elif (re.search(SIERRE_ZINAL, runner[attribute]) != None):\n",
    "            return 31\n",
    "        \n",
    "        elif (re.search(THYON_DIXENCE, runner[attribute]) != None):\n",
    "            return 31\n",
    "        \n",
    "        elif (re.search(SION, runner[attribute]) != None):\n",
    "            return 31\n",
    "        \n",
    "        elif (re.search(MORAT, runner[attribute]) != None):\n",
    "            return 31\n",
    "        \n",
    "\n",
    "        # check if the categorie contain km expression\n",
    "        match = re.search(KILOMETER, runner[attribute])\n",
    "        # if we match we know the distance.\n",
    "        if match:\n",
    "            result = match.group(0).replace(',','.')\n",
    "            result = re.sub('Km|km|-','',result)\n",
    "            return round(float(result))\n",
    "      \n",
    "    return None"
   ]
  },
  {
   "cell_type": "code",
   "execution_count": null,
   "metadata": {
    "collapsed": false
   },
   "outputs": [],
   "source": [
    "runs['distance (km)'] = runs.apply(compute_distance_from_category,axis=1)\n",
    "runs['eventName'][runs['distance (km)'].isnull()].value_counts(dropna=False)"
   ]
  }
 ],
 "metadata": {
  "anaconda-cloud": {},
  "kernelspec": {
   "display_name": "Python [conda root]",
   "language": "python",
   "name": "conda-root-py"
  },
  "language_info": {
   "codemirror_mode": {
    "name": "ipython",
    "version": 3
   },
   "file_extension": ".py",
   "mimetype": "text/x-python",
   "name": "python",
   "nbconvert_exporter": "python",
   "pygments_lexer": "ipython3",
   "version": "3.5.2"
  }
 },
 "nbformat": 4,
 "nbformat_minor": 1
}
