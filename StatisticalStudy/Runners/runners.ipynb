{
 "cells": [
  {
   "cell_type": "code",
   "execution_count": null,
   "metadata": {
    "collapsed": false
   },
   "outputs": [],
   "source": [
    "import pandas as pd\n",
    "import numpy as np\n",
    "import re\n",
    "import seaborn as sns\n",
    "import matplotlib.pyplot as plt\n",
    "%matplotlib inline\n",
    "import collections\n",
    "from matplotlib.pyplot import show\n",
    "\n",
    "# our code (mark it at autoreload at every cell execution - useful in developement mode)\n",
    "%load_ext autoreload\n",
    "%autoreload 1\n",
    "%aimport runners_utils"
   ]
  },
  {
   "cell_type": "code",
   "execution_count": null,
   "metadata": {
    "collapsed": true
   },
   "outputs": [],
   "source": [
    "PATH_TO_DATA = '../../Scraping/DataSport/Data/Runners/'\n",
    "# change the name to the global like website but need to see if the website still works.\n",
    "RUNNERS_FILE = 'runners_2009.csv'\n",
    "RUNS_FILE = 'runs_2009.csv'"
   ]
  },
  {
   "cell_type": "code",
   "execution_count": null,
   "metadata": {
    "collapsed": false
   },
   "outputs": [],
   "source": [
    "runners = pd.read_csv(PATH_TO_DATA + RUNNERS_FILE)\n",
    "runs = pd.read_csv(PATH_TO_DATA + RUNS_FILE)"
   ]
  },
  {
   "cell_type": "code",
   "execution_count": null,
   "metadata": {
    "collapsed": false
   },
   "outputs": [],
   "source": [
    "runners.head()"
   ]
  },
  {
   "cell_type": "code",
   "execution_count": null,
   "metadata": {
    "collapsed": false
   },
   "outputs": [],
   "source": [
    "runs.head()"
   ]
  },
  {
   "cell_type": "code",
   "execution_count": null,
   "metadata": {
    "collapsed": true
   },
   "outputs": [],
   "source": [
    "runs_before_preprocessing = runs.copy()"
   ]
  },
  {
   "cell_type": "markdown",
   "metadata": {},
   "source": [
    "We remove useless columns, and all value showed that the runners have resigned."
   ]
  },
  {
   "cell_type": "code",
   "execution_count": null,
   "metadata": {
    "collapsed": false
   },
   "outputs": [],
   "source": [
    "runners_utils.preprocess_runners(runners)"
   ]
  },
  {
   "cell_type": "code",
   "execution_count": null,
   "metadata": {
    "collapsed": true
   },
   "outputs": [],
   "source": [
    "runs = runners_utils.remove_outliers(runs)"
   ]
  },
  {
   "cell_type": "markdown",
   "metadata": {},
   "source": [
    "For each races we compute the distance, we remove all other sports than running to remain coherent during the study."
   ]
  },
  {
   "cell_type": "code",
   "execution_count": null,
   "metadata": {
    "collapsed": false
   },
   "outputs": [],
   "source": [
    "runs['distance (km)'] = runs.apply(runners_utils.compute_distance_from_category,axis=1)\n",
    "runs = runs[~runs['distance (km)'].isnull()]"
   ]
  },
  {
   "cell_type": "markdown",
   "metadata": {},
   "source": [
    "For each runners, we compute the gender (male/female)."
   ]
  },
  {
   "cell_type": "code",
   "execution_count": null,
   "metadata": {
    "collapsed": false
   },
   "outputs": [],
   "source": [
    "result = runs.apply(runners_utils.compute_sex, args=(runners,), axis=1)"
   ]
  },
  {
   "cell_type": "markdown",
   "metadata": {},
   "source": [
    "In order to have enought races for each runners, we take only runners who have run more than 100 races throught 1999 to 2016."
   ]
  },
  {
   "cell_type": "code",
   "execution_count": null,
   "metadata": {
    "collapsed": false
   },
   "outputs": [],
   "source": [
    "runs = runners_utils.select_runners_by_numbers_of_runs(runs, 100)"
   ]
  },
  {
   "cell_type": "markdown",
   "metadata": {},
   "source": [
    "For each runners, we compute his age at the moment of the race."
   ]
  },
  {
   "cell_type": "code",
   "execution_count": null,
   "metadata": {
    "collapsed": false
   },
   "outputs": [],
   "source": [
    "runs['age'] = runs.apply(runners_utils.compute_age, args=(runners,), axis=1)"
   ]
  },
  {
   "cell_type": "code",
   "execution_count": null,
   "metadata": {
    "collapsed": false
   },
   "outputs": [],
   "source": [
    "runs['time (s)'] = runs.apply(runners_utils.transform_string_to_second, axis=1)\n",
    "runs['speed (m/s)'] = runs['distance (km)']*1000 / runs['time (s)']"
   ]
  },
  {
   "cell_type": "code",
   "execution_count": null,
   "metadata": {
    "collapsed": false
   },
   "outputs": [],
   "source": [
    "runs['eventDate'] = runs.apply(runners_utils.compute_date_event, axis=1)"
   ]
  },
  {
   "cell_type": "code",
   "execution_count": null,
   "metadata": {
    "collapsed": false
   },
   "outputs": [],
   "source": [
    "runners_utils.remove_useless_columns(runs)"
   ]
  },
  {
   "cell_type": "markdown",
   "metadata": {},
   "source": [
    "After all operations of preprocessing, we obtain 10 runners who have finished more than 100 running races."
   ]
  },
  {
   "cell_type": "code",
   "execution_count": null,
   "metadata": {
    "collapsed": false
   },
   "outputs": [],
   "source": [
    "len(runs['acode'].unique())"
   ]
  },
  {
   "cell_type": "code",
   "execution_count": null,
   "metadata": {
    "collapsed": false
   },
   "outputs": [],
   "source": [
    "runs.head()"
   ]
  },
  {
   "cell_type": "markdown",
   "metadata": {},
   "source": [
    "## Runner study."
   ]
  },
  {
   "cell_type": "code",
   "execution_count": null,
   "metadata": {
    "collapsed": false
   },
   "outputs": [],
   "source": [
    "races_59 = runs[runs['acode'] == 'FU3KDU5G']\n",
    "races_38 = runs[runs['acode'] == 'G756ZTL6']\n",
    "races_26 = runs[runs['acode'] == 'FFJBKFSN']"
   ]
  },
  {
   "cell_type": "code",
   "execution_count": null,
   "metadata": {
    "collapsed": false
   },
   "outputs": [],
   "source": [
    "fig = plt.figure()\n",
    "fig.tight_layout\n",
    "fig.set_size_inches(15, 10)\n",
    "fig.suptitle('Runnner speed by distance', fontsize=14)\n",
    "annotation_plot2 = ['performance \\n gap',(9.9,3), (9,4)]\n",
    "runners_utils.presentation_performance_runners(fig, [races_59, races_38, races_26], annotation_plot2)"
   ]
  },
  {
   "cell_type": "markdown",
   "metadata": {},
   "source": [
    "As we can notice from the graph above we see some enormous disparity between speed of race who have the same distance.\n",
    "Futhermore an other interesting fact is the speed seems lower for the race of 31Km (http://www.sierre-zinal.com) than marathons.\n",
    "The current study try to focus on vizualisation of multiple factors that could explain these gap:\n",
    " - Age\n",
    " - Training (As we don't have any personnal information, we take as reference how much they race)\n",
    " - Weather / altitude"
   ]
  },
  {
   "cell_type": "markdown",
   "metadata": {},
   "source": [
    "## Performance study"
   ]
  },
  {
   "cell_type": "markdown",
   "metadata": {},
   "source": [
    "### Training Part"
   ]
  },
  {
   "cell_type": "code",
   "execution_count": null,
   "metadata": {
    "collapsed": false
   },
   "outputs": [],
   "source": [
    "group_by_runs = runs.groupby(['acode']).size().reset_index().groupby('acode')[[0]].max()\n",
    "group_by_runs_before_process = runs_before_preprocessing.groupby(['acode']).size().reset_index().groupby('acode')[[0]].max()\n",
    "group_by_runs_resign = runs_before_preprocessing[(runs_before_preprocessing['resultState'] == 'non classé')].groupby(['acode']).size().reset_index().groupby('acode')[[0]].max()\n",
    "\n",
    "group_by_runs.columns = ['number_race']\n",
    "group_by_runs_before_process.columns = ['overall number race']\n",
    "group_by_runs_resign.columns = ['number abandon']\n",
    "\n",
    "result = group_by_runs.join(group_by_runs_before_process)\n",
    "result = pd.merge(result, group_by_runs_resign, how='left', right_index=True, left_index=True)\n",
    "\n",
    "result.fillna(value=0,  inplace=True)\n",
    "\n",
    "# We Reindex the dataFrame\n",
    "for index,value in enumerate (test.index):\n",
    "    result.index.values[index] = 'Runner '+ str(index + 1)\n",
    "    \n",
    "result"
   ]
  },
  {
   "cell_type": "markdown",
   "metadata": {},
   "source": [
    "The study carry on 10 runners, as we can notice they are not begginers some of them have more the 500 events on 17 years which mean more than 2 events each month during a period of 17 years... Even the runners with the less events have a ration of 1 race every 2 months wich is huge knowing that for a debutant the recommended waiting time before getting  is 3-4 to completely get health after http://www.runnersworld.com/ask-coach-jenny/how-many-marathons-can-you-run-in-a-year.\n",
    "\n",
    "The result that we could found by the study is clearly individual, everybody reacts differently, we should push the study furhter (by getting additional data) to confirm any hypothesis."
   ]
  },
  {
   "cell_type": "code",
   "execution_count": null,
   "metadata": {
    "collapsed": false
   },
   "outputs": [],
   "source": [
    "runs_before_preprocessing['eventDate'] = runs_before_preprocessing.apply(runners_utils.compute_date_event, axis=1)\n",
    "runs_before_preprocessing['year'] = runs_before_preprocessing['eventDate'].apply(lambda x: int(x.year))"
   ]
  },
  {
   "cell_type": "code",
   "execution_count": null,
   "metadata": {
    "collapsed": false,
    "scrolled": false
   },
   "outputs": [],
   "source": [
    "group_by_runs_before_process = runs_before_preprocessing.groupby(['acode', 'year']).size().reset_index().groupby(['acode', 'year'])[[0]].max()\n",
    "group_by_runs_resign = runs_before_preprocessing[(runs_before_preprocessing['resultState'] == 'non classé')].groupby(['acode', 'year']).size().reset_index().groupby(['acode', 'year'])[[0]].max()\n",
    "\n",
    "group_by_runs.columns = ['number_race']\n",
    "group_by_runs_before_process.columns = ['overall number race']\n",
    "group_by_runs_resign.columns = ['number abandon']\n",
    "\n",
    "\n",
    "#result = group_by_runs.join(group_by_runs_before_process)\n",
    "result = pd.merge(group_by_runs_before_process, group_by_runs_resign, how='left', right_index=True, left_index=True)\n",
    "\n",
    "result.fillna(value=0,  inplace=True)\n",
    "result.reset_index(inplace=True)\n",
    "\n",
    "# The year 2017 contains too small amount of data.\n",
    "result = result[result['year'] != 2017 ]\n",
    "\n",
    "# Let see if there are a link with number_overall event and the number of event.\n",
    "ax = sns.lmplot(x=\"overall number race\", y=\"number abandon\",  data=result, col = 'year', col_wrap=3, size=4)\n"
   ]
  },
  {
   "cell_type": "markdown",
   "metadata": {},
   "source": [
    "The result above has been done on a total of 61 runners, As we can expect generally the number of abandon grows with proportionnaly with the number of race done.\n",
    "An interesting fact is the "
   ]
  },
  {
   "cell_type": "code",
   "execution_count": null,
   "metadata": {
    "collapsed": false
   },
   "outputs": [],
   "source": [
    "sns.jointplot(result[\"overall number race\"], result[\"number abandon\"], kind=\"reg\", stat_func=runners_utils.r2)"
   ]
  },
  {
   "cell_type": "markdown",
   "metadata": {},
   "source": [
    "The R-squared value is to small to affirm anything about any relation between abandon the number of race runned and the number of abandon."
   ]
  },
  {
   "cell_type": "markdown",
   "metadata": {},
   "source": [
    "## TEST"
   ]
  },
  {
   "cell_type": "code",
   "execution_count": null,
   "metadata": {
    "collapsed": false
   },
   "outputs": [],
   "source": [
    "races_59 = runs[runs['acode'] ==  'FFJBKFSN'] #FU3KDU5G\n",
    "races_38 = runs[runs['acode'] == 'G756ZTL6']\n",
    "runs_42 = races_59[races_59['distance (km)'] == 42] \n",
    "group_by_age = races_59.groupby(['age'], sort=False).sum()\n",
    "group_by_age.reset_index(inplace=True)\n",
    "\n",
    "sns.boxplot(x=\"age\", y=\"speed (m/s)\", data=runs_42)\n"
   ]
  },
  {
   "cell_type": "code",
   "execution_count": null,
   "metadata": {
    "collapsed": false
   },
   "outputs": [],
   "source": [
    "group_by_age[['age','distance (km)']].plot(x='age', y='distance (km)')"
   ]
  }
 ],
 "metadata": {
  "anaconda-cloud": {},
  "kernelspec": {
   "display_name": "Python [conda root]",
   "language": "python",
   "name": "conda-root-py"
  },
  "language_info": {
   "codemirror_mode": {
    "name": "ipython",
    "version": 3
   },
   "file_extension": ".py",
   "mimetype": "text/x-python",
   "name": "python",
   "nbconvert_exporter": "python",
   "pygments_lexer": "ipython3",
   "version": "3.5.2"
  }
 },
 "nbformat": 4,
 "nbformat_minor": 1
}
