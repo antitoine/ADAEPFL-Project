{
 "cells": [
  {
   "cell_type": "code",
   "execution_count": null,
   "metadata": {
    "collapsed": false
   },
   "outputs": [],
   "source": [
    "import pandas as pd\n",
    "import numpy as np\n",
    "import re\n",
    "import seaborn as sns\n",
    "import matplotlib.pyplot as plt\n",
    "%matplotlib inline\n",
    "import collections\n",
    "from matplotlib.pyplot import show\n",
    "\n",
    "# our code (mark it at autoreload at every cell execution - useful in developement mode)\n",
    "%load_ext autoreload\n",
    "%autoreload 1\n",
    "%aimport runners_utils"
   ]
  },
  {
   "cell_type": "code",
   "execution_count": null,
   "metadata": {
    "collapsed": true
   },
   "outputs": [],
   "source": [
    "PATH_TO_DATA = '../../Scraping/DataSport/Data/Runners/'\n",
    "# change the name to the global like website but need to see if the website still works.\n",
    "RUNNERS_FILE = 'runners_2009.csv'\n",
    "RUNS_FILE = 'runs_2009.csv'"
   ]
  },
  {
   "cell_type": "code",
   "execution_count": null,
   "metadata": {
    "collapsed": false
   },
   "outputs": [],
   "source": [
    "runners = pd.read_csv(PATH_TO_DATA + RUNNERS_FILE)\n",
    "runs = pd.read_csv(PATH_TO_DATA + RUNS_FILE)"
   ]
  },
  {
   "cell_type": "code",
   "execution_count": null,
   "metadata": {
    "collapsed": false
   },
   "outputs": [],
   "source": [
    "runners.head()"
   ]
  },
  {
   "cell_type": "code",
   "execution_count": null,
   "metadata": {
    "collapsed": false
   },
   "outputs": [],
   "source": [
    "runs.head()"
   ]
  },
  {
   "cell_type": "markdown",
   "metadata": {},
   "source": [
    "We remove useless columns, and all value showed that the runners have resigned."
   ]
  },
  {
   "cell_type": "code",
   "execution_count": null,
   "metadata": {
    "collapsed": false
   },
   "outputs": [],
   "source": [
    "runners_utils.preprocess_runners(runners)"
   ]
  },
  {
   "cell_type": "code",
   "execution_count": null,
   "metadata": {
    "collapsed": true
   },
   "outputs": [],
   "source": [
    "runs = runners_utils.remove_outliers(runs)"
   ]
  },
  {
   "cell_type": "markdown",
   "metadata": {},
   "source": [
    "For each races we compute the distance, we remove all other sports than running to remain coherent during the study."
   ]
  },
  {
   "cell_type": "code",
   "execution_count": null,
   "metadata": {
    "collapsed": false
   },
   "outputs": [],
   "source": [
    "runs['distance (km)'] = runs.apply(runners_utils.compute_distance_from_category,axis=1)\n",
    "runs = runs[~runs['distance (km)'].isnull()]"
   ]
  },
  {
   "cell_type": "markdown",
   "metadata": {},
   "source": [
    "For each runners, we compute the gender (male/female)."
   ]
  },
  {
   "cell_type": "code",
   "execution_count": null,
   "metadata": {
    "collapsed": false
   },
   "outputs": [],
   "source": [
    "result = runs.apply(runners_utils.compute_sex, args=(runners,), axis=1)"
   ]
  },
  {
   "cell_type": "markdown",
   "metadata": {},
   "source": [
    "In order to have enought races for each runners, we take only runners who have run more than 100 races throught 1999 to 2016."
   ]
  },
  {
   "cell_type": "code",
   "execution_count": null,
   "metadata": {
    "collapsed": false
   },
   "outputs": [],
   "source": [
    "runs = runners_utils.select_runners_by_numbers_of_runs(runs, 100)"
   ]
  },
  {
   "cell_type": "markdown",
   "metadata": {},
   "source": [
    "For each runners, we compute his age at the moment of the race."
   ]
  },
  {
   "cell_type": "code",
   "execution_count": null,
   "metadata": {
    "collapsed": false
   },
   "outputs": [],
   "source": [
    "runs['age'] = runs.apply(runners_utils.compute_age, args=(runners,), axis=1)"
   ]
  },
  {
   "cell_type": "code",
   "execution_count": null,
   "metadata": {
    "collapsed": false
   },
   "outputs": [],
   "source": [
    "runs['time (s)'] = runs.apply(runners_utils.transform_string_to_second, axis=1)\n",
    "runs['speed (m/s)'] = runs['distance (km)']*1000 / runs['time (s)']"
   ]
  },
  {
   "cell_type": "code",
   "execution_count": null,
   "metadata": {
    "collapsed": false
   },
   "outputs": [],
   "source": [
    "runs['eventDate'] = runs.apply(runners_utils.compute_date_event, axis=1)"
   ]
  },
  {
   "cell_type": "code",
   "execution_count": null,
   "metadata": {
    "collapsed": false
   },
   "outputs": [],
   "source": [
    "runners_utils.remove_useless_columns(runs)"
   ]
  },
  {
   "cell_type": "markdown",
   "metadata": {},
   "source": [
    "After all operations of preprocessing, we obtain 10 runners who have finished more than 100 running races."
   ]
  },
  {
   "cell_type": "code",
   "execution_count": null,
   "metadata": {
    "collapsed": false
   },
   "outputs": [],
   "source": [
    "len(runs['acode'].unique())"
   ]
  },
  {
   "cell_type": "code",
   "execution_count": null,
   "metadata": {
    "collapsed": false
   },
   "outputs": [],
   "source": [
    "runs.head()"
   ]
  },
  {
   "cell_type": "markdown",
   "metadata": {},
   "source": [
    "## Runner study."
   ]
  },
  {
   "cell_type": "code",
   "execution_count": null,
   "metadata": {
    "collapsed": false
   },
   "outputs": [],
   "source": [
    "races_59 = runs[runs['acode'] == 'FU3KDU5G']\n",
    "races_38 = runs[runs['acode'] == 'G756ZTL6']\n",
    "races_26 = runs[runs['acode'] == 'FFJBKFSN']"
   ]
  },
  {
   "cell_type": "code",
   "execution_count": null,
   "metadata": {
    "collapsed": false
   },
   "outputs": [],
   "source": [
    "fig = plt.figure()\n",
    "fig.tight_layout\n",
    "fig.set_size_inches(15, 10)\n",
    "fig.suptitle('Runnner speed by distance', fontsize=14)\n",
    "annotation_plot2 = ['performance \\n gap',(9.9,3), (9,4)]\n",
    "runners_utils.presentation_performance_runners(fig, [races_59, races_38, races_26], annotation_plot2)"
   ]
  },
  {
   "cell_type": "markdown",
   "metadata": {},
   "source": [
    "As we can notice from the graph above we see some enormous disparity between speed of race who have the same distance.\n",
    "Futhermore an other interesting fact is the speed seems lower for the race of 31Km (http://www.sierre-zinal.com) than marathons.\n",
    "The current study try to focus on vizualisation of multiple factors that could explain these gap:\n",
    " - Age\n",
    " - Training (As we don't have any personnal information, we take as reference how much they race)\n",
    " - Weather / altitude"
   ]
  },
  {
   "cell_type": "markdown",
   "metadata": {},
   "source": [
    "### Training\n",
    "--> faire un comparatif avec le nombre d'évenement au départ (Pour préciser que c'est des ultra sportifs) bc ont fait des triathlons ou du velo qui ne sont réferencer par la suite. (Pourrait réduire l'impact de la l\"etude en précisant que c'est pas mondieur tout le monde quand meme)  "
   ]
  },
  {
   "cell_type": "markdown",
   "metadata": {},
   "source": [
    "## TEST"
   ]
  },
  {
   "cell_type": "code",
   "execution_count": null,
   "metadata": {
    "collapsed": false
   },
   "outputs": [],
   "source": [
    "races_59 = runs[runs['acode'] ==  'FFJBKFSN'] #FU3KDU5G\n",
    "races_38 = runs[runs['acode'] == 'G756ZTL6']\n",
    "runs_42 = races_59[races_59['distance (km)'] == 42] \n",
    "group_by_age = races_59.groupby(['age'], sort=False).sum()\n",
    "group_by_age.reset_index(inplace=True)\n",
    "\n",
    "sns.boxplot(x=\"age\", y=\"speed (m/s)\", data=runs_42)\n"
   ]
  },
  {
   "cell_type": "code",
   "execution_count": null,
   "metadata": {
    "collapsed": false
   },
   "outputs": [],
   "source": [
    "group_by_age[['age','distance (km)']].plot(x='age', y='distance (km)')"
   ]
  }
 ],
 "metadata": {
  "anaconda-cloud": {},
  "kernelspec": {
   "display_name": "Python [conda root]",
   "language": "python",
   "name": "conda-root-py"
  },
  "language_info": {
   "codemirror_mode": {
    "name": "ipython",
    "version": 3
   },
   "file_extension": ".py",
   "mimetype": "text/x-python",
   "name": "python",
   "nbconvert_exporter": "python",
   "pygments_lexer": "ipython3",
   "version": "3.5.2"
  }
 },
 "nbformat": 4,
 "nbformat_minor": 1
}
