{
 "cells": [
  {
   "cell_type": "code",
   "execution_count": null,
   "metadata": {
    "collapsed": false
   },
   "outputs": [],
   "source": [
    "import pandas as pd\n",
    "import numpy as np\n",
    "import re\n",
    "import seaborn as sns\n",
    "import matplotlib.pyplot as plt\n",
    "%matplotlib inline\n",
    "import collections\n",
    "from matplotlib.pyplot import show\n",
    "import time\n",
    "\n",
    "\n",
    "\n",
    "import datetime\n",
    "\n",
    "# our code (mark it at autoreload at every cell execution - useful in developement mode)\n",
    "%load_ext autoreload\n",
    "%autoreload 1\n",
    "%aimport runners_utils"
   ]
  },
  {
   "cell_type": "code",
   "execution_count": null,
   "metadata": {
    "collapsed": false
   },
   "outputs": [],
   "source": [
    "notebook_loader = runners_utils.NotebookLoader(['../../Scraping/Weather'])\n",
    "notebook_loader.load_module('compute_information_station')\n",
    "import compute_information_station"
   ]
  },
  {
   "cell_type": "markdown",
   "metadata": {},
   "source": [
    "Methode related to compute_information_station method."
   ]
  },
  {
   "cell_type": "code",
   "execution_count": null,
   "metadata": {
    "collapsed": true
   },
   "outputs": [],
   "source": [
    "def compute_weather_information(dict_race, runs_df):\n",
    "    \n",
    "    for key, value in dict_race.items():\n",
    "        runs_df['eventDate'][runs_df['eventName'] == key].unique()\n",
    "        information_race = []\n",
    "        information_date = []\n",
    "        for date in runs_df['eventDate'][runs_df['eventName'] == key].unique():\n",
    "            print(date)\n",
    "            page  = compute_information_station.retrieve_weather_of_location_by_date(value[0], value[1],date)\n",
    "            \n",
    "            if page.status_code == 200:\n",
    "                df = compute_information_station.format_complete_reading(page)\n",
    "                clean_df = compute_information_station.clean_reading_dataframe(df)\n",
    "                clean_df[clean_df['Hour'].isin(range(6,20))]\n",
    "                serie_mean = clean_df.mean(axis=0)\n",
    "                clean_df = pd.DataFrame(dict(zip( serie_mean.index,  serie_mean.values)), index= [0])\n",
    "                information_race.append(clean_df)\n",
    "                information_date.append(date)\n",
    "            # We sleep some time to avoid to be blacklisted\n",
    "            time.sleep(10)\n",
    "        \n",
    "        race_information = pd.concat(information_race)\n",
    "        race_information['eventDate'] = information_date\n",
    "        race_information['eventName'] = key\n",
    "    \n",
    "    return race_information"
   ]
  },
  {
   "cell_type": "code",
   "execution_count": null,
   "metadata": {
    "collapsed": true
   },
   "outputs": [],
   "source": [
    "PATH_TO_DATA = '../../Scraping/DataSport/Data/Runners/'\n",
    "# change the name to the global like website but need to see if the website still works.\n",
    "RUNNERS_FILE = 'runners_2009.csv'\n",
    "RUNS_FILE = 'runs_2009.csv'"
   ]
  },
  {
   "cell_type": "code",
   "execution_count": null,
   "metadata": {
    "collapsed": false
   },
   "outputs": [],
   "source": [
    "runners = pd.read_csv(PATH_TO_DATA + RUNNERS_FILE)\n",
    "runs = pd.read_csv(PATH_TO_DATA + RUNS_FILE)"
   ]
  },
  {
   "cell_type": "code",
   "execution_count": null,
   "metadata": {
    "collapsed": false
   },
   "outputs": [],
   "source": [
    "runners.head()"
   ]
  },
  {
   "cell_type": "code",
   "execution_count": null,
   "metadata": {
    "collapsed": false
   },
   "outputs": [],
   "source": [
    "runs.head()"
   ]
  },
  {
   "cell_type": "code",
   "execution_count": null,
   "metadata": {
    "collapsed": true
   },
   "outputs": [],
   "source": [
    "runs_before_preprocessing = runs.copy()"
   ]
  },
  {
   "cell_type": "markdown",
   "metadata": {},
   "source": [
    "We remove useless columns, and all value showed that the runners have resigned."
   ]
  },
  {
   "cell_type": "code",
   "execution_count": null,
   "metadata": {
    "collapsed": false
   },
   "outputs": [],
   "source": [
    "runners_utils.preprocess_runners(runners)"
   ]
  },
  {
   "cell_type": "code",
   "execution_count": null,
   "metadata": {
    "collapsed": true
   },
   "outputs": [],
   "source": [
    "runs = runners_utils.remove_outliers(runs)"
   ]
  },
  {
   "cell_type": "markdown",
   "metadata": {},
   "source": [
    "For each races we compute the distance, we remove all other sports than running to remain coherent during the study."
   ]
  },
  {
   "cell_type": "code",
   "execution_count": null,
   "metadata": {
    "collapsed": false
   },
   "outputs": [],
   "source": [
    "runs['distance (km)'] = runs.apply(runners_utils.compute_distance_from_category,axis=1)\n",
    "runs = runs[~runs['distance (km)'].isnull()]"
   ]
  },
  {
   "cell_type": "markdown",
   "metadata": {},
   "source": [
    "For each runners, we compute the gender (male/female)."
   ]
  },
  {
   "cell_type": "code",
   "execution_count": null,
   "metadata": {
    "collapsed": false
   },
   "outputs": [],
   "source": [
    "result = runs.apply(runners_utils.compute_sex, args=(runners,), axis=1)"
   ]
  },
  {
   "cell_type": "markdown",
   "metadata": {},
   "source": [
    "In order to have enought races for each runners, we take only runners who have run more than 100 races throught 1999 to 2016."
   ]
  },
  {
   "cell_type": "code",
   "execution_count": null,
   "metadata": {
    "collapsed": false
   },
   "outputs": [],
   "source": [
    "runs = runners_utils.select_runners_by_numbers_of_runs(runs, 75)"
   ]
  },
  {
   "cell_type": "markdown",
   "metadata": {},
   "source": [
    "For each runners, we compute his age at the moment of the race."
   ]
  },
  {
   "cell_type": "code",
   "execution_count": null,
   "metadata": {
    "collapsed": false
   },
   "outputs": [],
   "source": [
    "runs['age'] = runs.apply(runners_utils.compute_age, args=(runners,), axis=1)"
   ]
  },
  {
   "cell_type": "code",
   "execution_count": null,
   "metadata": {
    "collapsed": false
   },
   "outputs": [],
   "source": [
    "runs['time (s)'] = runs.apply(runners_utils.transform_string_to_second, axis=1)\n",
    "runs['speed (m/s)'] = runs['distance (km)']*1000 / runs['time (s)']"
   ]
  },
  {
   "cell_type": "code",
   "execution_count": null,
   "metadata": {
    "collapsed": false
   },
   "outputs": [],
   "source": [
    "runs['eventDate'] = runs.apply(runners_utils.compute_date_event, axis=1)"
   ]
  },
  {
   "cell_type": "code",
   "execution_count": null,
   "metadata": {
    "collapsed": false
   },
   "outputs": [],
   "source": [
    "runners_utils.remove_useless_columns(runs)"
   ]
  },
  {
   "cell_type": "markdown",
   "metadata": {},
   "source": [
    "After all operations of preprocessing, we obtain 21 runners who have finished more than 75 races."
   ]
  },
  {
   "cell_type": "code",
   "execution_count": null,
   "metadata": {
    "collapsed": false
   },
   "outputs": [],
   "source": [
    "len(runs['acode'].unique())"
   ]
  },
  {
   "cell_type": "code",
   "execution_count": null,
   "metadata": {
    "collapsed": false
   },
   "outputs": [],
   "source": [
    "runs.head()"
   ]
  },
  {
   "cell_type": "markdown",
   "metadata": {},
   "source": [
    "## Runner study."
   ]
  },
  {
   "cell_type": "code",
   "execution_count": null,
   "metadata": {
    "collapsed": false
   },
   "outputs": [],
   "source": [
    "races_59 = runs[runs['acode'] == 'FU3KDU5G']\n",
    "races_38 = runs[runs['acode'] == 'G756ZTL6']\n",
    "races_26 = runs[runs['acode'] == 'FFJBKFSN']"
   ]
  },
  {
   "cell_type": "code",
   "execution_count": null,
   "metadata": {
    "collapsed": false
   },
   "outputs": [],
   "source": [
    "fig = plt.figure()\n",
    "fig.tight_layout\n",
    "fig.set_size_inches(15, 10)\n",
    "fig.suptitle('Runnner speed by distance', fontsize=14)\n",
    "annotation_plot2 = ['performance \\n gap',(9.9,3), (9,4)]\n",
    "runners_utils.presentation_performance_runners(fig, [races_59, races_38, races_26], annotation_plot2)"
   ]
  },
  {
   "cell_type": "markdown",
   "metadata": {},
   "source": [
    "As we can notice from the graph above we see some enormous disparity between speed of race who have the same distance.\n",
    "Futhermore an other interesting fact is the speed seems lower for the race of 31Km (http://www.sierre-zinal.com) than marathons.\n",
    "The current study try to focus on vizualisation of multiple factors that could explain these gap:\n",
    " - Age\n",
    " - Training (As we don't have any personnal information, we take as reference how much they race)\n",
    " - Experience\n",
    " - Weather / altitude"
   ]
  },
  {
   "cell_type": "markdown",
   "metadata": {},
   "source": [
    "## Performance study"
   ]
  },
  {
   "cell_type": "markdown",
   "metadata": {},
   "source": [
    "### Training Part"
   ]
  },
  {
   "cell_type": "code",
   "execution_count": null,
   "metadata": {
    "collapsed": false
   },
   "outputs": [],
   "source": [
    "group_by_runs = runs.groupby(['acode']).size().reset_index().groupby('acode')[[0]].max()\n",
    "group_by_runs_before_process = runs_before_preprocessing.groupby(['acode']).size().reset_index().groupby('acode')[[0]].max()\n",
    "group_by_runs_resign = runs_before_preprocessing[(runs_before_preprocessing['resultState'] == 'non classé')].groupby(['acode']).size().reset_index().groupby('acode')[[0]].max()\n",
    "\n",
    "group_by_runs.columns = ['number_race']\n",
    "group_by_runs_before_process.columns = ['overall number race']\n",
    "group_by_runs_resign.columns = ['number abandon']\n",
    "\n",
    "result = group_by_runs.join(group_by_runs_before_process)\n",
    "result = pd.merge(result, group_by_runs_resign, how='left', right_index=True, left_index=True)\n",
    "\n",
    "result.fillna(value=0,  inplace=True)\n",
    "\n",
    "# We Reindex the dataFrame\n",
    "for index,value in enumerate (result.index):\n",
    "    result.index.values[index] = 'Runner '+ str(index + 1)\n",
    "    \n",
    "result"
   ]
  },
  {
   "cell_type": "markdown",
   "metadata": {},
   "source": [
    "The study carry on 10 runners, as we can notice they are not begginers some of them have more the 500 events on 17 years which mean more than 2 events each month during a period of 17 years... Even the runners with the less events have a ration of 1 race every 2 months wich is huge knowing that for a debutant the recommended waiting time before getting  is 3-4 to completely get health after http://www.runnersworld.com/ask-coach-jenny/how-many-marathons-can-you-run-in-a-year.\n",
    "\n",
    "The result that we could found by the study is clearly individual, everybody reacts differently, we should push the study furhter (by getting additional data) to confirm any hypothesis."
   ]
  },
  {
   "cell_type": "code",
   "execution_count": null,
   "metadata": {
    "collapsed": false
   },
   "outputs": [],
   "source": [
    "runs_before_preprocessing['eventDate'] = runs_before_preprocessing.apply(runners_utils.compute_date_event, axis=1)\n",
    "runs_before_preprocessing['year'] = runs_before_preprocessing['eventDate'].apply(lambda x: int(x.year))"
   ]
  },
  {
   "cell_type": "code",
   "execution_count": null,
   "metadata": {
    "collapsed": false,
    "scrolled": false
   },
   "outputs": [],
   "source": [
    "group_by_runs_before_process = runs_before_preprocessing.groupby(['acode', 'year']).size().reset_index().groupby(['acode', 'year'])[[0]].max()\n",
    "group_by_runs_resign = runs_before_preprocessing[(runs_before_preprocessing['resultState'] == 'non classé')].groupby(['acode', 'year']).size().reset_index().groupby(['acode', 'year'])[[0]].max()\n",
    "\n",
    "group_by_runs.columns = ['number_race']\n",
    "group_by_runs_before_process.columns = ['overall number race']\n",
    "group_by_runs_resign.columns = ['number abandon']\n",
    "\n",
    "\n",
    "#result = group_by_runs.join(group_by_runs_before_process)\n",
    "result = pd.merge(group_by_runs_before_process, group_by_runs_resign, how='left', right_index=True, left_index=True)\n",
    "\n",
    "result.fillna(value=0,  inplace=True)\n",
    "result.reset_index(inplace=True)\n",
    "\n",
    "# The year 2017 contains too small amount of data.\n",
    "result = result[result['year'] != 2017 ]\n",
    "\n",
    "# Let see if there are a link with number_overall event and the number of event.\n",
    "ax = sns.lmplot(x=\"overall number race\", y=\"number abandon\",  data=result, col = 'year', col_wrap=3, size=4)\n"
   ]
  },
  {
   "cell_type": "markdown",
   "metadata": {},
   "source": [
    "The result above has been done on a total of 61 runners, As we can expect generally the number of abandon grows with proportionnaly with the number of race done.\n",
    "An interesting fact is the "
   ]
  },
  {
   "cell_type": "code",
   "execution_count": null,
   "metadata": {
    "collapsed": false
   },
   "outputs": [],
   "source": [
    "result[\"overall number race\"] = result[\"overall number race\"].apply(lambda x: np.int(x))\n",
    "result[\"number abandon\"] = result[\"number abandon\"].apply(lambda x:  np.int(x))\n",
    "\n",
    "sns.jointplot(result[\"overall number race\"], result[\"number abandon\"], kind=\"reg\", stat_func=runners_utils.r2)"
   ]
  },
  {
   "cell_type": "markdown",
   "metadata": {},
   "source": [
    "The R-squared value is to small to confirm anything about such relation between abandon the number of race runned and the number of abandon."
   ]
  },
  {
   "cell_type": "markdown",
   "metadata": {},
   "source": [
    "Let's study the now the effect of the trainings on the overall performance, in order to isolate as much as possible independant variable (altitude, period of the year, ascending elevation) the following study focused on the marathon of lausanne."
   ]
  },
  {
   "cell_type": "code",
   "execution_count": null,
   "metadata": {
    "collapsed": false
   },
   "outputs": [],
   "source": [
    "print('number of races : ' + str(len(runs[(runs['eventName'] == 'Lausanne Marathon') & (runs['distance (km)'] == 42)].index)))\n",
    "print('number of runners : ' + str(len(runs[(runs['eventName'] == 'Lausanne Marathon') & (runs['distance (km)'] == 42)]['acode'].unique())))"
   ]
  },
  {
   "cell_type": "markdown",
   "metadata": {},
   "source": [
    "The marathon of Lausanne seems to be a good one because almost every runners have runned the long distance every years."
   ]
  },
  {
   "cell_type": "code",
   "execution_count": null,
   "metadata": {
    "collapsed": false
   },
   "outputs": [],
   "source": [
    "runs_event_cleaned = runners_utils.compute_dataframe_marathon_performance(runs, runs_before_preprocessing)"
   ]
  },
  {
   "cell_type": "code",
   "execution_count": null,
   "metadata": {
    "collapsed": false
   },
   "outputs": [],
   "source": [
    "marathon_lausanne = runs_event_cleaned[(runs_event_cleaned['eventName'] == 'Lausanne Marathon') & (runs_event_cleaned['distance (km)'] == 42)]\n",
    "marathon_lausanne = marathon_lausanne[marathon_lausanne['acode'].isin(runners['acode'][runners['gender'] == 'male'])]\n",
    "marathon_lausanne = pd.merge(runners[['acode','number_acode']],marathon_lausanne,on='acode')"
   ]
  },
  {
   "cell_type": "code",
   "execution_count": null,
   "metadata": {
    "collapsed": false
   },
   "outputs": [],
   "source": [
    "fig = plt.figure()\n",
    "fig.tight_layout\n",
    "fig.set_size_inches(15, 12)\n",
    "fig.suptitle('Total distance/Speed to marathon lausanne on a total of 12 runners on 17 years', fontsize=12)\n",
    "runners_utils.diplay_comparaison_runners_performance(fig, marathon_lausanne)"
   ]
  },
  {
   "cell_type": "markdown",
   "metadata": {},
   "source": [
    "The Color is representative of a runner. As we can notice the performance is not as linked as we could think.\n",
    "Taking the purple runners, the first two best result have been obtained with a huge difference in the distance run in raced.\n",
    "We need more data on the training of each person to go further."
   ]
  },
  {
   "cell_type": "markdown",
   "metadata": {},
   "source": [
    "The study does not bring any informations a relation between performance and the number of competition, we need to go further by doing an individual study."
   ]
  },
  {
   "cell_type": "code",
   "execution_count": null,
   "metadata": {
    "collapsed": false
   },
   "outputs": [],
   "source": [
    "runs_event_cleaned['performance coefficient'] = runs_event_cleaned.apply(runners_utils.compute_weakness_coefficient, args=(runs_event_cleaned, 'sum distance (km)',), axis=1)"
   ]
  },
  {
   "cell_type": "code",
   "execution_count": null,
   "metadata": {
    "collapsed": false
   },
   "outputs": [],
   "source": [
    "runs_event_cleaned['event coefficient'] = runs_event_cleaned.apply(runners_utils.compute_weakness_coefficient, args=(runs_event_cleaned, 'overall number events',), axis=1)"
   ]
  },
  {
   "cell_type": "code",
   "execution_count": null,
   "metadata": {
    "collapsed": true
   },
   "outputs": [],
   "source": [
    "runs_event_cleaned['age coefficient'] = runs_event_cleaned.apply(runners_utils.compute_weakness_coefficient, args=(runs_event_cleaned, 'age',), axis=1)"
   ]
  },
  {
   "cell_type": "code",
   "execution_count": null,
   "metadata": {
    "collapsed": false
   },
   "outputs": [],
   "source": [
    "# The value equal to 0 does not bring anything to the study.\n",
    "# The value 0 represent the race with the best time as we want to find a factor explainig the difference\n",
    "# best time.\n",
    "runs_event_cleaned = runs_event_cleaned[\n",
    "                                        (runs_event_cleaned['performance coefficient'] != 0) &\n",
    "                                        (runs_event_cleaned['event coefficient'] != 0) &\n",
    "                                        (runs_event_cleaned['age coefficient'] != 0) \n",
    "                                       ]"
   ]
  },
  {
   "cell_type": "code",
   "execution_count": null,
   "metadata": {
    "collapsed": false
   },
   "outputs": [],
   "source": [
    "#runs_event_cleaned['performance coefficient'].hist()\n",
    "sns.distplot(runs_event_cleaned['performance coefficient'])"
   ]
  },
  {
   "cell_type": "code",
   "execution_count": null,
   "metadata": {
    "collapsed": false
   },
   "outputs": [],
   "source": [
    "sns.distplot(runs_event_cleaned['event coefficient'])"
   ]
  },
  {
   "cell_type": "code",
   "execution_count": null,
   "metadata": {
    "collapsed": false
   },
   "outputs": [],
   "source": [
    "sns.distplot(runs_event_cleaned['age coefficient'])"
   ]
  },
  {
   "cell_type": "code",
   "execution_count": null,
   "metadata": {
    "collapsed": true
   },
   "outputs": [],
   "source": [
    "#study_race = {'Lausanne Marathon': [46.226793,6.140639]}\n",
    "#Marathon_information = compute_weather_information(study_race, runs)"
   ]
  },
  {
   "cell_type": "code",
   "execution_count": null,
   "metadata": {
    "collapsed": false
   },
   "outputs": [],
   "source": [
    "#Marathon_information.to_csv('Data/weather_lausanne.csv')"
   ]
  },
  {
   "cell_type": "markdown",
   "metadata": {},
   "source": [
    "## TEST"
   ]
  },
  {
   "cell_type": "code",
   "execution_count": null,
   "metadata": {
    "collapsed": false
   },
   "outputs": [],
   "source": [
    "races_59 = runs[runs['acode'] ==  'FFJBKFSN'] #FU3KDU5G\n",
    "races_38 = runs[runs['acode'] == 'G756ZTL6']\n",
    "runs_42 = races_59[races_59['distance (km)'] == 42] \n",
    "group_by_age = races_59.groupby(['age'], sort=False).sum()\n",
    "group_by_age.reset_index(inplace=True)\n",
    "\n",
    "sns.boxplot(x=\"age\", y=\"speed (m/s)\", data=runs_42)\n"
   ]
  },
  {
   "cell_type": "code",
   "execution_count": null,
   "metadata": {
    "collapsed": false
   },
   "outputs": [],
   "source": [
    "group_by_age[['age','distance (km)']].plot(x='age', y='distance (km)')"
   ]
  }
 ],
 "metadata": {
  "anaconda-cloud": {},
  "kernelspec": {
   "display_name": "Python [conda root]",
   "language": "python",
   "name": "conda-root-py"
  },
  "language_info": {
   "codemirror_mode": {
    "name": "ipython",
    "version": 3
   },
   "file_extension": ".py",
   "mimetype": "text/x-python",
   "name": "python",
   "nbconvert_exporter": "python",
   "pygments_lexer": "ipython3",
   "version": "3.5.2"
  }
 },
 "nbformat": 4,
 "nbformat_minor": 1
}
