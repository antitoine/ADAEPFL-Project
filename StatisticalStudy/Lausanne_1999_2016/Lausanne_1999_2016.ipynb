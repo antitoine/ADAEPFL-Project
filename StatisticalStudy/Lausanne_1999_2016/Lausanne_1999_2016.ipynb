{
 "cells": [
  {
   "cell_type": "code",
   "execution_count": null,
   "metadata": {
    "collapsed": false
   },
   "outputs": [],
   "source": [
    "# Data analysis \n",
    "import pandas as pd\n",
    "import numpy as np\n",
    "import re\n",
    "import seaborn as sns\n",
    "import matplotlib.pyplot as plt\n",
    "%matplotlib inline\n",
    "import collections\n",
    "from matplotlib.pyplot import show\n",
    "import sys\n",
    "sys.path.append('..')\n",
    "\n",
    "# our code (mark it at autoreload at every cell execution - useful in developement mode)\n",
    "%load_ext autoreload\n",
    "%autoreload 1\n",
    "%aimport study_utils\n",
    "%aimport lausanne_1999_2016_utils"
   ]
  },
  {
   "cell_type": "code",
   "execution_count": null,
   "metadata": {
    "collapsed": false
   },
   "outputs": [],
   "source": [
    "def get_data():\n",
    "    '''\n",
    "    get data from pickle on information on runners.\n",
    "        return: dataframe with all data.\n",
    "    '''\n",
    "    path_to_data = '../../Scraping/DataSport/Data/Lausanne_Marathon_'\n",
    "    extension = '.pickle'\n",
    "    dataframe_lausanne = []\n",
    "    \n",
    "    # getting data from 1999 to 2016\n",
    "    for year in range (1999,2017):\n",
    "        path = path_to_data + str(year) + extension\n",
    "        lausanne_marathon_temp = pd.read_pickle(path)\n",
    "        lausanne_marathon_temp['year'] =  year\n",
    "        dataframe_lausanne.append(lausanne_marathon_temp)\n",
    "    \n",
    "    \n",
    "    return pd.concat(dataframe_lausanne)\n",
    "\n",
    "def apply_computation(lausanne_marathon):\n",
    "    \n",
    "    \n",
    "    # remove the SettingWithCopyWarning\n",
    "    pd.options.mode.chained_assignment = None \n",
    "    \n",
    "    # compute gender of the runner.\n",
    "    lausanne_marathon['sex'] = lausanne_marathon.apply(study_utils.get_sex_of_runner, axis=1)\n",
    "    lausanne_marathon = lausanne_marathon[lausanne_marathon['sex'].notnull()]\n",
    "    \n",
    "    # Adult / Junior\n",
    "    lausanne_marathon['type'] = lausanne_marathon.apply(study_utils.get_type_of_runner, axis=1)\n",
    "    \n",
    "    # clean the rank attribute \n",
    "    lausanne_marathon.drop('rank', axis=1, inplace=True)\n",
    "    \n",
    "    # compute age from birthdate.\n",
    "    lausanne_marathon = lausanne_marathon[lausanne_marathon['birthday'].notnull()] # 192 values removed.\n",
    "    lausanne_marathon['age'] = lausanne_marathon.apply(study_utils.compute_age_of_runner, axis=1)\n",
    "    lausanne_marathon['age'] = lausanne_marathon['age'].apply(lambda x : int(float(x)))\n",
    "    \n",
    "    # Compute time\n",
    "    lausanne_marathon = lausanne_marathon[lausanne_marathon['time'].notnull()] # 706 values removed.\n",
    "    lausanne_marathon['time'] = lausanne_marathon.apply(study_utils.format_time, axis=1)\n",
    "    \n",
    "    # Compute distance\n",
    "    lausanne_marathon['distance (km)'] = lausanne_marathon.apply(study_utils.compute_distance_from_category, axis=1)\n",
    "    \n",
    "    # compute speed\n",
    "    lausanne_marathon['speed (m/s)'] = lausanne_marathon['distance (km)']*1000/lausanne_marathon['time']\n",
    "    \n",
    "    # compute type of runner.\n",
    "    lausanne_marathon['type_team'] = lausanne_marathon.apply(study_utils.compute_run_in_team, axis=1)\n",
    "    \n",
    "    lausanne_marathon = compute_overall_rank_all(lausanne_marathon)\n",
    "    lausanne_marathon['overall_rank'] = lausanne_marathon['overall_rank'].apply(lambda x : int(float(x)))\n",
    "    \n",
    "    pd.options.mode.chained_assignment = 'warn'\n",
    "    \n",
    "    return lausanne_marathon\n",
    "    \n",
    "def compute_overall_rank_all(lausanne_marathon):\n",
    "    '''\n",
    "    compute the overall rank by distance\n",
    "    \n",
    "    Parameters\n",
    "        - data: DataFrame containing records for a given running\n",
    "    '''\n",
    "    \n",
    "    years = lausanne_marathon['year'].unique()\n",
    "    marathons = []\n",
    "    \n",
    "    for year in years:\n",
    "        print('computing rank for: ' + str(year))\n",
    "        lausanne_marathon_per_year = lausanne_marathon[lausanne_marathon['year'] == year]\n",
    "        marathons.append(lausanne_1999_2016_utils.compute_overall_rank(lausanne_marathon_per_year))\n",
    "        \n",
    "    # return the all dataframe.\n",
    "    return pd.concat(marathons)"
   ]
  },
  {
   "cell_type": "code",
   "execution_count": null,
   "metadata": {
    "collapsed": false
   },
   "outputs": [],
   "source": [
    "lausanne_marathon = get_data()"
   ]
  },
  {
   "cell_type": "code",
   "execution_count": null,
   "metadata": {
    "collapsed": false
   },
   "outputs": [],
   "source": [
    "lausanne_marathon.head()"
   ]
  },
  {
   "cell_type": "code",
   "execution_count": null,
   "metadata": {
    "collapsed": false,
    "scrolled": true
   },
   "outputs": [],
   "source": [
    "lausanne_marathon = apply_computation(lausanne_marathon)"
   ]
  },
  {
   "cell_type": "code",
   "execution_count": null,
   "metadata": {
    "collapsed": false
   },
   "outputs": [],
   "source": [
    "lausanne_marathon.head()"
   ]
  }
 ],
 "metadata": {
  "anaconda-cloud": {},
  "kernelspec": {
   "display_name": "Python [conda root]",
   "language": "python",
   "name": "conda-root-py"
  },
  "language_info": {
   "codemirror_mode": {
    "name": "ipython",
    "version": 3
   },
   "file_extension": ".py",
   "mimetype": "text/x-python",
   "name": "python",
   "nbconvert_exporter": "python",
   "pygments_lexer": "ipython3",
   "version": "3.5.2"
  }
 },
 "nbformat": 4,
 "nbformat_minor": 1
}
