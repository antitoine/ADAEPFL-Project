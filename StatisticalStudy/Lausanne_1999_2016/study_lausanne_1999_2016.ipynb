{
 "cells": [
  {
   "cell_type": "code",
   "execution_count": null,
   "metadata": {
    "collapsed": false
   },
   "outputs": [],
   "source": [
    "# Imports\n",
    "import pandas as pd\n",
    "import numpy as np\n",
    "import re\n",
    "import collections\n",
    "import statsmodels.api as sm\n",
    "import seaborn as sns\n",
    "import matplotlib.pyplot as plt\n",
    "%matplotlib inline\n",
    "from matplotlib.pyplot import show\n",
    "import ipywidgets as widgets\n",
    "from IPython.display import display, clear_output\n",
    "import plotly\n",
    "plotly.offline.init_notebook_mode()\n",
    "import sys\n",
    "sys.path.append('..')\n",
    "\n",
    "# our code (mark it at autoreload at every cell execution - useful in developement mode)\n",
    "%load_ext autoreload\n",
    "%autoreload 1\n",
    "%aimport study_utils\n",
    "%aimport lausanne_1999_2016_utils"
   ]
  },
  {
   "cell_type": "code",
   "execution_count": null,
   "metadata": {
    "collapsed": true
   },
   "outputs": [],
   "source": [
    "PATH_TO_DATA = '../../Scraping/DataSport/Data/'"
   ]
  },
  {
   "cell_type": "markdown",
   "metadata": {},
   "source": [
    "# Data wrangling"
   ]
  },
  {
   "cell_type": "markdown",
   "metadata": {},
   "source": [
    "First, we retrieve all the data corresponding to Lausanne Marathons, from 1999 to 2016."
   ]
  },
  {
   "cell_type": "code",
   "execution_count": null,
   "metadata": {
    "collapsed": false
   },
   "outputs": [],
   "source": [
    "lausanne_all_marathons = study_utils.get_data(PATH_TO_DATA)"
   ]
  },
  {
   "cell_type": "code",
   "execution_count": null,
   "metadata": {
    "collapsed": false,
    "scrolled": false
   },
   "outputs": [],
   "source": [
    "lausanne_all_marathons.head()"
   ]
  },
  {
   "cell_type": "markdown",
   "metadata": {},
   "source": [
    "We then apply different computations in order to clean DataFrame and format columns for further analysis."
   ]
  },
  {
   "cell_type": "code",
   "execution_count": null,
   "metadata": {
    "collapsed": false,
    "scrolled": true
   },
   "outputs": [],
   "source": [
    "lausanne_all_marathons_cleaned = study_utils.apply_computations(lausanne_all_marathons)"
   ]
  },
  {
   "cell_type": "code",
   "execution_count": null,
   "metadata": {
    "collapsed": false
   },
   "outputs": [],
   "source": [
    "lausanne_all_marathons_cleaned = lausanne_all_marathons_cleaned[lausanne_all_marathons_cleaned.apply(study_utils.filter_participants, axis=1)]"
   ]
  },
  {
   "cell_type": "markdown",
   "metadata": {},
   "source": [
    "We also compute the overall rank for each year."
   ]
  },
  {
   "cell_type": "code",
   "execution_count": null,
   "metadata": {
    "collapsed": false
   },
   "outputs": [],
   "source": [
    "lausanne_all_marathons_cleaned = lausanne_1999_2016_utils.remove_outliers(lausanne_all_marathons_cleaned)"
   ]
  },
  {
   "cell_type": "code",
   "execution_count": null,
   "metadata": {
    "collapsed": false
   },
   "outputs": [],
   "source": [
    "lausanne_all_marathons_cleaned = lausanne_1999_2016_utils.compute_overall_rank(lausanne_all_marathons_cleaned)"
   ]
  },
  {
   "cell_type": "code",
   "execution_count": null,
   "metadata": {
    "collapsed": true
   },
   "outputs": [],
   "source": [
    "lausanne_all_marathons_cleaned.drop('rank', axis=1, inplace=True)"
   ]
  },
  {
   "cell_type": "markdown",
   "metadata": {},
   "source": [
    "We finally obtain the final DataFrame, ready to be used for analysis."
   ]
  },
  {
   "cell_type": "code",
   "execution_count": null,
   "metadata": {
    "collapsed": false
   },
   "outputs": [],
   "source": [
    "lausanne_all_marathons_cleaned.head()"
   ]
  },
  {
   "cell_type": "code",
   "execution_count": null,
   "metadata": {
    "collapsed": true
   },
   "outputs": [],
   "source": [
    "lausanne_all_marathons_10km = lausanne_all_marathons_cleaned[lausanne_all_marathons_cleaned['distance (km)'] == 10]\n",
    "lausanne_all_marathons_21km = lausanne_all_marathons_cleaned[lausanne_all_marathons_cleaned['distance (km)'] == 21]\n",
    "lausanne_all_marathons_42km = lausanne_all_marathons_cleaned[lausanne_all_marathons_cleaned['distance (km)'] == 42]"
   ]
  },
  {
   "cell_type": "markdown",
   "metadata": {},
   "source": [
    "## Statistics about outliers"
   ]
  },
  {
   "cell_type": "markdown",
   "metadata": {},
   "source": [
    "Let's display the number of runners for whom one or more fundamental attributes are missing."
   ]
  },
  {
   "cell_type": "code",
   "execution_count": null,
   "metadata": {
    "collapsed": false
   },
   "outputs": [],
   "source": [
    "columns_to_check = ['sex', 'time', 'rank']\n",
    "# As sex is used to find outliers, we add the column into the original DataFrame\n",
    "lausanne_all_marathons['sex'] = lausanne_all_marathons.apply(study_utils.get_sex_of_runner, axis=1)\n",
    "study_utils.get_statistics_outliers(lausanne_all_marathons, columns_to_check)"
   ]
  },
  {
   "cell_type": "markdown",
   "metadata": {},
   "source": [
    "Finally, let's display the results of the cleaning process."
   ]
  },
  {
   "cell_type": "code",
   "execution_count": null,
   "metadata": {
    "collapsed": false
   },
   "outputs": [],
   "source": [
    "all_runners = len(lausanne_all_marathons)\n",
    "considered_runners = len(lausanne_all_marathons_cleaned)\n",
    "print('Runners in raw DataFrame: ' + str(all_runners))\n",
    "print('Runners to be considered for analysis: ' + str(considered_runners))\n",
    "print('Unconsidered runners: ' + str(all_runners - considered_runners))"
   ]
  },
  {
   "cell_type": "markdown",
   "metadata": {},
   "source": [
    "# Analysis of data"
   ]
  },
  {
   "cell_type": "markdown",
   "metadata": {},
   "source": [
    "## Evolution of number of participants"
   ]
  },
  {
   "cell_type": "code",
   "execution_count": null,
   "metadata": {
    "collapsed": false
   },
   "outputs": [],
   "source": [
    "columns = ['Marathon', '10 km', 'Semi-marathon']\n",
    "distribution_of_runners = lausanne_1999_2016_utils.generate_distributions(lausanne_all_marathons_10km, lausanne_all_marathons_21km, lausanne_all_marathons_42km, lausanne_1999_2016_utils.filter_by_years)\n",
    "distribution_of_runners = distribution_of_runners[columns]"
   ]
  },
  {
   "cell_type": "code",
   "execution_count": null,
   "metadata": {
    "collapsed": false
   },
   "outputs": [],
   "source": [
    "distribution_of_runners.head()"
   ]
  },
  {
   "cell_type": "code",
   "execution_count": null,
   "metadata": {
    "collapsed": false,
    "scrolled": true
   },
   "outputs": [],
   "source": [
    "lausanne_1999_2016_utils.plot_distribution_over_years(distribution_of_runners)"
   ]
  },
  {
   "cell_type": "markdown",
   "metadata": {},
   "source": [
    "We easily see some changes over the years thanks to the graph. Among other things, we identify the new direction of Lausanne Marathon as for 2009, number of participants started to increase again. We also notice that number of runners of the marathon is decreasing over the years, as RTSSport mentioned it <a href=\"https://www.rts.ch/sport/athletisme/1258113-le-marathon-de-lausanne-change-dorientation.html\">in an article dedicated to Lausanne Marathon</a>, while, in the meantime, the number of runners of the 10 km running increases (and is now higher than the one for semi-marathon)."
   ]
  },
  {
   "cell_type": "markdown",
   "metadata": {},
   "source": [
    "## Focus on gender"
   ]
  },
  {
   "cell_type": "markdown",
   "metadata": {},
   "source": [
    "First, we retrieve gender distribution over the years into a unique DataFrame."
   ]
  },
  {
   "cell_type": "code",
   "execution_count": null,
   "metadata": {
    "collapsed": false
   },
   "outputs": [],
   "source": [
    "gender_distributions = lausanne_1999_2016_utils.generate_distributions(lausanne_all_marathons_10km, lausanne_all_marathons_21km, lausanne_all_marathons_42km, lausanne_1999_2016_utils.filter_by_sex_and_years)"
   ]
  },
  {
   "cell_type": "code",
   "execution_count": null,
   "metadata": {
    "collapsed": false,
    "scrolled": true
   },
   "outputs": [],
   "source": [
    "gender_distributions.head(6)"
   ]
  },
  {
   "cell_type": "markdown",
   "metadata": {},
   "source": [
    "To plot the results, we separe data according to the gender of participants."
   ]
  },
  {
   "cell_type": "code",
   "execution_count": null,
   "metadata": {
    "collapsed": false
   },
   "outputs": [],
   "source": [
    "columns = ['10 km', 'Semi-marathon', 'Marathon']\n",
    "female_runners = gender_distributions[gender_distributions.index.get_level_values(0) == 'female']\n",
    "female_runners.index = female_runners.index.droplevel(0)\n",
    "female_runners = female_runners[columns]\n",
    "\n",
    "male_runners = gender_distributions[gender_distributions.index.get_level_values(0) == 'male']\n",
    "male_runners.index = male_runners.index.droplevel(0)\n",
    "male_runners = male_runners[columns]\n",
    "\n",
    "gender_data = collections.OrderedDict([('female', female_runners), ('male', male_runners)])"
   ]
  },
  {
   "cell_type": "code",
   "execution_count": null,
   "metadata": {
    "collapsed": false,
    "scrolled": false
   },
   "outputs": [],
   "source": [
    "lausanne_1999_2016_utils.plot_gender_distributions_over_years(gender_data)"
   ]
  },
  {
   "cell_type": "markdown",
   "metadata": {},
   "source": [
    "What we have seen for Lausanne Marathon 2016 can be generalized here. First, we see that women tend to prefer 10 km running, while for men, the number of participants among the different runnings is better divided. Second, we see that globally, for 10 km running and marathon, evolution is similar among the two genders. However, we observe much more variations for men than for women when we consider semi-marathon, and this even if we consider the new direction of Lausanne Marathon established in 2009."
   ]
  },
  {
   "cell_type": "markdown",
   "metadata": {},
   "source": [
    "## Evolution of age of participants"
   ]
  },
  {
   "cell_type": "code",
   "execution_count": null,
   "metadata": {
    "collapsed": false,
    "scrolled": true
   },
   "outputs": [],
   "source": [
    "statistics = lausanne_1999_2016_utils.generate_median_age_statistics(lausanne_all_marathons_cleaned)"
   ]
  },
  {
   "cell_type": "code",
   "execution_count": null,
   "metadata": {
    "collapsed": false,
    "scrolled": false
   },
   "outputs": [],
   "source": [
    "statistics['global'].round(1).T"
   ]
  },
  {
   "cell_type": "code",
   "execution_count": null,
   "metadata": {
    "collapsed": false,
    "scrolled": false
   },
   "outputs": [],
   "source": [
    "statistics['detailed'].index.levels[0].rename('Gender', inplace=True)\n",
    "statistics['detailed'].index.levels[1].rename('Year', inplace=True)\n",
    "statistics['detailed'].round(1)"
   ]
  },
  {
   "cell_type": "code",
   "execution_count": null,
   "metadata": {
    "collapsed": false,
    "scrolled": true
   },
   "outputs": [],
   "source": [
    "median_age_by_gender = statistics['detailed'].swaplevel().reset_index(level=1)\n",
    "lausanne_1999_2016_utils.plot_median_age_evolution(median_age_by_gender)"
   ]
  },
  {
   "cell_type": "markdown",
   "metadata": {},
   "source": [
    "What an interesting thing!\n",
    "\n",
    "We clearly see that over the years, participants of Lausanne Marathon are younger and younger! In 1999, median age was about 54 years for women and 57 years for men, while, in 2016, it was 36 years and 40 years, respectively!\n",
    "\n",
    "Globall, it seems that the decrease is linear. To verify this assumption, we use <a href=\"https://en.wikipedia.org/wiki/Ordinary_least_squares\">Ordinary least squares</a> method on the two datasets."
   ]
  },
  {
   "cell_type": "code",
   "execution_count": null,
   "metadata": {
    "collapsed": false
   },
   "outputs": [],
   "source": [
    "female_data = median_age_by_gender[median_age_by_gender['Gender'] == 'female'].reset_index()\n",
    "male_data = median_age_by_gender[median_age_by_gender['Gender'] == 'male'].reset_index()\n",
    "female_data['Year'] = female_data['Year'].apply(lambda x: int(float(x)))\n",
    "male_data['Year'] = male_data.reset_index()['Year'].apply(lambda x: int(float(x)))\n",
    "gender_data = {'female': female_data, 'male': male_data}\n",
    "ols_results_gender = study_utils.run_ols_test(gender_data, 'Year', 'Median age (all runnings)')"
   ]
  },
  {
   "cell_type": "code",
   "execution_count": null,
   "metadata": {
    "collapsed": false
   },
   "outputs": [],
   "source": [
    "ols_results_gender['female'].summary()"
   ]
  },
  {
   "cell_type": "code",
   "execution_count": null,
   "metadata": {
    "collapsed": false
   },
   "outputs": [],
   "source": [
    "ols_results_gender['male'].summary()"
   ]
  },
  {
   "cell_type": "code",
   "execution_count": null,
   "metadata": {
    "collapsed": false
   },
   "outputs": [],
   "source": [
    "for gender, ols_result in ols_results_gender.items():\n",
    "    print('GENDER: ' + gender)\n",
    "    fig, ax = plt.subplots()\n",
    "    fig = sm.graphics.plot_fit(ols_result, 'Year', ax=ax)\n",
    "    plt.show()"
   ]
  },
  {
   "cell_type": "markdown",
   "metadata": {},
   "source": [
    "From OLS, we find high R-squared values, so linear correlation can be assumed for the two genders. Graphically, we also see that original results are included in the interval defined by error bars associated with fitted values."
   ]
  },
  {
   "cell_type": "markdown",
   "metadata": {},
   "source": [
    "What are the equations of linear regressions?"
   ]
  },
  {
   "cell_type": "code",
   "execution_count": null,
   "metadata": {
    "collapsed": false
   },
   "outputs": [],
   "source": [
    "for gender, ols_result in ols_results_gender.items():\n",
    "    print('GENDER: ' + gender)\n",
    "    print('Y = Â * X + Ê')\n",
    "    print('Â = ' + str(ols_results_gender[gender].params[1]))\n",
    "    print('Ê = ' + str(ols_results_gender[gender].params[0]) + '\\n')"
   ]
  },
  {
   "cell_type": "markdown",
   "metadata": {},
   "source": [
    "Each year, median age decreased by 1 year approximately."
   ]
  },
  {
   "cell_type": "markdown",
   "metadata": {},
   "source": [
    "If this evolution continues, this means that, for 2017, median age of runners would be approximately:"
   ]
  },
  {
   "cell_type": "code",
   "execution_count": null,
   "metadata": {
    "collapsed": false,
    "scrolled": true
   },
   "outputs": [],
   "source": [
    "for gender, ols_result in ols_results_gender.items():\n",
    "    print('Median age of ' + gender + ' runners: ' + str(ols_results_gender[gender].params[1]*2017+ols_results_gender[gender].params[0]))"
   ]
  },
  {
   "cell_type": "markdown",
   "metadata": {},
   "source": [
    "It is important to note that even if during the past 18 years, median age continued to decrease, this evolution will obviously not continue to be linear in the following years. We expect stabilization, or inverse behavior (linear increase)."
   ]
  },
  {
   "cell_type": "markdown",
   "metadata": {},
   "source": [
    "## Evolution of performance over the years"
   ]
  },
  {
   "cell_type": "markdown",
   "metadata": {},
   "source": [
    "### Static visualisation"
   ]
  },
  {
   "cell_type": "code",
   "execution_count": null,
   "metadata": {
    "collapsed": false
   },
   "outputs": [],
   "source": [
    "study_utils.display_boxplot(lausanne_all_marathons_cleaned, 'year', 'time', 'distance (km)', title='Evolution of performance over the years for all runnings of Lausanne Marathon', y_format=study_utils.convert_seconds_to_time)"
   ]
  },
  {
   "cell_type": "markdown",
   "metadata": {},
   "source": [
    "If we consider all the runners, it seems that there is no visible differences over the years (except for outliers)."
   ]
  },
  {
   "cell_type": "markdown",
   "metadata": {},
   "source": [
    "### Dynamic visualisation"
   ]
  },
  {
   "cell_type": "markdown",
   "metadata": {},
   "source": [
    "First, we initialize visualisation parameters and we create Plotly figure."
   ]
  },
  {
   "cell_type": "code",
   "execution_count": null,
   "metadata": {
    "collapsed": false,
    "scrolled": false
   },
   "outputs": [],
   "source": [
    "# Visualisation parameters\n",
    "selected_age_category = 'All'\n",
    "selected_performance_criterion = 'Time'\n",
    "all_age_categories = ['All', '15-25 years', '26-30 years', '31-35 years', '36-40 years', '41-45 years', '46-50 years', '51-55 years', '56-60 years', '61-65 years', '65+ years']\n",
    "all_performance_criteria = ['Time', 'Speed (m/s)']\n",
    "\n",
    "# DataFrame with time format\n",
    "lausanne_all_marathons_cleaned_with_datetime = lausanne_all_marathons_cleaned.copy()\n",
    "lausanne_all_marathons_cleaned_with_datetime['time'] = pd.to_datetime([study_utils.convert_seconds_to_time(t) for t in lausanne_all_marathons_cleaned['time']], format='%H:%M:%S')\n",
    "\n",
    "# Creation of all figures\n",
    "all_performance_figures = lausanne_1999_2016_utils.generate_all_performance_figures(lausanne_all_marathons_cleaned_with_datetime, all_age_categories, all_performance_criteria)"
   ]
  },
  {
   "cell_type": "markdown",
   "metadata": {},
   "source": [
    "We then create dropdown and their respective handlers."
   ]
  },
  {
   "cell_type": "code",
   "execution_count": null,
   "metadata": {
    "collapsed": false,
    "scrolled": false
   },
   "outputs": [],
   "source": [
    "# ----------------------------------------------------------------------------------------\n",
    "# HANDLERS\n",
    "\n",
    "def update_plot():\n",
    "    global selected_age_category, selected_performance_criterion\n",
    "    clear_output()\n",
    "    data = all_performance_figures[selected_age_category][selected_performance_criterion]\n",
    "    plotly.offline.iplot(data)\n",
    "\n",
    "def update_age_category(change):\n",
    "    if change['new'] not in all_age_categories:\n",
    "        return\n",
    "    global selected_age_category\n",
    "    selected_age_category = change['new']\n",
    "    data = all_performance_figures[selected_age_category][selected_performance_criterion]\n",
    "    update_plot()\n",
    "    \n",
    "def update_performance_criterion(change):\n",
    "    if change['new'] not in all_performance_criteria:\n",
    "        return\n",
    "    global selected_performance_criterion\n",
    "    selected_performance_criterion = change['new']\n",
    "    update_plot()\n",
    "\n",
    "# HANDLERS (END)\n",
    "# ----------------------------------------------------------------------------------------\n",
    "    \n",
    "# Widget for age categories\n",
    "age_label = widgets.Label(value='Age category')\n",
    "age_widget = widgets.Dropdown(options=all_age_categories, value=selected_age_category)\n",
    "age_widget.observe(update_age_category)\n",
    "\n",
    "# Widget for performance criteria\n",
    "performance_label = widgets.Label(value='Performance')\n",
    "performance_widget = widgets.Dropdown(options=all_performance_criteria, value=selected_performance_criterion)\n",
    "performance_widget.observe(update_performance_criterion)"
   ]
  },
  {
   "cell_type": "markdown",
   "metadata": {},
   "source": [
    "Finally, we display the graph."
   ]
  },
  {
   "cell_type": "code",
   "execution_count": null,
   "metadata": {
    "collapsed": false,
    "scrolled": false
   },
   "outputs": [],
   "source": [
    "display(age_label)\n",
    "display(age_widget)\n",
    "display(performance_label)\n",
    "display(performance_widget)\n",
    "plotly.offline.iplot(all_performance_figures[selected_age_category][selected_performance_criterion])"
   ]
  }
 ],
 "metadata": {
  "anaconda-cloud": {},
  "kernelspec": {
   "display_name": "Python [conda root]",
   "language": "python",
   "name": "conda-root-py"
  },
  "language_info": {
   "codemirror_mode": {
    "name": "ipython",
    "version": 3
   },
   "file_extension": ".py",
   "mimetype": "text/x-python",
   "name": "python",
   "nbconvert_exporter": "python",
   "pygments_lexer": "ipython3",
   "version": "3.5.2"
  },
  "widgets": {
   "state": {
    "02f183a1c3374290b17de68259ff4f98": {
     "views": [
      {
       "cell_index": 62
      }
     ]
    },
    "0923cf44da494959857a975232386b35": {
     "views": [
      {
       "cell_index": 62
      },
      {
       "cell_index": 62
      }
     ]
    },
    "0e7d0c8a533a4889bb50f331247858e6": {
     "views": [
      {
       "cell_index": 62
      },
      {
       "cell_index": 62
      }
     ]
    },
    "13a74b7830b14025bb7952af72f5aefb": {
     "views": [
      {
       "cell_index": 62
      }
     ]
    },
    "17e5ab7134764966bedb19b95a98a24b": {
     "views": [
      {
       "cell_index": 62
      }
     ]
    },
    "1e8bc9f887174e67a9fca84ef2f2a540": {
     "views": [
      {
       "cell_index": 62
      }
     ]
    },
    "295cee542f234c80b8db7ffdf4823a89": {
     "views": [
      {
       "cell_index": 62
      },
      {
       "cell_index": 62
      }
     ]
    },
    "2a119da40d5f468fb0169e12ba003fdb": {
     "views": [
      {
       "cell_index": 62
      },
      {
       "cell_index": 62
      }
     ]
    },
    "348f1ab4f2aa4717987f874ca8197471": {
     "views": [
      {
       "cell_index": 62
      }
     ]
    },
    "372cd1e722854a8d8868d8a8f1c9fa64": {
     "views": [
      {
       "cell_index": 63
      }
     ]
    },
    "379444912a624a7ba46401c637ffd96d": {
     "views": [
      {
       "cell_index": 62
      }
     ]
    },
    "3af9b11b424144529122ead35a41c92b": {
     "views": [
      {
       "cell_index": 63
      },
      {
       "cell_index": 63
      }
     ]
    },
    "41061f8c876f4d5880eef7ab7f9c8568": {
     "views": [
      {
       "cell_index": 62
      }
     ]
    },
    "49ca898d2cca462babaade784a035f59": {
     "views": [
      {
       "cell_index": 63
      }
     ]
    },
    "5027ad91104946c3ab3b90145a04f4a0": {
     "views": [
      {
       "cell_index": 63
      }
     ]
    },
    "5b7c458c1ea742c1aea55db1b8f31ef7": {
     "views": [
      {
       "cell_index": 63
      }
     ]
    },
    "62e422995c1f446688fb95dbc845f0c1": {
     "views": [
      {
       "cell_index": 62
      }
     ]
    },
    "677e8e862d8a45c7b11b622f2ab7293c": {
     "views": [
      {
       "cell_index": 63
      }
     ]
    },
    "6d62e65902aa4c45bd989c474f2d9cd7": {
     "views": [
      {
       "cell_index": 63
      }
     ]
    },
    "75798afb6b4c4452b282a7454624c292": {
     "views": [
      {
       "cell_index": 62
      }
     ]
    },
    "7a307dcbb8ee4ee7a3addd273073d703": {
     "views": [
      {
       "cell_index": 62
      }
     ]
    },
    "84431e41027740ca8497dbbe2e4a120a": {
     "views": [
      {
       "cell_index": 62
      }
     ]
    },
    "8c5c84338b7647ef8d8694252ca8df6d": {
     "views": [
      {
       "cell_index": 63
      },
      {
       "cell_index": 63
      }
     ]
    },
    "8facee7cb9d7437f91e98a79d29da714": {
     "views": [
      {
       "cell_index": 63
      }
     ]
    },
    "a343d19a3c3d4091997c1039649cf101": {
     "views": [
      {
       "cell_index": 62
      }
     ]
    },
    "a951a5e7be644791be2abc2c0c702d41": {
     "views": [
      {
       "cell_index": 62
      }
     ]
    },
    "b300e380b0624d498fb1d5945b6687ca": {
     "views": [
      {
       "cell_index": 62
      }
     ]
    },
    "b39b9b54231a479c886ea159545de7af": {
     "views": [
      {
       "cell_index": 63
      }
     ]
    },
    "b5768be95fb445ed9a707a8117848774": {
     "views": [
      {
       "cell_index": 62
      },
      {
       "cell_index": 62
      }
     ]
    },
    "bd27a90605f247fda98db824c49b7b8f": {
     "views": [
      {
       "cell_index": 63
      },
      {
       "cell_index": 63
      }
     ]
    },
    "bf23829d86ec47d9b8a2ca5b7f7ad0bd": {
     "views": [
      {
       "cell_index": 62
      }
     ]
    },
    "c5060800f4af4cbbb97b68f5677f4dd2": {
     "views": [
      {
       "cell_index": 62
      }
     ]
    },
    "c9e1257abbf34159862a2717f206699f": {
     "views": [
      {
       "cell_index": 62
      }
     ]
    },
    "d63a71b902b8441696bc6dd11f2c7988": {
     "views": [
      {
       "cell_index": 62
      },
      {
       "cell_index": 62
      }
     ]
    },
    "d6cbbc30bfee47c0b3f5635a8c17300b": {
     "views": [
      {
       "cell_index": 63
      }
     ]
    },
    "d790655d34684b8ca44efeec4c41262b": {
     "views": [
      {
       "cell_index": 63
      }
     ]
    },
    "e0899538f4be45d581c500458508b3d9": {
     "views": [
      {
       "cell_index": 62
      }
     ]
    },
    "e839d0d41ec648d983d7405946cb57db": {
     "views": [
      {
       "cell_index": 63
      }
     ]
    },
    "f2442f4f0f4c43c39426dc16a3ae3b2b": {
     "views": [
      {
       "cell_index": 62
      }
     ]
    },
    "f2aaca9fd9ac4d818544d8a3d6d2963d": {
     "views": [
      {
       "cell_index": 63
      },
      {
       "cell_index": 63
      }
     ]
    },
    "f4f3d7860e9d4f37ba39c35341f71df4": {
     "views": [
      {
       "cell_index": 63
      }
     ]
    }
   },
   "version": "1.2.0"
  }
 },
 "nbformat": 4,
 "nbformat_minor": 1
}
