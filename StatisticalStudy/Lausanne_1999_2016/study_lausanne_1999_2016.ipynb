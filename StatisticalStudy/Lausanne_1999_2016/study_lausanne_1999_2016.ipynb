{
 "cells": [
  {
   "cell_type": "code",
   "execution_count": null,
   "metadata": {
    "collapsed": false
   },
   "outputs": [],
   "source": [
    "# Imports\n",
    "from functools import partial\n",
    "import pandas as pd\n",
    "import numpy as np\n",
    "import re\n",
    "import collections\n",
    "import statsmodels.api as sm\n",
    "import seaborn as sns\n",
    "import matplotlib.pyplot as plt\n",
    "%matplotlib inline\n",
    "from matplotlib.pyplot import show\n",
    "import ipywidgets as widgets\n",
    "from IPython.display import display, clear_output\n",
    "import plotly\n",
    "plotly.offline.init_notebook_mode()\n",
    "import sys\n",
    "sys.path.append('..')\n",
    "\n",
    "# our code (mark it at autoreload at every cell execution - useful in developement mode)\n",
    "%load_ext autoreload\n",
    "%autoreload 1\n",
    "%aimport study_utils\n",
    "%aimport lausanne_1999_2016_utils"
   ]
  },
  {
   "cell_type": "code",
   "execution_count": null,
   "metadata": {
    "collapsed": true
   },
   "outputs": [],
   "source": [
    "PATH_TO_DATA = '../../Scraping/DataSport/Data/'"
   ]
  },
  {
   "cell_type": "markdown",
   "metadata": {},
   "source": [
    "# Data wrangling"
   ]
  },
  {
   "cell_type": "markdown",
   "metadata": {},
   "source": [
    "First, we retrieve all the data corresponding to Lausanne Marathons, from 1999 to 2016."
   ]
  },
  {
   "cell_type": "code",
   "execution_count": null,
   "metadata": {
    "collapsed": false
   },
   "outputs": [],
   "source": [
    "lausanne_all_marathons = study_utils.get_data(PATH_TO_DATA)"
   ]
  },
  {
   "cell_type": "code",
   "execution_count": null,
   "metadata": {
    "collapsed": false,
    "scrolled": false
   },
   "outputs": [],
   "source": [
    "lausanne_all_marathons.head()"
   ]
  },
  {
   "cell_type": "markdown",
   "metadata": {},
   "source": [
    "We then apply different computations in order to clean DataFrame and format columns for further analysis."
   ]
  },
  {
   "cell_type": "code",
   "execution_count": null,
   "metadata": {
    "collapsed": false,
    "scrolled": true
   },
   "outputs": [],
   "source": [
    "lausanne_all_marathons_cleaned = study_utils.apply_computations(lausanne_all_marathons)"
   ]
  },
  {
   "cell_type": "code",
   "execution_count": null,
   "metadata": {
    "collapsed": false
   },
   "outputs": [],
   "source": [
    "lausanne_all_marathons_cleaned = lausanne_all_marathons_cleaned[lausanne_all_marathons_cleaned.apply(study_utils.filter_participants, axis=1)]"
   ]
  },
  {
   "cell_type": "markdown",
   "metadata": {},
   "source": [
    "We also compute the overall rank for each year."
   ]
  },
  {
   "cell_type": "code",
   "execution_count": null,
   "metadata": {
    "collapsed": false
   },
   "outputs": [],
   "source": [
    "lausanne_all_marathons_cleaned = lausanne_1999_2016_utils.remove_outliers(lausanne_all_marathons_cleaned)"
   ]
  },
  {
   "cell_type": "code",
   "execution_count": null,
   "metadata": {
    "collapsed": false
   },
   "outputs": [],
   "source": [
    "lausanne_all_marathons_cleaned = lausanne_1999_2016_utils.compute_overall_rank(lausanne_all_marathons_cleaned)"
   ]
  },
  {
   "cell_type": "code",
   "execution_count": null,
   "metadata": {
    "collapsed": true
   },
   "outputs": [],
   "source": [
    "lausanne_all_marathons_cleaned.drop('rank', axis=1, inplace=True)"
   ]
  },
  {
   "cell_type": "markdown",
   "metadata": {},
   "source": [
    "We finally obtain the final DataFrame, ready to be used for analysis."
   ]
  },
  {
   "cell_type": "code",
   "execution_count": null,
   "metadata": {
    "collapsed": false
   },
   "outputs": [],
   "source": [
    "lausanne_all_marathons_cleaned.head()"
   ]
  },
  {
   "cell_type": "code",
   "execution_count": null,
   "metadata": {
    "collapsed": true
   },
   "outputs": [],
   "source": [
    "lausanne_all_marathons_10km = lausanne_all_marathons_cleaned[lausanne_all_marathons_cleaned['distance (km)'] == 10]\n",
    "lausanne_all_marathons_21km = lausanne_all_marathons_cleaned[lausanne_all_marathons_cleaned['distance (km)'] == 21]\n",
    "lausanne_all_marathons_42km = lausanne_all_marathons_cleaned[lausanne_all_marathons_cleaned['distance (km)'] == 42]"
   ]
  },
  {
   "cell_type": "markdown",
   "metadata": {},
   "source": [
    "## Statistics about outliers"
   ]
  },
  {
   "cell_type": "markdown",
   "metadata": {},
   "source": [
    "Let's display the number of runners for whom one or more fundamental attributes are missing."
   ]
  },
  {
   "cell_type": "code",
   "execution_count": null,
   "metadata": {
    "collapsed": false
   },
   "outputs": [],
   "source": [
    "columns_to_check = ['sex', 'time', 'rank']\n",
    "# As sex is used to find outliers, we add the column into the original DataFrame\n",
    "lausanne_all_marathons['sex'] = lausanne_all_marathons.apply(study_utils.get_sex_of_runner, axis=1)\n",
    "study_utils.get_statistics_outliers(lausanne_all_marathons, columns_to_check)"
   ]
  },
  {
   "cell_type": "markdown",
   "metadata": {},
   "source": [
    "Finally, let's display the results of the cleaning process."
   ]
  },
  {
   "cell_type": "code",
   "execution_count": null,
   "metadata": {
    "collapsed": false
   },
   "outputs": [],
   "source": [
    "all_runners = len(lausanne_all_marathons)\n",
    "considered_runners = len(lausanne_all_marathons_cleaned)\n",
    "print('Runners in raw DataFrame: ' + str(all_runners))\n",
    "print('Runners to be considered for analysis: ' + str(considered_runners))\n",
    "print('Unconsidered runners: ' + str(all_runners - considered_runners))"
   ]
  },
  {
   "cell_type": "markdown",
   "metadata": {},
   "source": [
    "# Analysis of data"
   ]
  },
  {
   "cell_type": "markdown",
   "metadata": {},
   "source": [
    "## Evolution of number of participants"
   ]
  },
  {
   "cell_type": "code",
   "execution_count": null,
   "metadata": {
    "collapsed": false
   },
   "outputs": [],
   "source": [
    "columns = ['Marathon', '10 km', 'Semi-marathon']\n",
    "distribution_of_runners = lausanne_1999_2016_utils.generate_distributions(lausanne_all_marathons_10km, lausanne_all_marathons_21km, lausanne_all_marathons_42km, lausanne_1999_2016_utils.filter_by_years)\n",
    "distribution_of_runners = distribution_of_runners[columns]"
   ]
  },
  {
   "cell_type": "code",
   "execution_count": null,
   "metadata": {
    "collapsed": false
   },
   "outputs": [],
   "source": [
    "distribution_of_runners.head()"
   ]
  },
  {
   "cell_type": "code",
   "execution_count": null,
   "metadata": {
    "collapsed": false,
    "scrolled": true
   },
   "outputs": [],
   "source": [
    "lausanne_1999_2016_utils.plot_distribution_over_years(distribution_of_runners)"
   ]
  },
  {
   "cell_type": "markdown",
   "metadata": {},
   "source": [
    "We easily see some changes over the years thanks to the graph. Among other things, we identify the new direction of Lausanne Marathon as for 2009, number of participants started to increase again. We also notice that number of runners of the marathon is decreasing over the years, as RTSSport mentioned it <a href=\"https://www.rts.ch/sport/athletisme/1258113-le-marathon-de-lausanne-change-dorientation.html\">in an article dedicated to Lausanne Marathon</a>, while, in the meantime, the number of runners of the 10 km running increases (and is now higher than the one for semi-marathon)."
   ]
  },
  {
   "cell_type": "markdown",
   "metadata": {},
   "source": [
    "## Focus on gender"
   ]
  },
  {
   "cell_type": "markdown",
   "metadata": {},
   "source": [
    "First, we retrieve gender distribution over the years into a unique DataFrame."
   ]
  },
  {
   "cell_type": "code",
   "execution_count": null,
   "metadata": {
    "collapsed": false
   },
   "outputs": [],
   "source": [
    "gender_distributions = lausanne_1999_2016_utils.generate_distributions(lausanne_all_marathons_10km, lausanne_all_marathons_21km, lausanne_all_marathons_42km, lausanne_1999_2016_utils.filter_by_sex_and_years)"
   ]
  },
  {
   "cell_type": "code",
   "execution_count": null,
   "metadata": {
    "collapsed": false,
    "scrolled": true
   },
   "outputs": [],
   "source": [
    "gender_distributions.head(6)"
   ]
  },
  {
   "cell_type": "markdown",
   "metadata": {},
   "source": [
    "To plot the results, we separe data according to the gender of participants."
   ]
  },
  {
   "cell_type": "code",
   "execution_count": null,
   "metadata": {
    "collapsed": false
   },
   "outputs": [],
   "source": [
    "columns = ['10 km', 'Semi-marathon', 'Marathon']\n",
    "female_runners = gender_distributions[gender_distributions.index.get_level_values(0) == 'female']\n",
    "female_runners.index = female_runners.index.droplevel(0)\n",
    "female_runners = female_runners[columns]\n",
    "\n",
    "male_runners = gender_distributions[gender_distributions.index.get_level_values(0) == 'male']\n",
    "male_runners.index = male_runners.index.droplevel(0)\n",
    "male_runners = male_runners[columns]\n",
    "\n",
    "gender_data = collections.OrderedDict([('female', female_runners), ('male', male_runners)])"
   ]
  },
  {
   "cell_type": "code",
   "execution_count": null,
   "metadata": {
    "collapsed": false,
    "scrolled": false
   },
   "outputs": [],
   "source": [
    "lausanne_1999_2016_utils.plot_gender_distributions_over_years(gender_data)"
   ]
  },
  {
   "cell_type": "markdown",
   "metadata": {},
   "source": [
    "What we have seen for Lausanne Marathon 2016 can be generalized here. First, we see that women tend to prefer 10 km running, while for men, the number of participants among the different runnings is better divided. Second, we see that globally, for 10 km running and marathon, evolution is similar among the two genders. However, we observe much more variations for men than for women when we consider semi-marathon, and this even if we consider the new direction of Lausanne Marathon established in 2009."
   ]
  },
  {
   "cell_type": "markdown",
   "metadata": {},
   "source": [
    "## Evolution of age of participants"
   ]
  },
  {
   "cell_type": "code",
   "execution_count": null,
   "metadata": {
    "collapsed": false,
    "scrolled": true
   },
   "outputs": [],
   "source": [
    "statistics = lausanne_1999_2016_utils.generate_median_age_statistics(lausanne_all_marathons_cleaned)"
   ]
  },
  {
   "cell_type": "code",
   "execution_count": null,
   "metadata": {
    "collapsed": false,
    "scrolled": false
   },
   "outputs": [],
   "source": [
    "statistics['global'].round(1).T"
   ]
  },
  {
   "cell_type": "code",
   "execution_count": null,
   "metadata": {
    "collapsed": false,
    "scrolled": false
   },
   "outputs": [],
   "source": [
    "statistics['detailed'].index.levels[0].rename('Gender', inplace=True)\n",
    "statistics['detailed'].index.levels[1].rename('Year', inplace=True)\n",
    "statistics['detailed'].round(1)"
   ]
  },
  {
   "cell_type": "code",
   "execution_count": null,
   "metadata": {
    "collapsed": false,
    "scrolled": true
   },
   "outputs": [],
   "source": [
    "median_age_by_gender = statistics['detailed'].swaplevel().reset_index(level=1)\n",
    "lausanne_1999_2016_utils.plot_median_age_evolution(median_age_by_gender)"
   ]
  },
  {
   "cell_type": "markdown",
   "metadata": {},
   "source": [
    "What an interesting thing!\n",
    "\n",
    "We clearly see that over the years, participants of Lausanne Marathon are younger and younger! In 1999, median age was about 54 years for women and 57 years for men, while, in 2016, it was 36 years and 40 years, respectively!\n",
    "\n",
    "Globall, it seems that the decrease is linear. To verify this assumption, we use <a href=\"https://en.wikipedia.org/wiki/Ordinary_least_squares\">Ordinary least squares</a> method on the two datasets."
   ]
  },
  {
   "cell_type": "code",
   "execution_count": null,
   "metadata": {
    "collapsed": false
   },
   "outputs": [],
   "source": [
    "female_data = median_age_by_gender[median_age_by_gender['Gender'] == 'female'].reset_index()\n",
    "male_data = median_age_by_gender[median_age_by_gender['Gender'] == 'male'].reset_index()\n",
    "female_data['Year'] = female_data['Year'].apply(lambda x: int(float(x)))\n",
    "male_data['Year'] = male_data.reset_index()['Year'].apply(lambda x: int(float(x)))\n",
    "gender_data = {'female': female_data, 'male': male_data}\n",
    "ols_results_gender = study_utils.run_ols_test(gender_data, 'Year', 'Median age (all runnings)')"
   ]
  },
  {
   "cell_type": "code",
   "execution_count": null,
   "metadata": {
    "collapsed": false
   },
   "outputs": [],
   "source": [
    "ols_results_gender['female'].summary()"
   ]
  },
  {
   "cell_type": "code",
   "execution_count": null,
   "metadata": {
    "collapsed": false
   },
   "outputs": [],
   "source": [
    "ols_results_gender['male'].summary()"
   ]
  },
  {
   "cell_type": "code",
   "execution_count": null,
   "metadata": {
    "collapsed": false
   },
   "outputs": [],
   "source": [
    "for gender, ols_result in ols_results_gender.items():\n",
    "    print('GENDER: ' + gender)\n",
    "    fig, ax = plt.subplots()\n",
    "    fig = sm.graphics.plot_fit(ols_result, 'Year', ax=ax)\n",
    "    plt.show()"
   ]
  },
  {
   "cell_type": "markdown",
   "metadata": {},
   "source": [
    "From OLS, we find high R-squared values, so linear correlation can be assumed for the two genders. Graphically, we also see that original results are included in the interval defined by error bars associated with fitted values."
   ]
  },
  {
   "cell_type": "markdown",
   "metadata": {},
   "source": [
    "What are the equations of linear regressions?"
   ]
  },
  {
   "cell_type": "code",
   "execution_count": null,
   "metadata": {
    "collapsed": false
   },
   "outputs": [],
   "source": [
    "for gender, ols_result in ols_results_gender.items():\n",
    "    print('GENDER: ' + gender)\n",
    "    print('Y = Â * X + Ê')\n",
    "    print('Â = ' + str(ols_results_gender[gender].params[1]))\n",
    "    print('Ê = ' + str(ols_results_gender[gender].params[0]) + '\\n')"
   ]
  },
  {
   "cell_type": "markdown",
   "metadata": {},
   "source": [
    "Each year, median age decreased by 1 year approximately."
   ]
  },
  {
   "cell_type": "markdown",
   "metadata": {},
   "source": [
    "If this evolution continues, this means that, for 2017, median age of runners would be approximately:"
   ]
  },
  {
   "cell_type": "code",
   "execution_count": null,
   "metadata": {
    "collapsed": false,
    "scrolled": true
   },
   "outputs": [],
   "source": [
    "for gender, ols_result in ols_results_gender.items():\n",
    "    print('Median age of ' + gender + ' runners: ' + str(ols_results_gender[gender].params[1]*2017+ols_results_gender[gender].params[0]))"
   ]
  },
  {
   "cell_type": "markdown",
   "metadata": {},
   "source": [
    "It is important to note that even if during the past 18 years, median age continued to decrease, this evolution will obviously not continue to be linear in the following years. We expect stabilization, or inverse behavior (linear increase)."
   ]
  },
  {
   "cell_type": "markdown",
   "metadata": {},
   "source": [
    "## Evolution of performance over the years"
   ]
  },
  {
   "cell_type": "markdown",
   "metadata": {},
   "source": [
    "### Static visualisation"
   ]
  },
  {
   "cell_type": "code",
   "execution_count": null,
   "metadata": {
    "collapsed": false
   },
   "outputs": [],
   "source": [
    "study_utils.display_boxplot(lausanne_all_marathons_cleaned, 'year', 'time', 'distance (km)', title='Evolution of performance over the years for all runnings of Lausanne Marathon', y_format=study_utils.convert_seconds_to_time)"
   ]
  },
  {
   "cell_type": "markdown",
   "metadata": {},
   "source": [
    "If we consider all the runners, it seems that there is no visible differences over the years (except for outliers)."
   ]
  },
  {
   "cell_type": "markdown",
   "metadata": {},
   "source": [
    "### Dynamic visualisation"
   ]
  },
  {
   "cell_type": "markdown",
   "metadata": {},
   "source": [
    "First, we initialize visualisation parameters and we create Plotly figure."
   ]
  },
  {
   "cell_type": "code",
   "execution_count": null,
   "metadata": {
    "collapsed": false,
    "scrolled": true
   },
   "outputs": [],
   "source": [
    "# Visualisation parameters\n",
    "selected_age_category = 'All'\n",
    "selected_performance_criterion = 'Time'\n",
    "all_age_categories = ['All', '15-25 years', '26-30 years', '31-35 years', '36-40 years', '41-45 years', '46-50 years', '51-55 years', '56-60 years', '61-65 years', '65+ years']\n",
    "all_performance_criteria = ['Time', 'Speed (m/s)']\n",
    "\n",
    "# DataFrame with time format\n",
    "lausanne_all_marathons_cleaned_with_datetime = lausanne_all_marathons_cleaned.copy()\n",
    "lausanne_all_marathons_cleaned_with_datetime['time'] = pd.to_datetime([study_utils.convert_seconds_to_time(t) for t in lausanne_all_marathons_cleaned['time']], format='%H:%M:%S')\n",
    "\n",
    "# Creation of all figures\n",
    "all_performance_figures = lausanne_1999_2016_utils.generate_all_performance_figures(lausanne_all_marathons_cleaned_with_datetime, all_age_categories, all_performance_criteria)"
   ]
  },
  {
   "cell_type": "markdown",
   "metadata": {},
   "source": [
    "We then create dropdown and their respective handlers."
   ]
  },
  {
   "cell_type": "code",
   "execution_count": null,
   "metadata": {
    "collapsed": false,
    "scrolled": false
   },
   "outputs": [],
   "source": [
    "# ----------------------------------------------------------------------------------------\n",
    "# HANDLERS\n",
    "\n",
    "def update_boxplots_figure():\n",
    "    global selected_age_category, selected_performance_criterion\n",
    "    clear_output()\n",
    "    data = all_performance_figures[selected_age_category][selected_performance_criterion]\n",
    "    plotly.offline.iplot(data)\n",
    "\n",
    "def update_age_category(change, update_function):\n",
    "    if change['new'] not in all_age_categories:\n",
    "        return\n",
    "    global selected_age_category\n",
    "    selected_age_category = change['new']\n",
    "    data = all_performance_figures[selected_age_category][selected_performance_criterion]\n",
    "    update_function()\n",
    "    \n",
    "def update_performance_criterion(change, update_function):\n",
    "    if change['new'] not in all_performance_criteria:\n",
    "        return\n",
    "    global selected_performance_criterion\n",
    "    selected_performance_criterion = change['new']\n",
    "    update_function()\n",
    "\n",
    "update_age_category_with_args = partial(update_age_category, update_function=update_boxplots_figure)\n",
    "update_performance_criterion_with_args = partial(update_performance_criterion, update_function=update_boxplots_figure)\n",
    "\n",
    "# HANDLERS (END)\n",
    "# ----------------------------------------------------------------------------------------\n",
    "\n",
    "# Widget for age categories\n",
    "age_label = widgets.Label(value='Age category')\n",
    "age_widget = widgets.Dropdown(options=all_age_categories, value=selected_age_category)\n",
    "age_widget.observe(update_age_category_with_args)\n",
    "\n",
    "# Widget for performance criteria\n",
    "performance_label = widgets.Label(value='Performance')\n",
    "performance_widget = widgets.Dropdown(options=all_performance_criteria, value=selected_performance_criterion)\n",
    "performance_widget.observe(update_performance_criterion_with_args)"
   ]
  },
  {
   "cell_type": "markdown",
   "metadata": {},
   "source": [
    "Finally, we display the graph."
   ]
  },
  {
   "cell_type": "code",
   "execution_count": null,
   "metadata": {
    "collapsed": false,
    "scrolled": false
   },
   "outputs": [],
   "source": [
    "display(age_label)\n",
    "display(age_widget)\n",
    "display(performance_label)\n",
    "display(performance_widget)\n",
    "plotly.offline.iplot(all_performance_figures[selected_age_category][selected_performance_criterion])"
   ]
  },
  {
   "cell_type": "markdown",
   "metadata": {},
   "source": [
    "#### Export to JSON files in order to use it with Plotly.js"
   ]
  },
  {
   "cell_type": "code",
   "execution_count": null,
   "metadata": {
    "collapsed": false
   },
   "outputs": [],
   "source": [
    "import json\n",
    "\n",
    "with open('./Data/ages_performances.json', 'w') as outfile:\n",
    "    json.dump(obj=all_performance_figures, cls=plotly.utils.PlotlyJSONEncoder, fp=outfile, indent=4, sort_keys=True, separators=(',', ':'))"
   ]
  },
  {
   "cell_type": "markdown",
   "metadata": {},
   "source": [
    "### Focus on BIB numbers"
   ]
  },
  {
   "cell_type": "markdown",
   "metadata": {},
   "source": [
    "We generate the complete figure."
   ]
  },
  {
   "cell_type": "code",
   "execution_count": null,
   "metadata": {
    "collapsed": false,
    "scrolled": true
   },
   "outputs": [],
   "source": [
    "bib_performance_figure = lausanne_1999_2016_utils.generate_all_bib_performance_figure(lausanne_all_marathons_cleaned_with_datetime)"
   ]
  },
  {
   "cell_type": "markdown",
   "metadata": {},
   "source": [
    "Then we display the graph."
   ]
  },
  {
   "cell_type": "code",
   "execution_count": null,
   "metadata": {
    "collapsed": false
   },
   "outputs": [],
   "source": [
    "plotly.offline.iplot(bib_performance_figure)"
   ]
  }
 ],
 "metadata": {
  "anaconda-cloud": {},
  "kernelspec": {
   "display_name": "Python [conda root]",
   "language": "python",
   "name": "conda-root-py"
  },
  "language_info": {
   "codemirror_mode": {
    "name": "ipython",
    "version": 3
   },
   "file_extension": ".py",
   "mimetype": "text/x-python",
   "name": "python",
   "nbconvert_exporter": "python",
   "pygments_lexer": "ipython3",
   "version": "3.5.2"
  },
  "widgets": {
   "state": {
    "14dd19449e5e4b97af71795932d82117": {
     "views": [
      {
       "cell_index": 68
      }
     ]
    },
    "1ff7e67f3f4d41689ecbb6d308acacca": {
     "views": [
      {
       "cell_index": 68
      }
     ]
    },
    "2f099c0b894a453782b8f23dec15bcfb": {
     "views": [
      {
       "cell_index": 68
      },
      {
       "cell_index": 68
      }
     ]
    },
    "3e316d4c3dd248c0a133b667f97e6315": {
     "views": [
      {
       "cell_index": 68
      },
      {
       "cell_index": 68
      },
      {
       "cell_index": 68
      }
     ]
    },
    "453cdde70bad425ab0b253cf771ea0c6": {
     "views": [
      {
       "cell_index": 62
      }
     ]
    },
    "54b59cabd865486b91788bc70f1f1e6f": {
     "views": [
      {
       "cell_index": 62
      }
     ]
    },
    "74a518bac1e0472ea67c08dcd5336b65": {
     "views": [
      {
       "cell_index": 62
      }
     ]
    },
    "86a5d023f92548aeac0e51184a815a8c": {
     "views": [
      {
       "cell_index": 62
      }
     ]
    },
    "86cda9555ef947f486d9b7b060b030bc": {
     "views": [
      {
       "cell_index": 62
      }
     ]
    },
    "b0e685a8593e4f4b82987190bd9aad48": {
     "views": [
      {
       "cell_index": 62
      }
     ]
    },
    "b554c544c12a49dcbc64884272d5e3b6": {
     "views": [
      {
       "cell_index": 62
      }
     ]
    },
    "be608eb79e3d4ba6bc2d3d22f3d16fae": {
     "views": [
      {
       "cell_index": 62
      }
     ]
    },
    "dbfaf3a7a0b145ec98da8663ca3dfcf1": {
     "views": [
      {
       "cell_index": 68
      },
      {
       "cell_index": 68
      },
      {
       "cell_index": 68
      },
      {
       "cell_index": 68
      },
      {
       "cell_index": 68
      }
     ]
    },
    "ec02cdadc4ef4ba3965ca1778983fbf0": {
     "views": [
      {
       "cell_index": 62
      }
     ]
    },
    "eee476173aa54336af83216e8614abef": {
     "views": [
      {
       "cell_index": 62
      }
     ]
    }
   },
   "version": "1.2.0"
  }
 },
 "nbformat": 4,
 "nbformat_minor": 1
}
