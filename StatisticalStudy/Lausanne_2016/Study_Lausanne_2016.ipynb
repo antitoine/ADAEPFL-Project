{
 "cells": [
  {
   "cell_type": "code",
   "execution_count": null,
   "metadata": {
    "collapsed": true
   },
   "outputs": [],
   "source": [
    "# Data analysis \n",
    "import pandas as pd\n",
    "import numpy as np\n",
    "import re\n",
    "\n",
    "# Utils\n",
    "import matplotlib.pyplot as plt\n",
    "%matplotlib inline\n",
    "from ipywidgets import FloatProgress\n",
    "import collections\n",
    "from IPython.display import display\n",
    "from datetime import date\n",
    "from dateutil.relativedelta import relativedelta"
   ]
  },
  {
   "cell_type": "code",
   "execution_count": null,
   "metadata": {
    "collapsed": true
   },
   "outputs": [],
   "source": [
    "PATH_TO_DATA = '../../Scraping/DataSport/Data/Lausanne_Marathon_2016.pickle'\n",
    "FEMALE_CATEGORY_REGEX = '([WD])|(Fille)|(JunF)'\n",
    "MALE_CATEGORY_REGEX = '([H])|(Gar)|(JunG)'"
   ]
  },
  {
   "cell_type": "code",
   "execution_count": null,
   "metadata": {
    "collapsed": false
   },
   "outputs": [],
   "source": [
    "def get_sex_of_runner(runner):\n",
    "    '''\n",
    "    Returns the sex of runner based on the category in which runner has done the marathon.\n",
    "    \n",
    "    Parameters\n",
    "        - runner: row representing the runner\n",
    "    \n",
    "    Return\n",
    "        - string ('female'/'male') or None if sex was not retrieved\n",
    "    '''\n",
    "    \n",
    "    # We ignore this specific category as it is not useful and as it can be misleading\n",
    "    if (runner['category'] == '10W-NW' or runner['category'] == '10W-Walk'):\n",
    "        return None\n",
    "    \n",
    "    if (re.search(FEMALE_CATEGORY_REGEX, runner['category']) != None):\n",
    "        return 'female'\n",
    "    elif (re.search(MALE_CATEGORY_REGEX, runner['category']) != None):\n",
    "        return 'male'\n",
    "    else:\n",
    "        return None\n",
    "\n",
    "\n",
    "def get_type_of_runner(runner):\n",
    "    '''\n",
    "    Returns the type of the runner.\n",
    "    \n",
    "    Parameters\n",
    "        - runner: row representing the runner\n",
    "        \n",
    "    Return\n",
    "        - string ('junior'/'adult')\n",
    "    '''\n",
    "    \n",
    "    if (runner['category'].find('Jun') != -1):\n",
    "        return 'junior'\n",
    "    else:\n",
    "        return 'adult'\n",
    "    \n",
    "\n",
    "def compute_age_of_runner(runner):\n",
    "    '''\n",
    "    Returns the age of runner, based on this year of birth.\n",
    "    \n",
    "    Parameters\n",
    "        - runner: row representing the runner\n",
    "        \n",
    "    Return\n",
    "        - age of runner (int)\n",
    "    '''\n",
    "    \n",
    "    today = date.today()\n",
    "    birth_year = runner['birthday']\n",
    "    return today.year - birth_year.year - ((today.month, today.day) < (birth_year.month, birth_year.day))"
   ]
  },
  {
   "cell_type": "markdown",
   "metadata": {},
   "source": [
    "# Data wrangling"
   ]
  },
  {
   "cell_type": "code",
   "execution_count": null,
   "metadata": {
    "collapsed": false
   },
   "outputs": [],
   "source": [
    "lausanne_marathon_2016 = pd.read_pickle(PATH_TO_DATA)\n",
    "lausanne_marathon_2016.head()"
   ]
  },
  {
   "cell_type": "code",
   "execution_count": null,
   "metadata": {
    "collapsed": false
   },
   "outputs": [],
   "source": [
    "lausanne_marathon_2016['sex'] = lausanne_marathon_2016.apply(get_sex_of_runner, axis=1)"
   ]
  },
  {
   "cell_type": "code",
   "execution_count": null,
   "metadata": {
    "collapsed": false
   },
   "outputs": [],
   "source": [
    "lausanne_marathon_2016['sex'].value_counts(dropna=False)"
   ]
  },
  {
   "cell_type": "markdown",
   "metadata": {},
   "source": [
    "Note: Here, we remove people that are part of *Pink_Ch*, *10W-Walk* or *10W-NW* categories as these categories do not belong to Lausanne Marathon, and as their name can be misleading with sex attribution. For more information about these categories, check <a href=\"http://fr.lausanne-marathon.com/info-course/horaires/\">Lausanne Marathon's official website</a>."
   ]
  },
  {
   "cell_type": "code",
   "execution_count": null,
   "metadata": {
    "collapsed": false
   },
   "outputs": [],
   "source": [
    "lausanne_marathon_2016_cleaned = lausanne_marathon_2016[lausanne_marathon_2016['sex'].notnull()].copy()"
   ]
  },
  {
   "cell_type": "code",
   "execution_count": null,
   "metadata": {
    "collapsed": false
   },
   "outputs": [],
   "source": [
    "len(lausanne_marathon_2016_cleaned)"
   ]
  },
  {
   "cell_type": "markdown",
   "metadata": {},
   "source": [
    "We have a total of 12060 runners on whom we can run our analysis for Lausanne Marathon 2016."
   ]
  },
  {
   "cell_type": "markdown",
   "metadata": {},
   "source": [
    "We also transform the *rang* column as an integer."
   ]
  },
  {
   "cell_type": "code",
   "execution_count": null,
   "metadata": {
    "collapsed": true
   },
   "outputs": [],
   "source": [
    "lausanne_marathon_2016_cleaned['type'] = lausanne_marathon_2016_cleaned.apply(get_type_of_runner, axis=1)"
   ]
  },
  {
   "cell_type": "code",
   "execution_count": null,
   "metadata": {
    "collapsed": false,
    "scrolled": true
   },
   "outputs": [],
   "source": [
    "lausanne_marathon_2016_cleaned['rank'] = lausanne_marathon_2016_cleaned['rank'].apply(lambda x : int(float(x)))\n",
    "lausanne_marathon_2016_cleaned.head()"
   ]
  },
  {
   "cell_type": "markdown",
   "metadata": {
    "collapsed": true
   },
   "source": [
    "# Statistical study"
   ]
  },
  {
   "cell_type": "markdown",
   "metadata": {},
   "source": [
    "## Overall study"
   ]
  },
  {
   "cell_type": "code",
   "execution_count": null,
   "metadata": {
    "collapsed": false
   },
   "outputs": [],
   "source": [
    "lausanne_marathon_2016_cleaned['sex'].value_counts().plot.bar(title='Distribution men/women for the lausanne Marthon 2016')"
   ]
  },
  {
   "cell_type": "markdown",
   "metadata": {},
   "source": [
    "The Lausanne marathon race had a significantly higher percentage of male runners than female ones."
   ]
  },
  {
   "cell_type": "code",
   "execution_count": null,
   "metadata": {
    "collapsed": false,
    "scrolled": false
   },
   "outputs": [],
   "source": [
    "lausanne_marathon_2016_cleaned['type'].value_counts().plot.bar(title='Distribution adult/junior for the lausanne Marthon 2016')"
   ]
  },
  {
   "cell_type": "markdown",
   "metadata": {},
   "source": [
    "Not surprinsingly, very minor part of runners were young during the Lausanne Marathon of 2016."
   ]
  },
  {
   "cell_type": "code",
   "execution_count": null,
   "metadata": {
    "collapsed": false,
    "scrolled": false
   },
   "outputs": [],
   "source": [
    "pd.Series(\n",
    "            { \n",
    "              'Individual runners' : lausanne_marathon_2016_cleaned['team'].isnull().sum(),\n",
    "              'Runners in teams' : lausanne_marathon_2016_cleaned['team'].notnull().sum()\n",
    "            }\n",
    ").plot.bar(title='Distribution Team/individual for the lausanne Marthon 2016')"
   ]
  },
  {
   "cell_type": "markdown",
   "metadata": {},
   "source": [
    "An interesting fact is that we have a non-negligible part of runners who were in team."
   ]
  },
  {
   "cell_type": "markdown",
   "metadata": {},
   "source": [
    "## Demographic study"
   ]
  },
  {
   "cell_type": "markdown",
   "metadata": {},
   "source": [
    "In this part, we plan to focus on age of runners, but also the place from which they come."
   ]
  },
  {
   "cell_type": "code",
   "execution_count": null,
   "metadata": {
    "collapsed": false
   },
   "outputs": [],
   "source": [
    "lausanne_marathon_2016_cleaned['age'] = lausanne_marathon_2016_cleaned.apply(compute_age_of_runner, axis=1)\n",
    "lausanne_marathon_2016_cleaned['age'] = lausanne_marathon_2016_cleaned['age'].apply(lambda x : int(float(x)))"
   ]
  },
  {
   "cell_type": "markdown",
   "metadata": {},
   "source": [
    "Display the age distirbution of runners in the marathon 2016 of Lausanne."
   ]
  },
  {
   "cell_type": "code",
   "execution_count": null,
   "metadata": {
    "collapsed": false
   },
   "outputs": [],
   "source": [
    "lausanne_marathon_2016_cleaned['age'].hist()"
   ]
  },
  {
   "cell_type": "markdown",
   "metadata": {},
   "source": [
    "## Category study"
   ]
  },
  {
   "cell_type": "code",
   "execution_count": null,
   "metadata": {
    "collapsed": false
   },
   "outputs": [],
   "source": [
    "lausanne_marathon_2016_cleaned['category'].unique()"
   ]
  },
  {
   "cell_type": "markdown",
   "metadata": {
    "collapsed": true
   },
   "source": [
    "Make study for each run event.\n",
    "<br>\n",
    "10K, 21K, 42K\n",
    "<br>\n",
    "Study with all distance."
   ]
  }
 ],
 "metadata": {
  "anaconda-cloud": {},
  "kernelspec": {
   "display_name": "Python [conda root]",
   "language": "python",
   "name": "conda-root-py"
  },
  "language_info": {
   "codemirror_mode": {
    "name": "ipython",
    "version": 3
   },
   "file_extension": ".py",
   "mimetype": "text/x-python",
   "name": "python",
   "nbconvert_exporter": "python",
   "pygments_lexer": "ipython3",
   "version": "3.5.2"
  }
 },
 "nbformat": 4,
 "nbformat_minor": 1
}
