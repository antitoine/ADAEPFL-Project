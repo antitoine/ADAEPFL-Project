{
 "cells": [
  {
   "cell_type": "code",
   "execution_count": null,
   "metadata": {
    "collapsed": true
   },
   "outputs": [],
   "source": [
    "# Data analysis \n",
    "import pandas as pd\n",
    "import numpy as np\n",
    "\n",
    "# Utils\n",
    "import matplotlib.pyplot as plt\n",
    "%matplotlib inline\n",
    "from ipywidgets import FloatProgress\n",
    "import collections\n",
    "from IPython.display import display\n",
    "from datetime import date\n",
    "from dateutil.relativedelta import relativedelta"
   ]
  },
  {
   "cell_type": "markdown",
   "metadata": {},
   "source": [
    "# wrangling data\n"
   ]
  },
  {
   "cell_type": "code",
   "execution_count": null,
   "metadata": {
    "collapsed": true
   },
   "outputs": [],
   "source": [
    "PATH_TO_DATA = '../../Scraping/DataSport/Data/Lausanne_Marathon_2016.pickle'\n",
    "SEX_COLUMN_NAME = 'Sex'"
   ]
  },
  {
   "cell_type": "code",
   "execution_count": null,
   "metadata": {
    "collapsed": false
   },
   "outputs": [],
   "source": [
    "lausanne_race = pd.read_pickle(PATH_TO_DATA)"
   ]
  },
  {
   "cell_type": "code",
   "execution_count": null,
   "metadata": {
    "collapsed": false
   },
   "outputs": [],
   "source": [
    "lausanne_race.head()"
   ]
  },
  {
   "cell_type": "code",
   "execution_count": null,
   "metadata": {
    "collapsed": false
   },
   "outputs": [],
   "source": [
    "def assign_sex (data_race, name_column):\n",
    "    '''\n",
    "    assign sex to runner selected by categorie.\n",
    "    variables\n",
    "        data_race : data describing the race.\n",
    "    '''\n",
    "    \n",
    "\n",
    "    sex_runner_list = []\n",
    "    map_letter_sex =   {\n",
    "                        'Men' : ['H', 'G'],\n",
    "                        'Women': ['F', 'D'],\n",
    "                        'Mixte': ['M']\n",
    "                    }\n",
    "    \n",
    "    # related to progress bar.\n",
    "    progress_bar = FloatProgress(min=0, max=len(data_race))\n",
    "    display(progress_bar)\n",
    "    \n",
    "    # Loop on each row of the dataframe.\n",
    "    for runner in data_race.itertuples() :\n",
    "        sex_runner = None\n",
    "        \n",
    "        # Loop on each entry of the map\n",
    "        for sex,letters in map_letter_sex.items(): \n",
    "            is_already_selected = False\n",
    "            \n",
    "            # Loop on each letter for the sex.\n",
    "            for letter in letters :\n",
    "                \n",
    "                # We check if the categorie contains capital letter.\n",
    "                if runner.catégorie.find(letter) != -1:\n",
    "\n",
    "                    # We check There are not any double letter in the categorie name.\n",
    "                    if is_already_selected == False:\n",
    "                        sex_runner = sex\n",
    "                        is_already_selected = True\n",
    "\n",
    "                    else:\n",
    "                     sex_runner_list.append(None) \n",
    "                     break\n",
    "                    \n",
    "        progress_bar.value += 1            \n",
    "        sex_runner_list.append(sex_runner)\n",
    "        \n",
    "    data_race_copy = data_race.copy()\n",
    "    data_race_copy[name_column] = sex_runner_list\n",
    "    return data_race_copy\n",
    "\n",
    "\n",
    "def compute_difference_Junior_adult (data_race):\n",
    "    \n",
    "    category_list = []\n",
    "    junior_ref =  'Jun'\n",
    "    \n",
    "    # related to progress bar.\n",
    "    progress_bar = FloatProgress(min=0, max=len(data_race))\n",
    "    display(progress_bar)\n",
    "    \n",
    "    # Loop on each row of the dataframe.\n",
    "    for runner in data_race.itertuples() :\n",
    "         \n",
    "        # We check if the categorie contains Junior.\n",
    "        if runner.catégorie.find(junior_ref) != -1:\n",
    "            category_list.append('Junior')\n",
    "        else:\n",
    "            category_list.append('Adult')\n",
    "                \n",
    "        progress_bar.value += 1            \n",
    "        \n",
    "    data_race_copy = data_race.copy()\n",
    "    data_race_copy['type'] = category_list\n",
    "    return data_race_copy\n",
    "\n",
    "\n",
    "def compute_age (data_race):\n",
    "    \n",
    "    age_list = [] \n",
    "    # related to progress bar.\n",
    "    progress_bar = FloatProgress(min=0, max=len(data_race))\n",
    "    display(progress_bar)\n",
    "    today = date.today()\n",
    "    # Loop on each row of the dataframe.\n",
    "    for runner in data_race.itertuples() :\n",
    "        age_list.append(calculate_age(runner.an,today))     \n",
    "        progress_bar.value += 1            \n",
    "        \n",
    "    data_race_copy = data_race.copy()\n",
    "    data_race_copy['Age'] = age_list\n",
    "    return data_race_copy\n",
    "\n",
    "def calculate_age(born,today):\n",
    "    return today.year - born.year - ((today.month, today.day) < (born.month, born.day))"
   ]
  },
  {
   "cell_type": "code",
   "execution_count": null,
   "metadata": {
    "collapsed": false
   },
   "outputs": [],
   "source": [
    "lausanne_race_sex_runner = assign_sex(lausanne_race,SEX_COLUMN_NAME)"
   ]
  },
  {
   "cell_type": "code",
   "execution_count": null,
   "metadata": {
    "collapsed": false
   },
   "outputs": [],
   "source": [
    "lausanne_race_sex_runner.head(100)"
   ]
  },
  {
   "cell_type": "code",
   "execution_count": null,
   "metadata": {
    "collapsed": false
   },
   "outputs": [],
   "source": [
    "lausanne_race_sex_runner[SEX_COLUMN_NAME].unique()"
   ]
  },
  {
   "cell_type": "code",
   "execution_count": null,
   "metadata": {
    "collapsed": false
   },
   "outputs": [],
   "source": [
    "lausanne_race_sex_runner [(lausanne_race_sex_runner[SEX_COLUMN_NAME] != 'Men') & \n",
    "                          (lausanne_race_sex_runner[SEX_COLUMN_NAME] != 'Women')]['catégorie'].unique() "
   ]
  },
  {
   "cell_type": "markdown",
   "metadata": {},
   "source": [
    "From http://fr.lausanne-marathon.com/info-course/horaires/, we can easily remove peoples belong to the Pink_ch,10W-Walk and  10W-NW category, not interesting for our study because it's a walk and not running."
   ]
  },
  {
   "cell_type": "code",
   "execution_count": null,
   "metadata": {
    "collapsed": false
   },
   "outputs": [],
   "source": [
    "lausanne_race_sex_runner = lausanne_race_sex_runner [(lausanne_race_sex_runner[SEX_COLUMN_NAME] == 'Men') | \n",
    "                                                     (lausanne_race_sex_runner[SEX_COLUMN_NAME] == 'Women')]"
   ]
  },
  {
   "cell_type": "code",
   "execution_count": null,
   "metadata": {
    "collapsed": false
   },
   "outputs": [],
   "source": [
    "len(lausanne_race_sex_runner)"
   ]
  },
  {
   "cell_type": "markdown",
   "metadata": {},
   "source": [
    "We have a total of 11248 runner for the lausanne marathon of 2016."
   ]
  },
  {
   "cell_type": "markdown",
   "metadata": {},
   "source": [
    "We need to compute the exact time for each runner."
   ]
  },
  {
   "cell_type": "code",
   "execution_count": null,
   "metadata": {
    "collapsed": false
   },
   "outputs": [],
   "source": [
    "#lausanne_race_sex_runner['temps'] = lausanne_race_sex_runner['temps'].apply(lambda x: x.replace(\"1900-01-01 \", \"\"))\n",
    "#lausanne_race_sex_runner['retard'] = lausanne_race_sex_runner['retard'].apply(lambda x: x.replace(\"1900-01-01 \", \"\"))"
   ]
  },
  {
   "cell_type": "code",
   "execution_count": null,
   "metadata": {
    "collapsed": false
   },
   "outputs": [],
   "source": [
    "lausanne_race_sex_runner.head()"
   ]
  },
  {
   "cell_type": "code",
   "execution_count": null,
   "metadata": {
    "collapsed": false
   },
   "outputs": [],
   "source": [
    "lausanne_race_sex_runner['rang'] = lausanne_race_sex_runner['rang'].apply(lambda x : int(float(x)))\n",
    "lausanne_race_sex_runner.head()"
   ]
  },
  {
   "cell_type": "markdown",
   "metadata": {
    "collapsed": true
   },
   "source": [
    "# Statistical study"
   ]
  },
  {
   "cell_type": "markdown",
   "metadata": {},
   "source": [
    "## Overall Study"
   ]
  },
  {
   "cell_type": "code",
   "execution_count": null,
   "metadata": {
    "collapsed": false
   },
   "outputs": [],
   "source": [
    "lausanne_race_sex_runner[SEX_COLUMN_NAME].value_counts().plot.bar(title='Distribution men/women for the lausanne Marthon 2016')"
   ]
  },
  {
   "cell_type": "markdown",
   "metadata": {},
   "source": [
    "The lausanne marathon race had a significantly higher percentage of males than females."
   ]
  },
  {
   "cell_type": "code",
   "execution_count": null,
   "metadata": {
    "collapsed": false
   },
   "outputs": [],
   "source": [
    "compute_difference_Junior_adult(lausanne_race_sex_runner)['type'].value_counts().plot.bar(title='Distribution adult/junior for the lausanne Marthon 2016')"
   ]
  },
  {
   "cell_type": "code",
   "execution_count": null,
   "metadata": {
    "collapsed": false
   },
   "outputs": [],
   "source": [
    "pd.Series(\n",
    "            { \n",
    "              'Individual' : lausanne_race_sex_runner['équipe'].isnull().sum(),\n",
    "              'Team' : lausanne_race_sex_runner['équipe'].notnull().sum()\n",
    "            }\n",
    ").plot.bar(title='Distribution Team/individual for the lausanne Marthon 2016')"
   ]
  },
  {
   "cell_type": "markdown",
   "metadata": {},
   "source": [
    "## Demographic Study"
   ]
  },
  {
   "cell_type": "markdown",
   "metadata": {},
   "source": [
    "--> study age runner\n",
    "--> study place where they come."
   ]
  },
  {
   "cell_type": "code",
   "execution_count": null,
   "metadata": {
    "collapsed": false
   },
   "outputs": [],
   "source": [
    "lausanne_race_age = compute_age(lausanne_race_sex_runner)"
   ]
  },
  {
   "cell_type": "markdown",
   "metadata": {},
   "source": [
    "Display the age distirbution of runners in the marathon 2016 of Lausanne."
   ]
  },
  {
   "cell_type": "code",
   "execution_count": null,
   "metadata": {
    "collapsed": false
   },
   "outputs": [],
   "source": [
    "lausanne_race_age['Age'].apply(lambda x : int(float(x)))\n",
    "lausanne_race_age['Age'].hist()"
   ]
  },
  {
   "cell_type": "markdown",
   "metadata": {},
   "source": [
    "## Category Study"
   ]
  },
  {
   "cell_type": "code",
   "execution_count": null,
   "metadata": {
    "collapsed": false
   },
   "outputs": [],
   "source": [
    "lausanne_race_sex_runner['catégorie'].unique()"
   ]
  },
  {
   "cell_type": "markdown",
   "metadata": {
    "collapsed": true
   },
   "source": [
    "--> make study for each run event --> 10K,21K,42K \n",
    "--> study with all distance."
   ]
  }
 ],
 "metadata": {
  "anaconda-cloud": {},
  "kernelspec": {
   "display_name": "Python [conda root]",
   "language": "python",
   "name": "conda-root-py"
  },
  "language_info": {
   "codemirror_mode": {
    "name": "ipython",
    "version": 3
   },
   "file_extension": ".py",
   "mimetype": "text/x-python",
   "name": "python",
   "nbconvert_exporter": "python",
   "pygments_lexer": "ipython3",
   "version": "3.5.2"
  },
  "widgets": {
   "state": {
    "18ae4e04319a47119749918dbd6e0363": {
     "views": [
      {
       "cell_index": 21
      }
     ]
    },
    "581aa80584144913990129a1aae84aa1": {
     "views": [
      {
       "cell_index": 24
      }
     ]
    },
    "ea5c73049f324adfad33d54127ce7b23": {
     "views": [
      {
       "cell_index": 6
      }
     ]
    }
   },
   "version": "1.2.0"
  }
 },
 "nbformat": 4,
 "nbformat_minor": 1
}
