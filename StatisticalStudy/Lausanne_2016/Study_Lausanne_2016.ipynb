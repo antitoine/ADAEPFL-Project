{
 "cells": [
  {
   "cell_type": "code",
   "execution_count": null,
   "metadata": {
    "collapsed": true
   },
   "outputs": [],
   "source": [
    "# Data analysis \n",
    "import pandas as pd\n",
    "import numpy as np\n",
    "import re\n",
    "import datetime\n",
    "import seaborn as sns\n",
    "import matplotlib.pyplot as plt\n",
    "%matplotlib inline\n",
    "from ipywidgets import FloatProgress\n",
    "import collections\n",
    "from IPython.display import display\n",
    "from datetime import date\n",
    "from dateutil.relativedelta import relativedelta\n",
    "from matplotlib.pyplot import show"
   ]
  },
  {
   "cell_type": "code",
   "execution_count": null,
   "metadata": {
    "collapsed": true
   },
   "outputs": [],
   "source": [
    "PATH_TO_DATA = '../../Scraping/DataSport/Data/Lausanne_Marathon_2016.pickle'\n",
    "FEMALE_CATEGORY_REGEX = '([WD])|(JunF)'\n",
    "MALE_CATEGORY_REGEX = '([H])|(JunG)'\n",
    "MARATHON_DISTANCE_REGEX = '42-'\n",
    "SEMI_MARATHON_DISTANCE_REGEX = '21-'\n",
    "QUARTER_MARATHON_DISTANCE_REGEX = '10-'"
   ]
  },
  {
   "cell_type": "code",
   "execution_count": null,
   "metadata": {
    "collapsed": false
   },
   "outputs": [],
   "source": [
    "def get_sex_of_runner(runner):\n",
    "    '''\n",
    "    Returns the sex of runner based on the category in which runner has done the marathon.\n",
    "    \n",
    "    Parameters\n",
    "        - runner: row representing the runner\n",
    "    \n",
    "    Return\n",
    "        - string ('female'/'male') or None if sex was not retrieved\n",
    "    '''\n",
    "    \n",
    "    # We ignore this specific category as it is not useful and as it can be misleading\n",
    "    if (runner['category'] == '10W-NW' or runner['category'] == '10W-Walk'):\n",
    "        return None\n",
    "    \n",
    "    if (re.search(FEMALE_CATEGORY_REGEX, runner['category']) != None):\n",
    "        return 'female'\n",
    "    elif (re.search(MALE_CATEGORY_REGEX, runner['category']) != None):\n",
    "        return 'male'\n",
    "    else:\n",
    "        return None\n",
    "\n",
    "\n",
    "def get_type_of_runner(runner):\n",
    "    '''\n",
    "    Returns the type of the runner.\n",
    "    \n",
    "    Parameters\n",
    "        - runner: row representing the runner\n",
    "        \n",
    "    Return\n",
    "        - string ('junior'/'adult')\n",
    "    '''\n",
    "    \n",
    "    if (runner['category'].find('Jun') != -1):\n",
    "        return 'junior'\n",
    "    else:\n",
    "        return 'adult'\n",
    "    \n",
    "def compute_distance_from_category (runner):\n",
    "    '''\n",
    "    Returns the category distance of the runner, based on category\n",
    "    \n",
    "    Parameters\n",
    "        - runner: row representing the runner\n",
    "        \n",
    "    Return\n",
    "        - distance of runner (int)\n",
    "    '''\n",
    "    if (re.search(MARATHON_DISTANCE_REGEX, runner['category']) != None):\n",
    "        return 42\n",
    "    elif (re.search(SEMI_MARATHON_DISTANCE_REGEX, runner['category']) != None):\n",
    "        return 21\n",
    "    elif (re.search(QUARTER_MARATHON_DISTANCE_REGEX, runner['category']) != None):\n",
    "        return 10\n",
    "    \n",
    "    return None\n",
    "\n",
    "def compute_age_of_runner(runner):\n",
    "    '''\n",
    "    Returns the age of runner, based on this year of birth.\n",
    "    \n",
    "    Parameters\n",
    "        - runner: row representing the runner\n",
    "        \n",
    "    Return\n",
    "        - age of runner (int)\n",
    "    '''\n",
    "    \n",
    "    today = date.today()\n",
    "    birth_year = runner['birthday']\n",
    "    return today.year - birth_year.year - ((today.month, today.day) < (birth_year.month, birth_year.day))\n",
    "\n",
    "def compute_run_in_Team(runner):\n",
    "    '''\n",
    "    Returns the age of runner, based on this year of birth.\n",
    "    \n",
    "    Parameters\n",
    "        - runner: row representing the runner\n",
    "        \n",
    "    Return\n",
    "        - age of runner (int)\n",
    "    '''\n",
    "    \n",
    "    if pd.isnull(runner['team']):\n",
    "        return 'Individual runners'\n",
    "    else:\n",
    "        return 'Runners in teams'\n",
    "\n",
    "def format_time(runner):\n",
    "    time = runner['time']\n",
    "    formatted_time = time.time()\n",
    "    if time:\n",
    "        return datetime.timedelta(hours=formatted_time.hour, minutes=formatted_time.minute, seconds=formatted_time.second).total_seconds()\n",
    "    \n",
    "\n",
    "def convert_seconds_to_time(seconds):\n",
    "    m, s = divmod(seconds, 60)\n",
    "    h, m = divmod(m, 60)\n",
    "    return \"%d:%02d:%02d\" % (h, m, s)"
   ]
  },
  {
   "cell_type": "markdown",
   "metadata": {},
   "source": [
    "# Data wrangling"
   ]
  },
  {
   "cell_type": "code",
   "execution_count": null,
   "metadata": {
    "collapsed": false
   },
   "outputs": [],
   "source": [
    "lausanne_marathon_2016 = pd.read_pickle(PATH_TO_DATA)\n",
    "lausanne_marathon_2016.head()"
   ]
  },
  {
   "cell_type": "code",
   "execution_count": null,
   "metadata": {
    "collapsed": false
   },
   "outputs": [],
   "source": [
    "lausanne_marathon_2016['sex'] = lausanne_marathon_2016.apply(get_sex_of_runner, axis=1)"
   ]
  },
  {
   "cell_type": "code",
   "execution_count": null,
   "metadata": {
    "collapsed": false
   },
   "outputs": [],
   "source": [
    "lausanne_marathon_2016['sex'].value_counts(dropna=False)"
   ]
  },
  {
   "cell_type": "markdown",
   "metadata": {},
   "source": [
    "Note: Here, we remove people that are part of *Pink_Ch*, *10W-Walk* or *10W-NW* categories as these categories do not belong to Lausanne Marathon, and as their name can be misleading with sex attribution. For more information about these categories, check <a href=\"http://fr.lausanne-marathon.com/info-course/horaires/\">Lausanne Marathon's official website</a>."
   ]
  },
  {
   "cell_type": "code",
   "execution_count": null,
   "metadata": {
    "collapsed": false
   },
   "outputs": [],
   "source": [
    "lausanne_marathon_2016_cleaned = lausanne_marathon_2016[lausanne_marathon_2016['sex'].notnull()].copy()"
   ]
  },
  {
   "cell_type": "code",
   "execution_count": null,
   "metadata": {
    "collapsed": false
   },
   "outputs": [],
   "source": [
    "len(lausanne_marathon_2016_cleaned)"
   ]
  },
  {
   "cell_type": "markdown",
   "metadata": {},
   "source": [
    "We have a total of 12060 runners on whom we can run our analysis for Lausanne Marathon 2016."
   ]
  },
  {
   "cell_type": "markdown",
   "metadata": {},
   "source": [
    "We also transform the *rang* column as an integer."
   ]
  },
  {
   "cell_type": "code",
   "execution_count": null,
   "metadata": {
    "collapsed": true
   },
   "outputs": [],
   "source": [
    "lausanne_marathon_2016_cleaned['type'] = lausanne_marathon_2016_cleaned.apply(get_type_of_runner, axis=1)"
   ]
  },
  {
   "cell_type": "code",
   "execution_count": null,
   "metadata": {
    "collapsed": false,
    "scrolled": true
   },
   "outputs": [],
   "source": [
    "lausanne_marathon_2016_cleaned['rank'] = lausanne_marathon_2016_cleaned['rank'].apply(lambda x : int(float(x)))\n",
    "lausanne_marathon_2016_cleaned.head()"
   ]
  },
  {
   "cell_type": "code",
   "execution_count": null,
   "metadata": {
    "collapsed": true
   },
   "outputs": [],
   "source": [
    "lausanne_marathon_2016_cleaned['age'] = lausanne_marathon_2016_cleaned.apply(compute_age_of_runner, axis=1)\n",
    "lausanne_marathon_2016_cleaned['age'] = lausanne_marathon_2016_cleaned['age'].apply(lambda x : int(float(x)))"
   ]
  },
  {
   "cell_type": "code",
   "execution_count": null,
   "metadata": {
    "collapsed": false
   },
   "outputs": [],
   "source": [
    "lausanne_marathon_2016_cleaned['time'] = lausanne_marathon_2016_cleaned.apply(format_time, axis=1)"
   ]
  },
  {
   "cell_type": "markdown",
   "metadata": {
    "collapsed": true
   },
   "source": [
    "# Statistical study"
   ]
  },
  {
   "cell_type": "markdown",
   "metadata": {},
   "source": [
    "## Overall study"
   ]
  },
  {
   "cell_type": "code",
   "execution_count": null,
   "metadata": {
    "collapsed": false
   },
   "outputs": [],
   "source": [
    "plot = sns.countplot(data=lausanne_marathon_2016_cleaned, x='sex')\n",
    "total = len(lausanne_marathon_2016_cleaned)\n",
    "for p in plot.patches:\n",
    "        plot.annotate('%{:.1f}'.format(p.get_height()*100/total), (p.get_x()+0.1, p.get_height()+50))"
   ]
  },
  {
   "cell_type": "markdown",
   "metadata": {},
   "source": [
    "The Lausanne marathon race had a significantly higher percentage of male runners than female ones."
   ]
  },
  {
   "cell_type": "code",
   "execution_count": null,
   "metadata": {
    "collapsed": false,
    "scrolled": false
   },
   "outputs": [],
   "source": [
    "plot = sns.countplot(data=lausanne_marathon_2016_cleaned, x='type')\n",
    "total = len(lausanne_marathon_2016_cleaned)\n",
    "for p in plot.patches:\n",
    "        plot.annotate('%{:.1f}'.format(p.get_height()*100/total), (p.get_x()+0.1, p.get_height()+50))"
   ]
  },
  {
   "cell_type": "markdown",
   "metadata": {},
   "source": [
    "Not surprinsingly, very minor part of runners were young during the Lausanne Marathon of 2016."
   ]
  },
  {
   "cell_type": "markdown",
   "metadata": {},
   "source": [
    "An interesting fact is that we have a non-negligible part of runners who were in team."
   ]
  },
  {
   "cell_type": "markdown",
   "metadata": {},
   "source": [
    "## Demographic study"
   ]
  },
  {
   "cell_type": "markdown",
   "metadata": {},
   "source": [
    "In this part, we plan to focus on age of runners, but also the place from which they come."
   ]
  },
  {
   "cell_type": "markdown",
   "metadata": {},
   "source": [
    "We first display the age distribution of runners in the marathon 2016 of Lausanne."
   ]
  },
  {
   "cell_type": "code",
   "execution_count": null,
   "metadata": {
    "collapsed": false,
    "scrolled": false
   },
   "outputs": [],
   "source": [
    "fig, ax = plt.subplots()\n",
    "fig.set_size_inches(10,5)\n",
    "ax.hist(lausanne_marathon_2016_cleaned['age'], bins=30)\n",
    "\n",
    "# Compute the mean of age selected by gender.\n",
    "mean_age_M = np.mean(lausanne_marathon_2016_cleaned['age'][lausanne_marathon_2016_cleaned['sex'] == 'male'])\n",
    "mean_age_W = np.mean(lausanne_marathon_2016_cleaned['age'][lausanne_marathon_2016_cleaned['sex'] == 'female'])\n",
    "mean_age_all = np.mean(lausanne_marathon_2016_cleaned['age'])\n",
    "\n",
    "# display the median and titles.\n",
    "ax.axvline(mean_age_all, 0, 1750, color='r', linestyle='--')\n",
    "ax.set_title('Age Distribution of Runners')\n",
    "ax.set_xlabel('Age')\n",
    "ax.set_ylabel('Number of Runners')\n",
    "\n",
    "#Calculate age distribution statistics by gender:\n",
    "age_stats = 'Mean Age: ' + str(round(mean_age_all, 2)) + '\\n' + 'SD: ' + str(round(np.std(lausanne_marathon_2016_cleaned['age']), 2)) \n",
    "age_statsf = 'Mean Age (Female): ' + str(round(mean_age_M, 2)) + '\\n' + 'SD: ' + str(round(np.std(lausanne_marathon_2016_cleaned['age'][lausanne_marathon_2016_cleaned['sex'] == 'female']), 2))                                                                       \n",
    "age_statsm = 'Mean Age (Male): ' + str(round(mean_age_W, 2)) + '\\n' + 'SD: ' + str(round(np.std(lausanne_marathon_2016_cleaned['age'][lausanne_marathon_2016_cleaned['sex'] == 'male']), 2))\n",
    "age_stats = age_stats + '\\n' + age_statsf + '\\n' + age_statsm\n",
    "\n",
    "# add legend text.\n",
    "ax.text(.95, .95, age_stats, fontsize=11, transform=ax.transAxes, va='top', ha='right', bbox=props, multialignment='left')"
   ]
  },
  {
   "cell_type": "markdown",
   "metadata": {},
   "source": [
    "## Performance according to age of participants"
   ]
  },
  {
   "cell_type": "code",
   "execution_count": null,
   "metadata": {
    "collapsed": false,
    "scrolled": false
   },
   "outputs": [],
   "source": [
    "ax = sns.factorplot(data=lausanne_marathon_2016_cleaned, x='age', y='time', kind='box', size=10, aspect=1.5)\n",
    "formatted_labels = [convert_seconds_to_time(seconds) for seconds in lausanne_marathon_2016_cleaned['time']]\n",
    "ax.set_yticklabels(formatted_labels)\n",
    "ax.fig.suptitle('Distibution time by age')"
   ]
  },
  {
   "cell_type": "markdown",
   "metadata": {},
   "source": [
    "## Category study"
   ]
  },
  {
   "cell_type": "code",
   "execution_count": null,
   "metadata": {
    "collapsed": false
   },
   "outputs": [],
   "source": [
    "lausanne_marathon_2016_cleaned['distance (Km)'] = lausanne_marathon_2016_cleaned.apply(compute_distance_from_category, axis=1)"
   ]
  },
  {
   "cell_type": "markdown",
   "metadata": {},
   "source": [
    "Now that we have the distance of each runners, we need to compute the speed by kilometer for each runners."
   ]
  },
  {
   "cell_type": "code",
   "execution_count": null,
   "metadata": {
    "collapsed": false
   },
   "outputs": [],
   "source": [
    "lausanne_marathon_2016_cleaned['Speed by kilometer (m/s)'] = lausanne_marathon_2016_cleaned['distance (Km)']*1000/lausanne_marathon_2016_cleaned['time']"
   ]
  },
  {
   "cell_type": "code",
   "execution_count": null,
   "metadata": {
    "collapsed": false
   },
   "outputs": [],
   "source": [
    "ax = sns.factorplot(data=lausanne_marathon_2016_cleaned, x='distance (Km)', y='Speed by kilometer (m/s)', kind='box', size=5, aspect=1.5)\n",
    "ax.fig.suptitle('Distibution speed by kilometer')"
   ]
  },
  {
   "cell_type": "markdown",
   "metadata": {},
   "source": [
    "As we can expect the fastest runners have made the 10 K, as the distance is shorter the speed by kilometer can be greater.\n",
    "But unexpectedly the average speed seems very close between runners despite the difference of the distance, in order to understand this phenomenon we need to go further in the study and study the past of runners."
   ]
  },
  {
   "cell_type": "code",
   "execution_count": null,
   "metadata": {
    "collapsed": false,
    "scrolled": true
   },
   "outputs": [],
   "source": [
    "g = sns.factorplot(data=lausanne_marathon_2016_cleaned, x='sex', y='Speed by kilometer (m/s)', col = 'distance (Km)',size=5, kind='box')"
   ]
  },
  {
   "cell_type": "code",
   "execution_count": null,
   "metadata": {
    "collapsed": true
   },
   "outputs": [],
   "source": [
    "lausanne_marathon_2016_cleaned['type_team'] = lausanne_marathon_2016_cleaned.apply(compute_run_in_Team, axis=1)"
   ]
  },
  {
   "cell_type": "code",
   "execution_count": null,
   "metadata": {
    "collapsed": false
   },
   "outputs": [],
   "source": [
    "plot = sns.countplot(x='type_team', hue='distance (Km)', data=lausanne_marathon_2016_cleaned)\n",
    "plt.title('Distibution indivudal/team runners for the lausanne race 2016')\n",
    "plot.set_xlabel('')\n",
    "plot.set_ylabel('Number of Runners')\n",
    "\n",
    "# displaying the percentage per each race.\n",
    "total_10 = len(lausanne_marathon_2016_cleaned[lausanne_marathon_2016_cleaned['distance (Km)'] == 10])\n",
    "total_21 = len(lausanne_marathon_2016_cleaned[lausanne_marathon_2016_cleaned['distance (Km)'] == 21])\n",
    "total_42 = len(lausanne_marathon_2016_cleaned[lausanne_marathon_2016_cleaned['distance (Km)'] == 42])\n",
    "totals = [total_10,total_21,total_42]\n",
    "race_type = 0\n",
    "index = 0\n",
    "\n",
    "# loop for displaying percentages\n",
    "for p in plot.patches:\n",
    "        if race_type == 2:\n",
    "            race_type = 0\n",
    "            index = index + 1\n",
    "        plot.annotate('%{:.1f}'.format(p.get_height()*100/totals[index]), (p.get_x()+0.1, p.get_height()+50))\n",
    "        race_type = race_type + 1"
   ]
  },
  {
   "cell_type": "markdown",
   "metadata": {},
   "source": [
    "The repartition individual/team seems quite equivalent between the different races offered by the event.\n",
    "The teams are more present in the 10K. The distance seems more appropriate for the teams, it's short enough to be a good challenge between beginner friends.\n",
    "\n",
    "Let's see if being in team a real impact on the performance"
   ]
  },
  {
   "cell_type": "code",
   "execution_count": null,
   "metadata": {
    "collapsed": false
   },
   "outputs": [],
   "source": [
    "g = sns.factorplot(data=lausanne_marathon_2016_cleaned, x='type_team', y='Speed by kilometer (m/s)', col = 'distance (Km)',size=5, kind='box')"
   ]
  },
  {
   "cell_type": "markdown",
   "metadata": {},
   "source": [
    "Actually the teams are better on average compared to individual runners, but the best performance comes from individual runners.\n",
    "From the graph above, we can notice for \"average\" people be in team seem to be a motivational factor, compared to excellent runners who prefer doing the race alone."
   ]
  }
 ],
 "metadata": {
  "anaconda-cloud": {},
  "kernelspec": {
   "display_name": "Python [conda root]",
   "language": "python",
   "name": "conda-root-py"
  },
  "language_info": {
   "codemirror_mode": {
    "name": "ipython",
    "version": 3
   },
   "file_extension": ".py",
   "mimetype": "text/x-python",
   "name": "python",
   "nbconvert_exporter": "python",
   "pygments_lexer": "ipython3",
   "version": "3.5.2"
  }
 },
 "nbformat": 4,
 "nbformat_minor": 1
}
