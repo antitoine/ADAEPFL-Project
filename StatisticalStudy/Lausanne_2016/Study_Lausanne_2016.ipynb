{
 "cells": [
  {
   "cell_type": "code",
   "execution_count": null,
   "metadata": {
    "collapsed": false
   },
   "outputs": [],
   "source": [
    "# Data analysis \n",
    "import pandas as pd\n",
    "import numpy as np\n",
    "import re\n",
    "import seaborn as sns\n",
    "import matplotlib.pyplot as plt\n",
    "%matplotlib inline\n",
    "import collections\n",
    "from matplotlib.pyplot import show\n",
    "\n",
    "\n",
    "# our code (mark it at autoreload at every cell execution - useful in developement mode)\n",
    "%load_ext autoreload\n",
    "%autoreload 1\n",
    "%aimport utils"
   ]
  },
  {
   "cell_type": "code",
   "execution_count": null,
   "metadata": {
    "collapsed": true
   },
   "outputs": [],
   "source": [
    "PATH_TO_DATA = '../../Scraping/DataSport/Data/Lausanne_Marathon_2016.pickle'\n",
    "\n",
    "# Information about Canton of Vaud can be found on official government website\n",
    "# https://www.bfs.admin.ch/bfs/fr/home/statistiques/population.assetdetail.1500543.html.\n",
    "TOTAL_RESIDENT_VAUD = 778365\n",
    "TOTAL_RESIDENT_MALE = 381864\n",
    "TOTAL_RESIDENT_FEMALE = 396501"
   ]
  },
  {
   "cell_type": "markdown",
   "metadata": {},
   "source": [
    "# Data wrangling"
   ]
  },
  {
   "cell_type": "markdown",
   "metadata": {},
   "source": [
    "In this first part, we retrieve data of Lausanne Marathon 2016 and we manipulate the different columns in order to exploit them during the analysis part."
   ]
  },
  {
   "cell_type": "markdown",
   "metadata": {},
   "source": [
    "First, we use the pickle format to allow faster import of the data, and correct formatting of some columns as date columns.\n",
    "\n",
    "Note: Same data are also available in CSV (readable format)."
   ]
  },
  {
   "cell_type": "code",
   "execution_count": null,
   "metadata": {
    "collapsed": false,
    "scrolled": true
   },
   "outputs": [],
   "source": [
    "lausanne_marathon_2016 = pd.read_pickle(PATH_TO_DATA)\n",
    "lausanne_marathon_2016.head()"
   ]
  },
  {
   "cell_type": "markdown",
   "metadata": {},
   "source": [
    "Some participants are part of categories which must be excluded as these categories are not representative or can be misleading for the analysis part."
   ]
  },
  {
   "cell_type": "code",
   "execution_count": null,
   "metadata": {
    "collapsed": false
   },
   "outputs": [],
   "source": [
    "lausanne_marathon_2016_cleaned = lausanne_marathon_2016[lausanne_marathon_2016.apply(utils.filter_participants, axis=1)].copy()"
   ]
  },
  {
   "cell_type": "markdown",
   "metadata": {},
   "source": [
    "Here, we know the categories of the runners and these categories contains sex information about the participants (for a given type of running, we have two subcategories for male and female runners, as usual in such sports). Thus, we use this information to create a new column giving the sex of each participants."
   ]
  },
  {
   "cell_type": "code",
   "execution_count": null,
   "metadata": {
    "collapsed": false
   },
   "outputs": [],
   "source": [
    "lausanne_marathon_2016_cleaned['sex'] = lausanne_marathon_2016_cleaned.apply(utils.get_sex_of_runner, axis=1)"
   ]
  },
  {
   "cell_type": "code",
   "execution_count": null,
   "metadata": {
    "collapsed": false
   },
   "outputs": [],
   "source": [
    "lausanne_marathon_2016_cleaned['sex'].value_counts(dropna=False)"
   ]
  },
  {
   "cell_type": "code",
   "execution_count": null,
   "metadata": {
    "collapsed": false
   },
   "outputs": [],
   "source": [
    "len(lausanne_marathon_2016_cleaned)"
   ]
  },
  {
   "cell_type": "markdown",
   "metadata": {},
   "source": [
    "At the end of this stage, we have a total of 11248 runners on whom we can run our analysis for Lausanne Marathon 2016."
   ]
  },
  {
   "cell_type": "markdown",
   "metadata": {},
   "source": [
    "We also extract from the category the fact that a runner is either junior or adult."
   ]
  },
  {
   "cell_type": "code",
   "execution_count": null,
   "metadata": {
    "collapsed": false
   },
   "outputs": [],
   "source": [
    "lausanne_marathon_2016_cleaned['type'] = lausanne_marathon_2016_cleaned.apply(utils.get_type_of_runner, axis=1)"
   ]
  },
  {
   "cell_type": "markdown",
   "metadata": {},
   "source": [
    "We also transform the *number* and *rank* columns, as they contain integer."
   ]
  },
  {
   "cell_type": "code",
   "execution_count": null,
   "metadata": {
    "collapsed": true
   },
   "outputs": [],
   "source": [
    "lausanne_marathon_2016_cleaned['number'] = lausanne_marathon_2016_cleaned['number'].apply(lambda x : int(float(x)))"
   ]
  },
  {
   "cell_type": "code",
   "execution_count": null,
   "metadata": {
    "collapsed": false,
    "scrolled": true
   },
   "outputs": [],
   "source": [
    "lausanne_marathon_2016_cleaned['rank'] = lausanne_marathon_2016_cleaned['rank'].apply(lambda x : int(float(x)))"
   ]
  },
  {
   "cell_type": "code",
   "execution_count": null,
   "metadata": {
    "collapsed": false
   },
   "outputs": [],
   "source": [
    "lausanne_marathon_2016_cleaned.head()"
   ]
  },
  {
   "cell_type": "markdown",
   "metadata": {},
   "source": [
    "We also compute the age of runner based on the birthyear, to easily manipulate such information later."
   ]
  },
  {
   "cell_type": "code",
   "execution_count": null,
   "metadata": {
    "collapsed": false
   },
   "outputs": [],
   "source": [
    "lausanne_marathon_2016_cleaned['age'] = lausanne_marathon_2016_cleaned.apply(utils.compute_age_of_runner, axis=1)\n",
    "lausanne_marathon_2016_cleaned['age'] = lausanne_marathon_2016_cleaned['age'].apply(lambda x : int(float(x)))"
   ]
  },
  {
   "cell_type": "code",
   "execution_count": null,
   "metadata": {
    "collapsed": true
   },
   "outputs": [],
   "source": [
    "lausanne_marathon_2016_cleaned['age category'] = pd.cut(lausanne_marathon_2016_cleaned['age'], [15, 26, 31, 36, 41, 46, 51, 56, 61, 66, 100], labels=['15-25 years', '26-30 years', '31-35 years', '36-40 years', '41-45 years', '46-50 years', '51-55 years', '56-60 years', '61-65 years', '65+ years'], right=False)"
   ]
  },
  {
   "cell_type": "markdown",
   "metadata": {},
   "source": [
    "If the time is in readable-format, it is difficult to use it this way for analysis as comparison can be misleading. For this reason, we decide to store time in raw format (i.e. number of seconds, without any format)."
   ]
  },
  {
   "cell_type": "code",
   "execution_count": null,
   "metadata": {
    "collapsed": false
   },
   "outputs": [],
   "source": [
    "lausanne_marathon_2016_cleaned['time'] = lausanne_marathon_2016_cleaned.apply(utils.format_time, axis=1)"
   ]
  },
  {
   "cell_type": "markdown",
   "metadata": {},
   "source": [
    "Finally, we store the type of running the participants did, in order to make three distinct sets of data (10 km, semi-marathon and marathon)."
   ]
  },
  {
   "cell_type": "code",
   "execution_count": null,
   "metadata": {
    "collapsed": false
   },
   "outputs": [],
   "source": [
    "lausanne_marathon_2016_cleaned['distance (km)'] = lausanne_marathon_2016_cleaned.apply(utils.compute_distance_from_category, axis=1)"
   ]
  },
  {
   "cell_type": "code",
   "execution_count": null,
   "metadata": {
    "collapsed": false
   },
   "outputs": [],
   "source": [
    "lausanne_marathon_2016_10km = lausanne_marathon_2016_cleaned[lausanne_marathon_2016_cleaned['distance (km)'] == 10]\n",
    "lausanne_marathon_2016_21km = lausanne_marathon_2016_cleaned[lausanne_marathon_2016_cleaned['distance (km)'] == 21]\n",
    "lausanne_marathon_2016_42km = lausanne_marathon_2016_cleaned[lausanne_marathon_2016_cleaned['distance (km)'] == 42]"
   ]
  },
  {
   "cell_type": "markdown",
   "metadata": {
    "collapsed": true
   },
   "source": [
    "# Statistical study"
   ]
  },
  {
   "cell_type": "markdown",
   "metadata": {},
   "source": [
    "## Overall study"
   ]
  },
  {
   "cell_type": "code",
   "execution_count": null,
   "metadata": {
    "collapsed": false
   },
   "outputs": [],
   "source": [
    "# Building of DataFrame for ploting\n",
    "total_runners = len(lausanne_marathon_2016_cleaned)\n",
    "total_runners_male = len(lausanne_marathon_2016_cleaned[lausanne_marathon_2016_cleaned['sex'] == 'male'])\n",
    "total_runners_female = len(lausanne_marathon_2016_cleaned[lausanne_marathon_2016_cleaned['sex'] == 'female'])\n",
    "vaud_information_population = pd.Series({ 'male': TOTAL_RESIDENT_MALE/TOTAL_RESIDENT_VAUD * 100, 'female': TOTAL_RESIDENT_FEMALE/TOTAL_RESIDENT_VAUD * 100 }) \n",
    "marathon_information_runner = pd.Series({ 'male': total_runners_male/total_runners * 100, 'female': total_runners_female/total_runners * 100 }) \n",
    "information_population = pd.DataFrame({ 'Canton of Vaud': vaud_information_population, 'Lausanne Marathon': marathon_information_runner })\n",
    "information_population.sort_index(axis=0, level=None, ascending=False, inplace=True)\n",
    "\n",
    "# Displaying data\n",
    "plot = information_population.plot.bar(figsize=(10,6), rot=0)\n",
    "plot.set_title('Gender distribution Lausanne Marathon vs Canton of Vaud')   \n",
    "plot.set_ylabel('Percentage (%)')\n",
    "plot.set_xlabel('Gender')\n",
    "\n",
    "# Add of annotations\n",
    "annotations = [\n",
    "                str(TOTAL_RESIDENT_MALE) + '\\nresidents',\n",
    "                str(TOTAL_RESIDENT_FEMALE)+ '\\nresidents',\n",
    "                str(total_runners_male) + ' runners',\n",
    "                str(total_runners_female) + ' runners'\n",
    "             ]\n",
    "index = 0\n",
    "for p in plot.patches:\n",
    "    x_position = p.get_x()\n",
    "    if index > 1 :\n",
    "        x_position = x_position + 0.012\n",
    "    plot.annotate(annotations[index], (x_position * 1.005, p.get_height() * 1.005))\n",
    "    index = index + 1\n",
    "\n",
    "plot.legend(loc='upper left')\n",
    "\n",
    "# Add of box information on total runners/residents\n",
    "# Create string for displaying important information\n",
    "total_runners_str = 'Total residents: ' + str(TOTAL_RESIDENT_VAUD)\n",
    "total_residents_str = 'Total runners: ' + str(total_runners)\n",
    "stats = total_runners_str + ' \\n' + total_residents_str \n",
    "\n",
    "# Add of information in the graph\n",
    "props = dict(boxstyle='round', facecolor='wheat', alpha=0.5)\n",
    "plot.text(.95, .95, stats, fontsize=12, transform=plot.transAxes, va='top', ha='right', bbox=props, multialignment='left')"
   ]
  },
  {
   "cell_type": "markdown",
   "metadata": {},
   "source": [
    "As we can see, Lausanne Marathon race had a significantly higher percentage of male runners than female ones comparing to gender distribution of Canton of Vaud, which is equal regarding male and female."
   ]
  },
  {
   "cell_type": "code",
   "execution_count": null,
   "metadata": {
    "collapsed": false,
    "scrolled": false
   },
   "outputs": [],
   "source": [
    "# Building of DataFrame for ploting\n",
    "total_runners_10 = len(lausanne_marathon_2016_10km)\n",
    "total_runners_21 = len(lausanne_marathon_2016_21km)\n",
    "total_runners_42 = len(lausanne_marathon_2016_42km)\n",
    "\n",
    "race_information_10 = pd.Series({ \n",
    "                                    'male': len(lausanne_marathon_2016_10km[lausanne_marathon_2016_10km['sex'] == 'male']) ,\n",
    "                                    'female': len(lausanne_marathon_2016_10km[lausanne_marathon_2016_10km['sex'] == 'female'])\n",
    "                                }) \n",
    "\n",
    "race_information_21 = pd.Series({ \n",
    "                                    'male': len(lausanne_marathon_2016_21km[lausanne_marathon_2016_21km['sex'] == 'male']) ,\n",
    "                                    'female': len(lausanne_marathon_2016_21km[lausanne_marathon_2016_21km['sex'] == 'female'])\n",
    "                                })\n",
    "\n",
    "race_information_42 = pd.Series({ \n",
    "                                    'male': len(lausanne_marathon_2016_42km[lausanne_marathon_2016_42km['sex'] == 'male']) ,\n",
    "                                    'female': len(lausanne_marathon_2016_42km[lausanne_marathon_2016_42km['sex'] == 'female'])\n",
    "                                })\n",
    "\n",
    "\n",
    "information_gender_race = pd.DataFrame({\n",
    "                                       'Marathon': race_information_42,\n",
    "                                       'Semi-marathon': race_information_21,\n",
    "                                       '10 km': race_information_10\n",
    "                                      })\n",
    "\n",
    "information_gender_race = information_gender_race[['Marathon', 'Semi-marathon', '10 km']]\n",
    "\n",
    "# Displaying of data\n",
    "plot = information_gender_race.plot.bar(figsize=(10, 6), rot=0)\n",
    "plot.set_title('Gender distribution by distance')\n",
    "plot.set_ylabel('Number of runners')\n",
    "plot.set_xlabel('Gender')\n",
    "\n",
    "# Displaying of the percentage for each race\n",
    "totals = [total_runners_42, total_runners_21, total_runners_10]\n",
    "race_distance = 0\n",
    "index = 0\n",
    "\n",
    "# Loop (displaying percentages)\n",
    "for p in plot.patches:\n",
    "    \n",
    "        if race_distance == 2:\n",
    "            race_distance = 0\n",
    "            index = index + 1\n",
    "            \n",
    "        plot.annotate('{:.1f}%'.format(p.get_height()*100/totals[index]), (p.get_x(), p.get_height() + 10))\n",
    "        race_distance = race_distance + 1\n",
    "    \n",
    "plot.legend(loc='upper left')\n",
    "\n",
    "# Add of box information on total runners/residents\n",
    "# Creation of string for displaying important informations\n",
    "total_marathon = 'Marathon: ' + str(total_runners_42) + ' runners'\n",
    "total_semi_marathon = 'Semi-marathon: ' + str(total_runners_21) + ' runners'\n",
    "total_10 = '10 km: ' + str(total_runners_10) + ' runners'\n",
    "stats = total_marathon + ' \\n' + total_semi_marathon + ' \\n' + total_10\n",
    "\n",
    "# Add of information in the graph\n",
    "props = dict(boxstyle='round', facecolor='wheat', alpha=0.5)\n",
    "plot.text(.95, .95, stats, fontsize=12, transform=plot.transAxes, va='top', ha='left', bbox=props, multialignment='left')"
   ]
  },
  {
   "cell_type": "code",
   "execution_count": null,
   "metadata": {
    "collapsed": false,
    "scrolled": false
   },
   "outputs": [],
   "source": [
    "plot = sns.countplot(data=lausanne_marathon_2016_cleaned, x='type')\n",
    "plot.figure.set_size_inches(10,6)\n",
    "total = len(lausanne_marathon_2016_cleaned)\n",
    "\n",
    "for p in plot.patches:\n",
    "        plot.annotate('{:.1f}%'.format(p.get_height()*100/total), (p.get_x()+0.35, p.get_height()+50))\n",
    "\n",
    "# add legends\n",
    "plot.set_xlabel('')\n",
    "plot.set_ylabel('Number of runners')\n",
    "plot.set_title('Distribution of runners (types)')"
   ]
  },
  {
   "cell_type": "markdown",
   "metadata": {},
   "source": [
    "Not surprinsingly, very minor part of runners were young runners in Lausanne Marathon of 2016."
   ]
  },
  {
   "cell_type": "markdown",
   "metadata": {},
   "source": [
    "An interesting fact is that we have a non-negligible part of runners who were in team."
   ]
  },
  {
   "cell_type": "markdown",
   "metadata": {},
   "source": [
    "## Demographic study"
   ]
  },
  {
   "cell_type": "markdown",
   "metadata": {},
   "source": [
    "In this part, we plan to focus on age of runners, but also the place from which they come."
   ]
  },
  {
   "cell_type": "markdown",
   "metadata": {},
   "source": [
    "We first display the age distribution of runners in the marathon 2016 of Lausanne."
   ]
  },
  {
   "cell_type": "code",
   "execution_count": null,
   "metadata": {
    "collapsed": false,
    "scrolled": false
   },
   "outputs": [],
   "source": [
    "fig, ax = plt.subplots()\n",
    "fig.set_size_inches(10,6)\n",
    "ax.hist(lausanne_marathon_2016_cleaned['age'], bins=30)\n",
    "\n",
    "# Computing of the mean of age selected by gender\n",
    "mean_age_M = np.mean(lausanne_marathon_2016_cleaned['age'][lausanne_marathon_2016_cleaned['sex'] == 'male'])\n",
    "mean_age_W = np.mean(lausanne_marathon_2016_cleaned['age'][lausanne_marathon_2016_cleaned['sex'] == 'female'])\n",
    "mean_age_all = np.mean(lausanne_marathon_2016_cleaned['age'])\n",
    "\n",
    "# Display of the median and titles\n",
    "ax.axvline(mean_age_all, 0, 1750, color='r', linestyle='--')\n",
    "ax.set_title('Age Distribution of Runners')\n",
    "ax.set_xlabel('Age')\n",
    "ax.set_ylabel('Number of runners')\n",
    "\n",
    "# Calculation of age distribution statistics by gender\n",
    "age_stats = 'Mean Age: ' + str(round(mean_age_all, 2)) + ' years\\n' + 'SD: ' + str(round(np.std(lausanne_marathon_2016_cleaned['age']), 2)) \n",
    "age_statsf = 'Mean Age (Female): ' + str(round(mean_age_M, 2)) + ' years\\n' + 'SD: ' + str(round(np.std(lausanne_marathon_2016_cleaned['age'][lausanne_marathon_2016_cleaned['sex'] == 'female']), 2))                                                                       \n",
    "age_statsm = 'Mean Age (Male): ' + str(round(mean_age_W, 2)) + ' years\\n' + 'SD: ' + str(round(np.std(lausanne_marathon_2016_cleaned['age'][lausanne_marathon_2016_cleaned['sex'] == 'male']), 2))\n",
    "age_stats = age_stats + '\\n' + age_statsf + '\\n' + age_statsm\n",
    "\n",
    "# Add of legend text\n",
    "props = dict(boxstyle='round', facecolor='wheat', alpha=0.5)\n",
    "ax.text(.95, .95, age_stats, fontsize=11, transform=ax.transAxes, va='top', ha='right', bbox=props, multialignment='left')"
   ]
  },
  {
   "cell_type": "code",
   "execution_count": null,
   "metadata": {
    "collapsed": false
   },
   "outputs": [],
   "source": [
    "fig = plt.figure()\n",
    "fig.tight_layout\n",
    "fig.set_size_inches(10, 10)\n",
    "fig.suptitle('Age Distribution of Runners selected by distance', fontsize=12)\n",
    "utils.plot_distribution_age_distance(fig, lausanne_marathon_2016_10km, '10KM', 311)\n",
    "utils.plot_distribution_age_distance(fig, lausanne_marathon_2016_21km, '21KM', 312)\n",
    "utils.plot_distribution_age_distance(fig, lausanne_marathon_2016_42km, '42KM', 313)"
   ]
  },
  {
   "cell_type": "markdown",
   "metadata": {},
   "source": [
    "## Performance according to age of participants"
   ]
  },
  {
   "cell_type": "markdown",
   "metadata": {},
   "source": [
    "### Overall analysis"
   ]
  },
  {
   "cell_type": "code",
   "execution_count": null,
   "metadata": {
    "collapsed": false,
    "scrolled": false
   },
   "outputs": [],
   "source": [
    "utils.plot_time_distribution_by_age(lausanne_marathon_2016_cleaned, 'age category')"
   ]
  },
  {
   "cell_type": "markdown",
   "metadata": {},
   "source": [
    "### Performance for 10 km running"
   ]
  },
  {
   "cell_type": "code",
   "execution_count": null,
   "metadata": {
    "collapsed": false
   },
   "outputs": [],
   "source": [
    "utils.plot_performance_according_to_running_type(lausanne_marathon_2016_10km, 10, 'age', size=10, aspect=1.5)"
   ]
  },
  {
   "cell_type": "code",
   "execution_count": null,
   "metadata": {
    "collapsed": false
   },
   "outputs": [],
   "source": [
    "utils.plot_performance_according_to_running_type(lausanne_marathon_2016_10km, 10, 'age category')"
   ]
  },
  {
   "cell_type": "markdown",
   "metadata": {},
   "source": [
    "### Performance for demi-marathon"
   ]
  },
  {
   "cell_type": "code",
   "execution_count": null,
   "metadata": {
    "collapsed": false
   },
   "outputs": [],
   "source": [
    "utils.plot_performance_according_to_running_type(lausanne_marathon_2016_21km, 21, 'age', size=10, aspect=1.5)"
   ]
  },
  {
   "cell_type": "code",
   "execution_count": null,
   "metadata": {
    "collapsed": false
   },
   "outputs": [],
   "source": [
    "utils.plot_performance_according_to_running_type(lausanne_marathon_2016_21km, 21, 'age category')"
   ]
  },
  {
   "cell_type": "markdown",
   "metadata": {},
   "source": [
    "### Performance for marathon"
   ]
  },
  {
   "cell_type": "code",
   "execution_count": null,
   "metadata": {
    "collapsed": false
   },
   "outputs": [],
   "source": [
    "utils.plot_performance_according_to_running_type(lausanne_marathon_2016_42km, 42, 'age', size=10, aspect=1.5)"
   ]
  },
  {
   "cell_type": "code",
   "execution_count": null,
   "metadata": {
    "collapsed": false
   },
   "outputs": [],
   "source": [
    "utils.plot_performance_according_to_running_type(lausanne_marathon_2016_42km, 42, 'age category')"
   ]
  },
  {
   "cell_type": "markdown",
   "metadata": {},
   "source": [
    "### Statistical tests"
   ]
  },
  {
   "cell_type": "code",
   "execution_count": null,
   "metadata": {
    "collapsed": false
   },
   "outputs": [],
   "source": [
    "results_10km = utils.compute_anova_and_tukey_hsd(lausanne_marathon_2016_10km, 'age category', 'time')\n",
    "print('F value: ' + str(results_10km['f_value']) + '\\nP value: ' + str(results_10km['p_value']) + '\\n')\n",
    "results_10km['tukey_hsd'].rename(columns=lambda x: x.strip(), inplace=True)\n",
    "results_10km['tukey_hsd'].set_index(['group1', 'group2'])"
   ]
  },
  {
   "cell_type": "code",
   "execution_count": null,
   "metadata": {
    "collapsed": false
   },
   "outputs": [],
   "source": [
    "results_21km = utils.compute_anova_and_tukey_hsd(lausanne_marathon_2016_21km, 'age category', 'time')\n",
    "print('F value: ' + str(results_21km['f_value']) + '\\nP value: ' + str(results_21km['p_value']) + '\\n')\n",
    "results_21km['tukey_hsd'].rename(columns=lambda x: x.strip(), inplace=True)\n",
    "results_21km['tukey_hsd'].set_index(['group1', 'group2'])"
   ]
  },
  {
   "cell_type": "code",
   "execution_count": null,
   "metadata": {
    "collapsed": false
   },
   "outputs": [],
   "source": [
    "results_42km = utils.compute_anova_and_tukey_hsd(lausanne_marathon_2016_42km, 'age category', 'time')\n",
    "print('F value: ' + str(results_42km['f_value']) + '\\nP value: ' + str(results_42km['p_value']) + '\\n')\n",
    "results_42km['tukey_hsd'].rename(columns=lambda x: x.strip(), inplace=True)\n",
    "results_42km['tukey_hsd'].set_index(['group1', 'group2'])"
   ]
  },
  {
   "cell_type": "markdown",
   "metadata": {},
   "source": [
    "## Effective performance according to BIB number"
   ]
  },
  {
   "cell_type": "code",
   "execution_count": null,
   "metadata": {
    "collapsed": false
   },
   "outputs": [],
   "source": [
    "ax = lausanne_marathon_2016_cleaned.plot(kind='scatter', x='number', y='time', xlim=(-1000, 18000));\n",
    "formatted_labels = [utils.convert_seconds_to_time(seconds) for seconds in lausanne_marathon_2016_cleaned['time']]\n",
    "ax.set_yticklabels(formatted_labels)\n",
    "plt.title('Running time according to BIB number of participants')\n",
    "plt.show()"
   ]
  },
  {
   "cell_type": "markdown",
   "metadata": {},
   "source": [
    "We can recognize three major patterns following the BIB number of participants. Indeed, the higher the BIB number is, the lower the performance time is, globally.\n",
    "\n",
    "Notice that BIB numbers are given by the organizators of Lausanne Marathon, and as we can read on <a href=\"http://fr.lausanne-marathon.com/inscription/inscriptions/inscription-online/\">the official website</a>, each participant is asked to indicate his \"estimated time of running for the attribution of start blocks\", in oder to categorize the runners accordingly."
   ]
  },
  {
   "cell_type": "markdown",
   "metadata": {},
   "source": [
    "## Category study"
   ]
  },
  {
   "cell_type": "markdown",
   "metadata": {},
   "source": [
    "Now that we have the distance of each runners, we need to compute the speed by kilometer for each runners."
   ]
  },
  {
   "cell_type": "code",
   "execution_count": null,
   "metadata": {
    "collapsed": false
   },
   "outputs": [],
   "source": [
    "lausanne_marathon_2016_cleaned['Speed (m/s)'] = lausanne_marathon_2016_cleaned['distance (km)']*1000/lausanne_marathon_2016_cleaned['time']\n",
    "lausanne_marathon_2016_cleaned['type_team'] = lausanne_marathon_2016_cleaned.apply(utils.compute_run_in_team, axis=1)"
   ]
  },
  {
   "cell_type": "code",
   "execution_count": null,
   "metadata": {
    "collapsed": true
   },
   "outputs": [],
   "source": [
    "# Creation of sets according of running type\n",
    "lausanne_marathon_2016_cleaned_10 = lausanne_marathon_2016_cleaned[lausanne_marathon_2016_cleaned['distance (km)'] == 10]\n",
    "lausanne_marathon_2016_cleaned_21 = lausanne_marathon_2016_cleaned[lausanne_marathon_2016_cleaned['distance (km)'] == 21]\n",
    "lausanne_marathon_2016_cleaned_42 = lausanne_marathon_2016_cleaned[lausanne_marathon_2016_cleaned['distance (km)'] == 42]"
   ]
  },
  {
   "cell_type": "code",
   "execution_count": null,
   "metadata": {
    "collapsed": false
   },
   "outputs": [],
   "source": [
    "# Creation of figure\n",
    "fig = plt.figure()\n",
    "fig.tight_layout\n",
    "fig.set_size_inches(10, 10)\n",
    "fig.suptitle('Speed distribution selected by distance', fontsize=14)\n",
    "utils.plot_speed_distribution_by_running(fig, lausanne_marathon_2016_cleaned_10, '10 km', 1, np.arange(0,900, 100))\n",
    "utils.plot_speed_distribution_by_running(fig, lausanne_marathon_2016_cleaned_21, '21 km', 2, np.arange(0,700, 100))\n",
    "utils.plot_speed_distribution_by_running(fig, lausanne_marathon_2016_cleaned_42, '42 km', 3, np.arange(0,250, 50))"
   ]
  },
  {
   "cell_type": "markdown",
   "metadata": {},
   "source": [
    "As we can expect the fastest runners have made the 10 km, as the distance is shorter, the speed by kilometer can be greater.\n",
    "\n",
    "But unexpectedly the average speed seems very close between runners despite the difference of the distance, in order to understand this phenomenon we need to go further in the study and study the past of runners."
   ]
  },
  {
   "cell_type": "code",
   "execution_count": null,
   "metadata": {
    "collapsed": false
   },
   "outputs": [],
   "source": [
    "lausanne_marathon_2016_cleaned.head()"
   ]
  },
  {
   "cell_type": "code",
   "execution_count": null,
   "metadata": {
    "collapsed": false,
    "scrolled": false
   },
   "outputs": [],
   "source": [
    "plot = sns.factorplot(data=lausanne_marathon_2016_cleaned, x='sex', y='Speed (m/s)', col = 'distance (km)', size=5, kind='box')\n",
    "plot.set_xlabels('Gender')\n",
    "plot.fig.set_size_inches(10, 6)"
   ]
  },
  {
   "cell_type": "code",
   "execution_count": null,
   "metadata": {
    "collapsed": false
   },
   "outputs": [],
   "source": [
    "fig = plt.figure()\n",
    "fig.tight_layout\n",
    "fig.set_size_inches(10, 6)\n",
    "\n",
    "ax = fig.add_subplot(111)\n",
    "ax = sns.countplot(x='type_team', hue='distance (km)', data=lausanne_marathon_2016_cleaned)\n",
    "ax.set_xlabel('')\n",
    "ax.set_ylabel('Number of Runners')\n",
    "ax.set_title('Team/indivual runners composition')\n",
    "\n",
    "total_10 = len(lausanne_marathon_2016_cleaned_10)\n",
    "total_21 = len(lausanne_marathon_2016_cleaned_21)\n",
    "total_42 = len(lausanne_marathon_2016_cleaned_42)\n",
    "totals = [total_10, total_21, total_42]\n",
    "race_type = 0\n",
    "index = 0\n",
    "\n",
    "# Loop (displaying of the percentages)\n",
    "for p in ax.patches:\n",
    "        if race_type == 2:\n",
    "            race_type = 0\n",
    "            index = index + 1\n",
    "        ax.annotate('{:.1f}%'.format(p.get_height()*100/totals[index]), (p.get_x()+0.05, p.get_height()+50))\n",
    "        race_type = race_type + 1\n",
    "        "
   ]
  },
  {
   "cell_type": "markdown",
   "metadata": {},
   "source": [
    "The repartition individual/team seems quite equivalent between the different races offered by the event.\n",
    "The teams are more present in the 10 km. The distance seems more appropriate for the teams, it's short enough to be a good challenge between beginner friends.\n",
    "\n",
    "Let's see if being in team has a real impact on the performance."
   ]
  },
  {
   "cell_type": "code",
   "execution_count": null,
   "metadata": {
    "collapsed": false
   },
   "outputs": [],
   "source": [
    "plot = sns.factorplot(data=lausanne_marathon_2016_cleaned, x='type_team', y='Speed (m/s)', col = 'distance (km)', kind='box')\n",
    "plot.set_xlabels('')\n",
    "plot.fig.suptitle('Speed distribution by types of runners', fontsize=14)\n",
    "plot.fig.set_size_inches(10,6)"
   ]
  },
  {
   "cell_type": "code",
   "execution_count": null,
   "metadata": {
    "collapsed": false
   },
   "outputs": [],
   "source": [
    "utils.display_information_speed(lausanne_marathon_2016_cleaned)"
   ]
  },
  {
   "cell_type": "markdown",
   "metadata": {},
   "source": [
    "Actually the teams are better on average compared to individual runners, but the best performance comes from individual runners.\n",
    "From the graph above, we can notice that for \"average\" people, to be part of a team seems to be a motivational factor, compared to excellent runners who prefer doing the race alone."
   ]
  },
  {
   "cell_type": "code",
   "execution_count": null,
   "metadata": {
    "collapsed": false
   },
   "outputs": [],
   "source": [
    "team_selected = lausanne_marathon_2016_cleaned[lausanne_marathon_2016_cleaned['type_team'] == 'Runners in teams']\n",
    "lausanne_marathon_2016_cleaned['time difference team'] = lausanne_marathon_2016_cleaned.apply(utils.compute_time_to_best_in_team,args=(team_selected,), axis=1)"
   ]
  },
  {
   "cell_type": "code",
   "execution_count": null,
   "metadata": {
    "collapsed": false
   },
   "outputs": [],
   "source": [
    "lausanne_marathon_team = lausanne_marathon_2016_cleaned[lausanne_marathon_2016_cleaned['type_team'] == 'Runners in teams'].copy()\n",
    "utils.plot_time_difference_distribution(lausanne_marathon_team)"
   ]
  },
  {
   "cell_type": "code",
   "execution_count": null,
   "metadata": {
    "collapsed": false
   },
   "outputs": [],
   "source": [
    "fig = plt.figure()\n",
    "fig.tight_layout\n",
    "fig.set_size_inches(15, 15)\n",
    "fig.suptitle('Team representation', fontsize=14)\n",
    "annotation_plot1 = [311,'Runner Pair',(0,2000), (0,2500)]\n",
    "annotation_plot2 = [313,'individual runners',(2,4000), (2,6000)]\n",
    "utils.plot_scatter_difference_time_number(fig, lausanne_marathon_2016_cleaned, 10, 1000, 311, annotation_plot1)\n",
    "utils.plot_scatter_difference_time_number(fig, lausanne_marathon_2016_cleaned, 21, 1000, 312)\n",
    "utils.plot_scatter_difference_time_number(fig, lausanne_marathon_2016_cleaned, 42, 1000, 313, annotation_plot2)"
   ]
  }
 ],
 "metadata": {
  "anaconda-cloud": {},
  "kernelspec": {
   "display_name": "Python [conda root]",
   "language": "python",
   "name": "conda-root-py"
  },
  "language_info": {
   "codemirror_mode": {
    "name": "ipython",
    "version": 3
   },
   "file_extension": ".py",
   "mimetype": "text/x-python",
   "name": "python",
   "nbconvert_exporter": "python",
   "pygments_lexer": "ipython3",
   "version": "3.5.2"
  }
 },
 "nbformat": 4,
 "nbformat_minor": 1
}
