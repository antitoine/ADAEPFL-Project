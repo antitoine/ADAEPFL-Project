{
 "cells": [
  {
   "cell_type": "code",
   "execution_count": null,
   "metadata": {
    "collapsed": true
   },
   "outputs": [],
   "source": [
    "# Data analysis \n",
    "import pandas as pd\n",
    "import numpy as np\n",
    "import re\n",
    "import datetime\n",
    "import seaborn as sns\n",
    "import matplotlib.pyplot as plt\n",
    "%matplotlib inline\n",
    "from ipywidgets import FloatProgress\n",
    "import collections\n",
    "from IPython.display import display\n",
    "from datetime import date\n",
    "from dateutil.relativedelta import relativedelta\n",
    "from matplotlib.pyplot import show"
   ]
  },
  {
   "cell_type": "code",
   "execution_count": null,
   "metadata": {
    "collapsed": true
   },
   "outputs": [],
   "source": [
    "PATH_TO_DATA = '../../Scraping/DataSport/Data/Lausanne_Marathon_2016.pickle'\n",
    "FEMALE_CATEGORY_REGEX = '([WD])|(JunF)'\n",
    "MALE_CATEGORY_REGEX = '([H])|(JunG)'\n",
    "MARATHON_DISTANCE_REGEX = '42-'\n",
    "SEMI_MARATHON_DISTANCE_REGEX = '21-'\n",
    "QUARTER_MARATHON_DISTANCE_REGEX = '10-'"
   ]
  },
  {
   "cell_type": "code",
   "execution_count": null,
   "metadata": {
    "collapsed": false
   },
   "outputs": [],
   "source": [
    "def get_sex_of_runner(runner):\n",
    "    '''\n",
    "    Returns the sex of runner based on the category in which runner has done the marathon.\n",
    "    \n",
    "    Parameters\n",
    "        - runner: row representing the runner\n",
    "    \n",
    "    Return\n",
    "        - string ('female'/'male') or None if sex was not retrieved\n",
    "    '''\n",
    "    \n",
    "    # We ignore this specific category as it is not useful and as it can be misleading\n",
    "    if (runner['category'] == '10W-NW' or runner['category'] == '10W-Walk'):\n",
    "        return None\n",
    "    \n",
    "    if (re.search(FEMALE_CATEGORY_REGEX, runner['category']) != None):\n",
    "        return 'female'\n",
    "    elif (re.search(MALE_CATEGORY_REGEX, runner['category']) != None):\n",
    "        return 'male'\n",
    "    else:\n",
    "        return None\n",
    "\n",
    "\n",
    "def get_type_of_runner(runner):\n",
    "    '''\n",
    "    Returns the type of the runner.\n",
    "    \n",
    "    Parameters\n",
    "        - runner: row representing the runner\n",
    "        \n",
    "    Return\n",
    "        - string ('junior'/'adult')\n",
    "    '''\n",
    "    \n",
    "    if (runner['category'].find('Jun') != -1):\n",
    "        return 'junior'\n",
    "    else:\n",
    "        return 'adult'\n",
    "    \n",
    "    \n",
    "def compute_distance_from_category (runner):\n",
    "    '''\n",
    "    Returns the category distance of the runner, based on category\n",
    "    \n",
    "    Parameters\n",
    "        - runner: row representing the runner\n",
    "        \n",
    "    Return\n",
    "        - distance of runner (int)\n",
    "    '''\n",
    "    \n",
    "    if (re.search(MARATHON_DISTANCE_REGEX, runner['category']) != None):\n",
    "        return 42\n",
    "    elif (re.search(SEMI_MARATHON_DISTANCE_REGEX, runner['category']) != None):\n",
    "        return 21\n",
    "    elif (re.search(QUARTER_MARATHON_DISTANCE_REGEX, runner['category']) != None):\n",
    "        return 10\n",
    "    \n",
    "    return None\n",
    "\n",
    "\n",
    "def compute_age_of_runner(runner):\n",
    "    '''\n",
    "    Returns the age of runner, based on this year of birth.\n",
    "    \n",
    "    Parameters\n",
    "        - runner: row representing the runner\n",
    "        \n",
    "    Return\n",
    "        - age of runner (int)\n",
    "    '''\n",
    "    \n",
    "    today = date.today()\n",
    "    birth_year = runner['birthday']\n",
    "    return today.year - birth_year.year - ((today.month, today.day) < (birth_year.month, birth_year.day))\n",
    "\n",
    "\n",
    "def compute_run_in_team(runner):\n",
    "    '''\n",
    "    Returns the age of runner, based on this year of birth.\n",
    "    \n",
    "    Parameters\n",
    "        - runner: row representing the runner\n",
    "        \n",
    "    Return\n",
    "        - age of runner (int)\n",
    "    '''\n",
    "    \n",
    "    if pd.isnull(runner['team']):\n",
    "        return 'Individual runners'\n",
    "    else:\n",
    "        return 'Runners in teams'\n",
    "\n",
    "    \n",
    "def format_time(runner):\n",
    "    '''\n",
    "    Returns the number of seconds of running time of current runner\n",
    "    \n",
    "    Parameters\n",
    "        - runner: row representing the runner\n",
    "        \n",
    "    Return\n",
    "        - total running time in seconds (int)\n",
    "    '''\n",
    "    \n",
    "    time = runner['time']\n",
    "    formatted_time = time.time()\n",
    "    if time:\n",
    "        return datetime.timedelta(hours=formatted_time.hour, minutes=formatted_time.minute, seconds=formatted_time.second).total_seconds()\n",
    "    \n",
    "\n",
    "def convert_seconds_to_time(seconds):\n",
    "    '''\n",
    "    Returns formatted time according to a given number of seconds\n",
    "    \n",
    "    Parameters\n",
    "        - seconds: number of seconds of a given time\n",
    "        \n",
    "    Return\n",
    "        - formatted time (HH:mm:ss format, string)\n",
    "    '''\n",
    "    \n",
    "    m, s = divmod(seconds, 60)\n",
    "    h, m = divmod(m, 60)\n",
    "    return \"%d:%02d:%02d\" % (h, m, s)\n",
    "\n",
    "\n",
    "def plot_performance_according_to_running_type(data, nb_km):\n",
    "    '''\n",
    "    Plots the performance according to age of participants for a given running\n",
    "    \n",
    "    Parameters\n",
    "        - data: DataFrame containing records for a given running\n",
    "        - nb_km: km of the running\n",
    "    '''\n",
    "    \n",
    "    g = sns.factorplot(data=data, x='age', y='time', kind='box', size=10, aspect=1.5)\n",
    "    for ax in g.axes.flat:\n",
    "        labels = []\n",
    "        for label in ax.get_yticklabels():\n",
    "            formatted_label = convert_seconds_to_time(int(float(label._y)))\n",
    "            labels.append(formatted_label)\n",
    "        ax.set_yticklabels(labels)\n",
    "    plt.title('Distribution of time of ' + str(nb_km) + 'km running following age of participants')\n",
    "    plt.show()"
   ]
  },
  {
   "cell_type": "markdown",
   "metadata": {},
   "source": [
    "# Data wrangling"
   ]
  },
  {
   "cell_type": "code",
   "execution_count": null,
   "metadata": {
    "collapsed": false
   },
   "outputs": [],
   "source": [
    "lausanne_marathon_2016 = pd.read_pickle(PATH_TO_DATA)\n",
    "lausanne_marathon_2016.head()"
   ]
  },
  {
   "cell_type": "code",
   "execution_count": null,
   "metadata": {
    "collapsed": false
   },
   "outputs": [],
   "source": [
    "lausanne_marathon_2016['sex'] = lausanne_marathon_2016.apply(get_sex_of_runner, axis=1)"
   ]
  },
  {
   "cell_type": "code",
   "execution_count": null,
   "metadata": {
    "collapsed": false
   },
   "outputs": [],
   "source": [
    "lausanne_marathon_2016['sex'].value_counts(dropna=False)"
   ]
  },
  {
   "cell_type": "markdown",
   "metadata": {},
   "source": [
    "Note: Here, we remove people that are part of *Pink_Ch*, *10W-Walk* or *10W-NW* categories as these categories do not belong to Lausanne Marathon, and as their name can be misleading with sex attribution. For more information about these categories, check <a href=\"http://fr.lausanne-marathon.com/info-course/horaires/\">Lausanne Marathon's official website</a>."
   ]
  },
  {
   "cell_type": "code",
   "execution_count": null,
   "metadata": {
    "collapsed": false
   },
   "outputs": [],
   "source": [
    "lausanne_marathon_2016_cleaned = lausanne_marathon_2016[lausanne_marathon_2016['sex'].notnull()].copy()"
   ]
  },
  {
   "cell_type": "code",
   "execution_count": null,
   "metadata": {
    "collapsed": false
   },
   "outputs": [],
   "source": [
    "len(lausanne_marathon_2016_cleaned)"
   ]
  },
  {
   "cell_type": "markdown",
   "metadata": {},
   "source": [
    "We have a total of 12060 runners on whom we can run our analysis for Lausanne Marathon 2016."
   ]
  },
  {
   "cell_type": "markdown",
   "metadata": {},
   "source": [
    "We also transform the *rang* column as an integer."
   ]
  },
  {
   "cell_type": "code",
   "execution_count": null,
   "metadata": {
    "collapsed": true
   },
   "outputs": [],
   "source": [
    "lausanne_marathon_2016_cleaned['type'] = lausanne_marathon_2016_cleaned.apply(get_type_of_runner, axis=1)"
   ]
  },
  {
   "cell_type": "code",
   "execution_count": null,
   "metadata": {
    "collapsed": false,
    "scrolled": true
   },
   "outputs": [],
   "source": [
    "lausanne_marathon_2016_cleaned['rank'] = lausanne_marathon_2016_cleaned['rank'].apply(lambda x : int(float(x)))\n",
    "lausanne_marathon_2016_cleaned.head()"
   ]
  },
  {
   "cell_type": "code",
   "execution_count": null,
   "metadata": {
    "collapsed": true
   },
   "outputs": [],
   "source": [
    "lausanne_marathon_2016_cleaned['age'] = lausanne_marathon_2016_cleaned.apply(compute_age_of_runner, axis=1)\n",
    "lausanne_marathon_2016_cleaned['age'] = lausanne_marathon_2016_cleaned['age'].apply(lambda x : int(float(x)))"
   ]
  },
  {
   "cell_type": "code",
   "execution_count": null,
   "metadata": {
    "collapsed": true
   },
   "outputs": [],
   "source": [
    "lausanne_marathon_2016_cleaned['number'] = lausanne_marathon_2016_cleaned['number'].apply(lambda x : int(float(x)))"
   ]
  },
  {
   "cell_type": "code",
   "execution_count": null,
   "metadata": {
    "collapsed": false
   },
   "outputs": [],
   "source": [
    "lausanne_marathon_2016_cleaned['time'] = lausanne_marathon_2016_cleaned.apply(format_time, axis=1)"
   ]
  },
  {
   "cell_type": "code",
   "execution_count": null,
   "metadata": {
    "collapsed": true
   },
   "outputs": [],
   "source": [
    "lausanne_marathon_2016_cleaned['distance (km)'] = lausanne_marathon_2016_cleaned.apply(compute_distance_from_category, axis=1)"
   ]
  },
  {
   "cell_type": "markdown",
   "metadata": {
    "collapsed": true
   },
   "source": [
    "# Statistical study"
   ]
  },
  {
   "cell_type": "markdown",
   "metadata": {},
   "source": [
    "## Overall study"
   ]
  },
  {
   "cell_type": "code",
   "execution_count": null,
   "metadata": {
    "collapsed": false
   },
   "outputs": [],
   "source": [
    "plot = sns.countplot(data=lausanne_marathon_2016_cleaned, x='sex')\n",
    "total = len(lausanne_marathon_2016_cleaned)\n",
    "for p in plot.patches:\n",
    "        plot.annotate('%{:.1f}'.format(p.get_height()*100/total), (p.get_x()+0.1, p.get_height()+50))"
   ]
  },
  {
   "cell_type": "markdown",
   "metadata": {},
   "source": [
    "The Lausanne marathon race had a significantly higher percentage of male runners than female ones."
   ]
  },
  {
   "cell_type": "code",
   "execution_count": null,
   "metadata": {
    "collapsed": false,
    "scrolled": false
   },
   "outputs": [],
   "source": [
    "plot = sns.countplot(data=lausanne_marathon_2016_cleaned, x='type')\n",
    "total = len(lausanne_marathon_2016_cleaned)\n",
    "for p in plot.patches:\n",
    "        plot.annotate('%{:.1f}'.format(p.get_height()*100/total), (p.get_x()+0.1, p.get_height()+50))"
   ]
  },
  {
   "cell_type": "markdown",
   "metadata": {},
   "source": [
    "Not surprinsingly, very minor part of runners were young during the Lausanne Marathon of 2016."
   ]
  },
  {
   "cell_type": "markdown",
   "metadata": {},
   "source": [
    "An interesting fact is that we have a non-negligible part of runners who were in team."
   ]
  },
  {
   "cell_type": "markdown",
   "metadata": {},
   "source": [
    "## Demographic study"
   ]
  },
  {
   "cell_type": "markdown",
   "metadata": {},
   "source": [
    "In this part, we plan to focus on age of runners, but also the place from which they come."
   ]
  },
  {
   "cell_type": "markdown",
   "metadata": {},
   "source": [
    "We first display the age distribution of runners in the marathon 2016 of Lausanne."
   ]
  },
  {
   "cell_type": "code",
   "execution_count": null,
   "metadata": {
    "collapsed": false,
    "scrolled": false
   },
   "outputs": [],
   "source": [
    "fig, ax = plt.subplots()\n",
    "fig.set_size_inches(10,5)\n",
    "ax.hist(lausanne_marathon_2016_cleaned['age'], bins=30)\n",
    "\n",
    "# Compute the mean of age selected by gender.\n",
    "mean_age_M = np.mean(lausanne_marathon_2016_cleaned['age'][lausanne_marathon_2016_cleaned['sex'] == 'male'])\n",
    "mean_age_W = np.mean(lausanne_marathon_2016_cleaned['age'][lausanne_marathon_2016_cleaned['sex'] == 'female'])\n",
    "mean_age_all = np.mean(lausanne_marathon_2016_cleaned['age'])\n",
    "\n",
    "# display the median and titles.\n",
    "ax.axvline(mean_age_all, 0, 1750, color='r', linestyle='--')\n",
    "ax.set_title('Age Distribution of Runners')\n",
    "ax.set_xlabel('Age')\n",
    "ax.set_ylabel('Number of Runners')\n",
    "\n",
    "#Calculate age distribution statistics by gender:\n",
    "age_stats = 'Mean Age: ' + str(round(mean_age_all, 2)) + '\\n' + 'SD: ' + str(round(np.std(lausanne_marathon_2016_cleaned['age']), 2)) \n",
    "age_statsf = 'Mean Age (Female): ' + str(round(mean_age_M, 2)) + '\\n' + 'SD: ' + str(round(np.std(lausanne_marathon_2016_cleaned['age'][lausanne_marathon_2016_cleaned['sex'] == 'female']), 2))                                                                       \n",
    "age_statsm = 'Mean Age (Male): ' + str(round(mean_age_W, 2)) + '\\n' + 'SD: ' + str(round(np.std(lausanne_marathon_2016_cleaned['age'][lausanne_marathon_2016_cleaned['sex'] == 'male']), 2))\n",
    "age_stats = age_stats + '\\n' + age_statsf + '\\n' + age_statsm\n",
    "\n",
    "# add legend text.\n",
    "props = dict(boxstyle='round', facecolor='wheat', alpha=0.5)\n",
    "ax.text(.95, .95, age_stats, fontsize=11, transform=ax.transAxes, va='top', ha='right', bbox=props, multialignment='left')"
   ]
  },
  {
   "cell_type": "markdown",
   "metadata": {},
   "source": [
    "## Performance according to age of participants"
   ]
  },
  {
   "cell_type": "code",
   "execution_count": null,
   "metadata": {
    "collapsed": false
   },
   "outputs": [],
   "source": [
    "lausanne_marathon_2016_10km = lausanne_marathon_2016_cleaned[lausanne_marathon_2016_cleaned['distance (km)'] == 10]\n",
    "lausanne_marathon_2016_21km = lausanne_marathon_2016_cleaned[lausanne_marathon_2016_cleaned['distance (km)'] == 21]\n",
    "lausanne_marathon_2016_42km = lausanne_marathon_2016_cleaned[lausanne_marathon_2016_cleaned['distance (km)'] == 42]"
   ]
  },
  {
   "cell_type": "markdown",
   "metadata": {},
   "source": [
    "### Performance for 10 km running"
   ]
  },
  {
   "cell_type": "code",
   "execution_count": null,
   "metadata": {
    "collapsed": false
   },
   "outputs": [],
   "source": [
    "plot_performance_according_to_running_type(lausanne_marathon_2016_10km, 10)"
   ]
  },
  {
   "cell_type": "markdown",
   "metadata": {},
   "source": [
    "### Performance for demi-marathon"
   ]
  },
  {
   "cell_type": "code",
   "execution_count": null,
   "metadata": {
    "collapsed": false
   },
   "outputs": [],
   "source": [
    "plot_performance_according_to_running_type(lausanne_marathon_2016_21km, 21)"
   ]
  },
  {
   "cell_type": "markdown",
   "metadata": {},
   "source": [
    "### Performance for marathon"
   ]
  },
  {
   "cell_type": "code",
   "execution_count": null,
   "metadata": {
    "collapsed": false
   },
   "outputs": [],
   "source": [
    "plot_performance_according_to_running_type(lausanne_marathon_2016_42km, 42)"
   ]
  },
  {
   "cell_type": "markdown",
   "metadata": {},
   "source": [
    "## Effective performance according to BIB number"
   ]
  },
  {
   "cell_type": "code",
   "execution_count": null,
   "metadata": {
    "collapsed": false
   },
   "outputs": [],
   "source": [
    "ax = lausanne_marathon_2016_cleaned.plot(kind='scatter', x='number', y='time', xlim=(-1000, 18000));\n",
    "formatted_labels = [convert_seconds_to_time(seconds) for seconds in lausanne_marathon_2016_cleaned['time']]\n",
    "ax.set_yticklabels(formatted_labels)\n",
    "plt.title('Running time according to BIB number of participants')\n",
    "plt.show()"
   ]
  },
  {
   "cell_type": "markdown",
   "metadata": {},
   "source": [
    "We can recognize three major patterns following the BIB number of participants. Indeed, the higher the BIB number is, the lower the performance time is, globally.\n",
    "\n",
    "Notice that BIB numbers are given by the organizators of Lausanne Marathon, and as we can read on <a href=\"http://fr.lausanne-marathon.com/inscription/inscriptions/inscription-online/\">the official website</a>, each participant is asked to indicate his \"estimated time of running for the attribution of start blocks\", in oder to categorize the runners accordingly."
   ]
  },
  {
   "cell_type": "markdown",
   "metadata": {},
   "source": [
    "## Category study"
   ]
  },
  {
   "cell_type": "markdown",
   "metadata": {},
   "source": [
    "Now that we have the distance of each runners, we need to compute the speed by kilometer for each runners."
   ]
  },
  {
   "cell_type": "code",
   "execution_count": null,
   "metadata": {
    "collapsed": false
   },
   "outputs": [],
   "source": [
    "lausanne_marathon_2016_cleaned['Speed (m/s)'] = lausanne_marathon_2016_cleaned['distance (km)']*1000/lausanne_marathon_2016_cleaned['time']\n",
    "lausanne_marathon_2016_cleaned['type_team'] = lausanne_marathon_2016_cleaned.apply(compute_run_in_team, axis=1)"
   ]
  },
  {
   "cell_type": "code",
   "execution_count": null,
   "metadata": {
    "collapsed": true
   },
   "outputs": [],
   "source": [
    "# make selection on distance.\n",
    "lausanne_marathon_2016_cleaned_10 = lausanne_marathon_2016_cleaned[lausanne_marathon_2016_cleaned['distance (km)'] == 10]\n",
    "lausanne_marathon_2016_cleaned_21 = lausanne_marathon_2016_cleaned[lausanne_marathon_2016_cleaned['distance (km)'] == 21]\n",
    "lausanne_marathon_2016_cleaned_42 = lausanne_marathon_2016_cleaned[lausanne_marathon_2016_cleaned['distance (km)'] == 42]"
   ]
  },
  {
   "cell_type": "code",
   "execution_count": null,
   "metadata": {
    "collapsed": false
   },
   "outputs": [],
   "source": [
    "# Create figure.\n",
    "fig = plt.figure()\n",
    "fig.tight_layout\n",
    "fig.set_size_inches(10,10)\n",
    "\n",
    "# 10 K --------------------------------------------------------------------------------------------\n",
    "ax1 = fig.add_subplot(311)\n",
    "race_speed_10 = lausanne_marathon_2016_cleaned_10['Speed (m/s)'].tolist()\n",
    "ax1.hist(race_speed_10, bins=25)\n",
    "ax1.set_ylabel('Number of Runners')\n",
    "ax1.set_title('Distance = 10K')\n",
    "ax1.set_xlabel('Speed (m/s)')\n",
    "ax1.xaxis.set_label_coords(1.15,-0.025)\n",
    "\n",
    "# Set axis\n",
    "x = np.arange(0,6.5,0.5)\n",
    "y = np.arange(0,900,100)\n",
    "plt.xticks(x)\n",
    "plt.yticks(y)\n",
    "\n",
    "#Compute important informations\n",
    "avg_time_10 = round(np.mean(race_speed_10), 4)\n",
    "med_time_10 = round(np.median(race_speed_10), 4)\n",
    "max_speed_10 = round(np.max(race_speed_10), 2)\n",
    "min_speed_10 = round(np.min(race_speed_10), 2)\n",
    "total_10 = len(race_speed_10)\n",
    "ax1.axvline(med_time_10, 0, 1750, color='r', linestyle='--')\n",
    "\n",
    "#Create string with statistics:\n",
    "med_10 = 'Median: ' + str(avg_time_10) + ' m/s'\n",
    "mean_10 = 'Mean: ' + str(med_time_10)  + ' m/s'\n",
    "max_10 = 'Max: ' + str(max_speed_10)   + ' m/s'\n",
    "min_10 = 'Min: ' + str(min_speed_10)   + ' m/s'\n",
    "total_10 = 'Total: ' + str(total_10)   + ' runners'\n",
    "std_10 = 'SD: ' + str(round(np.std(race_speed_10), 2)) + 's'\n",
    "stats10 = total_10 + ' \\n' + med_10 + ' \\n' + mean_10 + ' \\n' + max_10 + ' \\n' + min_10 + ' \\n' + std_10\n",
    "\n",
    "# Add information to graph\n",
    "props = dict(boxstyle='round', facecolor='wheat', alpha=0.5)\n",
    "ax1.text(.95, .95, stats10, fontsize=12, transform=ax1.transAxes, va='top', ha='right', bbox=props, multialignment='left')\n",
    "\n",
    "# 21 K --------------------------------------------------------------------------------------------\n",
    "ax2 = fig.add_subplot(312)\n",
    "race_speed_21 = lausanne_marathon_2016_cleaned_21['Speed (m/s)'].tolist()\n",
    "ax2.hist(race_speed_21, bins=25)\n",
    "ax2.set_ylabel('Number of Runners')\n",
    "ax2.xaxis.set_label_coords(1.15,-0.025)\n",
    "ax2.set_xlabel('Speed (m/s)')\n",
    "ax2.set_title('Distance = 21K')\n",
    "\n",
    "# Set axis\n",
    "x = np.arange(0,6.5,0.5)\n",
    "y = np.arange(0,700,100)\n",
    "plt.xticks(x)\n",
    "plt.yticks(y)\n",
    "\n",
    "#Compute important informations\n",
    "avg_time_21 = round(np.mean(race_speed_21), 4)\n",
    "med_time_21 = round(np.median(race_speed_21) ,4)\n",
    "max_speed_21 = round(np.max(race_speed_21), 2)\n",
    "min_speed_21 = round(np.min(race_speed_21), 2)\n",
    "total_21 = len(race_speed_21)\n",
    "ax2.axvline(med_time_21, 0, 1750, color='r', linestyle='--')\n",
    "\n",
    "#Create string with statistics:\n",
    "med_21 = 'Median: ' + str(avg_time_21) + ' m/s'\n",
    "mean_21 = 'Mean: ' + str(med_time_21)  + ' m/s'\n",
    "max_21 = 'Max: ' + str(max_speed_21)   + ' m/s'\n",
    "min_21 = 'Min: ' + str(min_speed_21)   + ' m/s'\n",
    "total_21 = 'Total: ' + str(total_21)   + ' runners'\n",
    "std_21 = 'SD: ' + str(round(np.std(race_speed_21), 2)) + 's'\n",
    "stats21 = total_21 + ' \\n' + med_21 + ' \\n' + mean_21 + ' \\n' +  max_21 + ' \\n' + min_21 + ' \\n' + std_21\n",
    "\n",
    "# Add information to graph\n",
    "props = dict(boxstyle='round', facecolor='wheat', alpha=0.5)\n",
    "ax2.text(.95, .95, stats21, fontsize=12, transform=ax2.transAxes, va='top', ha='right', bbox=props, multialignment='left')\n",
    "\n",
    "\n",
    "# 42 K --------------------------------------------------------------------------------------------\n",
    "ax3 = fig.add_subplot(313)\n",
    "race_speed_42 = lausanne_marathon_2016_cleaned_42['Speed (m/s)'].tolist()\n",
    "ax3.hist(race_speed_42, bins=25)\n",
    "ax3.set_ylabel('Number of Runners')\n",
    "ax3.set_xlabel('Speed (m/s)')\n",
    "ax3.xaxis.set_label_coords(1.15,-0.025)\n",
    "ax3.set_title('Distance = 42K')\n",
    "\n",
    "# set axis\n",
    "x = np.arange(0,6.5,0.5)\n",
    "y = np.arange(0,250,50)\n",
    "plt.xticks(x)\n",
    "plt.yticks(y)\n",
    "\n",
    "# Compute important informations\n",
    "avg_time_42 = round(np.mean(race_speed_42), 4)\n",
    "med_time_42 = round(np.median(race_speed_42), 4)\n",
    "total_42 = len(race_speed_42)\n",
    "max_speed_42 = round(np.max(race_speed_42), 2)\n",
    "min_speed_42 =  round(np.min(race_speed_42) ,2)\n",
    "ax3.axvline(med_time_42, 0, 1750, color='r', linestyle='--')\n",
    "\n",
    "# Create string for displaying important informations\n",
    "med_42 = 'Median: ' + str(avg_time_42) + ' m/s'\n",
    "mean_42 = 'Mean: ' + str(med_time_42)  + ' m/s'\n",
    "total_42 = 'Total: ' + str(total_42)   + ' runners'\n",
    "max_42 = 'Max: ' + str(max_speed_42)   + ' m/s'\n",
    "min_42 = 'Min: ' + str(min_speed_42)   + ' m/s'\n",
    "std_42 = 'SD: ' + str(round(np.std(race_speed_42), 2)) + 's'\n",
    "stats42 = total_42 + ' \\n' + med_42 + ' \\n' + mean_42 + ' \\n' + max_42 + ' \\n' + min_42 + ' \\n' + std_42\n",
    "\n",
    "# Add information to graph\n",
    "props = dict(boxstyle='round', facecolor='wheat', alpha=0.5)\n",
    "ax3.text(.95, .95, stats42, fontsize=12, transform=ax3.transAxes, va='top', ha='right', bbox=props, multialignment='left')"
   ]
  },
  {
   "cell_type": "markdown",
   "metadata": {},
   "source": [
    "As we can expect the fastest runners have made the 10 K, as the distance is shorter the speed by kilometer can be greater.\n",
    "But unexpectedly the average speed seems very close between runners despite the difference of the distance, in order to understand this phenomenon we need to go further in the study and study the past of runners."
   ]
  },
  {
   "cell_type": "code",
   "execution_count": null,
   "metadata": {
    "collapsed": false,
    "scrolled": false
   },
   "outputs": [],
   "source": [
    "plot = sns.factorplot(data=lausanne_marathon_2016_cleaned, x='sex', y='Speed (m/s)', col = 'distance (km)',size=5, kind='box')\n",
    "plot.set_xlabels('Gender')\n",
    "plot.fig.set_size_inches(10,6)"
   ]
  },
  {
   "cell_type": "code",
   "execution_count": null,
   "metadata": {
    "collapsed": false
   },
   "outputs": [],
   "source": [
    "fig = plt.figure()\n",
    "fig.tight_layout\n",
    "fig.set_size_inches(6,6)\n",
    "\n",
    "# 10 K --------------------------------------------------------------------------------------------\n",
    "ax1 = fig.add_subplot(111)\n",
    "ax1 = sns.countplot(x='type_team', hue='distance (km)', data=lausanne_marathon_2016_cleaned)\n",
    "#ax1.title('Distibution indivudal/team runners for the lausanne race 2016')\n",
    "ax1.set_xlabel('')\n",
    "ax1.set_ylabel('Number of Runners')\n",
    "\n",
    "# displaying the percentage per each race.\n",
    "total_10 = len(lausanne_marathon_2016_cleaned_10)\n",
    "total_21 = len(lausanne_marathon_2016_cleaned_21)\n",
    "total_42 = len(lausanne_marathon_2016_cleaned_42)\n",
    "totals = [total_10,total_21,total_42]\n",
    "race_type = 0\n",
    "index = 0\n",
    "\n",
    "# loop for displaying percentages\n",
    "for p in ax1.patches:\n",
    "        if race_type == 2:\n",
    "            race_type = 0\n",
    "            index = index + 1\n",
    "        ax1.annotate('%{:.1f}'.format(p.get_height()*100/totals[index]), (p.get_x()+0.1, p.get_height()+50))\n",
    "        race_type = race_type + 1\n",
    "        "
   ]
  },
  {
   "cell_type": "markdown",
   "metadata": {},
   "source": [
    "The repartition individual/team seems quite equivalent between the different races offered by the event.\n",
    "The teams are more present in the 10K. The distance seems more appropriate for the teams, it's short enough to be a good challenge between beginner friends.\n",
    "\n",
    "Let's see if being in team a real impact on the performance"
   ]
  },
  {
   "cell_type": "code",
   "execution_count": null,
   "metadata": {
    "collapsed": false
   },
   "outputs": [],
   "source": [
    "plot = sns.factorplot(data=lausanne_marathon_2016_cleaned, x='type_team', y='Speed (m/s)', col = 'distance (km)', kind='box')\n",
    "plot.set_xlabels('')\n",
    "plot.fig.set_size_inches(10,6)"
   ]
  },
  {
   "cell_type": "markdown",
   "metadata": {},
   "source": [
    "Actually the teams are better on average compared to individual runners, but the best performance comes from individual runners.\n",
    "From the graph above, we can notice for \"average\" people be in team seem to be a motivational factor, compared to excellent runners who prefer doing the race alone."
   ]
  }
 ],
 "metadata": {
  "anaconda-cloud": {},
  "kernelspec": {
   "display_name": "Python [conda root]",
   "language": "python",
   "name": "conda-root-py"
  },
  "language_info": {
   "codemirror_mode": {
    "name": "ipython",
    "version": 3
   },
   "file_extension": ".py",
   "mimetype": "text/x-python",
   "name": "python",
   "nbconvert_exporter": "python",
   "pygments_lexer": "ipython3",
   "version": "3.5.2"
  }
 },
 "nbformat": 4,
 "nbformat_minor": 1
}
