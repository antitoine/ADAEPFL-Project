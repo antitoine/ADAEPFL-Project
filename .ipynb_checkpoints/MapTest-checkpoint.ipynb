{
 "cells": [
  {
   "cell_type": "code",
   "execution_count": 141,
   "metadata": {
    "collapsed": false
   },
   "outputs": [],
   "source": [
    "# request import\n",
    "import requests as rq\n",
    "\n",
    "# BSoup imports\n",
    "import urllib.request\n",
    "from bs4 import BeautifulSoup as BSoup\n",
    "\n",
    "# Selenium imports\n",
    "from selenium import webdriver\n",
    "from selenium.webdriver.common.keys import Keys\n",
    "from selenium.common.exceptions import NoSuchElementException, StaleElementReferenceException\n",
    "from selenium.webdriver.support.ui import WebDriverWait\n",
    "from selenium.webdriver.support.ui import Select\n",
    "\n",
    "# Pandas imports\n",
    "import pandas as pd\n",
    "import numpy as np\n",
    "import matplotlib.pyplot as plt\n",
    "\n",
    "# Utils import\n",
    "import os\n",
    "import random\n",
    "import collections"
   ]
  },
  {
   "cell_type": "code",
   "execution_count": 142,
   "metadata": {
    "collapsed": true
   },
   "outputs": [],
   "source": [
    "DATA_FOLDER = 'DataMeteo/'\n",
    "FILTER_URL = 'http://www.infoclimat.fr/observations-meteo/temps-reel/lausanne/06710.html'\n",
    "LATITUDE = 'latitude'\n",
    "LONGITUDE = 'longitude'\n",
    "ALTITUDE = 'altitude (m)'\n",
    "CURRENT_ADRESS = 'current_adress'"
   ]
  },
  {
   "cell_type": "markdown",
   "metadata": {},
   "source": [
    "Get the different value for all the selection."
   ]
  },
  {
   "cell_type": "code",
   "execution_count": 143,
   "metadata": {
    "collapsed": false
   },
   "outputs": [
    {
     "name": "stdout",
     "output_type": "stream",
     "text": [
      "['Adelboden', 'Aigle', 'Alpnach', 'Altdorf', 'Altenrhein', 'Ascona', 'Bâle-Binningen', 'Bern/Belp (Berne)', 'Berne Liebefeld', 'Buchs-Suhr', 'Buochs', 'Buochs', 'BUOCHS', 'Changins', 'Chasseral', 'Chur-Ems', 'Cimetta', 'Comprovasco', 'Corvatsch', 'Disentis', 'Dübendorf', 'Emmen', 'Ernen', 'Evolene-Villaz', 'Fahy-Boncourt', 'Fionnay', 'Gemmi', 'Genève-Cointrin', 'Giswil', 'Goesgen', 'Grand Saint-Bernhard', 'Grenchen', 'Guetsch', 'Hoernli', 'Interlaken', 'Jungfraujoch', 'La Cure', 'La Dole', 'La Fouly', 'La Fretaz', 'Laegern', 'Laufenburg', 'Lausanne', 'Lausanne - Pully', 'Leibstadt', 'Les Eplatures', 'Leysin', 'Locarno Monti', 'Locarno-Magadino', 'Lugano', 'Lugano/Agno', 'Meiringen', 'Mettlen', 'Moleson', 'Montana', 'Mühleberg', 'Napf', 'Neuchatel', 'Payerne', 'Payerne/Metar', 'Piotta', 'Plaffeien', 'Robbia', 'Ruenenberg', 'Saentis', 'Saint Gallen', 'Saint Gallen-Altenrhein', 'Saint-Triphon', 'Samedan', 'San Bernardino', 'Savatan', 'Sion', 'SION (MIL)', 'St. Moritz', 'Stabio', 'Ulrichen', 'Versoix', 'Villarzel', 'Visp', 'Weesen', 'Wynau', 'Zermatt', 'Zurich SMA', 'Zürich/Kloten']\n"
     ]
    }
   ],
   "source": [
    "filters_page = rq.get(FILTER_URL) # Retrieving content of online form\n",
    "filters = BSoup(filters_page.text, 'html.parser')\n",
    "\n",
    "selects = filters.find('select',{'id': 'select_station'}) # Filter to get all stations\n",
    "availableStation = []\n",
    "\n",
    "for option in selects.findAll('option'):\n",
    "    if option.text != 'Changer de station...':\n",
    "        availableStation.append(option.text)\n",
    "        \n",
    "len(availableStation)\n",
    "print(availableStation)"
   ]
  },
  {
   "cell_type": "code",
   "execution_count": 156,
   "metadata": {
    "collapsed": false
   },
   "outputs": [],
   "source": [
    "def multiselect_set_selections(driver, element_id, labels):\n",
    "    result = collections.defaultdict(list)\n",
    "    \n",
    "    # Select with the id and loop in oder to get all information about the station.\n",
    "    for labelText in labels:\n",
    "        \n",
    "        #Selenium soup request.\n",
    "        print ('request for : ' + labelText)\n",
    "        select = WebDriverWait(driver, 10).until(lambda driver:Select(driver.find_element_by_id(element_id)))\n",
    "        select.select_by_visible_text(labelText)\n",
    "        \n",
    "        #BeautifulSoup request.\n",
    "        filters = BSoup(driver.page_source.encode('utf-8'), 'html.parser')\n",
    "        selects = filters.find('ul',{'id': 'station-informations'}).findAll('li')\n",
    "        print(selects[0])\n",
    "        for lis in selects[0]:\n",
    "            print(lis.get_text())\n",
    "\n",
    "        \n",
    "        #get the result.\n",
    "        result[CURRENT_ADRESS].append(driver.current_url)\n",
    "        result[LATITUDE].append(driver.current_url)\n",
    "        result[LONGITUDE].append(driver.current_url)\n",
    "        result[ALTITUDE].append(driver.current_url)\n",
    "\n",
    "        break;\n",
    "        \n",
    "    return pd.DataFrame(data=result)\n",
    "        "
   ]
  },
  {
   "cell_type": "code",
   "execution_count": 157,
   "metadata": {
    "collapsed": false,
    "scrolled": true
   },
   "outputs": [
    {
     "name": "stdout",
     "output_type": "stream",
     "text": [
      "request for : Adelboden\n",
      "\n",
      "Altitude 1325 mÃštres\n",
      "\t\t\n",
      "\n",
      "CoordonnÃ©es\n",
      "\t\t    46,30Â°N | 7,34Â°E\t\t\n",
      "\n",
      "DÃ©but des archives\n",
      "\t\t    29 janvier  1991\t\t\n",
      "Fuseau horaire Europe/Zurich\n",
      "\n",
      "Type de station\n",
      "\t\t    METAR/SYNOP\t\t\n"
     ]
    },
    {
     "data": {
      "text/html": [
       "<div>\n",
       "<table border=\"1\" class=\"dataframe\">\n",
       "  <thead>\n",
       "    <tr style=\"text-align: right;\">\n",
       "      <th></th>\n",
       "      <th>altitude</th>\n",
       "      <th>current_adress</th>\n",
       "      <th>latitude</th>\n",
       "      <th>longitude</th>\n",
       "    </tr>\n",
       "  </thead>\n",
       "  <tbody>\n",
       "    <tr>\n",
       "      <th>0</th>\n",
       "      <td>http://www.infoclimat.fr/observations-meteo/te...</td>\n",
       "      <td>http://www.infoclimat.fr/observations-meteo/te...</td>\n",
       "      <td>http://www.infoclimat.fr/observations-meteo/te...</td>\n",
       "      <td>http://www.infoclimat.fr/observations-meteo/te...</td>\n",
       "    </tr>\n",
       "  </tbody>\n",
       "</table>\n",
       "</div>"
      ],
      "text/plain": [
       "                                            altitude  \\\n",
       "0  http://www.infoclimat.fr/observations-meteo/te...   \n",
       "\n",
       "                                      current_adress  \\\n",
       "0  http://www.infoclimat.fr/observations-meteo/te...   \n",
       "\n",
       "                                            latitude  \\\n",
       "0  http://www.infoclimat.fr/observations-meteo/te...   \n",
       "\n",
       "                                           longitude  \n",
       "0  http://www.infoclimat.fr/observations-meteo/te...  "
      ]
     },
     "execution_count": 157,
     "metadata": {},
     "output_type": "execute_result"
    }
   ],
   "source": [
    "# init selenium.a\n",
    "chromedriver = \"./Utils/chromedriver\"\n",
    "os.environ[\"webdriver.chrome.driver\"] = chromedriver\n",
    "driver = webdriver.Chrome(chromedriver)\n",
    "driver.get(FILTER_URL)\n",
    "test = multiselect_set_selections(driver,'select_station',availableStation)\n",
    "driver.close\n",
    "\n",
    "test.head()"
   ]
  },
  {
   "cell_type": "code",
   "execution_count": null,
   "metadata": {
    "collapsed": true
   },
   "outputs": [],
   "source": [
    "def getLatitude(valueListElement):\n",
    "    "
   ]
  },
  {
   "cell_type": "code",
   "execution_count": null,
   "metadata": {
    "collapsed": true
   },
   "outputs": [],
   "source": [
    "def getLongitude(valueListElement):"
   ]
  }
 ],
 "metadata": {
  "anaconda-cloud": {},
  "kernelspec": {
   "display_name": "Python [Root]",
   "language": "python",
   "name": "Python [Root]"
  },
  "language_info": {
   "codemirror_mode": {
    "name": "ipython",
    "version": 3
   },
   "file_extension": ".py",
   "mimetype": "text/x-python",
   "name": "python",
   "nbconvert_exporter": "python",
   "pygments_lexer": "ipython3",
   "version": "3.5.2"
  }
 },
 "nbformat": 4,
 "nbformat_minor": 0
}
