{
 "cells": [
  {
   "cell_type": "code",
   "execution_count": 33,
   "metadata": {
    "collapsed": true
   },
   "outputs": [],
   "source": [
    "# request import\n",
    "import requests as rq\n",
    "\n",
    "# BSoup imports\n",
    "import urllib.request\n",
    "from bs4 import BeautifulSoup as BSoup\n",
    "\n",
    "# Selenium imports\n",
    "from selenium import webdriver\n",
    "from selenium.webdriver.common.keys import Keys\n",
    "from selenium.common.exceptions import NoSuchElementException, StaleElementReferenceException\n",
    "from selenium.webdriver.support.ui import WebDriverWait\n",
    "from selenium.webdriver.support.ui import Select\n",
    "\n",
    "# Pandas imports\n",
    "import pandas as pd\n",
    "import numpy as np\n",
    "import matplotlib.pyplot as plt\n",
    "\n",
    "# Utils import\n",
    "import os\n",
    "import random\n",
    "import collections\n",
    "import string\n",
    "import time\n",
    "import math\n",
    "import datetime"
   ]
  },
  {
   "cell_type": "code",
   "execution_count": 4,
   "metadata": {
    "collapsed": true
   },
   "outputs": [],
   "source": [
    "DATA_FILE = './DataMeteo/StationInformation.csv'\n",
    "FILTER_URL = 'http://www.infoclimat.fr/observations-meteo/temps-reel/lausanne/06710.html'\n",
    "LATITUDE = 'lattitude'\n",
    "LONGITUDE = 'longitude'\n",
    "ALTITUDE = 'altitude (m)'\n",
    "CURRENT_ADRESS = 'current_adress'\n",
    "STATION = 'stationCity'"
   ]
  },
  {
   "cell_type": "code",
   "execution_count": 5,
   "metadata": {
    "collapsed": false
   },
   "outputs": [
    {
     "data": {
      "text/html": [
       "<div>\n",
       "<table border=\"1\" class=\"dataframe\">\n",
       "  <thead>\n",
       "    <tr style=\"text-align: right;\">\n",
       "      <th></th>\n",
       "      <th>Unnamed: 0</th>\n",
       "      <th>altitude (m)</th>\n",
       "      <th>current_adress</th>\n",
       "      <th>lattitude</th>\n",
       "      <th>longitude</th>\n",
       "      <th>stationCity</th>\n",
       "    </tr>\n",
       "  </thead>\n",
       "  <tbody>\n",
       "    <tr>\n",
       "      <th>0</th>\n",
       "      <td>0</td>\n",
       "      <td>1325.0</td>\n",
       "      <td>http://www.infoclimat.fr/observations-meteo/te...</td>\n",
       "      <td>46.30</td>\n",
       "      <td>7.34</td>\n",
       "      <td>Adelboden</td>\n",
       "    </tr>\n",
       "    <tr>\n",
       "      <th>1</th>\n",
       "      <td>1</td>\n",
       "      <td>383.0</td>\n",
       "      <td>http://www.infoclimat.fr/observations-meteo/te...</td>\n",
       "      <td>46.33</td>\n",
       "      <td>6.92</td>\n",
       "      <td>Aigle</td>\n",
       "    </tr>\n",
       "    <tr>\n",
       "      <th>2</th>\n",
       "      <td>2</td>\n",
       "      <td>445.0</td>\n",
       "      <td>http://www.infoclimat.fr/observations-meteo/te...</td>\n",
       "      <td>45.93</td>\n",
       "      <td>8.28</td>\n",
       "      <td>Alpnach</td>\n",
       "    </tr>\n",
       "    <tr>\n",
       "      <th>3</th>\n",
       "      <td>3</td>\n",
       "      <td>449.0</td>\n",
       "      <td>http://www.infoclimat.fr/observations-meteo/te...</td>\n",
       "      <td>46.87</td>\n",
       "      <td>8.63</td>\n",
       "      <td>Altdorf</td>\n",
       "    </tr>\n",
       "    <tr>\n",
       "      <th>4</th>\n",
       "      <td>4</td>\n",
       "      <td>0.0</td>\n",
       "      <td>http://www.infoclimat.fr/observations-meteo/te...</td>\n",
       "      <td>47.48</td>\n",
       "      <td>9.57</td>\n",
       "      <td>Altenrhein</td>\n",
       "    </tr>\n",
       "  </tbody>\n",
       "</table>\n",
       "</div>"
      ],
      "text/plain": [
       "   Unnamed: 0  altitude (m)  \\\n",
       "0           0        1325.0   \n",
       "1           1         383.0   \n",
       "2           2         445.0   \n",
       "3           3         449.0   \n",
       "4           4           0.0   \n",
       "\n",
       "                                      current_adress  lattitude  longitude  \\\n",
       "0  http://www.infoclimat.fr/observations-meteo/te...      46.30       7.34   \n",
       "1  http://www.infoclimat.fr/observations-meteo/te...      46.33       6.92   \n",
       "2  http://www.infoclimat.fr/observations-meteo/te...      45.93       8.28   \n",
       "3  http://www.infoclimat.fr/observations-meteo/te...      46.87       8.63   \n",
       "4  http://www.infoclimat.fr/observations-meteo/te...      47.48       9.57   \n",
       "\n",
       "  stationCity  \n",
       "0   Adelboden  \n",
       "1       Aigle  \n",
       "2     Alpnach  \n",
       "3     Altdorf  \n",
       "4  Altenrhein  "
      ]
     },
     "execution_count": 5,
     "metadata": {},
     "output_type": "execute_result"
    }
   ],
   "source": [
    "resultStation = pd.read_csv('./MeteoInformation/InformationStation.csv', dtype={\n",
    "                                                    LATITUDE: 'float',\n",
    "                                                    LONGITUDE: 'float',\n",
    "                                                    ALTITUDE: 'float'\n",
    "                                                 })\n",
    "resultStation.head()"
   ]
  },
  {
   "cell_type": "code",
   "execution_count": 6,
   "metadata": {
    "collapsed": false
   },
   "outputs": [],
   "source": [
    "def getDistanceFromLatLonInKm(lat1,lon1,lat2,lon2) : \n",
    "  R = 6371 # Radius of the earth in km\n",
    "  dLat = deg2rad(lat2-lat1)  # deg2rad below\n",
    "  dLon = deg2rad(lon2-lon1) \n",
    "  a = ( \n",
    "        math.sin(dLat/2) * math.sin(dLat/2) +\n",
    "        math.cos(deg2rad(lat1)) * math.cos(deg2rad(lat2)) * \n",
    "        math.sin(dLon/2) * math.sin(dLon/2)\n",
    "      )\n",
    "  c = 2 * math.atan2(math.sqrt(a), math.sqrt(1-a)); \n",
    "  d = R * c; # Distance in km\n",
    "  return d;\n",
    "\n",
    "\n",
    "def deg2rad(deg) :\n",
    "  return deg * (math.pi/180)\n"
   ]
  },
  {
   "cell_type": "code",
   "execution_count": 7,
   "metadata": {
    "collapsed": false
   },
   "outputs": [
    {
     "data": {
      "text/plain": [
       "157.22543203807288"
      ]
     },
     "execution_count": 7,
     "metadata": {},
     "output_type": "execute_result"
    }
   ],
   "source": [
    "getDistanceFromLatLonInKm(1,1,2,2)"
   ]
  },
  {
   "cell_type": "code",
   "execution_count": 30,
   "metadata": {
    "collapsed": false
   },
   "outputs": [
    {
     "ename": "SyntaxError",
     "evalue": "invalid syntax (<ipython-input-30-90603d959b9f>, line 1)",
     "output_type": "error",
     "traceback": [
      "\u001b[0;36m  File \u001b[0;32m\"<ipython-input-30-90603d959b9f>\"\u001b[0;36m, line \u001b[0;32m1\u001b[0m\n\u001b[0;31m    http://www.infoclimat.fr/observations-meteo/archives/18/juin/2016/grand-saint-bernhard/06717.html\u001b[0m\n\u001b[0m        ^\u001b[0m\n\u001b[0;31mSyntaxError\u001b[0m\u001b[0;31m:\u001b[0m invalid syntax\n"
     ]
    }
   ],
   "source": [
    "http://www.infoclimat.fr/observations-meteo/archives/18/juin/2016/grand-saint-bernhard/06717.html"
   ]
  },
  {
   "cell_type": "code",
   "execution_count": 54,
   "metadata": {
    "collapsed": false
   },
   "outputs": [],
   "source": [
    "def getInformationCloser(lattitude,longitude,date): \n",
    "    \n",
    "    tempDataframe = resultStation.copy()\n",
    "    tempDataframe['DistanceKm'] =  tempDataframe.apply(lambda x :getDistanceFromLatLonInKm(x.lattitude,x.longitude,lattitude,longitude),axis=1)\n",
    "    index_min = tempDataframe['DistanceKm'].idxmin()\n",
    "    row_min_distance = tempDataframe.iloc[index_min]\n",
    "    print(date.day)\n",
    "    print(date.year)\n",
    "    print(date.month)\n",
    "\n",
    "    print(date_to_string)\n",
    "    \n",
    "    return tempDataframe"
   ]
  },
  {
   "cell_type": "code",
   "execution_count": 55,
   "metadata": {
    "collapsed": false
   },
   "outputs": [
    {
     "name": "stdout",
     "output_type": "stream",
     "text": [
      "18\n",
      "2016\n",
      "11\n",
      "18/November/18\n"
     ]
    },
    {
     "data": {
      "text/html": [
       "<div>\n",
       "<table border=\"1\" class=\"dataframe\">\n",
       "  <thead>\n",
       "    <tr style=\"text-align: right;\">\n",
       "      <th></th>\n",
       "      <th>Unnamed: 0</th>\n",
       "      <th>altitude (m)</th>\n",
       "      <th>current_adress</th>\n",
       "      <th>lattitude</th>\n",
       "      <th>longitude</th>\n",
       "      <th>stationCity</th>\n",
       "      <th>DistanceKm</th>\n",
       "    </tr>\n",
       "  </thead>\n",
       "  <tbody>\n",
       "    <tr>\n",
       "      <th>0</th>\n",
       "      <td>0</td>\n",
       "      <td>1325.0</td>\n",
       "      <td>http://www.infoclimat.fr/observations-meteo/te...</td>\n",
       "      <td>46.30</td>\n",
       "      <td>7.34</td>\n",
       "      <td>Adelboden</td>\n",
       "      <td>5074.886483</td>\n",
       "    </tr>\n",
       "    <tr>\n",
       "      <th>1</th>\n",
       "      <td>1</td>\n",
       "      <td>383.0</td>\n",
       "      <td>http://www.infoclimat.fr/observations-meteo/te...</td>\n",
       "      <td>46.33</td>\n",
       "      <td>6.92</td>\n",
       "      <td>Aigle</td>\n",
       "      <td>5073.367248</td>\n",
       "    </tr>\n",
       "    <tr>\n",
       "      <th>2</th>\n",
       "      <td>2</td>\n",
       "      <td>445.0</td>\n",
       "      <td>http://www.infoclimat.fr/observations-meteo/te...</td>\n",
       "      <td>45.93</td>\n",
       "      <td>8.28</td>\n",
       "      <td>Alpnach</td>\n",
       "      <td>5046.361040</td>\n",
       "    </tr>\n",
       "    <tr>\n",
       "      <th>3</th>\n",
       "      <td>3</td>\n",
       "      <td>449.0</td>\n",
       "      <td>http://www.infoclimat.fr/observations-meteo/te...</td>\n",
       "      <td>46.87</td>\n",
       "      <td>8.63</td>\n",
       "      <td>Altdorf</td>\n",
       "      <td>5154.013324</td>\n",
       "    </tr>\n",
       "    <tr>\n",
       "      <th>4</th>\n",
       "      <td>4</td>\n",
       "      <td>0.0</td>\n",
       "      <td>http://www.infoclimat.fr/observations-meteo/te...</td>\n",
       "      <td>47.48</td>\n",
       "      <td>9.57</td>\n",
       "      <td>Altenrhein</td>\n",
       "      <td>5234.307118</td>\n",
       "    </tr>\n",
       "  </tbody>\n",
       "</table>\n",
       "</div>"
      ],
      "text/plain": [
       "   Unnamed: 0  altitude (m)  \\\n",
       "0           0        1325.0   \n",
       "1           1         383.0   \n",
       "2           2         445.0   \n",
       "3           3         449.0   \n",
       "4           4           0.0   \n",
       "\n",
       "                                      current_adress  lattitude  longitude  \\\n",
       "0  http://www.infoclimat.fr/observations-meteo/te...      46.30       7.34   \n",
       "1  http://www.infoclimat.fr/observations-meteo/te...      46.33       6.92   \n",
       "2  http://www.infoclimat.fr/observations-meteo/te...      45.93       8.28   \n",
       "3  http://www.infoclimat.fr/observations-meteo/te...      46.87       8.63   \n",
       "4  http://www.infoclimat.fr/observations-meteo/te...      47.48       9.57   \n",
       "\n",
       "  stationCity   DistanceKm  \n",
       "0   Adelboden  5074.886483  \n",
       "1       Aigle  5073.367248  \n",
       "2     Alpnach  5046.361040  \n",
       "3     Altdorf  5154.013324  \n",
       "4  Altenrhein  5234.307118  "
      ]
     },
     "execution_count": 55,
     "metadata": {},
     "output_type": "execute_result"
    }
   ],
   "source": [
    "test = getInformationCloser(1,1,datetime.date.today())\n",
    "test.head()"
   ]
  },
  {
   "cell_type": "code",
   "execution_count": null,
   "metadata": {
    "collapsed": true
   },
   "outputs": [],
   "source": []
  }
 ],
 "metadata": {
  "anaconda-cloud": {},
  "kernelspec": {
   "display_name": "Python [Root]",
   "language": "python",
   "name": "Python [Root]"
  },
  "language_info": {
   "codemirror_mode": {
    "name": "ipython",
    "version": 3
   },
   "file_extension": ".py",
   "mimetype": "text/x-python",
   "name": "python",
   "nbconvert_exporter": "python",
   "pygments_lexer": "ipython3",
   "version": "3.5.2"
  }
 },
 "nbformat": 4,
 "nbformat_minor": 0
}
