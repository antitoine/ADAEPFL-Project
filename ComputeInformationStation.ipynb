{
 "cells": [
  {
   "cell_type": "code",
   "execution_count": null,
   "metadata": {
    "collapsed": true
   },
   "outputs": [],
   "source": [
    "# request import\n",
    "import requests as rq\n",
    "\n",
    "# BSoup imports\n",
    "import urllib.request\n",
    "from bs4 import BeautifulSoup as BSoup\n",
    "\n",
    "# Selenium imports\n",
    "from selenium import webdriver\n",
    "from selenium.webdriver.common.keys import Keys\n",
    "from selenium.common.exceptions import NoSuchElementException, StaleElementReferenceException\n",
    "from selenium.webdriver.support.ui import WebDriverWait\n",
    "from selenium.webdriver.support.ui import Select\n",
    "\n",
    "# Pandas imports\n",
    "import pandas as pd\n",
    "import numpy as np\n",
    "import matplotlib.pyplot as plt\n",
    "\n",
    "# Utils import\n",
    "import os\n",
    "import random\n",
    "import collections\n",
    "import string\n",
    "import time\n",
    "import math"
   ]
  },
  {
   "cell_type": "code",
   "execution_count": null,
   "metadata": {
    "collapsed": true
   },
   "outputs": [],
   "source": [
    "DATA_FILE = './DataMeteo/StationInformation.csv'\n",
    "FILTER_URL = 'http://www.infoclimat.fr/observations-meteo/temps-reel/lausanne/06710.html'\n",
    "LATITUDE = 'lattitude'\n",
    "LONGITUDE = 'longitude'\n",
    "ALTITUDE = 'altitude (m)'\n",
    "CURRENT_ADRESS = 'current_adress'\n",
    "STATION = 'stationCity'"
   ]
  },
  {
   "cell_type": "code",
   "execution_count": null,
   "metadata": {
    "collapsed": false
   },
   "outputs": [],
   "source": [
    "resultStation = pd.read_csv('./MeteoInformation/InformationStation.csv', dtype={\n",
    "                                                    LATITUDE: 'float',\n",
    "                                                    LONGITUDE: 'float',\n",
    "                                                    ALTITUDE: 'float'\n",
    "                                                 })\n",
    "resultStation.head()"
   ]
  },
  {
   "cell_type": "code",
   "execution_count": null,
   "metadata": {
    "collapsed": false
   },
   "outputs": [],
   "source": [
    "def getDistanceFromLatLonInKm(lat1,lon1,lat2,lon2) : \n",
    "  R = 6371 # Radius of the earth in km\n",
    "  dLat = deg2rad(lat2-lat1)  # deg2rad below\n",
    "  dLon = deg2rad(lon2-lon1) \n",
    "  a = ( \n",
    "        math.sin(dLat/2) * math.sin(dLat/2) +\n",
    "        math.cos(deg2rad(lat1)) * math.cos(deg2rad(lat2)) * \n",
    "        math.sin(dLon/2) * math.sin(dLon/2)\n",
    "      )\n",
    "  c = 2 * math.atan2(math.sqrt(a), math.sqrt(1-a)); \n",
    "  d = R * c; # Distance in km\n",
    "  return d;\n",
    "\n",
    "\n",
    "def deg2rad(deg) :\n",
    "  return deg * (math.pi/180)\n"
   ]
  },
  {
   "cell_type": "code",
   "execution_count": null,
   "metadata": {
    "collapsed": false
   },
   "outputs": [],
   "source": [
    "getDistanceFromLatLonInKm(1,1,2,2)"
   ]
  },
  {
   "cell_type": "code",
   "execution_count": null,
   "metadata": {
    "collapsed": false
   },
   "outputs": [],
   "source": [
    "def getInformationCloser(lattitude,longitude): \n",
    "    tempDataframe = resultStation.copy()\n",
    "    tempDataframe['DistanceKm'] =  tempDataframe.apply(lambda x :getDistanceFromLatLonInKm(x.lattitude,x.longitude,lattitude,longitude),axis=1)\n",
    "    return tempDataframe"
   ]
  },
  {
   "cell_type": "code",
   "execution_count": null,
   "metadata": {
    "collapsed": false
   },
   "outputs": [],
   "source": [
    "test = getInformationCloser(1,1)\n",
    "test.head()"
   ]
  }
 ],
 "metadata": {
  "anaconda-cloud": {},
  "kernelspec": {
   "display_name": "Python [Root]",
   "language": "python",
   "name": "Python [Root]"
  },
  "language_info": {
   "codemirror_mode": {
    "name": "ipython",
    "version": 3
   },
   "file_extension": ".py",
   "mimetype": "text/x-python",
   "name": "python",
   "nbconvert_exporter": "python",
   "pygments_lexer": "ipython3",
   "version": "3.5.2"
  }
 },
 "nbformat": 4,
 "nbformat_minor": 0
}
