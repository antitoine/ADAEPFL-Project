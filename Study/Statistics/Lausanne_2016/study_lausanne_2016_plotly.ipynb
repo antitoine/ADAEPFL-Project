{
 "cells": [
  {
   "cell_type": "code",
   "execution_count": null,
   "metadata": {
    "collapsed": false
   },
   "outputs": [],
   "source": [
    "import pandas as pd\n",
    "import numpy as np\n",
    "import re\n",
    "import collections\n",
    "import ipywidgets as widgets\n",
    "import matplotlib.pyplot as plt\n",
    "%matplotlib inline\n",
    "from matplotlib.pyplot import show\n",
    "from IPython.display import display, clear_output\n",
    "import plotly\n",
    "plotly.offline.init_notebook_mode()\n",
    "import sys\n",
    "sys.path.append('..')\n",
    "%load_ext autoreload\n",
    "%autoreload 1\n",
    "%aimport study_utils\n",
    "%aimport lausanne_2016_plotly_utils"
   ]
  },
  {
   "cell_type": "code",
   "execution_count": null,
   "metadata": {
    "collapsed": false
   },
   "outputs": [],
   "source": [
    "# Constants\n",
    "PATH_TO_DATA = '../../Scraping/DataSport/Data/Lausanne_Marathon_2016.pickle'\n",
    "ALL_PERFORMANCE_CRITERIA = ['Time', 'Speed (m/s)']\n",
    "ALL_AGE_CATEGORIES = ['10-25 years', '26-30 years', '31-35 years', '36-40 years', '41-45 years', '46-50 years', '51-55 years', '56-60 years', '61-65 years', '65+ years']\n",
    "ALL_RUNNINGS = ['10 km', 'Semi-marathon', 'Marathon']\n",
    "ALL_COLUMN_CATEGORIES_AGE = ['Age', 'Age category']\n",
    "AGE_LABEL = widgets.Label(value='Age category')\n",
    "RUNNING_LABEL = widgets.Label(value='Running')\n",
    "COLUMN_CATEGORIES_AGE_LABEL = widgets.Label(value='Age/Age category')\n",
    "PERFORMANCE_LABEL = widgets.Label(value='Performance')"
   ]
  },
  {
   "cell_type": "markdown",
   "metadata": {},
   "source": [
    "**NOTE:**\n",
    "This Notebook contains the same results as *study_lausanne_2016.ipynb* but uses Plotly to display plots."
   ]
  },
  {
   "cell_type": "markdown",
   "metadata": {},
   "source": [
    "# Data wrangling"
   ]
  },
  {
   "cell_type": "markdown",
   "metadata": {},
   "source": [
    "In this first part, we retrieve data of Lausanne Marathon 2016 and we manipulate the different columns in order to exploit them during the analysis part."
   ]
  },
  {
   "cell_type": "markdown",
   "metadata": {},
   "source": [
    "First, we use the pickle format to allow faster import of the data, and correct formatting of some columns as date columns.\n",
    "\n",
    "Note: Same data are also available in CSV (readable format)."
   ]
  },
  {
   "cell_type": "code",
   "execution_count": null,
   "metadata": {
    "collapsed": false,
    "scrolled": false
   },
   "outputs": [],
   "source": [
    "lausanne_marathon_2016 = pd.read_pickle(PATH_TO_DATA)\n",
    "lausanne_marathon_2016.head()"
   ]
  },
  {
   "cell_type": "markdown",
   "metadata": {},
   "source": [
    "Some participants are part of categories which must be excluded as these categories are not representative or can be misleading for the analysis part."
   ]
  },
  {
   "cell_type": "code",
   "execution_count": null,
   "metadata": {
    "collapsed": false
   },
   "outputs": [],
   "source": [
    "lausanne_marathon_2016_cleaned = lausanne_marathon_2016[lausanne_marathon_2016.apply(study_utils.filter_participants, axis=1)].copy()"
   ]
  },
  {
   "cell_type": "markdown",
   "metadata": {},
   "source": [
    "Here, we know the categories of the runners and these categories contains sex information about the participants (for a given type of running, we have two subcategories for male and female runners, as usual in such sports). Thus, we use this information to create a new column giving the sex of each participants."
   ]
  },
  {
   "cell_type": "code",
   "execution_count": null,
   "metadata": {
    "collapsed": false
   },
   "outputs": [],
   "source": [
    "lausanne_marathon_2016_cleaned['sex'] = lausanne_marathon_2016_cleaned.apply(study_utils.get_sex_of_runner, axis=1)"
   ]
  },
  {
   "cell_type": "code",
   "execution_count": null,
   "metadata": {
    "collapsed": false
   },
   "outputs": [],
   "source": [
    "lausanne_marathon_2016_cleaned['sex'].value_counts(dropna=False)"
   ]
  },
  {
   "cell_type": "code",
   "execution_count": null,
   "metadata": {
    "collapsed": false
   },
   "outputs": [],
   "source": [
    "len(lausanne_marathon_2016_cleaned)"
   ]
  },
  {
   "cell_type": "markdown",
   "metadata": {},
   "source": [
    "At the end of this stage, we have a total of 11248 runners on whom we can run our analysis for Lausanne Marathon 2016."
   ]
  },
  {
   "cell_type": "markdown",
   "metadata": {},
   "source": [
    "We also extract from the category the fact that a runner is either junior or adult."
   ]
  },
  {
   "cell_type": "code",
   "execution_count": null,
   "metadata": {
    "collapsed": false
   },
   "outputs": [],
   "source": [
    "lausanne_marathon_2016_cleaned['type'] = lausanne_marathon_2016_cleaned.apply(study_utils.get_type_of_runner, axis=1)"
   ]
  },
  {
   "cell_type": "markdown",
   "metadata": {},
   "source": [
    "We also transform the *number* and *rank* columns, as they contain integer."
   ]
  },
  {
   "cell_type": "code",
   "execution_count": null,
   "metadata": {
    "collapsed": true
   },
   "outputs": [],
   "source": [
    "lausanne_marathon_2016_cleaned['number'] = lausanne_marathon_2016_cleaned['number'].apply(lambda x : int(float(x)))"
   ]
  },
  {
   "cell_type": "code",
   "execution_count": null,
   "metadata": {
    "collapsed": false,
    "scrolled": true
   },
   "outputs": [],
   "source": [
    "lausanne_marathon_2016_cleaned['rank'] = lausanne_marathon_2016_cleaned['rank'].apply(lambda x : int(float(x)))"
   ]
  },
  {
   "cell_type": "code",
   "execution_count": null,
   "metadata": {
    "collapsed": false
   },
   "outputs": [],
   "source": [
    "lausanne_marathon_2016_cleaned.head()"
   ]
  },
  {
   "cell_type": "markdown",
   "metadata": {},
   "source": [
    "We also compute the age of runner based on the birthyear, to easily manipulate such information later."
   ]
  },
  {
   "cell_type": "code",
   "execution_count": null,
   "metadata": {
    "collapsed": false
   },
   "outputs": [],
   "source": [
    "lausanne_marathon_2016_cleaned['age'] = lausanne_marathon_2016_cleaned.apply(study_utils.compute_age_of_runner, axis=1)\n",
    "lausanne_marathon_2016_cleaned['age'] = lausanne_marathon_2016_cleaned['age'].apply(lambda x : int(float(x)))"
   ]
  },
  {
   "cell_type": "code",
   "execution_count": null,
   "metadata": {
    "collapsed": true
   },
   "outputs": [],
   "source": [
    "lausanne_marathon_2016_cleaned['age category'] = pd.cut(lausanne_marathon_2016_cleaned['age'], [10, 26, 31, 36, 41, 46, 51, 56, 61, 66, 100], labels=ALL_AGE_CATEGORIES, right=False)"
   ]
  },
  {
   "cell_type": "markdown",
   "metadata": {},
   "source": [
    "If the time is in readable-format, it is difficult to use it this way for analysis as comparison can be misleading. For this reason, we decide to store time in raw format (i.e. number of seconds, without any format)."
   ]
  },
  {
   "cell_type": "code",
   "execution_count": null,
   "metadata": {
    "collapsed": false
   },
   "outputs": [],
   "source": [
    "lausanne_marathon_2016_cleaned['time'] = lausanne_marathon_2016_cleaned.apply(study_utils.format_time, axis=1)"
   ]
  },
  {
   "cell_type": "markdown",
   "metadata": {},
   "source": [
    "Moreover, we store the type of running the participants did."
   ]
  },
  {
   "cell_type": "code",
   "execution_count": null,
   "metadata": {
    "collapsed": false
   },
   "outputs": [],
   "source": [
    "lausanne_marathon_2016_cleaned['distance (km)'] = lausanne_marathon_2016_cleaned.apply(study_utils.compute_distance_from_category, axis=1)"
   ]
  },
  {
   "cell_type": "markdown",
   "metadata": {},
   "source": [
    "We also need to compute the speed by kilometer for each runners."
   ]
  },
  {
   "cell_type": "code",
   "execution_count": null,
   "metadata": {
    "collapsed": false
   },
   "outputs": [],
   "source": [
    "lausanne_marathon_2016_cleaned['speed (m/s)'] = lausanne_marathon_2016_cleaned['distance (km)']*1000/lausanne_marathon_2016_cleaned['time']\n",
    "lausanne_marathon_2016_cleaned['profile'] = lausanne_marathon_2016_cleaned.apply(study_utils.compute_run_in_team, axis=1)"
   ]
  },
  {
   "cell_type": "markdown",
   "metadata": {},
   "source": [
    "Finally, we make three distinct sets of data (10 km, semi-marathon and marathon)."
   ]
  },
  {
   "cell_type": "code",
   "execution_count": null,
   "metadata": {
    "collapsed": false
   },
   "outputs": [],
   "source": [
    "lausanne_marathon_2016_10km = lausanne_marathon_2016_cleaned[lausanne_marathon_2016_cleaned['distance (km)'] == 10]\n",
    "lausanne_marathon_2016_21km = lausanne_marathon_2016_cleaned[lausanne_marathon_2016_cleaned['distance (km)'] == 21]\n",
    "lausanne_marathon_2016_42km = lausanne_marathon_2016_cleaned[lausanne_marathon_2016_cleaned['distance (km)'] == 42]"
   ]
  },
  {
   "cell_type": "markdown",
   "metadata": {},
   "source": [
    "Note that for some graphs, it will be necessary to use time as datetime, so we create a DataFrame accordingly."
   ]
  },
  {
   "cell_type": "code",
   "execution_count": null,
   "metadata": {
    "collapsed": true
   },
   "outputs": [],
   "source": [
    "lausanne_marathon_2016_cleaned_with_datetime = lausanne_marathon_2016_cleaned.copy()\n",
    "lausanne_marathon_2016_cleaned_with_datetime['time'] = pd.to_datetime([study_utils.convert_seconds_to_time(t) for t in lausanne_marathon_2016_cleaned['time']], format='%H:%M:%S')"
   ]
  },
  {
   "cell_type": "code",
   "execution_count": null,
   "metadata": {
    "collapsed": false,
    "scrolled": true
   },
   "outputs": [],
   "source": [
    "lausanne_marathon_2016_cleaned.to_pickle('./Data/Lausanne_Marathon_2016_cleaned.pickle')"
   ]
  },
  {
   "cell_type": "markdown",
   "metadata": {
    "collapsed": true
   },
   "source": [
    "# Complete study"
   ]
  },
  {
   "cell_type": "markdown",
   "metadata": {},
   "source": [
    "## Overall study"
   ]
  },
  {
   "cell_type": "code",
   "execution_count": null,
   "metadata": {
    "collapsed": false,
    "scrolled": true
   },
   "outputs": [],
   "source": [
    "gender_distribution = lausanne_2016_plotly_utils.plot_gender_distributions(lausanne_marathon_2016_cleaned)"
   ]
  },
  {
   "cell_type": "markdown",
   "metadata": {},
   "source": [
    "As we can see, Lausanne Marathon race had a significantly higher percentage of male runners than female ones comparing to gender distribution of Canton of Vaud, which is equal regarding male and female."
   ]
  },
  {
   "cell_type": "code",
   "execution_count": null,
   "metadata": {
    "collapsed": false,
    "scrolled": false
   },
   "outputs": [],
   "source": [
    "gender_distribution_runnings = lausanne_2016_plotly_utils.plot_gender_distribution_according_to_running_type(lausanne_marathon_2016_cleaned)"
   ]
  },
  {
   "cell_type": "markdown",
   "metadata": {},
   "source": [
    "We also see an interesting thing is that for 10 km running, distribution between male and female runners is similar, while for semi-marathon and marathon, we observe a clear difference between the repartition! According to the new direction of the Lausanne Marathon, there is a reason behind this observation.\n",
    "\n",
    "> \"Women don't even dare start the race unless they are totaly sure about mastering the distance, unlike men who sometimes finish completely exhausted.”\n",
    ">\n",
    "> Source: <a href=\"https://www.rts.ch/sport/athletisme/1258113-le-marathon-de-lausanne-change-dorientation.html\">RTSSport (FR)</a>"
   ]
  },
  {
   "cell_type": "code",
   "execution_count": null,
   "metadata": {
    "collapsed": false,
    "scrolled": false
   },
   "outputs": [],
   "source": [
    "distribution_by_types = lausanne_2016_plotly_utils.plot_distribution_between_types_of_participants(lausanne_marathon_2016_cleaned)"
   ]
  },
  {
   "cell_type": "markdown",
   "metadata": {},
   "source": [
    "Not surprinsingly, very minor part of runners were young runners in Lausanne Marathon of 2016. Indeed, these runnings ask a lot of effort and are very difficult for juniors runners."
   ]
  },
  {
   "cell_type": "markdown",
   "metadata": {},
   "source": [
    "## Demographic study"
   ]
  },
  {
   "cell_type": "markdown",
   "metadata": {},
   "source": [
    "In this part, we plan to focus on age of runners, but also the place from which they come."
   ]
  },
  {
   "cell_type": "markdown",
   "metadata": {},
   "source": [
    "We first display the age distribution of runners in the marathon 2016 of Lausanne."
   ]
  },
  {
   "cell_type": "code",
   "execution_count": null,
   "metadata": {
    "collapsed": false,
    "scrolled": false
   },
   "outputs": [],
   "source": [
    "age_distribution = lausanne_2016_plotly_utils.plot_age_distribution(lausanne_marathon_2016_cleaned)"
   ]
  },
  {
   "cell_type": "markdown",
   "metadata": {},
   "source": [
    "We can notice that, globally, the average age of runners is 39 years. We also observe the conclusion we previously made (i.e. male runners are younger than female ones as women wait before trying to participate to a semi-marathon or a marathon)."
   ]
  },
  {
   "cell_type": "code",
   "execution_count": null,
   "metadata": {
    "collapsed": false,
    "scrolled": false
   },
   "outputs": [],
   "source": [
    "distribution_age_category_distance = lausanne_2016_plotly_utils.plot_distribution_age_distance(data=lausanne_marathon_2016_cleaned)"
   ]
  },
  {
   "cell_type": "markdown",
   "metadata": {},
   "source": [
    "Here, the important fact is that average age of runners tends to increase when number of kilometers of a runnings is increasing. This can be explained by the fact that it takes time before mastering such races like semi-marathons and marathons."
   ]
  },
  {
   "cell_type": "markdown",
   "metadata": {},
   "source": [
    "### Performance according to age of participants"
   ]
  },
  {
   "cell_type": "markdown",
   "metadata": {},
   "source": [
    "#### Overall analysis"
   ]
  },
  {
   "cell_type": "code",
   "execution_count": null,
   "metadata": {
    "collapsed": false,
    "scrolled": false
   },
   "outputs": [],
   "source": [
    "# Creation of figures\n",
    "time_distribution_by_age = lausanne_2016_plotly_utils.plot_time_distribution_by_age(data=lausanne_marathon_2016_cleaned_with_datetime, age_column_name='age category')"
   ]
  },
  {
   "cell_type": "code",
   "execution_count": null,
   "metadata": {
    "collapsed": false
   },
   "outputs": [],
   "source": [
    "def plot_time_distribution():\n",
    "    clear_output()\n",
    "    data = time_distribution_by_age[selected_age_category_time_distribution]\n",
    "    plotly.offline.iplot(data)\n",
    "\n",
    "def update_age_category_time_distribution(change):\n",
    "    if change['new'] not in ALL_AGE_CATEGORIES:\n",
    "        return\n",
    "    global selected_age_category_time_distribution\n",
    "    selected_age_category_time_distribution = change['new']\n",
    "    plot_time_distribution()\n",
    "\n",
    "# Default selection\n",
    "selected_age_category_time_distribution = '10-25 years'\n",
    "\n",
    "# Widget for age categories\n",
    "age_categories_time_distribution_widget = widgets.Dropdown(options=ALL_AGE_CATEGORIES, value=selected_age_category_time_distribution)\n",
    "age_categories_time_distribution_widget.observe(update_age_category_time_distribution)"
   ]
  },
  {
   "cell_type": "code",
   "execution_count": null,
   "metadata": {
    "collapsed": false
   },
   "outputs": [],
   "source": [
    "display(AGE_LABEL)\n",
    "display(age_categories_time_distribution_widget)\n",
    "plot_time_distribution()"
   ]
  },
  {
   "cell_type": "markdown",
   "metadata": {},
   "source": [
    "#### Performance by runnings"
   ]
  },
  {
   "cell_type": "markdown",
   "metadata": {},
   "source": [
    "First we create the figures."
   ]
  },
  {
   "cell_type": "code",
   "execution_count": null,
   "metadata": {
    "collapsed": false,
    "scrolled": true
   },
   "outputs": [],
   "source": [
    "# Creation of figures\n",
    "performance_by_age_and_age_category = lausanne_2016_plotly_utils.generate_performance_by_age_and_age_category(lausanne_marathon_2016_cleaned_with_datetime)"
   ]
  },
  {
   "cell_type": "markdown",
   "metadata": {},
   "source": [
    "Then we create widget with its associated handler."
   ]
  },
  {
   "cell_type": "code",
   "execution_count": null,
   "metadata": {
    "collapsed": false
   },
   "outputs": [],
   "source": [
    "def plot_performance_distribution():\n",
    "    clear_output()\n",
    "    data = performance_by_age_and_age_category[selected_running_performance_distribution]\n",
    "    plotly.offline.iplot(data)\n",
    "    \n",
    "def update_running_performance_distribution(change):\n",
    "    if change['new'] not in ALL_RUNNINGS:\n",
    "        return\n",
    "    global selected_running_performance_distribution\n",
    "    selected_running_performance_distribution = change['new']\n",
    "    plot_performance_distribution()\n",
    "\n",
    "# Default selection\n",
    "selected_running_performance_distribution = 'Marathon'\n",
    "\n",
    "# Widget for age categories\n",
    "running_performance_distribution_widget = widgets.Dropdown(options=ALL_RUNNINGS, value=selected_running_performance_distribution)\n",
    "running_performance_distribution_widget.observe(update_running_performance_distribution)"
   ]
  },
  {
   "cell_type": "markdown",
   "metadata": {},
   "source": [
    "Finally, we display the graph."
   ]
  },
  {
   "cell_type": "code",
   "execution_count": null,
   "metadata": {
    "collapsed": false
   },
   "outputs": [],
   "source": [
    "display(RUNNING_LABEL)\n",
    "display(running_performance_distribution_widget)\n",
    "plot_performance_distribution()"
   ]
  },
  {
   "cell_type": "markdown",
   "metadata": {},
   "source": [
    "#### Analysis of results"
   ]
  },
  {
   "cell_type": "markdown",
   "metadata": {},
   "source": [
    "Globally, we observe more real differences at the extremes. But are these differences significant? We decide to compute ANOVA and Tukey HSD to verify it."
   ]
  },
  {
   "cell_type": "code",
   "execution_count": null,
   "metadata": {
    "collapsed": false
   },
   "outputs": [],
   "source": [
    "results_10km = study_utils.compute_anova_and_tukey_hsd(lausanne_marathon_2016_10km, 'age category', 'time')\n",
    "print('F value: ' + str(results_10km['f_value']) + '\\nP value: ' + str(results_10km['p_value']) + '\\n')\n",
    "results_10km['tukey_hsd'].rename(columns=lambda x: x.strip(), inplace=True)\n",
    "results_10km['tukey_hsd'].set_index(['group1', 'group2'])"
   ]
  },
  {
   "cell_type": "code",
   "execution_count": null,
   "metadata": {
    "collapsed": false
   },
   "outputs": [],
   "source": [
    "results_21km = study_utils.compute_anova_and_tukey_hsd(lausanne_marathon_2016_21km, 'age category', 'time')\n",
    "print('F value: ' + str(results_21km['f_value']) + '\\nP value: ' + str(results_21km['p_value']) + '\\n')\n",
    "results_21km['tukey_hsd'].rename(columns=lambda x: x.strip(), inplace=True)\n",
    "results_21km['tukey_hsd'].set_index(['group1', 'group2'])"
   ]
  },
  {
   "cell_type": "code",
   "execution_count": null,
   "metadata": {
    "collapsed": false
   },
   "outputs": [],
   "source": [
    "results_42km = study_utils.compute_anova_and_tukey_hsd(lausanne_marathon_2016_42km, 'age category', 'time')\n",
    "print('F value: ' + str(results_42km['f_value']) + '\\nP value: ' + str(results_42km['p_value']) + '\\n')\n",
    "results_42km['tukey_hsd'].rename(columns=lambda x: x.strip(), inplace=True)\n",
    "results_42km['tukey_hsd'].set_index(['group1', 'group2'])"
   ]
  },
  {
   "cell_type": "markdown",
   "metadata": {},
   "source": [
    "In all the cases, p value is extremly low. This means that we can reject null hypothesis H0 and conclude safely that there are significant differences between age categories!"
   ]
  },
  {
   "cell_type": "markdown",
   "metadata": {},
   "source": [
    "## Effective performance according to BIB number"
   ]
  },
  {
   "cell_type": "markdown",
   "metadata": {},
   "source": [
    "First we create figures."
   ]
  },
  {
   "cell_type": "code",
   "execution_count": null,
   "metadata": {
    "collapsed": false,
    "scrolled": false
   },
   "outputs": [],
   "source": [
    "time_distribution_by_bib_numbers = lausanne_2016_plotly_utils.generate_time_distribution_by_bib_numbers(data=lausanne_marathon_2016_cleaned_with_datetime, performance_criteria=ALL_PERFORMANCE_CRITERIA)"
   ]
  },
  {
   "cell_type": "markdown",
   "metadata": {},
   "source": [
    "Then we create widget accordingly."
   ]
  },
  {
   "cell_type": "code",
   "execution_count": null,
   "metadata": {
    "collapsed": true
   },
   "outputs": [],
   "source": [
    "def plot_bib_distribution():\n",
    "    clear_output()\n",
    "    data = time_distribution_by_bib_numbers[selected_performance_criterion_bib_distribution]\n",
    "    plotly.offline.iplot(data)\n",
    "    \n",
    "def update_performance_criterion_bib_distribution(change):\n",
    "    if change['new'] not in ALL_PERFORMANCE_CRITERIA:\n",
    "        return\n",
    "    global selected_performance_criterion_bib_distribution\n",
    "    selected_performance_criterion_bib_distribution = change['new']\n",
    "    plot_bib_distribution()\n",
    "\n",
    "# Default selection\n",
    "selected_performance_criterion_bib_distribution = 'Time'\n",
    "\n",
    "# Widget for age categories\n",
    "bib_distribution_widget = widgets.Dropdown(options=ALL_PERFORMANCE_CRITERIA, value=selected_performance_criterion_bib_distribution)\n",
    "bib_distribution_widget.observe(update_performance_criterion_bib_distribution)"
   ]
  },
  {
   "cell_type": "markdown",
   "metadata": {},
   "source": [
    "Finally, we display graph."
   ]
  },
  {
   "cell_type": "code",
   "execution_count": null,
   "metadata": {
    "collapsed": false
   },
   "outputs": [],
   "source": [
    "display(PERFORMANCE_LABEL)\n",
    "display(bib_distribution_widget)\n",
    "plot_bib_distribution()"
   ]
  },
  {
   "cell_type": "markdown",
   "metadata": {},
   "source": [
    "We can recognize three major patterns following the BIB number of participants. Indeed, for each subdivisions, the higher the BIB number is, the lower the performance time is, globally.\n",
    "\n",
    "Notice that BIB numbers are given by the organizators of Lausanne Marathon, and as we can read on <a href=\"http://fr.lausanne-marathon.com/inscription/inscriptions/inscription-online/\">the official website</a>, each participant is asked to indicate his \"estimated time of running for the attribution of start blocks\", in oder to categorize the runners accordingly."
   ]
  },
  {
   "cell_type": "markdown",
   "metadata": {},
   "source": [
    "## Study by sex"
   ]
  },
  {
   "cell_type": "code",
   "execution_count": null,
   "metadata": {
    "collapsed": false,
    "scrolled": false
   },
   "outputs": [],
   "source": [
    "speed_distribution_by_running = lausanne_2016_plotly_utils.plot_speed_distribution_by_running(lausanne_marathon_2016_cleaned_with_datetime)"
   ]
  },
  {
   "cell_type": "markdown",
   "metadata": {},
   "source": [
    "As we can expect the fastest runners have made the 10 km, as the distance is shorter, the speed by kilometer can be greater.\n",
    "\n",
    "But unexpectedly the average speed seems very close between runners despite the difference of the distance, in order to understand this phenomenon we need to go further in the study and study the past of runners."
   ]
  },
  {
   "cell_type": "markdown",
   "metadata": {},
   "source": [
    "### Statistical analysis"
   ]
  },
  {
   "cell_type": "markdown",
   "metadata": {},
   "source": [
    "** Overview **"
   ]
  },
  {
   "cell_type": "code",
   "execution_count": null,
   "metadata": {
    "collapsed": false,
    "scrolled": false
   },
   "outputs": [],
   "source": [
    "performance_comparison = lausanne_2016_plotly_utils.generate_performance_comparison(data=lausanne_marathon_2016_cleaned_with_datetime)"
   ]
  },
  {
   "cell_type": "markdown",
   "metadata": {},
   "source": [
    "Following the boxplots, differences seem to be significant."
   ]
  },
  {
   "cell_type": "markdown",
   "metadata": {},
   "source": [
    "** 10 km running **"
   ]
  },
  {
   "cell_type": "code",
   "execution_count": null,
   "metadata": {
    "collapsed": false
   },
   "outputs": [],
   "source": [
    "results_10km = study_utils.compute_anova_and_tukey_hsd(lausanne_marathon_2016_10km, 'sex', 'speed (m/s)')\n",
    "print('F value: ' + str(results_10km['f_value']) + '\\nP value: ' + str(results_10km['p_value']) + '\\n')\n",
    "results_10km['tukey_hsd'].rename(columns=lambda x: x.strip(), inplace=True)\n",
    "results_10km['tukey_hsd'].set_index(['group1', 'group2'])"
   ]
  },
  {
   "cell_type": "markdown",
   "metadata": {},
   "source": [
    "** Semi-marathon **"
   ]
  },
  {
   "cell_type": "code",
   "execution_count": null,
   "metadata": {
    "collapsed": false
   },
   "outputs": [],
   "source": [
    "results_21km = study_utils.compute_anova_and_tukey_hsd(lausanne_marathon_2016_21km, 'sex', 'speed (m/s)')\n",
    "print('F value: ' + str(results_21km['f_value']) + '\\nP value: ' + str(results_21km['p_value']) + '\\n')\n",
    "results_21km['tukey_hsd'].rename(columns=lambda x: x.strip(), inplace=True)\n",
    "results_21km['tukey_hsd'].set_index(['group1', 'group2'])"
   ]
  },
  {
   "cell_type": "markdown",
   "metadata": {},
   "source": [
    "** Marathon **"
   ]
  },
  {
   "cell_type": "code",
   "execution_count": null,
   "metadata": {
    "collapsed": false
   },
   "outputs": [],
   "source": [
    "results_42km = study_utils.compute_anova_and_tukey_hsd(lausanne_marathon_2016_42km, 'sex', 'speed (m/s)')\n",
    "print('F value: ' + str(results_42km['f_value']) + '\\nP value: ' + str(results_42km['p_value']) + '\\n')\n",
    "results_42km['tukey_hsd'].rename(columns=lambda x: x.strip(), inplace=True)\n",
    "results_42km['tukey_hsd'].set_index(['group1', 'group2'])"
   ]
  },
  {
   "cell_type": "markdown",
   "metadata": {},
   "source": [
    "As we can see, no matter the running we consider, the difference between male and female is significant as we can reject H0 hypothesis. Notice that p-value is higher for the case of marathon, as the distribution seem to be more similar (see previous plots)."
   ]
  },
  {
   "cell_type": "markdown",
   "metadata": {},
   "source": [
    "## Focus on teams and single runners"
   ]
  },
  {
   "cell_type": "markdown",
   "metadata": {},
   "source": [
    "First, let's display the distribution of runners with and without teams."
   ]
  },
  {
   "cell_type": "code",
   "execution_count": null,
   "metadata": {
    "collapsed": false
   },
   "outputs": [],
   "source": [
    "runners_composition = lausanne_2016_plotly_utils.plot_runners_teams_individual_distribution_according_to_running_type(df=lausanne_marathon_2016_cleaned_with_datetime)"
   ]
  },
  {
   "cell_type": "markdown",
   "metadata": {},
   "source": [
    "The repartition individual/team seems quite equivalent between the different races offered by the event.\n",
    "The teams are more present in the 10 km. The distance seems more appropriate for the teams, it's short enough to be a good challenge between beginner friends."
   ]
  },
  {
   "cell_type": "markdown",
   "metadata": {},
   "source": [
    "### Statistical analysis"
   ]
  },
  {
   "cell_type": "markdown",
   "metadata": {},
   "source": [
    "Let's see if being in team has a real impact on the performance."
   ]
  },
  {
   "cell_type": "code",
   "execution_count": null,
   "metadata": {
    "collapsed": false,
    "scrolled": false
   },
   "outputs": [],
   "source": [
    "performance_comparison_by_profile = lausanne_2016_plotly_utils.generate_performance_comparison_by_profile(data=lausanne_marathon_2016_cleaned_with_datetime)"
   ]
  },
  {
   "cell_type": "code",
   "execution_count": null,
   "metadata": {
    "collapsed": false,
    "scrolled": true
   },
   "outputs": [],
   "source": [
    "lausanne_2016_plotly_utils.display_information_speed(lausanne_marathon_2016_cleaned)"
   ]
  },
  {
   "cell_type": "markdown",
   "metadata": {},
   "source": [
    "Actually the teams are better on average compared to individual runners, but the best performance comes from individual runners.\n",
    "From the graph above, we can notice that for \"average\" people, to be part of a team seems to be a motivational factor, compared to excellent runners who prefer doing the race alone."
   ]
  },
  {
   "cell_type": "markdown",
   "metadata": {},
   "source": [
    "Running ANOVA permits us to draw the same conclusion, as showed in the following results. Notice that for the marathon, p value is higher than for the other races as medians tend to be similar between the two categories (runners with and without team), even if it is not sufficiently high to maintain H0 hypothesis (i.e. similar distributions)."
   ]
  },
  {
   "cell_type": "code",
   "execution_count": null,
   "metadata": {
    "collapsed": false
   },
   "outputs": [],
   "source": [
    "results_teams_10km = study_utils.compute_anova_and_tukey_hsd(lausanne_marathon_2016_10km, 'profile', 'speed (m/s)')\n",
    "print('F value: ' + str(results_teams_10km['f_value']) + '\\nP value: ' + str(results_teams_10km['p_value']) + '\\n')\n",
    "results_teams_10km['tukey_hsd'].rename(columns=lambda x: x.strip(), inplace=True)\n",
    "results_teams_10km['tukey_hsd'].set_index(['group1', 'group2'])"
   ]
  },
  {
   "cell_type": "code",
   "execution_count": null,
   "metadata": {
    "collapsed": false
   },
   "outputs": [],
   "source": [
    "results_teams_21km = study_utils.compute_anova_and_tukey_hsd(lausanne_marathon_2016_21km, 'profile', 'speed (m/s)')\n",
    "print('F value: ' + str(results_teams_21km['f_value']) + '\\nP value: ' + str(results_teams_21km['p_value']) + '\\n')\n",
    "results_teams_21km['tukey_hsd'].rename(columns=lambda x: x.strip(), inplace=True)\n",
    "results_teams_21km['tukey_hsd'].set_index(['group1', 'group2'])"
   ]
  },
  {
   "cell_type": "code",
   "execution_count": null,
   "metadata": {
    "collapsed": false
   },
   "outputs": [],
   "source": [
    "results_teams_42km = study_utils.compute_anova_and_tukey_hsd(lausanne_marathon_2016_42km, 'profile', 'speed (m/s)')\n",
    "print('F value: ' + str(results_teams_42km['f_value']) + '\\nP value: ' + str(results_teams_42km['p_value']) + '\\n')\n",
    "results_teams_42km['tukey_hsd'].rename(columns=lambda x: x.strip(), inplace=True)\n",
    "results_teams_42km['tukey_hsd'].set_index(['group1', 'group2'])"
   ]
  },
  {
   "cell_type": "code",
   "execution_count": null,
   "metadata": {
    "collapsed": false
   },
   "outputs": [],
   "source": [
    "team_selected = lausanne_marathon_2016_cleaned[lausanne_marathon_2016_cleaned['profile'] == 'Team-mate']\n",
    "lausanne_marathon_2016_cleaned['time difference team'] = lausanne_marathon_2016_cleaned.apply(study_utils.compute_time_to_best_in_team, args=(team_selected,), axis=1)"
   ]
  },
  {
   "cell_type": "code",
   "execution_count": null,
   "metadata": {
    "collapsed": false,
    "scrolled": false
   },
   "outputs": [],
   "source": [
    "lausanne_marathon_2016_runners_in_team = lausanne_marathon_2016_cleaned[lausanne_marathon_2016_cleaned['profile'] == 'Team-mate'].copy()\n",
    "time_difference_distribution = lausanne_2016_plotly_utils.plot_time_difference_distribution(df=lausanne_marathon_2016_runners_in_team)"
   ]
  },
  {
   "cell_type": "markdown",
   "metadata": {},
   "source": [
    "We observe that when runners are in team, they globally share similar performance (time's difference is between 0 and 5 minutes for the majority of runners). This indicates that similar people compose each team and they ran together, as we can expect it."
   ]
  },
  {
   "cell_type": "code",
   "execution_count": null,
   "metadata": {
    "collapsed": false,
    "scrolled": false
   },
   "outputs": [],
   "source": [
    "fig = plt.figure()\n",
    "fig.tight_layout\n",
    "fig.set_size_inches(15, 15)\n",
    "fig.suptitle('Team representation', fontsize=14)\n",
    "annotation_plot1 = [311,'Runner Pair',(0, 2000), (0, 2500)]\n",
    "annotation_plot2 = [313,'individual runner',(2, 4000), (2, 6000)]\n",
    "lausanne_2016_plotly_utils.plot_scatter_difference_time_number(fig, lausanne_marathon_2016_cleaned, 10, 311, annotation_plot1)\n",
    "lausanne_2016_plotly_utils.plot_scatter_difference_time_number(fig, lausanne_marathon_2016_cleaned, 21, 312)\n",
    "lausanne_2016_plotly_utils.plot_scatter_difference_time_number(fig, lausanne_marathon_2016_cleaned, 42, 313, annotation_plot2)"
   ]
  },
  {
   "cell_type": "markdown",
   "metadata": {
    "collapsed": true
   },
   "source": [
    "As we can noticed from the previous study most of pair/group of runner have finished the race together. In order to go futher we need to study the situation of those who finihsed later. (study above take runners wither a minimum late of 1000 seconds after the best runners in the team).\n",
    "\n",
    "We have considered a pair/group runner if the distance time if weaker than 30sec. It is very  unlikely that any two runners would have the exact same start and end time (within 30 sec) unless they ran together, so these visual clusters should be very accurate in showing running pairs/groups.Based on the graph there are distinct differences in \"belong to a team\" in the difference race, Based on the graph the 10km seems to be the more solidary one, where most people in a team ran in pair/group (326 runners compared to 60 runners who have finished alone). The 21km had a half of runner who have ran in pair/group whereas the 42km seems the more individiual one where 51 runners finished alone compared to 17 runners in teams/groups. 42 km is a long distance, the challenge is often individual and often seen as personnal reward of long hour of training, this could explain the difference in type of runners belong to a team."
   ]
  },
  {
   "cell_type": "markdown",
   "metadata": {},
   "source": [
    "# Save of (dictionaries containing) Plotly figures to JSON"
   ]
  },
  {
   "cell_type": "markdown",
   "metadata": {},
   "source": [
    "We define dictionary containing all data to export."
   ]
  },
  {
   "cell_type": "code",
   "execution_count": null,
   "metadata": {
    "collapsed": true
   },
   "outputs": [],
   "source": [
    "data_to_export = {'gender_distribution': gender_distribution,\n",
    "                  'gender_distribution_runnings': gender_distribution_runnings,\n",
    "                  'distribution_by_types': distribution_by_types,\n",
    "                  'age_distribution': age_distribution,\n",
    "                  'distribution_age_category_distance': distribution_age_category_distance,\n",
    "                  'time_distribution_by_age': time_distribution_by_age,\n",
    "                  'performance_by_age_and_age_category': performance_by_age_and_age_category,\n",
    "                  'time_distribution_by_bib_numbers': time_distribution_by_bib_numbers,\n",
    "                  'speed_distribution_by_running': speed_distribution_by_running,\n",
    "                  'performance_comparison': performance_comparison,\n",
    "                  'runners_composition': runners_composition,\n",
    "                  'performance_comparison_by_profile': performance_comparison_by_profile,\n",
    "                  'time_difference_distribution': time_difference_distribution\n",
    "                 }"
   ]
  },
  {
   "cell_type": "markdown",
   "metadata": {},
   "source": [
    "Finally, we export all data."
   ]
  },
  {
   "cell_type": "markdown",
   "metadata": {},
   "source": [
    "**IMPORTANT: Generating JSON of all data takes some time and requires high resources.<br>By default, code is commented and existing files are not overriden.**"
   ]
  },
  {
   "cell_type": "code",
   "execution_count": null,
   "metadata": {
    "collapsed": false
   },
   "outputs": [],
   "source": [
    "for name, data in data_to_export.items():\n",
    "    # Note: We set indent to None in order to minify JSON\n",
    "    study_utils.convert_to_JSON(object=data, file_name=name, path='./Data', encoder=plotly.utils.PlotlyJSONEncoder, indent=None)"
   ]
  }
 ],
 "metadata": {
  "anaconda-cloud": {},
  "kernelspec": {
   "display_name": "Python [conda root]",
   "language": "python",
   "name": "conda-root-py"
  },
  "language_info": {
   "codemirror_mode": {
    "name": "ipython",
    "version": 3
   },
   "file_extension": ".py",
   "mimetype": "text/x-python",
   "name": "python",
   "nbconvert_exporter": "python",
   "pygments_lexer": "ipython3",
   "version": "3.5.2"
  },
  "widgets": {
   "state": {
    "089fb63c1709423f84c43f63eb18e4a3": {
     "views": [
      {
       "cell_index": 60
      }
     ]
    },
    "2cb0a01185374d56b10f5e3405926d05": {
     "views": [
      {
       "cell_index": 73
      }
     ]
    },
    "33953887d19640bcb51f65b19096a8c5": {
     "views": [
      {
       "cell_index": 53
      }
     ]
    },
    "5c28147e6ed6417cbcc4e5cb4ce04eea": {
     "views": [
      {
       "cell_index": 73
      }
     ]
    },
    "5f9c07a77b924edeba9c13c11672b339": {
     "views": [
      {
       "cell_index": 60
      }
     ]
    },
    "7755196cc98f456ca75fc467f65f9039": {
     "views": [
      {
       "cell_index": 73
      }
     ]
    },
    "b8bcfbf3f3de467982d93db3dfcf3b58": {
     "views": [
      {
       "cell_index": 60
      }
     ]
    },
    "e08726500bd44dbcb94cb02d63d52b28": {
     "views": [
      {
       "cell_index": 53
      }
     ]
    },
    "f565870a994243d087ebc0dbf485d1b0": {
     "views": [
      {
       "cell_index": 53
      }
     ]
    },
    "fc3e12c28bb74cf1841b2b07733b16bb": {
     "views": [
      {
       "cell_index": 60
      }
     ]
    },
    "fdcbb2d577904c039055195df75d4e34": {
     "views": [
      {
       "cell_index": 73
      }
     ]
    }
   },
   "version": "1.2.0"
  }
 },
 "nbformat": 4,
 "nbformat_minor": 1
}
