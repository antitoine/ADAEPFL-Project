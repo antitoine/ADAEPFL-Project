{
 "cells": [
  {
   "cell_type": "markdown",
   "metadata": {},
   "source": [
    "## Generate data for website"
   ]
  },
  {
   "cell_type": "markdown",
   "metadata": {},
   "source": [
    "This Notebook is used to export data from cleaned DataFrame of Lausanne Marathon 2016, in order to use information directly in the website of the project."
   ]
  },
  {
   "cell_type": "code",
   "execution_count": null,
   "metadata": {
    "collapsed": false
   },
   "outputs": [],
   "source": [
    "import pandas as pd\n",
    "\n",
    "PATH_TO_DATA = './Data/Lausanne_Marathon_2016_cleaned.pickle'\n",
    "lausanne_marathon_2016_cleaned = pd.read_pickle(PATH_TO_DATA)\n",
    "lausanne_marathon_2016_cleaned.head()"
   ]
  },
  {
   "cell_type": "markdown",
   "metadata": {},
   "source": [
    "### Manage of age (x axis)"
   ]
  },
  {
   "cell_type": "markdown",
   "metadata": {},
   "source": [
    "#### Speed (y axis)"
   ]
  },
  {
   "cell_type": "code",
   "execution_count": null,
   "metadata": {
    "collapsed": false
   },
   "outputs": [],
   "source": [
    "df_speed_over_age = lausanne_marathon_2016_cleaned.groupby(['age']).mean()[['Speed (m/s)']]\n",
    "df_speed_over_age.rename(columns={'Speed (m/s)': 'speed'}, inplace=True)\n",
    "df_speed_over_age.head()"
   ]
  },
  {
   "cell_type": "code",
   "execution_count": null,
   "metadata": {
    "collapsed": false
   },
   "outputs": [],
   "source": [
    "df_speed_over_age_distance = lausanne_marathon_2016_cleaned.groupby(['distance (km)', 'age']).mean()[['Speed (m/s)']]\n",
    "df = {}\n",
    "\n",
    "for distance in df_speed_over_age_distance.index.levels[0]:\n",
    "    df[distance] = df_speed_over_age_distance.loc[distance].copy()\n",
    "    df[distance].rename(columns={'Speed (m/s)': str(distance) + 'km speed'}, inplace=True)\n",
    "    \n",
    "df_speed_over_age_distance = pd.concat(df.values(), axis=1)\n",
    "df_speed_over_age_distance = df_speed_over_age_distance.fillna(method='bfill')\n",
    "df_speed_over_age_distance = df_speed_over_age_distance.fillna(method='pad')\n",
    "\n",
    "df_speed_over_age_distance.head()"
   ]
  },
  {
   "cell_type": "code",
   "execution_count": null,
   "metadata": {
    "collapsed": false
   },
   "outputs": [],
   "source": [
    "df_speed_over_age_sex = lausanne_marathon_2016_cleaned.groupby(['sex', 'age']).mean()[['Speed (m/s)']]\n",
    "df = {}\n",
    "\n",
    "for sex in df_speed_over_age_sex.index.levels[0]:\n",
    "    df[sex] = df_speed_over_age_sex.loc[sex].copy()\n",
    "    df[sex].rename(columns={'Speed (m/s)': str(sex) + ' speed'}, inplace=True)\n",
    "    \n",
    "df_speed_over_age_sex = pd.concat(df.values(), axis=1)\n",
    "df_speed_over_age_sex = df_speed_over_age_sex.fillna(method='bfill')\n",
    "df_speed_over_age_sex = df_speed_over_age_sex.fillna(method='pad')\n",
    "\n",
    "df_speed_over_age_sex.head()"
   ]
  },
  {
   "cell_type": "markdown",
   "metadata": {},
   "source": [
    "#### Number of runners (y axis)"
   ]
  },
  {
   "cell_type": "code",
   "execution_count": null,
   "metadata": {
    "collapsed": false
   },
   "outputs": [],
   "source": [
    "df_nb_runners_over_age = lausanne_marathon_2016_cleaned.groupby(['age']).count()[['name']]\n",
    "df_nb_runners_over_age.rename(columns={'name': 'count'}, inplace=True)\n",
    "df_nb_runners_over_age.head()"
   ]
  },
  {
   "cell_type": "code",
   "execution_count": null,
   "metadata": {
    "collapsed": false
   },
   "outputs": [],
   "source": [
    "df_nb_runners_over_age_distance = lausanne_marathon_2016_cleaned.groupby(['distance (km)', 'age']).count()[['name']]\n",
    "df = {}\n",
    "\n",
    "for distance in df_nb_runners_over_age_distance.index.levels[0]:\n",
    "    df[distance] = df_nb_runners_over_age_distance.loc[distance].copy()\n",
    "    df[distance].rename(columns={'name': str(distance) + 'km count'}, inplace=True)\n",
    "    \n",
    "df_nb_runners_over_age_distance = pd.concat(df.values(), axis=1)\n",
    "df_nb_runners_over_age_distance = df_nb_runners_over_age_distance.fillna(0)\n",
    "df_nb_runners_over_age_distance.head()"
   ]
  },
  {
   "cell_type": "code",
   "execution_count": null,
   "metadata": {
    "collapsed": false
   },
   "outputs": [],
   "source": [
    "df_nb_runners_over_age_sex = lausanne_marathon_2016_cleaned.groupby(['sex', 'age']).count()[['name']]\n",
    "df = {}\n",
    "\n",
    "for sex in df_nb_runners_over_age_sex.index.levels[0]:\n",
    "    df[sex] = df_nb_runners_over_age_sex.loc[sex].copy()\n",
    "    df[sex].rename(columns={'name': str(sex) + ' count'}, inplace=True)\n",
    "\n",
    "df_nb_runners_over_age_sex = pd.concat(df.values(), axis=1)\n",
    "df_nb_runners_over_age_sex = df_nb_runners_over_age_sex.fillna(0)\n",
    "df_nb_runners_over_age_sex.head()"
   ]
  },
  {
   "cell_type": "markdown",
   "metadata": {},
   "source": [
    "#### Time (y axis)"
   ]
  },
  {
   "cell_type": "code",
   "execution_count": null,
   "metadata": {
    "collapsed": false
   },
   "outputs": [],
   "source": [
    "df_time_over_age = lausanne_marathon_2016_cleaned.groupby(['age']).mean()[['time']]\n",
    "df_time_over_age.head()"
   ]
  },
  {
   "cell_type": "code",
   "execution_count": null,
   "metadata": {
    "collapsed": false
   },
   "outputs": [],
   "source": [
    "df_time_over_age_distance = lausanne_marathon_2016_cleaned.groupby(['distance (km)', 'age']).mean()[['time']]\n",
    "df = {}\n",
    "\n",
    "for distance in df_time_over_age_distance.index.levels[0]:\n",
    "    df[distance] = df_time_over_age_distance.loc[distance].copy()\n",
    "    df[distance].rename(columns={'time': str(distance) + 'km time'}, inplace=True)\n",
    "    \n",
    "df_time_over_age_distance = pd.concat(df.values(), axis=1)\n",
    "df_time_over_age_distance = df_time_over_age_distance.fillna(method='bfill')\n",
    "df_time_over_age_distance = df_time_over_age_distance.fillna(method='pad')\n",
    "\n",
    "df_time_over_age_distance.head()"
   ]
  },
  {
   "cell_type": "code",
   "execution_count": null,
   "metadata": {
    "collapsed": false
   },
   "outputs": [],
   "source": [
    "df_time_over_age_sex = lausanne_marathon_2016_cleaned.groupby(['sex', 'age']).mean()[['time']]\n",
    "df = {}\n",
    "\n",
    "for sex in df_time_over_age_sex.index.levels[0]:\n",
    "    df[sex] = df_time_over_age_sex.loc[sex].copy()\n",
    "    df[sex].rename(columns={'time': str(sex) + ' time'}, inplace=True)\n",
    "    \n",
    "df_time_over_age_sex = pd.concat(df.values(), axis=1)\n",
    "df_time_over_age_sex = df_time_over_age_sex.fillna(method='bfill')\n",
    "df_time_over_age_sex = df_time_over_age_sex.fillna(method='pad')\n",
    "\n",
    "df_time_over_age_sex.head()"
   ]
  },
  {
   "cell_type": "markdown",
   "metadata": {},
   "source": [
    "#### Merge all"
   ]
  },
  {
   "cell_type": "code",
   "execution_count": null,
   "metadata": {
    "collapsed": false
   },
   "outputs": [],
   "source": [
    "df_by_age = pd.concat([\n",
    "        df_speed_over_age, df_speed_over_age_distance, df_speed_over_age_sex,\n",
    "        df_nb_runners_over_age, df_nb_runners_over_age_distance, df_nb_runners_over_age_sex,\n",
    "        df_time_over_age, df_time_over_age_distance, df_time_over_age_sex\n",
    "    ], axis=1)\n",
    "df_by_age.to_csv('marathon-lausanne-2016-by-age.csv')\n",
    "df_by_age.head()"
   ]
  },
  {
   "cell_type": "markdown",
   "metadata": {},
   "source": [
    "### Speed (x axis)"
   ]
  },
  {
   "cell_type": "markdown",
   "metadata": {},
   "source": [
    "#### Number of runners (y axis)"
   ]
  },
  {
   "cell_type": "code",
   "execution_count": null,
   "metadata": {
    "collapsed": false
   },
   "outputs": [],
   "source": [
    "lausanne_marathon_2016_cleaned['Speed (m/s) Rounded'] = lausanne_marathon_2016_cleaned['Speed (m/s)'].round(1)"
   ]
  },
  {
   "cell_type": "code",
   "execution_count": null,
   "metadata": {
    "collapsed": false
   },
   "outputs": [],
   "source": [
    "df_nb_runners_over_speed = lausanne_marathon_2016_cleaned.groupby(['Speed (m/s) Rounded']).count()[['name']]\n",
    "df_nb_runners_over_speed.rename(columns={'name': 'count'}, inplace=True)\n",
    "df_nb_runners_over_speed.head()"
   ]
  },
  {
   "cell_type": "code",
   "execution_count": null,
   "metadata": {
    "collapsed": false
   },
   "outputs": [],
   "source": [
    "df_nb_runners_over_speed_distance = lausanne_marathon_2016_cleaned.groupby(['distance (km)', 'Speed (m/s) Rounded']).count()[['name']]\n",
    "df = {}\n",
    "\n",
    "for distance in df_nb_runners_over_speed_distance.index.levels[0]:\n",
    "    df[distance] = df_nb_runners_over_speed_distance.loc[distance].copy()\n",
    "    df[distance].rename(columns={'name': str(distance) + 'km count'}, inplace=True)\n",
    "    \n",
    "df_nb_runners_over_speed_distance = pd.concat(df.values(), axis=1)\n",
    "df_nb_runners_over_speed_distance = df_nb_runners_over_speed_distance.fillna(0)\n",
    "df_nb_runners_over_speed_distance.head()"
   ]
  },
  {
   "cell_type": "code",
   "execution_count": null,
   "metadata": {
    "collapsed": false
   },
   "outputs": [],
   "source": [
    "df_nb_runners_over_speed_sex = lausanne_marathon_2016_cleaned.groupby(['sex', 'Speed (m/s) Rounded']).count()[['name']]\n",
    "df = {}\n",
    "\n",
    "for sex in df_nb_runners_over_speed_sex.index.levels[0]:\n",
    "    df[sex] = df_nb_runners_over_speed_sex.loc[sex].copy()\n",
    "    df[sex].rename(columns={'name': str(sex) + ' count'}, inplace=True)\n",
    "    \n",
    "df_nb_runners_over_speed_sex = pd.concat(df.values(), axis=1)\n",
    "df_nb_runners_over_speed_sex = df_nb_runners_over_speed_sex.fillna(0)\n",
    "df_nb_runners_over_speed_sex.head()"
   ]
  },
  {
   "cell_type": "code",
   "execution_count": null,
   "metadata": {
    "collapsed": false
   },
   "outputs": [],
   "source": [
    "df_time_over_speed = lausanne_marathon_2016_cleaned.groupby(['Speed (m/s) Rounded']).mean()[['time']]\n",
    "df_time_over_speed.head()"
   ]
  },
  {
   "cell_type": "code",
   "execution_count": null,
   "metadata": {
    "collapsed": false
   },
   "outputs": [],
   "source": [
    "df_time_over_speed_distance = lausanne_marathon_2016_cleaned.groupby(['distance (km)', 'Speed (m/s) Rounded']).mean()[['time']]\n",
    "df = {}\n",
    "\n",
    "for distance in df_time_over_speed_distance.index.levels[0]:\n",
    "    df[distance] = df_time_over_speed_distance.loc[distance].copy()\n",
    "    df[distance].rename(columns={'time': str(distance) + 'km time'}, inplace=True)\n",
    "    \n",
    "df_time_over_speed_distance = pd.concat(df.values(), axis=1)\n",
    "df_time_over_speed_distance = df_time_over_speed_distance.fillna(method='bfill')\n",
    "df_time_over_speed_distance = df_time_over_speed_distance.fillna(method='pad')\n",
    "df_time_over_speed_distance.head()"
   ]
  },
  {
   "cell_type": "code",
   "execution_count": null,
   "metadata": {
    "collapsed": false
   },
   "outputs": [],
   "source": [
    "df_time_over_speed_sex = lausanne_marathon_2016_cleaned.groupby(['sex', 'Speed (m/s) Rounded']).mean()[['time']]\n",
    "df = {}\n",
    "\n",
    "for sex in df_time_over_speed_sex.index.levels[0]:\n",
    "    df[sex] = df_time_over_speed_sex.loc[sex].copy()\n",
    "    df[sex].rename(columns={'time': str(sex) + ' time'}, inplace=True)\n",
    "    \n",
    "df_time_over_speed_sex = pd.concat(df.values(), axis=1)\n",
    "df_time_over_speed_sex = df_time_over_speed_sex.fillna(method='bfill')\n",
    "df_time_over_speed_sex = df_time_over_speed_sex.fillna(method='pad')\n",
    "df_time_over_speed_sex.head()"
   ]
  },
  {
   "cell_type": "code",
   "execution_count": null,
   "metadata": {
    "collapsed": false
   },
   "outputs": [],
   "source": [
    "df_by_speed = pd.concat([\n",
    "        df_nb_runners_over_speed, df_nb_runners_over_speed_distance, df_nb_runners_over_speed_sex,\n",
    "        df_time_over_speed, df_time_over_speed_distance, df_time_over_speed_sex\n",
    "    ], axis=1)\n",
    "df_by_speed.to_csv('marathon-lausanne-2016-by-speed.csv')\n",
    "df_by_speed.head()"
   ]
  },
  {
   "cell_type": "code",
   "execution_count": null,
   "metadata": {
    "collapsed": true
   },
   "outputs": [],
   "source": []
  }
 ],
 "metadata": {
  "anaconda-cloud": {},
  "kernelspec": {
   "display_name": "Python [conda root]",
   "language": "python",
   "name": "conda-root-py"
  },
  "language_info": {
   "codemirror_mode": {
    "name": "ipython",
    "version": 3
   },
   "file_extension": ".py",
   "mimetype": "text/x-python",
   "name": "python",
   "nbconvert_exporter": "python",
   "pygments_lexer": "ipython3",
   "version": "3.5.2"
  }
 },
 "nbformat": 4,
 "nbformat_minor": 1
}
