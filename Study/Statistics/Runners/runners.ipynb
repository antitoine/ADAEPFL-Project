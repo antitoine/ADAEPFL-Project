{
 "cells": [
  {
   "cell_type": "code",
   "execution_count": null,
   "metadata": {
    "collapsed": false
   },
   "outputs": [],
   "source": [
    "import pandas as pd\n",
    "import numpy as np\n",
    "import re\n",
    "import seaborn as sns\n",
    "import matplotlib.pyplot as plt\n",
    "%matplotlib inline\n",
    "from matplotlib.pyplot import show\n",
    "\n",
    "\n",
    "# utils\n",
    "\n",
    "import datetime\n",
    "import time\n",
    "import collections\n",
    "import ipywidgets as widgets\n",
    "from pathlib import Path\n",
    "from IPython.display import display, clear_output\n",
    "\n",
    "import plotly\n",
    "\n",
    "# our code (mark it at autoreload at every cell execution - useful in developement mode)\n",
    "import sys\n",
    "sys.path.append('..')\n",
    "%load_ext autoreload\n",
    "%autoreload 1\n",
    "%aimport runners_utils\n",
    "%aimport study_utils"
   ]
  },
  {
   "cell_type": "markdown",
   "metadata": {},
   "source": [
    "We import the notebook located to : '../../Scraping/Weather', the notebook is used to get weather informations on the races studied.\n",
    "\n",
    "the following method used can be found one: http://nbviewer.jupyter.org/github/jupyter/notebook/blob/master/docs/source/examples/Notebook/Importing%20Notebooks.ipynb"
   ]
  },
  {
   "cell_type": "code",
   "execution_count": null,
   "metadata": {
    "collapsed": false
   },
   "outputs": [],
   "source": [
    "notebook_loader = runners_utils.NotebookLoader(['../../Scraping/Weather'])\n",
    "notebook_loader.load_module('compute_information_station')\n",
    "import compute_information_station"
   ]
  },
  {
   "cell_type": "code",
   "execution_count": null,
   "metadata": {
    "collapsed": true
   },
   "outputs": [],
   "source": [
    "PATH_TO_DATA = '../../Scraping/DataSport/Data/Runners/'\n",
    "# change the name to the global like website but need to see if the website still works.\n",
    "RUNNERS_FILE = 'runners_2009.csv'\n",
    "RUNS_FILE = 'runs_2009.csv'"
   ]
  },
  {
   "cell_type": "markdown",
   "metadata": {},
   "source": [
    "Methode related to compute_information_station method."
   ]
  },
  {
   "cell_type": "code",
   "execution_count": null,
   "metadata": {
    "collapsed": false
   },
   "outputs": [],
   "source": [
    "def compute_weather_information_race(eventName, lattitue, longitude, runs_df):\n",
    "    '''\n",
    "    Returns weather informations about the race from 1999 to 2016,\n",
    "    defined by an eventName, a lattitue and a longitude\n",
    "    \n",
    "    Parameters\n",
    "        - eventName: name event\n",
    "        - lattitue: lattitude event\n",
    "        - longitude: longitude event\n",
    "        - runs_df: dataframe contains the different runs\n",
    "    \n",
    "    Return\n",
    "        - Dataframe contains the mean of weather informations from 6am to 8pm\n",
    "    '''\n",
    "    \n",
    "    information_race = []\n",
    "    information_date = []\n",
    "    \n",
    "    # getting weather for specific place.\n",
    "    for date in runs_df['eventDate'][runs_df['eventName'] == eventName].unique():\n",
    "        print(date)\n",
    "        page  = compute_information_station.retrieve_weather_of_location_by_date(lattitue, longitude, date)\n",
    "\n",
    "        # if we can reach the web page\n",
    "        print(page.status_code)\n",
    "        if page.status_code == 200:\n",
    "            try:\n",
    "                df = compute_information_station.format_complete_reading(page)\n",
    "                clean_df = compute_information_station.clean_reading_dataframe(df)\n",
    "                clean_df[clean_df['Hour'].isin(range(6,20))]\n",
    "                serie_mean = clean_df.mean(axis=0)\n",
    "                clean_df = pd.DataFrame(dict(zip( serie_mean.index,  serie_mean.values)), index= [0])\n",
    "                information_race.append(clean_df)\n",
    "                information_date.append(date)\n",
    "\n",
    "            except AttributeError:\n",
    "                print('error during handling ' + str(date))\n",
    "                # We sleep some time to avoid to be blacklisted\n",
    "                time.sleep(5)\n",
    "                continue\n",
    "            except ValueError:\n",
    "                print('error during handling ' + str(date))\n",
    "                time.sleep(5)\n",
    "                continue\n",
    "\n",
    "        # We sleep some time to avoid to be blacklisted\n",
    "        time.sleep(10)\n",
    "\n",
    "    if len(information_race) != 0:\n",
    "        weather_information = pd.concat(information_race)\n",
    "        weather_information['eventDate'] = information_date\n",
    "        weather_information['eventName'] = eventName\n",
    "    \n",
    "    else:\n",
    "         weather_information = []   \n",
    "    \n",
    "    return weather_information\n",
    "\n",
    "def compute_weather_information(dict_eventName, runs_df):\n",
    "    '''\n",
    "    Returns weather informations about the race from 1999 to 2016,\n",
    "    defined in dict_eventName. \n",
    "    \n",
    "    Parameters\n",
    "        - dict_eventName: containing multiple race and location\n",
    "          example:  event = {\n",
    "                                'Lausanne Marathon': [46.226793,6.140639],\n",
    "                                '20km de Lausanne' : [46.226793,6.140639],\n",
    "                            }\n",
    "        - runs_df: dataframe contains the different runs\n",
    "    \n",
    "    Return\n",
    "        - Dataframe contains the mean of weather informations from 6am to 8pm for all race in  dict_eventName\n",
    "    '''\n",
    "    \n",
    "    path_data = './Data/'\n",
    "    indication = 'weather_'\n",
    "    information_races = []\n",
    "    \n",
    "    # loop to \n",
    "    for key, value in dict_eventName.items():\n",
    "        print('Computing informations for : ' + key)\n",
    "        info_file = Path(path_data + indication + key + '.csv')\n",
    "        \n",
    "        # if the file doesn't already exist, we compute the new values.\n",
    "        if not info_file.is_file():\n",
    "            information_race = compute_weather_information_race(key, value[0], value[1], runs_df)\n",
    "            \n",
    "            if len(information_race) != 0: \n",
    "                information_race.to_csv('Data/' + indication + key + '.csv')\n",
    "                information_races.append(information_race)\n",
    "        \n",
    "        # else we ge the data.\n",
    "        else:\n",
    "            information_races.append(pd.read_csv('Data/'  + indication + key + '.csv'))\n",
    "    \n",
    "    return pd.concat(information_races)"
   ]
  },
  {
   "cell_type": "markdown",
   "metadata": {},
   "source": [
    "## Prepocessing data"
   ]
  },
  {
   "cell_type": "code",
   "execution_count": null,
   "metadata": {
    "collapsed": false
   },
   "outputs": [],
   "source": [
    "runners = pd.read_csv(PATH_TO_DATA + RUNNERS_FILE)\n",
    "runs = pd.read_csv(PATH_TO_DATA + RUNS_FILE)"
   ]
  },
  {
   "cell_type": "code",
   "execution_count": null,
   "metadata": {
    "collapsed": false
   },
   "outputs": [],
   "source": [
    "runners.head()"
   ]
  },
  {
   "cell_type": "code",
   "execution_count": null,
   "metadata": {
    "collapsed": false
   },
   "outputs": [],
   "source": [
    "runners['birthyear'].describe()"
   ]
  },
  {
   "cell_type": "markdown",
   "metadata": {},
   "source": [
    "As we can notice our subset of runners is quite old, the result of the study should be taken carefully."
   ]
  },
  {
   "cell_type": "code",
   "execution_count": null,
   "metadata": {
    "collapsed": false
   },
   "outputs": [],
   "source": [
    "runners.head()"
   ]
  },
  {
   "cell_type": "code",
   "execution_count": null,
   "metadata": {
    "collapsed": false
   },
   "outputs": [],
   "source": [
    "runs.head(5)"
   ]
  },
  {
   "cell_type": "code",
   "execution_count": null,
   "metadata": {
    "collapsed": true
   },
   "outputs": [],
   "source": [
    "runs_before_preprocessing = runs.copy()"
   ]
  },
  {
   "cell_type": "markdown",
   "metadata": {},
   "source": [
    "runs : contains all informations aboute races.<br/>\n",
    "runners : contains all informations about studied runners.\n",
    "runs_before_preprocessing : contains a copy of runs dataframe before the preprocessing.\n",
    "\n",
    "The columns 'acode' make the link between the two Dataframes."
   ]
  },
  {
   "cell_type": "markdown",
   "metadata": {},
   "source": [
    "We remove all abandon row and all useless columns"
   ]
  },
  {
   "cell_type": "code",
   "execution_count": null,
   "metadata": {
    "collapsed": false
   },
   "outputs": [],
   "source": [
    "runners_utils.preprocess_runners(runners)"
   ]
  },
  {
   "cell_type": "code",
   "execution_count": null,
   "metadata": {
    "collapsed": true
   },
   "outputs": [],
   "source": [
    "runs = runners_utils.remove_outliers(runs)"
   ]
  },
  {
   "cell_type": "markdown",
   "metadata": {},
   "source": [
    "For each races we compute the distance from the category name, overCategoryName and eventName.\n",
    "We remove all other sports than running to remain coherent during the overall study (note: a lot of runners have made some triathlons, we have to take it into account.)"
   ]
  },
  {
   "cell_type": "code",
   "execution_count": null,
   "metadata": {
    "collapsed": false
   },
   "outputs": [],
   "source": [
    "runs['distance (km)'] = runs.apply(runners_utils.compute_distance_from_category,axis=1)\n",
    "runs = runs[~runs['distance (km)'].isnull()]"
   ]
  },
  {
   "cell_type": "markdown",
   "metadata": {},
   "source": [
    "For each runners, we compute the gender (male/female)."
   ]
  },
  {
   "cell_type": "code",
   "execution_count": null,
   "metadata": {
    "collapsed": false
   },
   "outputs": [],
   "source": [
    "result = runs.apply(runners_utils.compute_sex, args=(runners,), axis=1)"
   ]
  },
  {
   "cell_type": "markdown",
   "metadata": {},
   "source": [
    "In order to have enought results for each runners we take runners who have 10 races from 1999-2016."
   ]
  },
  {
   "cell_type": "code",
   "execution_count": null,
   "metadata": {
    "collapsed": false
   },
   "outputs": [],
   "source": [
    "runs = runners_utils.select_runners_by_numbers_of_runs(runs, 10)"
   ]
  },
  {
   "cell_type": "markdown",
   "metadata": {},
   "source": [
    "From the Dataframe, we compute new features : 'age', 'time (s)', 'speed (m/s)', 'eventDate'"
   ]
  },
  {
   "cell_type": "code",
   "execution_count": null,
   "metadata": {
    "collapsed": false
   },
   "outputs": [],
   "source": [
    "runs['age'] = runs.apply(runners_utils.compute_age, args=(runners,), axis=1)"
   ]
  },
  {
   "cell_type": "code",
   "execution_count": null,
   "metadata": {
    "collapsed": false
   },
   "outputs": [],
   "source": [
    "runs['time (s)'] = runs.apply(runners_utils.transform_string_to_second, axis=1)\n",
    "runs['speed (m/s)'] = runs['distance (km)']*1000 / runs['time (s)']"
   ]
  },
  {
   "cell_type": "code",
   "execution_count": null,
   "metadata": {
    "collapsed": false
   },
   "outputs": [],
   "source": [
    "runs['eventDate'] = runs.apply(runners_utils.compute_date_event, axis=1)"
   ]
  },
  {
   "cell_type": "code",
   "execution_count": null,
   "metadata": {
    "collapsed": false
   },
   "outputs": [],
   "source": [
    "runners_utils.remove_useless_columns(runs)"
   ]
  },
  {
   "cell_type": "markdown",
   "metadata": {},
   "source": [
    "After all operations of preprocessing, we obtain 47 runners who have finished more than 10 races."
   ]
  },
  {
   "cell_type": "code",
   "execution_count": null,
   "metadata": {
    "collapsed": false
   },
   "outputs": [],
   "source": [
    "print ('study rely on : ' + str(len(runs['acode'].unique())) + ' runners')\n",
    "print ('Total races : ' + str(len(runs.index)) + ' races')"
   ]
  },
  {
   "cell_type": "code",
   "execution_count": null,
   "metadata": {
    "collapsed": false
   },
   "outputs": [],
   "source": [
    "runs.head()"
   ]
  },
  {
   "cell_type": "markdown",
   "metadata": {},
   "source": [
    "## Statistical study."
   ]
  },
  {
   "cell_type": "markdown",
   "metadata": {},
   "source": [
    "### Performance study"
   ]
  },
  {
   "cell_type": "code",
   "execution_count": null,
   "metadata": {
    "collapsed": false
   },
   "outputs": [],
   "source": [
    "races_59 = runs[runs['acode'] == 'FU3KDU5G']\n",
    "races_38 = runs[runs['acode'] == 'G756ZTL6']\n",
    "races_26 = runs[runs['acode'] == 'FFJBKFSN']"
   ]
  },
  {
   "cell_type": "code",
   "execution_count": null,
   "metadata": {
    "collapsed": false
   },
   "outputs": [],
   "source": [
    "fig = plt.figure()\n",
    "fig.tight_layout\n",
    "fig.set_size_inches(15, 10)\n",
    "fig.suptitle('Runnner speed by distance', fontsize=14)\n",
    "annotation_plot2 = ['performance \\n gap',(9.9,3), (9,4)]\n",
    "runners_utils.presentation_performance_runners(fig, [races_59, races_38, races_26], annotation_plot2)"
   ]
  },
  {
   "cell_type": "markdown",
   "metadata": {},
   "source": [
    "As we can notice from the graph above we see some enormous disparity between speed of race who have the same distance.\n",
    "Futhermore an other interesting fact is the speed seems lower for the race of 31Km (http://www.sierre-zinal.com) than marathons.\n",
    "The current study try to focus on vizualisation of multiple factors that could explain these gap:\n",
    " - Age\n",
    " - Training (As we don't have any personnal information, we take as reference how much they race)\n",
    " - Experience\n",
    " - Weather / altitude"
   ]
  },
  {
   "cell_type": "markdown",
   "metadata": {},
   "source": [
    "### Training Part"
   ]
  },
  {
   "cell_type": "code",
   "execution_count": null,
   "metadata": {
    "collapsed": false
   },
   "outputs": [],
   "source": [
    "runners_informations = runners_utils.compute_dataframe_groupby(runs, runs_before_preprocessing) "
   ]
  },
  {
   "cell_type": "markdown",
   "metadata": {},
   "source": [
    "We split the set of runners into two groups, one have race more than 175 and the other less. The first group represent the runners who raced a lot. Indeed 175 events between 1999-2016 which make 10 races/years.\n",
    "\n",
    "The value 175 is totally subjective, but we found interesting to differentiate two groups of runners to study if different external factor affects less runners who get used of it."
   ]
  },
  {
   "cell_type": "code",
   "execution_count": null,
   "metadata": {
    "collapsed": false
   },
   "outputs": [],
   "source": [
    "experienced_runners =  runners_informations[runners_informations['overall number race'] > 175].index.values\n",
    "inexperienced_runners =  runners_informations[runners_informations['overall number race'] <= 175].index.values"
   ]
  },
  {
   "cell_type": "code",
   "execution_count": null,
   "metadata": {
    "collapsed": false
   },
   "outputs": [],
   "source": [
    "runners[runners['acode'].isin(experienced_runners)]['birthyear'].describe()"
   ]
  },
  {
   "cell_type": "markdown",
   "metadata": {},
   "source": [
    "In ou subset the frequent runners are very old."
   ]
  },
  {
   "cell_type": "code",
   "execution_count": null,
   "metadata": {
    "collapsed": false
   },
   "outputs": [],
   "source": [
    "runners_informations.describe()"
   ]
  },
  {
   "cell_type": "markdown",
   "metadata": {},
   "source": [
    "The study carry on 47 runners, as we can notice they are not begginers some of them have more the 500 events on 17 years which mean more than 2 events each month during a period of 17 years... This is huge knowing that for a debutant the recommended waiting time before getting  is 3-4 to completely get health after http://www.runnersworld.com/ask-coach-jenny/how-many-marathons-can-you-run-in-a-year.\n",
    "\n",
    "We should keep in mind that everyone is different, the study is clearly individual, everybody reacts differently, we should push the study further to confirm any hypothesis."
   ]
  },
  {
   "cell_type": "code",
   "execution_count": null,
   "metadata": {
    "collapsed": false
   },
   "outputs": [],
   "source": [
    "runs_before_preprocessing['eventDate'] = runs_before_preprocessing.apply(runners_utils.compute_date_event, axis=1)\n",
    "runs_before_preprocessing['year'] = runs_before_preprocessing['eventDate'].apply(lambda x: int(x.year))"
   ]
  },
  {
   "cell_type": "markdown",
   "metadata": {},
   "source": [
    "The result above has been done on a total of 47 runners, As we can expect generally the number of abandon grows with proportionnaly with the number of race done.\n",
    "An interesting fact is the "
   ]
  },
  {
   "cell_type": "code",
   "execution_count": null,
   "metadata": {
    "collapsed": false
   },
   "outputs": [],
   "source": [
    "runners_informations[\"overall number race\"] = runners_informations[\"overall number race\"].apply(lambda x: np.int(x))\n",
    "runners_informations[\"number abandon\"] = runners_informations[\"number abandon\"].apply(lambda x:  np.int(x))\n",
    "\n",
    "sns.jointplot(runners_informations[\"overall number race\"], runners_informations[\"number abandon\"], kind=\"reg\", stat_func=runners_utils.r2)"
   ]
  },
  {
   "cell_type": "markdown",
   "metadata": {},
   "source": [
    "The R-squared value is to small to confirm anything about such linear relation between abandon the number of race runned and the number of abandon.\n",
    "\n",
    "Two explanations are possible, one is that we are missing data on training of each runners, some of them could only race instead of others who train a lot, futhermore we don't have any data about daily life and lifestyle, this could explain one aspect of the overtraining http://www.mensfitness.com/training/pro-tips/12-signs-youre-overtraining"
   ]
  },
  {
   "cell_type": "markdown",
   "metadata": {},
   "source": [
    "Let's study the now the effect of the trainings on the overall performance, in order to isolate as much as possible independant variable (altitude, period of the year, ascending elevation) the following study focused on the marathon of lausanne."
   ]
  },
  {
   "cell_type": "code",
   "execution_count": null,
   "metadata": {
    "collapsed": false
   },
   "outputs": [],
   "source": [
    "print('number of races : ' + str(len(runs[(runs['eventName'] == 'Lausanne Marathon') & (runs['distance (km)'] == 42)].index)))\n",
    "print('number of runners : ' + str(len(runs[(runs['eventName'] == 'Lausanne Marathon') & (runs['distance (km)'] == 42)]['acode'].unique())))"
   ]
  },
  {
   "cell_type": "markdown",
   "metadata": {},
   "source": [
    "The marathon of Lausanne seems to be a good one with 27 runners out of 47"
   ]
  },
  {
   "cell_type": "code",
   "execution_count": null,
   "metadata": {
    "collapsed": false
   },
   "outputs": [],
   "source": [
    "runs_event_cleaned = runners_utils.compute_dataframe_marathon_performance(runs, runs_before_preprocessing)"
   ]
  },
  {
   "cell_type": "code",
   "execution_count": null,
   "metadata": {
    "collapsed": false
   },
   "outputs": [],
   "source": [
    "marathon_lausanne = runs_event_cleaned[(runs_event_cleaned['eventName'] == 'Lausanne Marathon') & (runs_event_cleaned['distance (km)'] == 42)]\n",
    "marathon_lausanne = marathon_lausanne[marathon_lausanne['acode'].isin(runners['acode'][runners['gender'] == 'male'])]\n",
    "marathon_lausanne = marathon_lausanne[marathon_lausanne['speed (m/s)'] < 6]\n",
    "marathon_lausanne = pd.merge(runners[['acode','number_acode']],marathon_lausanne,on='acode')"
   ]
  },
  {
   "cell_type": "code",
   "execution_count": null,
   "metadata": {
    "collapsed": false
   },
   "outputs": [],
   "source": [
    "fig = plt.figure()\n",
    "fig.tight_layout\n",
    "fig.set_size_inches(15, 12)\n",
    "fig.suptitle('Distribution pace on lausanne marathon on 17 years', fontsize=12)\n",
    "runners_utils.diplay_comparaison_runners_performance(fig, marathon_lausanne)"
   ]
  },
  {
   "cell_type": "markdown",
   "metadata": {},
   "source": [
    "- Sum distance (km) represents the kilometers/years in competition for each runners.\n",
    "- Total number event represents the number event/years in competition for each runners.\n",
    "            \n",
    "From an individual point of view, generally the sum distance (Km) and total event remain constants through years for a specific runner (each color represents a runner). \n",
    "\n",
    "From a collective point of view, there is no specific pattern form the graph above. The first two best results have been obtained by different runners with a huge difference of kilometers/years.\n",
    "\n",
    "We need to individualize the study if we want to find a relation between external factors and the performance. By individualizing the study, we can isolate some missing information like age, genetic, training, etc."
   ]
  },
  {
   "cell_type": "markdown",
   "metadata": {},
   "source": [
    "### Coefficient study"
   ]
  },
  {
   "cell_type": "markdown",
   "metadata": {},
   "source": [
    "In order to individualize the study, we compute some 'coefficients' for each interesting features.\n",
    "\n",
    "To individualize the study, we compute some 'coefficients' for each interesting feature. A coefficient is defined by the difference between the value (temperature, Humidity, ect) for the current row and the value obtained for the best time of the race for the same specific race. (current_value - bestTime_value). \n",
    "The idea behind the ‘coefficient’ is to try to isolate as much external factors as possible. We also suppose that the route of the different races does not change a lot between the multiple races editions as we don't have this information. \n",
    "\n",
    "For instance, if the temperature coefficient is positive, it means that the temperature was higher for this specific race compared to the temperature of the best time race for the same runners..\n",
    "\n",
    "The coefficient is bring back to [-1,1] for displaying the information easily "
   ]
  },
  {
   "cell_type": "markdown",
   "metadata": {},
   "source": [
    "#### Coefficient performance"
   ]
  },
  {
   "cell_type": "markdown",
   "metadata": {},
   "source": [
    "We compute Performance coefficient."
   ]
  },
  {
   "cell_type": "code",
   "execution_count": null,
   "metadata": {
    "collapsed": false
   },
   "outputs": [],
   "source": [
    "runs_event_cleaned['Performance coefficient'] = runs_event_cleaned.apply(runners_utils.compute_coefficient, args=(runs_event_cleaned, 'sum distance (km)',), axis=1)"
   ]
  },
  {
   "cell_type": "code",
   "execution_count": null,
   "metadata": {
    "collapsed": false
   },
   "outputs": [],
   "source": [
    "runs_event_cleaned['Event coefficient'] = runs_event_cleaned.apply(runners_utils.compute_coefficient, args=(runs_event_cleaned, 'overall number events',), axis=1)"
   ]
  },
  {
   "cell_type": "code",
   "execution_count": null,
   "metadata": {
    "collapsed": false
   },
   "outputs": [],
   "source": [
    "runs_event_cleaned['Age coefficient'] = runs_event_cleaned.apply(runners_utils.compute_coefficient, args=(runs_event_cleaned, 'age',), axis=1)"
   ]
  },
  {
   "cell_type": "markdown",
   "metadata": {},
   "source": [
    "We define the handler for the widget."
   ]
  },
  {
   "cell_type": "code",
   "execution_count": null,
   "metadata": {
    "collapsed": false
   },
   "outputs": [],
   "source": [
    "possible_value_coefficient_performance = ['Performance coefficient', 'Event coefficient', 'Age coefficient']\n",
    "initial_value_performance = 'Performance coefficient'\n",
    "# ----------------------------------------------------------------------------------------\n",
    "# HANDLERS\n",
    "def update_performance_comparison(change):\n",
    "    if change['new'] not in possible_value_coefficient_performance:\n",
    "        return\n",
    "    clear_output()\n",
    "    global selected_performance_comparison\n",
    "    selected_performance_comparison = change['new']\n",
    "    fig = runners_utils.plot_coefficient_distribution(runs_event_cleaned, inexperienced_runners, experienced_runners, selected_performance_comparison, bin_size=0.07)\n",
    "# HANDLERS (END)\n",
    "# ----------------------------------------------------------------------------------------\n",
    "\n",
    "# Widget for performance criteria\n",
    "performance_comparison_widget = widgets.Dropdown(options=possible_value_coefficient_performance, value=initial_value_performance)\n",
    "performance_comparison_widget.observe(update_performance_comparison)"
   ]
  },
  {
   "cell_type": "code",
   "execution_count": null,
   "metadata": {
    "collapsed": false
   },
   "outputs": [],
   "source": [
    "display(performance_comparison_widget)\n",
    "fig = runners_utils.plot_coefficient_distribution(runs_event_cleaned, inexperienced_runners, experienced_runners, initial_value_performance)"
   ]
  },
  {
   "cell_type": "markdown",
   "metadata": {},
   "source": [
    "The Shapiro-Wilk test the normality of the distribution, https://plot.ly/python/normality-test/ . In an ideal world if the coefficient have no impact on the performance the coefficient should follow a normal law, which mean the parameter studied improve the performance as much as degrade it."
   ]
  },
  {
   "cell_type": "code",
   "execution_count": null,
   "metadata": {
    "collapsed": false
   },
   "outputs": [],
   "source": [
    "distribution_age_runners = runners_utils.display_age_distribution(runs_event_cleaned['age'], 'Age distribution')"
   ]
  },
  {
   "cell_type": "markdown",
   "metadata": {},
   "source": [
    "The group of runners had a mean age of 52,67, which is very high but we have to keep in mind that we have data of runners from 1999.\n",
    "It is the distribution of age on multiple events, one runners appear muultiple times"
   ]
  },
  {
   "cell_type": "code",
   "execution_count": null,
   "metadata": {
    "collapsed": true
   },
   "outputs": [],
   "source": [
    "runs_event_cleaned['diff best time (s)'] = runs_event_cleaned.apply(runners_utils.compute_best_time, args=(runs_event_cleaned,), axis=1)"
   ]
  },
  {
   "cell_type": "code",
   "execution_count": null,
   "metadata": {
    "collapsed": false
   },
   "outputs": [],
   "source": [
    "runners_utils.display_scatter_matrix(runs_event_cleaned[['Performance coefficient','Event coefficient','Age coefficient','diff best time (s)']])"
   ]
  },
  {
   "cell_type": "markdown",
   "metadata": {},
   "source": [
    "We see a that event and performance coeeficient foolow a pattern, this is quite normal because they are dependant."
   ]
  },
  {
   "cell_type": "markdown",
   "metadata": {},
   "source": [
    "### Weather information"
   ]
  },
  {
   "cell_type": "markdown",
   "metadata": {},
   "source": [
    "We get weather data for the following races, these are the races with the most runners in our study."
   ]
  },
  {
   "cell_type": "code",
   "execution_count": null,
   "metadata": {
    "collapsed": false
   },
   "outputs": [],
   "source": [
    "study_race = {\n",
    "              'Lausanne Marathon': [46.226793,6.140639],\n",
    "              '20km de Lausanne' : [46.226793,6.140639],\n",
    "              'Morat-Fribourg' : [46.915183, 7.107277],\n",
    "              'Course de l\\'Escalade, Genève' : [46.203884, 6.145191],\n",
    "              'Sierre-Zinal, Sierre' : [46.289716, 7.549294],\n",
    "              'Zermatt Marathon, Zermatt' : [45.976906, 7.658001]\n",
    "             }\n",
    "\n",
    "Marathon_information = compute_weather_information(study_race, runs)"
   ]
  },
  {
   "cell_type": "code",
   "execution_count": null,
   "metadata": {
    "collapsed": false
   },
   "outputs": [],
   "source": [
    "runs_event_cleaned['eventDate'] = runs_event_cleaned['eventDate'].apply(lambda x : str(x))\n",
    "Marathon_information['eventDate'] = Marathon_information['eventDate'].apply(lambda x : str(x))\n",
    "Marathon_information.drop('Unnamed: 0', inplace = True, axis=1)\n",
    "run_cleaned_weather_information = pd.merge(runs_event_cleaned, Marathon_information, how='inner', on=['eventName','eventDate'], left_on=None, right_on=None,)"
   ]
  },
  {
   "cell_type": "code",
   "execution_count": null,
   "metadata": {
    "collapsed": false
   },
   "outputs": [],
   "source": [
    "run_cleaned_weather_information['Humidity coefficient'] = run_cleaned_weather_information.apply(runners_utils.compute_coefficient, args=(run_cleaned_weather_information, 'Humidity (%)',), axis=1)"
   ]
  },
  {
   "cell_type": "code",
   "execution_count": null,
   "metadata": {
    "collapsed": false
   },
   "outputs": [],
   "source": [
    "run_cleaned_weather_information['Temperature coefficient'] = run_cleaned_weather_information.apply(runners_utils.compute_coefficient, args=(run_cleaned_weather_information, 'Temperature (°C)',), axis=1) "
   ]
  },
  {
   "cell_type": "code",
   "execution_count": null,
   "metadata": {
    "collapsed": false
   },
   "outputs": [],
   "source": [
    "run_cleaned_weather_information['Wind coefficient'] = run_cleaned_weather_information.apply(runners_utils.compute_coefficient, args=(run_cleaned_weather_information, 'Wind (average) (km/h)',), axis=1) "
   ]
  },
  {
   "cell_type": "code",
   "execution_count": null,
   "metadata": {
    "collapsed": false
   },
   "outputs": [],
   "source": [
    "possible_value_coefficient = ['Wind coefficient', 'Temperature coefficient', 'Humidity coefficient']\n",
    "initial_value = 'Wind coefficient'\n",
    "# ----------------------------------------------------------------------------------------\n",
    "# HANDLERS\n",
    "def update_weather_comparison(change):\n",
    "    if change['new'] not in possible_value_coefficient:\n",
    "        return\n",
    "    clear_output()\n",
    "    global selected_performance_comparison\n",
    "    selected_performance_comparison = change['new']\n",
    "    fig = runners_utils.plot_coefficient_distribution(run_cleaned_weather_information, inexperienced_runners, experienced_runners, selected_performance_comparison)\n",
    "# HANDLERS (END)\n",
    "# ----------------------------------------------------------------------------------------\n",
    "\n",
    "# Widget for performance criteria\n",
    "weather_comparison_widget = widgets.Dropdown(options=possible_value_coefficient, value=initial_value)\n",
    "weather_comparison_widget.observe(update_weather_comparison)"
   ]
  },
  {
   "cell_type": "code",
   "execution_count": null,
   "metadata": {
    "collapsed": false,
    "scrolled": false
   },
   "outputs": [],
   "source": [
    "display(weather_comparison_widget)\n",
    "fig = runners_utils.plot_coefficient_distribution(run_cleaned_weather_information, inexperienced_runners, experienced_runners, initial_value)"
   ]
  },
  {
   "cell_type": "code",
   "execution_count": null,
   "metadata": {
    "collapsed": false
   },
   "outputs": [],
   "source": [
    "run_cleaned_weather_information['diff best time (s)'] = run_cleaned_weather_information.apply(runners_utils.compute_best_time, args=(run_cleaned_weather_information,), axis=1)"
   ]
  },
  {
   "cell_type": "code",
   "execution_count": null,
   "metadata": {
    "collapsed": false
   },
   "outputs": [],
   "source": [
    "runners_utils.display_scatter_matrix(run_cleaned_weather_information[['Wind coefficient', 'Temperature coefficient', 'Humidity coefficient','diff best time (s)']])"
   ]
  },
  {
   "cell_type": "markdown",
   "metadata": {},
   "source": [
    "Features are not linked together"
   ]
  },
  {
   "cell_type": "markdown",
   "metadata": {},
   "source": [
    "As conclusion, there are no big difference between experienced runners and inexperienced runners.\n",
    "\n",
    "Runners got their best performance when they are younger (knowing the mean age of the group of runners is 52,47 years) and when the temperature is warmer. More strangely, runners got their best performance when they raced less kilometer than other years; Here are some explanations to the phenomena:\n",
    "- One explication could be that runners raced more when they are getting older, but we applied a regression test and we get a R-squared value equals to 0,0066, which mean there is no linear link between the two variables.\n",
    "- A lot of runners could have made other sport events not considered in our study like triathlon, cycle, walks, .... This hypothesis seems to be confirmed as this this effect disappears with the Event coefficient.\n",
    "- It could be an effect of the over-training.\n",
    "\n",
    "One other important aspect is the positive and negative impact of the Wind coefficient as the force and the direction of the wind could change the performance of the runners."
   ]
  },
  {
   "cell_type": "markdown",
   "metadata": {},
   "source": [
    "### Generate Json "
   ]
  },
  {
   "cell_type": "code",
   "execution_count": null,
   "metadata": {
    "collapsed": false
   },
   "outputs": [],
   "source": [
    "weather_coefficient =  runners_utils.generate_plotly_figure(run_cleaned_weather_information, possible_value_coefficient, inexperienced_runners, experienced_runners)"
   ]
  },
  {
   "cell_type": "code",
   "execution_count": null,
   "metadata": {
    "collapsed": false
   },
   "outputs": [],
   "source": [
    "performance_coefficient =  runners_utils.generate_plotly_figure(runs_event_cleaned, possible_value_coefficient_performance, inexperienced_runners, experienced_runners, bin_size=0.07)"
   ]
  },
  {
   "cell_type": "code",
   "execution_count": null,
   "metadata": {
    "collapsed": false
   },
   "outputs": [],
   "source": [
    "data_to_export = {'distribution-age': distribution_age_runners,\n",
    "                  'weather-coefficient' : weather_coefficient,\n",
    "                  'performance-coefficient' :performance_coefficient\n",
    "                 }"
   ]
  },
  {
   "cell_type": "code",
   "execution_count": null,
   "metadata": {
    "collapsed": false
   },
   "outputs": [],
   "source": [
    "#for name, data in data_to_export.items():\n",
    "    # Note: We set indent to None in order to minify JSON\n",
    "#    study_utils.convert_to_JSON(object=data, file_name=name, path='./Data', encoder=plotly.utils.PlotlyJSONEncoder, indent=None)"
   ]
  }
 ],
 "metadata": {
  "anaconda-cloud": {},
  "kernelspec": {
   "display_name": "Python [conda root]",
   "language": "python",
   "name": "conda-root-py"
  },
  "language_info": {
   "codemirror_mode": {
    "name": "ipython",
    "version": 3
   },
   "file_extension": ".py",
   "mimetype": "text/x-python",
   "name": "python",
   "nbconvert_exporter": "python",
   "pygments_lexer": "ipython3",
   "version": "3.5.2"
  }
 },
 "nbformat": 4,
 "nbformat_minor": 1
}
