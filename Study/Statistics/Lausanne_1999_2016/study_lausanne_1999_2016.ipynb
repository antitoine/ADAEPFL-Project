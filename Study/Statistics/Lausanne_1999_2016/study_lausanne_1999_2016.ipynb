{
 "cells": [
  {
   "cell_type": "code",
   "execution_count": null,
   "metadata": {
    "collapsed": false
   },
   "outputs": [],
   "source": [
    "# Imports\n",
    "from functools import partial\n",
    "import pandas as pd\n",
    "import numpy as np\n",
    "import re\n",
    "import collections\n",
    "import statsmodels.api as sm\n",
    "import seaborn as sns\n",
    "import matplotlib.pyplot as plt\n",
    "%matplotlib inline\n",
    "from matplotlib.pyplot import show\n",
    "import ipywidgets as widgets\n",
    "from IPython.display import display, clear_output\n",
    "import plotly\n",
    "plotly.offline.init_notebook_mode()\n",
    "import sys\n",
    "sys.path.append('..')\n",
    "%load_ext autoreload\n",
    "%autoreload 1\n",
    "%aimport study_utils\n",
    "%aimport lausanne_1999_2016_utils"
   ]
  },
  {
   "cell_type": "code",
   "execution_count": null,
   "metadata": {
    "collapsed": true
   },
   "outputs": [],
   "source": [
    "# Constants\n",
    "PATH_TO_DATA = '../../Scraping/DataSport/Data/'\n",
    "ALL_YEARS = [y for y in range(1999, 2017)]\n",
    "ALL_AGE_CATEGORIES = ['All', '10-25 years', '26-30 years', '31-35 years', '36-40 years', '41-45 years', '46-50 years', '51-55 years', '56-60 years', '61-65 years', '65+ years']\n",
    "ALL_SEX_CATEGORIES = ['All', 'Female', 'Male']\n",
    "ALL_PERFORMANCE_CRITERIA = ['Time', 'Speed (m/s)']\n",
    "YEAR_LABEL = widgets.Label(value='Year')\n",
    "AGE_LABEL = widgets.Label(value='Age category')\n",
    "SEX_LABEL = widgets.Label(value='Sex category')\n",
    "PERFORMANCE_LABEL = widgets.Label(value='Performance')"
   ]
  },
  {
   "cell_type": "markdown",
   "metadata": {},
   "source": [
    "**NOTE:**\n",
    "This Notebook contains plots that use widgets. Please make sure to run this Notebook on Jupyter in order to manipulate them correctly."
   ]
  },
  {
   "cell_type": "markdown",
   "metadata": {},
   "source": [
    "# Data wrangling"
   ]
  },
  {
   "cell_type": "markdown",
   "metadata": {},
   "source": [
    "First, we retrieve all the data corresponding to Lausanne Marathons, from 1999 to 2016."
   ]
  },
  {
   "cell_type": "code",
   "execution_count": null,
   "metadata": {
    "collapsed": false
   },
   "outputs": [],
   "source": [
    "lausanne_all_marathons = study_utils.get_data(PATH_TO_DATA)"
   ]
  },
  {
   "cell_type": "code",
   "execution_count": null,
   "metadata": {
    "collapsed": false,
    "scrolled": false
   },
   "outputs": [],
   "source": [
    "lausanne_all_marathons.head()"
   ]
  },
  {
   "cell_type": "markdown",
   "metadata": {},
   "source": [
    "We then apply different computations in order to clean DataFrame and format columns for further analysis."
   ]
  },
  {
   "cell_type": "code",
   "execution_count": null,
   "metadata": {
    "collapsed": false,
    "scrolled": true
   },
   "outputs": [],
   "source": [
    "lausanne_all_marathons_cleaned = study_utils.apply_computations(lausanne_all_marathons)"
   ]
  },
  {
   "cell_type": "code",
   "execution_count": null,
   "metadata": {
    "collapsed": false
   },
   "outputs": [],
   "source": [
    "lausanne_all_marathons_cleaned = lausanne_all_marathons_cleaned[lausanne_all_marathons_cleaned.apply(study_utils.filter_participants, axis=1)]"
   ]
  },
  {
   "cell_type": "code",
   "execution_count": null,
   "metadata": {
    "collapsed": false
   },
   "outputs": [],
   "source": [
    "lausanne_all_marathons_cleaned = lausanne_1999_2016_utils.remove_outliers(lausanne_all_marathons_cleaned)"
   ]
  },
  {
   "cell_type": "markdown",
   "metadata": {},
   "source": [
    "We also compute the overall rank for each year."
   ]
  },
  {
   "cell_type": "code",
   "execution_count": null,
   "metadata": {
    "collapsed": false
   },
   "outputs": [],
   "source": [
    "lausanne_all_marathons_cleaned = lausanne_1999_2016_utils.compute_overall_rank(lausanne_all_marathons_cleaned)"
   ]
  },
  {
   "cell_type": "code",
   "execution_count": null,
   "metadata": {
    "collapsed": true
   },
   "outputs": [],
   "source": [
    "lausanne_all_marathons_cleaned.drop('rank', axis=1, inplace=True)"
   ]
  },
  {
   "cell_type": "markdown",
   "metadata": {},
   "source": [
    "We finally obtain the final DataFrame, ready to be used for analysis."
   ]
  },
  {
   "cell_type": "code",
   "execution_count": null,
   "metadata": {
    "collapsed": false
   },
   "outputs": [],
   "source": [
    "lausanne_all_marathons_cleaned.head()"
   ]
  },
  {
   "cell_type": "code",
   "execution_count": null,
   "metadata": {
    "collapsed": true
   },
   "outputs": [],
   "source": [
    "lausanne_all_marathons_10km = lausanne_all_marathons_cleaned[lausanne_all_marathons_cleaned['distance (km)'] == 10]\n",
    "lausanne_all_marathons_21km = lausanne_all_marathons_cleaned[lausanne_all_marathons_cleaned['distance (km)'] == 21]\n",
    "lausanne_all_marathons_42km = lausanne_all_marathons_cleaned[lausanne_all_marathons_cleaned['distance (km)'] == 42]"
   ]
  },
  {
   "cell_type": "code",
   "execution_count": null,
   "metadata": {
    "collapsed": true
   },
   "outputs": [],
   "source": [
    "# DataFrame with time format\n",
    "lausanne_all_marathons_cleaned_with_datetime = lausanne_all_marathons_cleaned.copy()\n",
    "lausanne_all_marathons_cleaned_with_datetime['time'] = pd.to_datetime([study_utils.convert_seconds_to_time(t) for t in lausanne_all_marathons_cleaned['time']], format='%H:%M:%S')"
   ]
  },
  {
   "cell_type": "markdown",
   "metadata": {},
   "source": [
    "## Statistics about outliers"
   ]
  },
  {
   "cell_type": "markdown",
   "metadata": {},
   "source": [
    "Let's display the number of runners for whom one or more fundamental attributes are missing."
   ]
  },
  {
   "cell_type": "code",
   "execution_count": null,
   "metadata": {
    "collapsed": false
   },
   "outputs": [],
   "source": [
    "columns_to_check = ['sex', 'time', 'rank']\n",
    "# As sex is used to find outliers, we add the column into the original DataFrame\n",
    "lausanne_all_marathons['sex'] = lausanne_all_marathons.apply(study_utils.get_sex_of_runner, axis=1)\n",
    "study_utils.get_statistics_outliers(lausanne_all_marathons, columns_to_check)"
   ]
  },
  {
   "cell_type": "markdown",
   "metadata": {},
   "source": [
    "Finally, let's display the results of the cleaning process."
   ]
  },
  {
   "cell_type": "code",
   "execution_count": null,
   "metadata": {
    "collapsed": false
   },
   "outputs": [],
   "source": [
    "all_runners = len(lausanne_all_marathons)\n",
    "considered_runners = len(lausanne_all_marathons_cleaned)\n",
    "print('Runners in raw DataFrame: ' + str(all_runners))\n",
    "print('Runners to be considered for analysis: ' + str(considered_runners))\n",
    "print('Unconsidered runners: ' + str(all_runners - considered_runners))"
   ]
  },
  {
   "cell_type": "markdown",
   "metadata": {},
   "source": [
    "# Analysis of data"
   ]
  },
  {
   "cell_type": "markdown",
   "metadata": {},
   "source": [
    "## Part 1: General analysis"
   ]
  },
  {
   "cell_type": "markdown",
   "metadata": {},
   "source": [
    "### Global evolution of number of participants"
   ]
  },
  {
   "cell_type": "code",
   "execution_count": null,
   "metadata": {
    "collapsed": false
   },
   "outputs": [],
   "source": [
    "columns = ['Marathon', '10 km', 'Semi-marathon']\n",
    "distribution_of_runners = lausanne_1999_2016_utils.generate_distributions(lausanne_all_marathons_10km, lausanne_all_marathons_21km, lausanne_all_marathons_42km, lausanne_1999_2016_utils.filter_by_years)\n",
    "distribution_of_runners = distribution_of_runners[columns]"
   ]
  },
  {
   "cell_type": "code",
   "execution_count": null,
   "metadata": {
    "collapsed": false,
    "scrolled": true
   },
   "outputs": [],
   "source": [
    "distribution_of_runners.head()"
   ]
  },
  {
   "cell_type": "code",
   "execution_count": null,
   "metadata": {
    "collapsed": false,
    "scrolled": false
   },
   "outputs": [],
   "source": [
    "distribution_runners_over_years = lausanne_1999_2016_utils.plot_distribution_over_years(distribution_of_runners)"
   ]
  },
  {
   "cell_type": "markdown",
   "metadata": {},
   "source": [
    "We easily see some changes over the years thanks to the graph. Among other things, we identify the new direction of Lausanne Marathon as for 2009, number of participants started to increase again. We also notice that number of runners of the marathon is decreasing over the years, as RTSSport mentioned it <a href=\"https://www.rts.ch/sport/athletisme/1258113-le-marathon-de-lausanne-change-dorientation.html\">in an article dedicated to Lausanne Marathon</a>, while, in the meantime, the number of runners of the 10 km running increases (and is now higher than the one for semi-marathon)."
   ]
  },
  {
   "cell_type": "markdown",
   "metadata": {},
   "source": [
    "#### In-depth: evolution by age categories and gender"
   ]
  },
  {
   "cell_type": "markdown",
   "metadata": {},
   "source": [
    "First, we create all the figures."
   ]
  },
  {
   "cell_type": "code",
   "execution_count": null,
   "metadata": {
    "collapsed": false
   },
   "outputs": [],
   "source": [
    "# Creation of all figures\n",
    "all_evolution_figures = lausanne_1999_2016_utils.generate_all_evolution_figures(lausanne_all_marathons_cleaned, ALL_AGE_CATEGORIES, ALL_SEX_CATEGORIES)"
   ]
  },
  {
   "cell_type": "markdown",
   "metadata": {},
   "source": [
    "Then, we create handlers."
   ]
  },
  {
   "cell_type": "code",
   "execution_count": null,
   "metadata": {
    "collapsed": true
   },
   "outputs": [],
   "source": [
    "def plot_evolution():\n",
    "    clear_output()\n",
    "    data = all_evolution_figures[selected_age_category_evolution][selected_sex_category_evolution]\n",
    "    plotly.offline.iplot(data)\n",
    "\n",
    "def update_age_category_evolution(change):\n",
    "    if change['new'] not in ALL_AGE_CATEGORIES:\n",
    "        return\n",
    "    global selected_age_category_evolution\n",
    "    selected_age_category_evolution = change['new']\n",
    "    plot_evolution()\n",
    "\n",
    "def update_sex_category_evolution(change):\n",
    "    if change['new'] not in ALL_SEX_CATEGORIES:\n",
    "        return\n",
    "    global selected_sex_category_evolution\n",
    "    selected_sex_category_evolution = change['new']\n",
    "    plot_evolution()\n",
    "\n",
    "# Default selections\n",
    "selected_age_category_evolution = 'All'\n",
    "selected_sex_category_evolution = 'All'\n",
    "\n",
    "# Widget for age categories\n",
    "age_categories_evolution_widget = widgets.Dropdown(options=ALL_AGE_CATEGORIES, value=selected_age_category_evolution)\n",
    "age_categories_evolution_widget.observe(update_age_category_evolution)\n",
    "\n",
    "# Widget for performance criteria\n",
    "sex_categories_evolution_widget = widgets.Dropdown(options=ALL_SEX_CATEGORIES, value=selected_sex_category_evolution)\n",
    "sex_categories_evolution_widget.observe(update_sex_category_evolution)"
   ]
  },
  {
   "cell_type": "markdown",
   "metadata": {},
   "source": [
    "Finally, we display widgets and graph."
   ]
  },
  {
   "cell_type": "code",
   "execution_count": null,
   "metadata": {
    "collapsed": false,
    "scrolled": false
   },
   "outputs": [],
   "source": [
    "display(AGE_LABEL)\n",
    "display(age_categories_evolution_widget)\n",
    "display(SEX_LABEL)\n",
    "display(sex_categories_evolution_widget)\n",
    "plot_evolution()"
   ]
  },
  {
   "cell_type": "markdown",
   "metadata": {},
   "source": [
    "### Focus on gender"
   ]
  },
  {
   "cell_type": "markdown",
   "metadata": {},
   "source": [
    "First, we retrieve gender distribution over the years into a unique DataFrame."
   ]
  },
  {
   "cell_type": "code",
   "execution_count": null,
   "metadata": {
    "collapsed": false
   },
   "outputs": [],
   "source": [
    "gender_distributions = lausanne_1999_2016_utils.generate_distributions(lausanne_all_marathons_10km, lausanne_all_marathons_21km, lausanne_all_marathons_42km, lausanne_1999_2016_utils.filter_by_sex_and_years)"
   ]
  },
  {
   "cell_type": "code",
   "execution_count": null,
   "metadata": {
    "collapsed": false,
    "scrolled": true
   },
   "outputs": [],
   "source": [
    "gender_distributions.head(6)"
   ]
  },
  {
   "cell_type": "markdown",
   "metadata": {},
   "source": [
    "To plot the results, we separe data according to the gender of participants."
   ]
  },
  {
   "cell_type": "code",
   "execution_count": null,
   "metadata": {
    "collapsed": false
   },
   "outputs": [],
   "source": [
    "columns = ['10 km', 'Semi-marathon', 'Marathon']\n",
    "female_runners = gender_distributions[gender_distributions.index.get_level_values(0) == 'female']\n",
    "female_runners.index = female_runners.index.droplevel(0)\n",
    "female_runners = female_runners[columns]\n",
    "\n",
    "male_runners = gender_distributions[gender_distributions.index.get_level_values(0) == 'male']\n",
    "male_runners.index = male_runners.index.droplevel(0)\n",
    "male_runners = male_runners[columns]\n",
    "\n",
    "gender_distributions_ordered = collections.OrderedDict([('female', female_runners), ('male', male_runners)])"
   ]
  },
  {
   "cell_type": "code",
   "execution_count": null,
   "metadata": {
    "collapsed": false,
    "scrolled": false
   },
   "outputs": [],
   "source": [
    "gender_distributions_over_years = lausanne_1999_2016_utils.plot_gender_distributions_over_years(gender_distributions_ordered)"
   ]
  },
  {
   "cell_type": "markdown",
   "metadata": {},
   "source": [
    "What we have seen for Lausanne Marathon 2016 can be generalized here. First, we see that women tend to prefer 10 km running, while for men, the number of participants among the different runnings is better divided. Second, we see that globally, for 10 km running and marathon, evolution is similar among the two genders. However, we observe much more variations for men than for women when we consider semi-marathon, and this even if we consider the new direction of Lausanne Marathon established in 2009."
   ]
  },
  {
   "cell_type": "markdown",
   "metadata": {},
   "source": [
    "## Zoom on evolution of age of participants"
   ]
  },
  {
   "cell_type": "code",
   "execution_count": null,
   "metadata": {
    "collapsed": false,
    "scrolled": true
   },
   "outputs": [],
   "source": [
    "statistics = lausanne_1999_2016_utils.generate_median_age_statistics(lausanne_all_marathons_cleaned)"
   ]
  },
  {
   "cell_type": "code",
   "execution_count": null,
   "metadata": {
    "collapsed": false,
    "scrolled": false
   },
   "outputs": [],
   "source": [
    "statistics['global'].round(1).T"
   ]
  },
  {
   "cell_type": "code",
   "execution_count": null,
   "metadata": {
    "collapsed": false,
    "scrolled": false
   },
   "outputs": [],
   "source": [
    "statistics['detailed'].index.levels[0].rename('Gender', inplace=True)\n",
    "statistics['detailed'].index.levels[1].rename('Year', inplace=True)\n",
    "statistics['detailed'].round(1)"
   ]
  },
  {
   "cell_type": "code",
   "execution_count": null,
   "metadata": {
    "collapsed": false,
    "scrolled": true
   },
   "outputs": [],
   "source": [
    "median_age_by_gender = statistics['detailed'].swaplevel().reset_index(level=1)\n",
    "median_age_evolution = lausanne_1999_2016_utils.plot_median_age_evolution(median_age_by_gender, groupby_attributes={'female': {'name': 'Female runners', 'color': '#f442e8'}, 'male': {'name': 'Male runners', 'color': '#4286f4'}})"
   ]
  },
  {
   "cell_type": "markdown",
   "metadata": {},
   "source": [
    "The evolution of the age is not very relevant, even if between 2007 and 2015 there is a possible linear regression. Also, we observe that in 2016 the average age seems to increase and break the previous downwards tendency.\n",
    "\n",
    "TODO: Add a boxplot to see that the distribution become larger over the years but stay with the same mean average."
   ]
  },
  {
   "cell_type": "markdown",
   "metadata": {},
   "source": [
    "## Part 2: Analysis of performance of Lausanne Marathon editions"
   ]
  },
  {
   "cell_type": "markdown",
   "metadata": {},
   "source": [
    "### Display of evolution of performance over the years"
   ]
  },
  {
   "cell_type": "markdown",
   "metadata": {},
   "source": [
    "First, we initialize visualisation parameters and we create Plotly figure."
   ]
  },
  {
   "cell_type": "code",
   "execution_count": null,
   "metadata": {
    "collapsed": false,
    "scrolled": false
   },
   "outputs": [],
   "source": [
    "# Visualisation parameters\n",
    "selected_age_category = 'All'\n",
    "selected_sex_category = 'All'\n",
    "selected_performance_criterion = 'Time'\n",
    "\n",
    "# Creation of all figures\n",
    "all_performance_figures = lausanne_1999_2016_utils.generate_all_performance_figures(lausanne_all_marathons_cleaned_with_datetime, ALL_AGE_CATEGORIES, ALL_SEX_CATEGORIES, ALL_PERFORMANCE_CRITERIA)"
   ]
  },
  {
   "cell_type": "markdown",
   "metadata": {},
   "source": [
    "We then create dropdown and their respective handlers."
   ]
  },
  {
   "cell_type": "code",
   "execution_count": null,
   "metadata": {
    "collapsed": false,
    "scrolled": false
   },
   "outputs": [],
   "source": [
    "# ----------------------------------------------------------------------------------------\n",
    "# HANDLERS\n",
    "\n",
    "def update_boxplots_figure():\n",
    "    clear_output()\n",
    "    data = all_performance_figures[selected_age_category][selected_sex_category][selected_performance_criterion]\n",
    "    plotly.offline.iplot(data)\n",
    "\n",
    "def update_age_category(change, update_function):\n",
    "    if change['new'] not in ALL_AGE_CATEGORIES:\n",
    "        return\n",
    "    global selected_age_category\n",
    "    selected_age_category = change['new']\n",
    "    update_function()\n",
    "\n",
    "def update_sex_category(change, update_function):\n",
    "    if change['new'] not in ALL_SEX_CATEGORIES:\n",
    "        return\n",
    "    global selected_sex_category\n",
    "    selected_sex_category = change['new']\n",
    "    update_function()\n",
    "    \n",
    "def update_performance_criterion(change, update_function):\n",
    "    if change['new'] not in ALL_PERFORMANCE_CRITERIA:\n",
    "        return\n",
    "    global selected_performance_criterion\n",
    "    selected_performance_criterion = change['new']\n",
    "    update_function()\n",
    "\n",
    "update_age_category_with_args = partial(update_age_category, update_function=update_boxplots_figure)\n",
    "update_sex_category_with_args = partial(update_sex_category, update_function=update_boxplots_figure)\n",
    "update_performance_criterion_with_args = partial(update_performance_criterion, update_function=update_boxplots_figure)\n",
    "\n",
    "# HANDLERS (END)\n",
    "# ----------------------------------------------------------------------------------------\n",
    "\n",
    "# Widget for age categories\n",
    "age_widget = widgets.Dropdown(options=ALL_AGE_CATEGORIES, value=selected_age_category)\n",
    "age_widget.observe(update_age_category_with_args)\n",
    "\n",
    "# Widget for age categories\n",
    "sex_widget = widgets.Dropdown(options=ALL_SEX_CATEGORIES, value=selected_sex_category)\n",
    "sex_widget.observe(update_sex_category_with_args)\n",
    "\n",
    "# Widget for performance criteria\n",
    "performance_widget = widgets.Dropdown(options=ALL_PERFORMANCE_CRITERIA, value=selected_performance_criterion)\n",
    "performance_widget.observe(update_performance_criterion_with_args)"
   ]
  },
  {
   "cell_type": "markdown",
   "metadata": {},
   "source": [
    "Finally, we display the graph."
   ]
  },
  {
   "cell_type": "code",
   "execution_count": null,
   "metadata": {
    "collapsed": false,
    "scrolled": false
   },
   "outputs": [],
   "source": [
    "display(AGE_LABEL)\n",
    "display(age_widget)\n",
    "display(SEX_LABEL)\n",
    "display(sex_widget)\n",
    "display(PERFORMANCE_LABEL)\n",
    "display(performance_widget)\n",
    "plotly.offline.iplot(all_performance_figures[selected_age_category][selected_sex_category][selected_performance_criterion])"
   ]
  },
  {
   "cell_type": "markdown",
   "metadata": {},
   "source": [
    "If we consider all the runners, it seems that there is kind of oscillations over the years, but globally difference doesn't seem important."
   ]
  },
  {
   "cell_type": "markdown",
   "metadata": {},
   "source": [
    "#### Display of evolution of number of participants and performance"
   ]
  },
  {
   "cell_type": "markdown",
   "metadata": {},
   "source": [
    "First, we define default values of select and we generate all figures using previous figures used for separated plots (see above)."
   ]
  },
  {
   "cell_type": "code",
   "execution_count": null,
   "metadata": {
    "collapsed": true
   },
   "outputs": [],
   "source": [
    "selected_age_category_evolution_performance = 'All'\n",
    "selected_sex_category_evolution_performance = 'All'\n",
    "selected_performance_evolution_performance = 'Time'"
   ]
  },
  {
   "cell_type": "code",
   "execution_count": null,
   "metadata": {
    "collapsed": false,
    "scrolled": true
   },
   "outputs": [],
   "source": [
    "# IMPORTANT: These two lines must be executed together (permanent modifications of dictionary is done when generating figures)\n",
    "all_evolution_performance_data = lausanne_1999_2016_utils.join_evolution_and_performance_data(all_evolution_figures, all_performance_figures, ALL_AGE_CATEGORIES, ALL_SEX_CATEGORIES, ALL_PERFORMANCE_CRITERIA)\n",
    "all_evolution_performance_figures = lausanne_1999_2016_utils.generate_evolution_and_performance_figures(all_evolution_performance_data, ALL_AGE_CATEGORIES, ALL_SEX_CATEGORIES, ALL_PERFORMANCE_CRITERIA)"
   ]
  },
  {
   "cell_type": "code",
   "execution_count": null,
   "metadata": {
    "collapsed": false
   },
   "outputs": [],
   "source": [
    "# ----------------------------------------------------------------------------------------\n",
    "# HANDLERS\n",
    "\n",
    "def plot_evolution_and_performance():\n",
    "    clear_output()\n",
    "    data = all_evolution_performance_figures[selected_age_category_evolution_performance][selected_sex_category_evolution_performance][selected_performance_evolution_performance]\n",
    "    plotly.offline.iplot(data)\n",
    "    \n",
    "def update_age_category_evolution_performance(change):\n",
    "    if change['new'] not in ALL_AGE_CATEGORIES:\n",
    "        return\n",
    "    global selected_age_category_evolution_performance\n",
    "    selected_age_category_evolution_performance = change['new']\n",
    "    plot_evolution_and_performance()\n",
    "    \n",
    "def update_sex_category_evolution_performance(change):\n",
    "    if change['new'] not in ALL_SEX_CATEGORIES:\n",
    "        return\n",
    "    global selected_sex_category_evolution_performance\n",
    "    selected_sex_category_evolution_performance = change['new']\n",
    "    plot_evolution_and_performance()\n",
    "\n",
    "def update_performance_evolution_performance(change):\n",
    "    if change['new'] not in ALL_PERFORMANCE_CRITERIA:\n",
    "        return\n",
    "    global selected_performance_evolution_performance\n",
    "    selected_performance_evolution_performance = change['new']\n",
    "    plot_evolution_and_performance()\n",
    "\n",
    "# HANDLERS (END)\n",
    "# ----------------------------------------------------------------------------------------\n",
    "\n",
    "# Widget for age categories\n",
    "age_categories_evolution_performance_widget = widgets.Dropdown(options=ALL_AGE_CATEGORIES, value=selected_age_category_evolution_performance)\n",
    "age_categories_evolution_performance_widget.observe(update_age_category_evolution_performance)\n",
    "\n",
    "# Widget for age categories\n",
    "sex_categories_evolution_performance_widget = widgets.Dropdown(options=ALL_SEX_CATEGORIES, value=selected_sex_category_evolution_performance)\n",
    "sex_categories_evolution_performance_widget.observe(update_sex_category_evolution_performance)\n",
    "\n",
    "# Widget for performance criteria\n",
    "performance_evolution_performance_widget = widgets.Dropdown(options=ALL_PERFORMANCE_CRITERIA, value=selected_performance_evolution_performance)\n",
    "performance_evolution_performance_widget.observe(update_performance_evolution_performance)"
   ]
  },
  {
   "cell_type": "markdown",
   "metadata": {},
   "source": [
    "Finally, we display graph."
   ]
  },
  {
   "cell_type": "code",
   "execution_count": null,
   "metadata": {
    "collapsed": false
   },
   "outputs": [],
   "source": [
    "display(AGE_LABEL)\n",
    "display(age_categories_evolution_performance_widget)\n",
    "display(SEX_LABEL)\n",
    "display(sex_categories_evolution_performance_widget)\n",
    "display(PERFORMANCE_LABEL)\n",
    "display(performance_evolution_performance_widget)\n",
    "plot_evolution_and_performance()"
   ]
  },
  {
   "cell_type": "markdown",
   "metadata": {},
   "source": [
    "### Focus on performance distribution"
   ]
  },
  {
   "cell_type": "markdown",
   "metadata": {},
   "source": [
    "First, we define default values of select and we generate all figures using previous figures used for separated plots (see above)."
   ]
  },
  {
   "cell_type": "code",
   "execution_count": null,
   "metadata": {
    "collapsed": true
   },
   "outputs": [],
   "source": [
    "selected_age_category_performance_distribution = 'All'\n",
    "selected_sex_category_performance_distribution = 'All'\n",
    "selected_performance_performance_distribution = 'Time'"
   ]
  },
  {
   "cell_type": "code",
   "execution_count": null,
   "metadata": {
    "collapsed": false,
    "scrolled": false
   },
   "outputs": [],
   "source": [
    "all_performance_distribution_figures = lausanne_1999_2016_utils.generate_performance_distribution_figures(lausanne_all_marathons_cleaned_with_datetime, ALL_AGE_CATEGORIES, ALL_SEX_CATEGORIES, ALL_PERFORMANCE_CRITERIA)"
   ]
  },
  {
   "cell_type": "markdown",
   "metadata": {},
   "source": [
    "Then, we define handlers and widgets."
   ]
  },
  {
   "cell_type": "code",
   "execution_count": null,
   "metadata": {
    "collapsed": true
   },
   "outputs": [],
   "source": [
    "# ----------------------------------------------------------------------------------------\n",
    "# HANDLERS\n",
    "\n",
    "def plot_performance_distribution():\n",
    "    clear_output()\n",
    "    data = all_performance_distribution_figures[selected_age_category_performance_distribution][selected_sex_category_performance_distribution][selected_performance_performance_distribution]\n",
    "    plotly.offline.iplot(data)\n",
    "    \n",
    "def update_age_category_performance_distribution(change):\n",
    "    if change['new'] not in ALL_AGE_CATEGORIES:\n",
    "        return\n",
    "    global selected_age_category_performance_distribution\n",
    "    selected_age_category_performance_distribution = change['new']\n",
    "    plot_performance_distribution()\n",
    "    \n",
    "def update_sex_category_performance_distribution(change):\n",
    "    if change['new'] not in ALL_SEX_CATEGORIES:\n",
    "        return\n",
    "    global selected_sex_category_performance_distribution\n",
    "    selected_sex_category_performance_distribution = change['new']\n",
    "    plot_performance_distribution()\n",
    "\n",
    "def update_performance_performance_distribution(change):\n",
    "    if change['new'] not in ALL_PERFORMANCE_CRITERIA:\n",
    "        return\n",
    "    global selected_performance_performance_distribution\n",
    "    selected_performance_performance_distribution = change['new']\n",
    "    plot_performance_distribution()\n",
    "\n",
    "# HANDLERS (END)\n",
    "# ----------------------------------------------------------------------------------------\n",
    "\n",
    "# Widget for age categories\n",
    "age_categories_performance_distribution_widget = widgets.Dropdown(options=ALL_AGE_CATEGORIES, value=selected_age_category_performance_distribution)\n",
    "age_categories_performance_distribution_widget.observe(update_age_category_performance_distribution)\n",
    "\n",
    "# Widget for age categories\n",
    "sex_categories_performance_distribution_widget = widgets.Dropdown(options=ALL_SEX_CATEGORIES, value=selected_sex_category_performance_distribution)\n",
    "sex_categories_performance_distribution_widget.observe(update_sex_category_performance_distribution)\n",
    "\n",
    "# Widget for performance criteria\n",
    "performance_performance_distribution_widget = widgets.Dropdown(options=ALL_PERFORMANCE_CRITERIA, value=selected_performance_performance_distribution)\n",
    "performance_performance_distribution_widget.observe(update_performance_performance_distribution)"
   ]
  },
  {
   "cell_type": "code",
   "execution_count": null,
   "metadata": {
    "collapsed": false
   },
   "outputs": [],
   "source": [
    "display(AGE_LABEL)\n",
    "display(age_categories_performance_distribution_widget)\n",
    "display(SEX_LABEL)\n",
    "display(sex_categories_performance_distribution_widget)\n",
    "display(PERFORMANCE_LABEL)\n",
    "display(performance_performance_distribution_widget)\n",
    "plot_performance_distribution()"
   ]
  },
  {
   "cell_type": "markdown",
   "metadata": {},
   "source": [
    "### Comparison between single edition versus all editions of Lausanne Marathon"
   ]
  },
  {
   "cell_type": "markdown",
   "metadata": {},
   "source": [
    "First, we generate all the boxplots used for the comparison."
   ]
  },
  {
   "cell_type": "code",
   "execution_count": null,
   "metadata": {
    "collapsed": false,
    "scrolled": true
   },
   "outputs": [],
   "source": [
    "selected_age_category_comparison = 'All'\n",
    "selected_year_comparison = 2016\n",
    "selected_performance_comparison = 'Time'\n",
    "all_performance_comparison_boxplots = lausanne_1999_2016_utils.generate_performance_comparison(lausanne_all_marathons_cleaned_with_datetime, ALL_AGE_CATEGORIES, ALL_PERFORMANCE_CRITERIA)"
   ]
  },
  {
   "cell_type": "markdown",
   "metadata": {},
   "source": [
    "We also define our widget used to select performance criterion."
   ]
  },
  {
   "cell_type": "code",
   "execution_count": null,
   "metadata": {
    "collapsed": false
   },
   "outputs": [],
   "source": [
    "# ----------------------------------------------------------------------------------------\n",
    "# HANDLERS\n",
    "\n",
    "def plot_comparison():\n",
    "    clear_output()\n",
    "    data = all_performance_comparison_boxplots[selected_age_category_comparison][selected_year_comparison]\n",
    "    lausanne_1999_2016_utils.plot_performance_comparison(data, selected_age_category_comparison, selected_year_comparison, selected_performance_comparison)\n",
    "\n",
    "def update_age_category_comparison(change):\n",
    "    if change['new'] not in ALL_AGE_CATEGORIES:\n",
    "        return\n",
    "    global selected_age_category_comparison\n",
    "    selected_age_category_comparison = change['new']\n",
    "    plot_comparison()\n",
    "    \n",
    "def update_year_comparison(change):\n",
    "    if change['new'] not in ALL_YEARS:\n",
    "        return\n",
    "    global selected_year_comparison\n",
    "    selected_year_comparison = change['new']\n",
    "    plot_comparison()\n",
    "\n",
    "def update_performance_comparison(change):\n",
    "    if change['new'] not in ALL_PERFORMANCE_CRITERIA:\n",
    "        return\n",
    "    global selected_performance_comparison\n",
    "    selected_performance_comparison = change['new']\n",
    "    plot_comparison()\n",
    "\n",
    "# HANDLERS (END)\n",
    "# ----------------------------------------------------------------------------------------\n",
    "\n",
    "# Widget for age categories\n",
    "age_categories_comparison_widget = widgets.Dropdown(options=ALL_AGE_CATEGORIES, value=selected_age_category_comparison)\n",
    "age_categories_comparison_widget.observe(update_age_category_comparison)\n",
    "\n",
    "# Widget for age categories\n",
    "years_comparison_widget = widgets.Dropdown(options=ALL_YEARS, value=selected_year_comparison)\n",
    "years_comparison_widget.observe(update_year_comparison)\n",
    "\n",
    "# Widget for performance criteria\n",
    "performance_comparison_widget = widgets.Dropdown(options=ALL_PERFORMANCE_CRITERIA, value=selected_performance_comparison)\n",
    "performance_comparison_widget.observe(update_performance_comparison)"
   ]
  },
  {
   "cell_type": "markdown",
   "metadata": {},
   "source": [
    "Finally, we display the complete graph."
   ]
  },
  {
   "cell_type": "code",
   "execution_count": null,
   "metadata": {
    "collapsed": false,
    "scrolled": false
   },
   "outputs": [],
   "source": [
    "display(AGE_LABEL)\n",
    "display(age_categories_comparison_widget)\n",
    "display(YEAR_LABEL)\n",
    "display(years_comparison_widget)\n",
    "display(PERFORMANCE_LABEL)\n",
    "display(performance_comparison_widget)\n",
    "plot_comparison()"
   ]
  },
  {
   "cell_type": "markdown",
   "metadata": {},
   "source": [
    "## Back in time: Evolution of performance of teams"
   ]
  },
  {
   "cell_type": "code",
   "execution_count": null,
   "metadata": {
    "collapsed": true
   },
   "outputs": [],
   "source": [
    "teams_performance_figures = lausanne_1999_2016_utils.generate_teams_evolution_figures(data=lausanne_all_marathons_cleaned_with_datetime)"
   ]
  },
  {
   "cell_type": "code",
   "execution_count": null,
   "metadata": {
    "collapsed": false
   },
   "outputs": [],
   "source": [
    "for running in teams_performance_figures.keys():\n",
    "    plotly.offline.iplot(teams_performance_figures[running])"
   ]
  },
  {
   "cell_type": "markdown",
   "metadata": {},
   "source": [
    "## Focus on BIB numbers (for curiosity)"
   ]
  },
  {
   "cell_type": "markdown",
   "metadata": {},
   "source": [
    "For pure curiosity, we can display the performance according BIB numbers for all Lausanne Marathon's editions.\n",
    "\n",
    "*Note: The following figure is not exported to JSON by default and does not appear on the website.*"
   ]
  },
  {
   "cell_type": "code",
   "execution_count": null,
   "metadata": {
    "collapsed": false
   },
   "outputs": [],
   "source": [
    "bib_distribution = lausanne_1999_2016_utils.generate_all_bib_performance_figure(lausanne_all_marathons_cleaned_with_datetime)"
   ]
  },
  {
   "cell_type": "markdown",
   "metadata": {},
   "source": [
    "# Save of (dictionaries containing) Plotly figures to JSON"
   ]
  },
  {
   "cell_type": "markdown",
   "metadata": {},
   "source": [
    "As comparison plot is generated on-the-fly, we need to create dictionary."
   ]
  },
  {
   "cell_type": "code",
   "execution_count": null,
   "metadata": {
    "collapsed": false
   },
   "outputs": [],
   "source": [
    "all_comparison_figures = {}\n",
    "age_category = 'All'\n",
    "for year in ALL_YEARS:\n",
    "    all_comparison_figures[year] = {}\n",
    "    data = all_performance_comparison_boxplots[age_category][year]\n",
    "    # Note: We use silent option to only retrieve each figure\n",
    "    # Also, we only use 'Time' as criterion and only 'All' as age category (minified JSON of 145 MB instead of 543 MB)\n",
    "    all_comparison_figures[year] = lausanne_1999_2016_utils.plot_performance_comparison(data=data, age_category=age_category, year=year, performance_criterion='Time', silent=True)"
   ]
  },
  {
   "cell_type": "markdown",
   "metadata": {},
   "source": [
    "We define dictionary containing all data to export."
   ]
  },
  {
   "cell_type": "code",
   "execution_count": null,
   "metadata": {
    "collapsed": false
   },
   "outputs": [],
   "source": [
    "data_to_export = {'distribution_runners_over_years': distribution_runners_over_years,\n",
    "                  'all_evolution_figures': all_evolution_figures,\n",
    "                  'gender_distributions_over_years': gender_distributions_over_years,\n",
    "                  'median_age_evolution': median_age_evolution,\n",
    "                  'all_performance_figures': all_performance_figures,\n",
    "                  'all_evolution_performance_figures': all_evolution_performance_figures,\n",
    "                  'all_performance_distribution_figures': all_performance_distribution_figures,\n",
    "                  'all_comparison_figures': all_comparison_figures,\n",
    "                  'teams_performance_figures': teams_performance_figures\n",
    "                 }"
   ]
  },
  {
   "cell_type": "markdown",
   "metadata": {},
   "source": [
    "Finally, we export all data."
   ]
  },
  {
   "cell_type": "markdown",
   "metadata": {},
   "source": [
    "**IMPORTANT: Generating JSON of all data takes some time and requires high resources.<br>By default, code is commented and existing files are not overriden.**"
   ]
  },
  {
   "cell_type": "code",
   "execution_count": null,
   "metadata": {
    "collapsed": false
   },
   "outputs": [],
   "source": [
    "#for name, data in data_to_export.items():\n",
    "    # Note: We set indent to None in order to minify JSON\n",
    "#    study_utils.convert_to_JSON(object=data, file_name=name, path='./Data', encoder=plotly.utils.PlotlyJSONEncoder, indent=None)"
   ]
  }
 ],
 "metadata": {
  "anaconda-cloud": {},
  "kernelspec": {
   "display_name": "Python [conda root]",
   "language": "python",
   "name": "conda-root-py"
  },
  "language_info": {
   "codemirror_mode": {
    "name": "ipython",
    "version": 3
   },
   "file_extension": ".py",
   "mimetype": "text/x-python",
   "name": "python",
   "nbconvert_exporter": "python",
   "pygments_lexer": "ipython3",
   "version": "3.5.2"
  }
 },
 "nbformat": 4,
 "nbformat_minor": 1
}
