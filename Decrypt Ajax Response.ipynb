{
 "cells": [
  {
   "cell_type": "code",
   "execution_count": null,
   "metadata": {
    "collapsed": false
   },
   "outputs": [],
   "source": [
    "from Crypto.Cipher import AES\n",
    "from Crypto import Random\n",
    "import base64\n",
    "import binascii\n",
    "import numpy as np\n",
    "import pandas as pd\n",
    "from IPython.display import HTML\n",
    "import json\n",
    "\n",
    "# Web Scrapping\n",
    "import requests as rq\n",
    "from bs4 import BeautifulSoup as bfs"
   ]
  },
  {
   "cell_type": "code",
   "execution_count": null,
   "metadata": {
    "collapsed": false
   },
   "outputs": [],
   "source": [
    "HTML('<iframe src=https://www.datasport.com/sys/myds/ajax/getDSInfo.htm?acode=5CHP784HD width=1000 height=350></iframe>')"
   ]
  },
  {
   "cell_type": "markdown",
   "metadata": {
    "collapsed": true
   },
   "source": [
    "https://www.datasport.com/sys/myds/ajax/getDSInfo.htm?acode=5CHP784HD\n",
    "\n",
    "JS: \n",
    "```\n",
    "var key = CryptoJS.enc.Base64.parse(\"AYf833rD2Q1oM0r6A7h+/g==\");\n",
    "var iv  = CryptoJS.enc.Base64.parse(\"M6OUM+Td58TdudRQK4kF1A==\");\n",
    "var decrypted = CryptoJS.AES.decrypt(resultEnc, key, {iv: iv});\n",
    "var result = JSON.parse(decrypted.toString(CryptoJS.enc.Utf8));\n",
    "```\n",
    "\n",
    "Results:\n",
    "```\n",
    "resultEnc = '3zxaer+64X4MlhwuD6brwEHBNFvFQ1/1v6HvtgY6H8cXvrxxGlWtGdWGRqfdmh5BmOnTTj0AplYL4GXExOqQU8s2quJTqvawdfazWRNL/9y76ldSjVbEl3XaFhl7yzA3uX36uOswsfUEXvQrvXeSWd8+KaVlbzyUDZnlytuBi+GWaipKz6NdSqmY8U3nPdaoVDf7euSP/7Z3L3sLLYLmQ0UgOtp+2+GSDL8cVHNMZTHsBXwP7LOQtXKjOLBJ0wm7svr+omqmh1Hr8kG2Kcj2JTkUQd+mrvbTeofzmzYLWezHJzwMeYMXsx5VdgbJtnaJoi5Jv6MVVJkeQFOJ8t1hYfuQoFfpIrDZLS4pdY8FhQFFOuPELOZuDeAAXwAG8Y2idzpaZIPD1V+4+iisal0Ud0Sl6XyjTqSaz4L9ceYJMKAdo5/kXZWqiBotN/u+rUdmtAaVAoMVA7zhPN7EIvpN+dWfLn/37ukWY1R51m99C5ryH0JoZSA2DmFpziEfqLk6y6jvGEY/EVx3sRiFgh1VsYs+o3VDKlYEsKh5sPoGi9pmQiZOTdGazXFxbCpVJJT3KxU12bleNrQdrABVvxAhh9GgtfWLFdozlpW11K8TbhTheu6Qr8yRBnJpq5gKe5ti'\n",
    "\n",
    "key = {\n",
    "    sigBytes: 16,\n",
    "    words: {\n",
    "        0: 25689311,\n",
    "        1: 2059655437,\n",
    "        2: 1748191994,\n",
    "        3: 62422782\n",
    "    }\n",
    "}\n",
    "\n",
    "iv = {\n",
    "    sigBytes: 16,\n",
    "    words: {\n",
    "        0: 866358323,\n",
    "        1: -455219260,\n",
    "        2: -575024048,\n",
    "        3: 730400212\n",
    "    }\n",
    "}\n",
    "\n",
    "result = {\n",
    "    catRank: 43,\n",
    "    categoryName: \"STC Olympic Hommes CA 35-44\",\n",
    "    entryArt: \"Bezahlt\",\n",
    "    entryPayart: \"Online\",\n",
    "    eventDate: \"11.09.2016\",\n",
    "    eventName: \"Triathlon Yverdon-les-Bains\",\n",
    "    eventRaceNr: \"B628CCC3D9A7DDBF558DA920B9E33C7D\"\n",
    "    overCategoryName: \"STC Olympic Hommes Overall\",\n",
    "    overRank: 122,\n",
    "    provider: \"Datasport\",\n",
    "    raceNr: 18594,\n",
    "    racePayload: \"E09137F006F1390053225B57ABFA512DF7BC65269C53D92AC9AB3E2E044E6DFD\",\n",
    "    resultState: \"Klassiert\",\n",
    "    runtime: \"3:02.32,0\",\n",
    "    startNumber: 166\n",
    "}\n",
    "```"
   ]
  },
  {
   "cell_type": "code",
   "execution_count": null,
   "metadata": {
    "collapsed": false
   },
   "outputs": [],
   "source": [
    "def decrypt_response(response):\n",
    "    \n",
    "    html_page = '<p id=\"crypted\" style=\"display:none;\">' + response + '</p>'\n",
    "    \n",
    "    jquery_file = open('Lib/jquery.min.js', 'r')\n",
    "    crypto_js_file = open('Lib/cryptojs-aes.js', 'r')\n",
    "    \n",
    "    javascript = '<script type=\"text/Javascript\">' + jquery_file.read() + '</script>'\n",
    "    javascript += '<script type=\"text/Javascript\">' + crypto_js_file.read() + '</script>'\n",
    "    \n",
    "    javascript += \"\"\"\n",
    "        <script type=\"text/Javascript\">\n",
    "            var key = CryptoJS.enc.Base64.parse(\"AYf833rD2Q1oM0r6A7h+/g==\");\n",
    "            var iv  = CryptoJS.enc.Base64.parse(\"M6OUM+Td58TdudRQK4kF1A==\");\n",
    "\n",
    "            var crypted = $('#crypted').text();\n",
    "\n",
    "            var decrypted = CryptoJS.AES.decrypt(crypted, key, {iv: iv});\n",
    "            var result = decrypted.toString(CryptoJS.enc.Utf8);\n",
    "\n",
    "            var command = \"result = '\" + result + \"'\";\n",
    "\n",
    "            var kernel = IPython.notebook.kernel;\n",
    "            kernel.execute(command);\n",
    "\n",
    "        </script>\n",
    "    \"\"\"\n",
    "\n",
    "    HTML(html_page + javascript)\n",
    "    return json.loads(result)"
   ]
  },
  {
   "cell_type": "code",
   "execution_count": null,
   "metadata": {
    "collapsed": false
   },
   "outputs": [],
   "source": [
    "resultEnc = '3zxaer+64X4MlhwuD6brwEHBNFvFQ1/1v6HvtgY6H8cXvrxxGlWtGdWGRqfdmh5BmOnTTj0AplYL4GXExOqQU8s2quJTqvawdfazWRNL/9y76ldSjVbEl3XaFhl7yzA3uX36uOswsfUEXvQrvXeSWd8+KaVlbzyUDZnlytuBi+GWaipKz6NdSqmY8U3nPdaoVDf7euSP/7Z3L3sLLYLmQ0UgOtp+2+GSDL8cVHNMZTHsBXwP7LOQtXKjOLBJ0wm7svr+omqmh1Hr8kG2Kcj2JTkUQd+mrvbTeofzmzYLWezHJzwMeYMXsx5VdgbJtnaJoi5Jv6MVVJkeQFOJ8t1hYfuQoFfpIrDZLS4pdY8FhQFFOuPELOZuDeAAXwAG8Y2idzpaZIPD1V+4+iisal0Ud0Sl6XyjTqSaz4L9ceYJMKAdo5/kXZWqiBotN/u+rUdmtAaVAoMVA7zhPN7EIvpN+dWfLn/37ukWY1R51m99C5ryH0JoZSA2DmFpziEfqLk6y6jvGEY/EVx3sRiFgh1VsYs+o3VDKlYEsKh5sPoGi9pmQiZOTdGazXFxbCpVJJT3KxU12bleNrQdrABVvxAhh9GgtfWLFdozlpW11K8TbhTheu6Qr8yRBnJpq5gKe5ti'\n",
    "decrypt_response(resultEnc)"
   ]
  },
  {
   "cell_type": "markdown",
   "metadata": {},
   "source": [
    "Get all data about runners."
   ]
  },
  {
   "cell_type": "code",
   "execution_count": null,
   "metadata": {
    "collapsed": false
   },
   "outputs": [],
   "source": [
    "ADRESS_PERSONNAL_PAGE = 'https://www.datasport.com/sys/myds/ajax/getDSInfo.htm?acode='\n",
    "FILE_NAME = 'unique_acode_2009_2015.csv'\n",
    "PATH_TO_DATA = './Data/acode_2009_2015/'\n",
    "\n",
    "data_acode = pd.read_csv(PATH_TO_DATA+FILE_NAME, sep='\\t')\n",
    "data_acode.head()"
   ]
  },
  {
   "cell_type": "code",
   "execution_count": null,
   "metadata": {
    "collapsed": false
   },
   "outputs": [],
   "source": [
    "for acode in data_acode['acode']:\n",
    "    url = 'https://www.datasport.com/sys/myds/ajax/getDSInfo.htm?acode='+acode\n",
    "    print(url)\n",
    "    filters_page = rq.get(url) \n",
    "    page = bfs(filters_page.text, 'html.parser')\n",
    "    \n",
    "    print(page)\n",
    "    \n",
    "    # get the birtyear\n",
    "    matches = page.findAll(\"div\", { \"class\" : \"small\" })\n",
    "\n",
    "    # get information on the table.\n",
    "    \n",
    "    break;"
   ]
  },
  {
   "cell_type": "code",
   "execution_count": null,
   "metadata": {
    "collapsed": true
   },
   "outputs": [],
   "source": [
    "year.split(\":\")[1:][0]"
   ]
  }
 ],
 "metadata": {
  "anaconda-cloud": {},
  "kernelspec": {
   "display_name": "Python [Root]",
   "language": "python",
   "name": "Python [Root]"
  },
  "language_info": {
   "codemirror_mode": {
    "name": "ipython",
    "version": 3
   },
   "file_extension": ".py",
   "mimetype": "text/x-python",
   "name": "python",
   "nbconvert_exporter": "python",
   "pygments_lexer": "ipython3",
   "version": "3.5.2"
  }
 },
 "nbformat": 4,
 "nbformat_minor": 0
}
