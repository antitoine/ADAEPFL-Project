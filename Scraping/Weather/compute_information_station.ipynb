{
 "cells": [
  {
   "cell_type": "markdown",
   "metadata": {},
   "source": [
    "# Setting up environment"
   ]
  },
  {
   "cell_type": "markdown",
   "metadata": {},
   "source": [
    "First, we import libraries."
   ]
  },
  {
   "cell_type": "code",
   "execution_count": null,
   "metadata": {
    "collapsed": false
   },
   "outputs": [],
   "source": [
    "import pandas as pd\n",
    "import numpy as np\n",
    "import matplotlib.pyplot as plt\n",
    "import math\n",
    "import requests as rq\n",
    "from bs4 import BeautifulSoup as bfs\n",
    "from datetime import datetime\n",
    "import re\n",
    "import locale"
   ]
  },
  {
   "cell_type": "markdown",
   "metadata": {},
   "source": [
    "We change locale to ensure correct format of date in further processing."
   ]
  },
  {
   "cell_type": "code",
   "execution_count": null,
   "metadata": {
    "collapsed": false,
    "scrolled": true
   },
   "outputs": [],
   "source": [
    "# We set the fr_CH locale to print amounts in correct way\n",
    "try:\n",
    "    locale.setlocale(locale.LC_ALL, 'fr_CH.utf8') # Linux locale\n",
    "    print('locale for linux')\n",
    "except:\n",
    "    try:\n",
    "        locale.setlocale(locale.LC_ALL, 'fr_CH.UTF-8') # Mac locale\n",
    "        print('locale for Mac')\n",
    "    except:\n",
    "        print('Unable to set fr_CH.utf8 or fr_CH.UTF-8 locale. Currency will not be correct.')"
   ]
  },
  {
   "cell_type": "markdown",
   "metadata": {},
   "source": [
    "We define columns of weather data."
   ]
  },
  {
   "cell_type": "code",
   "execution_count": null,
   "metadata": {
    "collapsed": true
   },
   "outputs": [],
   "source": [
    "READING_COLUMNS = ['Hour', 'Temperature (°C)', 'Rain (mm/1h)', 'Humidity (%)', 'Wind (average) (km/h)', 'Pressure (hPa)', 'Visibility (km)']"
   ]
  },
  {
   "cell_type": "markdown",
   "metadata": {},
   "source": [
    "The following function are used to retrieve weather data for a given location and date."
   ]
  },
  {
   "cell_type": "code",
   "execution_count": null,
   "metadata": {
    "collapsed": false
   },
   "outputs": [],
   "source": [
    "def get_distance_between_locations(x_lat, x_long, y_lat, y_long):\n",
    "    '''\n",
    "    This function returns the distance (geodesic) between two locations A and B.\n",
    "    \n",
    "    More information:\n",
    "    https://en.wikipedia.org/wiki/As_the_crow_flies\n",
    "    https://en.wikipedia.org/wiki/Geodesic\n",
    "    \n",
    "    Parameters:\n",
    "    x_lat: latitude of location A\n",
    "    x_long: longitude of location A\n",
    "    y_lat: latitude of location B\n",
    "    y_long: longitude of location B\n",
    "    '''\n",
    "    \n",
    "    R = 6371 # Radius of earth (km)\n",
    "    d_lat = math.radians(y_lat-x_lat)\n",
    "    d_long = math.radians(y_long-x_long) \n",
    "    a = ( \n",
    "        math.sin(d_lat/2) * math.sin(d_lat/2) +\n",
    "        math.cos(math.radians(x_lat)) * math.cos(math.radians(y_lat)) * \n",
    "        math.sin(d_long/2) * math.sin(d_long/2)\n",
    "        )\n",
    "    c = 2 * math.atan2(math.sqrt(a), math.sqrt(1-a))\n",
    "    d = R * c\n",
    "    return d"
   ]
  },
  {
   "cell_type": "code",
   "execution_count": null,
   "metadata": {
    "collapsed": false
   },
   "outputs": [],
   "source": [
    "def retrieve_nearest_weather_sensor(latitude, longitude):\n",
    "    '''\n",
    "    This function retrieves the nearest sensor for a given location.\n",
    "    \n",
    "    Parameters:\n",
    "    latitude: latitude of the location\n",
    "    longitude: longitude of the location\n",
    "    '''\n",
    "    \n",
    "    result = {'station': 'N/A', 'url': 'N/A', 'distance_from_location': float(\"inf\")}\n",
    "    for index, row in stations.iterrows():\n",
    "        distance = get_distance_between_locations(latitude, longitude, row['Latitude'], row['Longitude'])\n",
    "        # We store sensor's information if distance between the aforesaid sensor and the given location is lower than the stored one\n",
    "        if(distance < result['distance_from_location']):\n",
    "            result['station'] = index\n",
    "            result['url'] = row['URL']\n",
    "            result['distance_from_location'] = distance\n",
    "    return result"
   ]
  },
  {
   "cell_type": "code",
   "execution_count": null,
   "metadata": {
    "collapsed": true
   },
   "outputs": [],
   "source": [
    "def retrieve_weather_of_location_by_date(latitude, longitude, date):\n",
    "    '''\n",
    "    This function retrieves the weather of a location for a given date.\n",
    "    \n",
    "    Parameters:\n",
    "    latitude: latitude of the location\n",
    "    longitude: longitude of the location\n",
    "    date: date to be considered for weather\n",
    "    '''\n",
    "    \n",
    "    station = retrieve_nearest_weather_sensor(latitude, longitude)\n",
    "    formatted_date = date.strftime('%d/%B/%Y')\n",
    "    archive_url = station['url'].replace('temps-reel', 'archives/' + formatted_date)\n",
    "    archive_url = archive_url.replace('/01/', '/1er/')\n",
    "    archive_url = remove_zero(archive_url)\n",
    "    page = rq.get(archive_url)\n",
    "    return page"
   ]
  },
  {
   "cell_type": "code",
   "execution_count": null,
   "metadata": {
    "collapsed": true
   },
   "outputs": [],
   "source": [
    "def format_complete_reading(page):\n",
    "    '''\n",
    "    This function creates a DataFrame from a HTML table containing weather data.\n",
    "    \n",
    "    Parameter:\n",
    "    page: HTML page containing weather data of a location, for a given date\n",
    "    '''\n",
    "    \n",
    "    content = bfs(page.text, 'html.parser')\n",
    "    table = content.find(id='tableau-releves')\n",
    "    \n",
    "    columns = [column.text for column in table.find_all('th')]\n",
    "    series = []\n",
    "    \n",
    "    for row in table.find_all('tr'):\n",
    "        serie = []\n",
    "        for col in row.find_all('td'):\n",
    "            serie.append(col.text)\n",
    "        series.append(serie)\n",
    "\n",
    "    df = pd.DataFrame(series)\n",
    "    df.columns = columns\n",
    "    \n",
    "    return df"
   ]
  },
  {
   "cell_type": "code",
   "execution_count": null,
   "metadata": {
    "collapsed": true
   },
   "outputs": [],
   "source": [
    "def format_visibility(visibility):\n",
    "    '''\n",
    "    This function formats visibility's column.\n",
    "    \n",
    "    Parameter:\n",
    "    visibility: visibility for a given date and a given location\n",
    "    '''\n",
    "    \n",
    "    normalize = 1\n",
    "    if visibility.find('km') == -1:\n",
    "        normalize = 10**3\n",
    "    regex_match = re.match('(\\d*\\.?\\d+)', str(visibility))\n",
    "    if regex_match:\n",
    "        return float(regex_match.group(1))/normalize\n",
    "    else:\n",
    "        return None\n",
    "\n",
    "def format_values(row):\n",
    "    '''\n",
    "    This function removes text and units and keep only float numbers.\n",
    "    \n",
    "    Parameter:\n",
    "    row: row to be formatted (represents an entry created by a sensor for a given location and hour)\n",
    "    '''\n",
    "    \n",
    "    columns = (col for col in READING_COLUMNS if col not in ['Visibility (km)'])\n",
    "    for column in columns:\n",
    "        regex_match = re.match('(\\d*\\.?\\d+)', str(row[column]))\n",
    "        if regex_match:\n",
    "            row[column] = float(regex_match.group(1))\n",
    "        else:\n",
    "            row[column] = None\n",
    "    if row['Visibility (km)']:\n",
    "        row['Visibility (km)'] = format_visibility(row['Visibility (km)'])\n",
    "    return row"
   ]
  },
  {
   "cell_type": "code",
   "execution_count": null,
   "metadata": {
    "collapsed": false
   },
   "outputs": [],
   "source": [
    "def clean_reading_dataframe(df):\n",
    "    '''\n",
    "    This function cleans a DataFrame containing weather data.\n",
    "    \n",
    "    Parameter:\n",
    "    df: DataFrame to be cleaned\n",
    "    '''\n",
    "    \n",
    "    df_clean = df\n",
    "    if 'Temps' in df.columns:\n",
    "        df_clean.drop('Temps', axis=1, inplace=True)\n",
    "        \n",
    "    if 'Biométéo' in df.columns:\n",
    "        df_clean.drop('Biométéo', axis=1, inplace=True)\n",
    "        \n",
    "    if 'Pt. de rosée' in df.columns:\n",
    "        df_clean.drop('Pt. de rosée', axis=1,inplace=True)\n",
    "    \n",
    "    if 'Pluie' in df_clean.columns:\n",
    "        df_clean.columns = READING_COLUMNS\n",
    "        \n",
    "    else:\n",
    "        df_clean.columns = ['Hour', 'Temperature (°C)', 'Humidity (%)', 'Wind (average) (km/h)', 'Pressure (hPa)', 'Visibility (km)']\n",
    "        df_clean['Rain (mm/1h)'] = np.nan\n",
    "        \n",
    "    df_clean.dropna(how='all', inplace=True)\n",
    "    df_clean = df_clean.apply(format_values, axis=1)\n",
    "    return df_clean"
   ]
  },
  {
   "cell_type": "code",
   "execution_count": null,
   "metadata": {
    "collapsed": true
   },
   "outputs": [],
   "source": [
    "def get_weather_info(reading):\n",
    "    '''\n",
    "    This function retrieves weather data (summary) for a location and a given date.\n",
    "    \n",
    "    Parameter:\n",
    "    reading: DataFrame containing weather data\n",
    "    '''\n",
    "    \n",
    "    result = {'temperature': {},\n",
    "             'wind': {},\n",
    "             'pression': {}}\n",
    "    \n",
    "    detailed_metrics = {'temperature': 'Temperature (°C)', 'wind': 'Wind (average) (km/h)', 'pression': 'Pressure (hPa)'}\n",
    "    mean_metrics = {'humidity': 'Humidity (%)', 'visibility': 'Visibility (km)'}\n",
    "    sum_metrics = {'rain': 'Rain (mm/1h)'}\n",
    "    \n",
    "    for key, value in detailed_metrics.items():\n",
    "        result[key]['min'] = reading[value].min()\n",
    "        result[key]['max'] = reading[value].max()\n",
    "        result[key]['avg'] = reading[value].mean()\n",
    "        \n",
    "    for key, value in mean_metrics.items():\n",
    "        result[key] = reading[value].mean()\n",
    "        \n",
    "    for key, value in sum_metrics.items():\n",
    "        result[key] = reading[value].sum()\n",
    "    \n",
    "    return result"
   ]
  },
  {
   "cell_type": "code",
   "execution_count": null,
   "metadata": {
    "collapsed": true
   },
   "outputs": [],
   "source": [
    "def remove_zero (url_archived):\n",
    "    '''\n",
    "    Remove the 0 in the url containing number.\n",
    "    \n",
    "    Parameter:\n",
    "    url_archived: String \n",
    "    '''\n",
    "    \n",
    "    for integer in range(1, 10):\n",
    "        url_archived = url_archived.replace('/0'+ str(integer) +'/', '/'+ str(integer) +'/')\n",
    "        \n",
    "    return url_archived"
   ]
  },
  {
   "cell_type": "markdown",
   "metadata": {},
   "source": [
    "# Example"
   ]
  },
  {
   "cell_type": "markdown",
   "metadata": {},
   "source": [
    "We load data relative to stations."
   ]
  },
  {
   "cell_type": "code",
   "execution_count": null,
   "metadata": {
    "collapsed": false,
    "scrolled": true
   },
   "outputs": [],
   "source": [
    "stations_data_columns = ['Station', 'Altitude (m)', 'Latitude', 'Longitude', 'URL']\n",
    "stations = pd.read_csv('./Data/InformationStation.csv', usecols=stations_data_columns, index_col=['Station'], dtype={'Latitude': 'float', 'Longitude': 'float', 'Altitude (m)': 'float'})\n",
    "stations.head()"
   ]
  },
  {
   "cell_type": "markdown",
   "metadata": {},
   "source": [
    "We retrieve complete weather data of <a href=\"https://en.wikipedia.org/wiki/Palace_of_Nations\">Palace of Nations</a> for November, 24th 2016."
   ]
  },
  {
   "cell_type": "code",
   "execution_count": null,
   "metadata": {
    "collapsed": false,
    "scrolled": true
   },
   "outputs": [],
   "source": [
    "page = retrieve_weather_of_location_by_date(46.915183, 7.107277, datetime(2014, 10, 3))\n",
    "df = format_complete_reading(page)\n",
    "clean_df = clean_reading_dataframe(df)\n",
    "clean_df"
   ]
  },
  {
   "cell_type": "markdown",
   "metadata": {},
   "source": [
    "We also display summary of weather data for the aforesaid location and for given date."
   ]
  },
  {
   "cell_type": "code",
   "execution_count": null,
   "metadata": {
    "collapsed": false
   },
   "outputs": [],
   "source": [
    "weather_info = get_weather_info(clean_df)\n",
    "weather_info"
   ]
  }
 ],
 "metadata": {
  "anaconda-cloud": {},
  "kernelspec": {
   "display_name": "Python [conda root]",
   "language": "python",
   "name": "conda-root-py"
  },
  "language_info": {
   "codemirror_mode": {
    "name": "ipython",
    "version": 3
   },
   "file_extension": ".py",
   "mimetype": "text/x-python",
   "name": "python",
   "nbconvert_exporter": "python",
   "pygments_lexer": "ipython3",
   "version": "3.5.2"
  }
 },
 "nbformat": 4,
 "nbformat_minor": 0
}
