{
 "cells": [
  {
   "cell_type": "markdown",
   "metadata": {},
   "source": [
    "# Decrypt Ajax Response (python)"
   ]
  },
  {
   "cell_type": "markdown",
   "metadata": {},
   "source": [
    "Example of page we want to use:\n",
    "https://www.datasport.com/sys/myds/ajax/getDSInfo.htm?acode=5CHP784HD\n",
    "\n",
    "The following lines of code allow to retrieve information relative to a runner as plain text, in JavaScript.\n",
    "\n",
    "```\n",
    "var key = CryptoJS.enc.Base64.parse(\"AYf833rD2Q1oM0r6A7h+/g==\");\n",
    "var iv  = CryptoJS.enc.Base64.parse(\"M6OUM+Td58TdudRQK4kF1A==\");\n",
    "var decrypted = CryptoJS.AES.decrypt(resultEnc, key, {iv: iv});\n",
    "var result = JSON.parse(decrypted.toString(CryptoJS.enc.Utf8));\n",
    "```\n",
    "\n",
    "This is a example of encoded text that server sends.\n",
    "\n",
    "```\n",
    "resultEnc = '3zxaer+64X4MlhwuD6brwEHBNFvFQ1/1v6HvtgY6H8cXvrxxGlWtGdWGRqfdmh5BmOnTTj0AplYL4GXExOqQU8s2quJTqvawdfazWRNL/9y76ldSjVbEl3XaFhl7yzA3uX36uOswsfUEXvQrvXeSWd8+KaVlbzyUDZnlytuBi+GWaipKz6NdSqmY8U3nPdaoVDf7euSP/7Z3L3sLLYLmQ0UgOtp+2+GSDL8cVHNMZTHsBXwP7LOQtXKjOLBJ0wm7svr+omqmh1Hr8kG2Kcj2JTkUQd+mrvbTeofzmzYLWezHJzwMeYMXsx5VdgbJtnaJoi5Jv6MVVJkeQFOJ8t1hYfuQoFfpIrDZLS4pdY8FhQFFOuPELOZuDeAAXwAG8Y2idzpaZIPD1V+4+iisal0Ud0Sl6XyjTqSaz4L9ceYJMKAdo5/kXZWqiBotN/u+rUdmtAaVAoMVA7zhPN7EIvpN+dWfLn/37ukWY1R51m99C5ryH0JoZSA2DmFpziEfqLk6y6jvGEY/EVx3sRiFgh1VsYs+o3VDKlYEsKh5sPoGi9pmQiZOTdGazXFxbCpVJJT3KxU12bleNrQdrABVvxAhh9GgtfWLFdozlpW11K8TbhTheu6Qr8yRBnJpq5gKe5ti'\n",
    "```\n",
    "\n",
    "Parameters used in decrypt and final result, in jSON:\n",
    "\n",
    "```\n",
    "key = {\n",
    "    sigBytes: 16,\n",
    "    words: {\n",
    "        0: 25689311,\n",
    "        1: 2059655437,\n",
    "        2: 1748191994,\n",
    "        3: 62422782\n",
    "    }\n",
    "}\n",
    "\n",
    "iv = {\n",
    "    sigBytes: 16,\n",
    "    words: {\n",
    "        0: 866358323,\n",
    "        1: -455219260,\n",
    "        2: -575024048,\n",
    "        3: 730400212\n",
    "    }\n",
    "}\n",
    "\n",
    "result = {\n",
    "    catRank: 43,\n",
    "    categoryName: \"STC Olympic Hommes CA 35-44\",\n",
    "    entryArt: \"Bezahlt\",\n",
    "    entryPayart: \"Online\",\n",
    "    eventDate: \"11.09.2016\",\n",
    "    eventName: \"Triathlon Yverdon-les-Bains\",\n",
    "    eventRaceNr: \"B628CCC3D9A7DDBF558DA920B9E33C7D\"\n",
    "    overCategoryName: \"STC Olympic Hommes Overall\",\n",
    "    overRank: 122,\n",
    "    provider: \"Datasport\",\n",
    "    raceNr: 18594,\n",
    "    racePayload: \"E09137F006F1390053225B57ABFA512DF7BC65269C53D92AC9AB3E2E044E6DFD\",\n",
    "    resultState: \"Klassiert\",\n",
    "    runtime: \"3:02.32,0\",\n",
    "    startNumber: 166\n",
    "}\n",
    "```"
   ]
  },
  {
   "cell_type": "markdown",
   "metadata": {},
   "source": [
    "## Code"
   ]
  },
  {
   "cell_type": "code",
   "execution_count": null,
   "metadata": {
    "collapsed": true
   },
   "outputs": [],
   "source": [
    "from Crypto.Cipher import AES\n",
    "import binascii"
   ]
  },
  {
   "cell_type": "code",
   "execution_count": null,
   "metadata": {
    "collapsed": true
   },
   "outputs": [],
   "source": [
    "KEY = '0187fcdf7ac3d90d68334afa03b87efe'\n",
    "IV = '33a39433e4dde7c4ddb9d4502b8905d4'\n",
    "KEY_BYTES = binascii.a2b_hex(KEY)\n",
    "IV_BYTES = binascii.a2b_hex(IV)"
   ]
  },
  {
   "cell_type": "code",
   "execution_count": null,
   "metadata": {
    "collapsed": true
   },
   "outputs": [],
   "source": [
    "def unpad(string):\n",
    "    '''\n",
    "    Remove the PKCS#7 padding from a text string\n",
    "    '''\n",
    "\n",
    "    length = len(string)\n",
    "    pad_size = string[-1]\n",
    "    return string[:length - pad_size]\n",
    "\n",
    "def decrypt_data(cipher, encrypted):\n",
    "    '''\n",
    "    Decrypt data given key and iv\n",
    "    '''\n",
    "\n",
    "    decrypted = cipher.decrypt(binascii.a2b_base64(encrypted).rstrip())\n",
    "    return unpad(decrypted)"
   ]
  },
  {
   "cell_type": "markdown",
   "metadata": {},
   "source": [
    "## Example"
   ]
  },
  {
   "cell_type": "code",
   "execution_count": null,
   "metadata": {
    "collapsed": false
   },
   "outputs": [],
   "source": [
    "encrypted = '3zxaer+64X4MlhwuD6brwClAgmm46IWbdo+vg+1p6+A3Og6ugY/KVQAogTCv34A7HOvz4oGJKqEYzQLFoi5shtCBJkc1ftSlLsnl+lI8mrOMKiJ3KLItdYODgDj52XA3lAVw2TI5ITwmwCIMFaSVi13z0ZMif2VlsTvBiOGGc2sDrmfGNPwG0dHTc1ub0+580Ro0kTShNyLwcvCRAYK5LrLEMqW9wBCc7/+l28IWLQTKM9iIakZdIYhbUKbZuY7Z62+o3GjPzu6uNAMeS8WWLgsIfcIwkjhvfveg68rXMTKW3qmp9DtRjEnTTiE/VVCtrck3e7bJAwGZMTXKUYCb2HzzFoREJ+PmJ8l7NjS9emPpZeHOVC52lXPYivLozBtbkzkdreOQoXVZ33LM228GgEyAQmln3RtD84Pqg8rtYnhlSKHTotmhw49u+s6XhDQ+1QFTaDFQ0Q9xMtGfRUcCY4A9jjIUbstnOA1clDfNMzn29VXoKmTz0nVUstd+jlN0dHAedZUl0t57Ml64vSZNxQ5Zda5ckZAsXhdTKhAuO91mR1TEdTXBChX+ngjacdLCO3e6FGO/YMT6WM5whFvamW4D3Ls/zcSYGMoUeIOr068='\n",
    "cipher = AES.new(KEY_BYTES, AES.MODE_CBC, IV_BYTES, segment_size=128)\n",
    "decrypt_data(cipher, encrypted)"
   ]
  },
  {
   "cell_type": "code",
   "execution_count": null,
   "metadata": {
    "collapsed": true
   },
   "outputs": [],
   "source": []
  }
 ],
 "metadata": {
  "anaconda-cloud": {},
  "kernelspec": {
   "display_name": "Python [default]",
   "language": "python",
   "name": "python3"
  },
  "language_info": {
   "codemirror_mode": {
    "name": "ipython",
    "version": 3
   },
   "file_extension": ".py",
   "mimetype": "text/x-python",
   "name": "python",
   "nbconvert_exporter": "python",
   "pygments_lexer": "ipython3",
   "version": "3.5.2"
  }
 },
 "nbformat": 4,
 "nbformat_minor": 1
}
