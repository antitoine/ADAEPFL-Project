{
 "cells": [
  {
   "cell_type": "code",
   "execution_count": null,
   "metadata": {
    "collapsed": true
   },
   "outputs": [],
   "source": [
    "from IPython.display import HTML\n",
    "import pandas as pd\n",
    "import numpy as np\n",
    "import math\n",
    "import os"
   ]
  },
  {
   "cell_type": "markdown",
   "metadata": {},
   "source": [
    "# Clean every dataframes and merge"
   ]
  },
  {
   "cell_type": "markdown",
   "metadata": {},
   "source": [
    "## Marathon Lausanne 2016"
   ]
  },
  {
   "cell_type": "code",
   "execution_count": null,
   "metadata": {
    "collapsed": false
   },
   "outputs": [],
   "source": [
    "DATA_DIR = './Data/Lausanne_Marathon_2016'\n",
    "!ls -hl './Data/Lausanne_Marathon_2016'"
   ]
  },
  {
   "cell_type": "code",
   "execution_count": null,
   "metadata": {
    "collapsed": false
   },
   "outputs": [],
   "source": [
    "def clean_dataframe(df):\n",
    "\n",
    "    selected_columns = {\n",
    "        'category': ['catégorie', 'Kategorie'],\n",
    "        'name': ['nom', 'nom/lieu', 'Name/Ort'],\n",
    "        'rank': ['Rang', 'rang'],\n",
    "        'team': ['équipe', 'Team/Ortschaft', 'équipe/lieu'],\n",
    "        'acode': ['acode'],\n",
    "        'time': ['Zeit', 'temps'],\n",
    "        'birthday': ['an', 'Jg'],\n",
    "        'number': ['Stnr', 'doss'],\n",
    "        #'excluded': ['lieu', 'pénalité', 'retard', 'overall', 'moyenne', 'Rückstand', 'pays/lieu', 'temps-net']\n",
    "    }\n",
    "\n",
    "    dataframe = df.copy()\n",
    "    \n",
    "    # Rename columns\n",
    "    rename_table = {}\n",
    "    for final_column_name, equivalent_columns in selected_columns.items():\n",
    "        for column in equivalent_columns:\n",
    "            if column in dataframe.columns:\n",
    "                rename_table[column] = final_column_name\n",
    "                break\n",
    "\n",
    "    dataframe.rename(columns=rename_table, inplace=True)\n",
    "        \n",
    "    # Drop last row if lot of NaN and select colmuns\n",
    "    if df.tail(1).isnull().sum(axis=1).values[0] > (len(df.columns) / 2):\n",
    "        dataframe = dataframe.drop(dataframe.index[len(dataframe)-1])[list(rename_table.values())].copy()\n",
    "    else:\n",
    "        dataframe = dataframe[list(rename_table.values())].copy()\n",
    "\n",
    "    for row in dataframe.itertuples():\n",
    "\n",
    "        # Remove () in number column\n",
    "        if 'number' in dataframe.columns and str(row.number)[0] == '(' and str(row.number)[len(row.number) - 1] == ')':\n",
    "            dataframe.set_value(row.Index, 'number', row.number[1:-1])\n",
    "\n",
    "        # Parse time\n",
    "        if 'time' in dataframe.columns:\n",
    "            try:\n",
    "                dataframe.set_value(row.Index, 'time', pd.to_datetime(row.time, format='%H:%M.%S,%f'))\n",
    "            except ValueError:\n",
    "                dataframe.set_value(row.Index, 'time', pd.to_datetime(row.time, format='%M.%S,%f', errors='coerce'))\n",
    "        if 'birthday' in dataframe.columns:\n",
    "            date = row.birthday\n",
    "            try:\n",
    "                # If there are only two digit (like 85.0 (4 characters)), we add 1900:\n",
    "                if len(str(math.modf(float(date))[1])) == 4:\n",
    "                    date = 1900.0 + float(date)\n",
    "            except ValueError:\n",
    "                dataframe.set_value(row.Index, 'birthday', np.nan)\n",
    "                continue\n",
    "            try:\n",
    "                dataframe.set_value(row.Index, 'birthday', pd.to_datetime(date, format='%Y.0'))\n",
    "            except ValueError:\n",
    "                dataframe.set_value(row.Index, 'birthday', pd.to_datetime(date, format='%Y', errors='coerce'))\n",
    "            \n",
    "\n",
    "    return dataframe"
   ]
  },
  {
   "cell_type": "markdown",
   "metadata": {},
   "source": [
    "### Runners: A"
   ]
  },
  {
   "cell_type": "code",
   "execution_count": null,
   "metadata": {
    "collapsed": false
   },
   "outputs": [],
   "source": [
    "!head ./Data/Lausanne_Marathon_2016/services.datasport.com_2016_lauf_lamara_ALFAA.HTM.csv"
   ]
  },
  {
   "cell_type": "code",
   "execution_count": null,
   "metadata": {
    "collapsed": false
   },
   "outputs": [],
   "source": [
    "df_2016_lauf_lamara_ALFAA = pd.read_csv(DATA_DIR + '/services.datasport.com_2016_lauf_lamara_ALFAA.HTM.csv', index_col=0)\n",
    "df_2016_lauf_lamara_ALFAA.head()"
   ]
  },
  {
   "cell_type": "code",
   "execution_count": null,
   "metadata": {
    "collapsed": false,
    "scrolled": true
   },
   "outputs": [],
   "source": [
    "clean_dataframe(df_2016_lauf_lamara_ALFAA).head()"
   ]
  },
  {
   "cell_type": "markdown",
   "metadata": {},
   "source": [
    "### All runners"
   ]
  },
  {
   "cell_type": "code",
   "execution_count": null,
   "metadata": {
    "collapsed": false
   },
   "outputs": [],
   "source": [
    "dataframes = []\n",
    "for filename in os.listdir(DATA_DIR):\n",
    "    print('Read and clean: ' + filename)\n",
    "    uncleaned_df = pd.read_csv(DATA_DIR + '/' + filename, index_col=0)\n",
    "    cleaned_df = clean_dataframe(uncleaned_df)\n",
    "    dataframes.append(cleaned_df)"
   ]
  },
  {
   "cell_type": "code",
   "execution_count": null,
   "metadata": {
    "collapsed": false
   },
   "outputs": [],
   "source": [
    "merged_df = pd.concat(dataframes)\n",
    "merged_df.head()"
   ]
  },
  {
   "cell_type": "code",
   "execution_count": null,
   "metadata": {
    "collapsed": true
   },
   "outputs": [],
   "source": [
    "merged_df.to_csv('./Data/Lausanne_Marathon_2016.csv')\n",
    "merged_df.to_pickle('./Data/Lausanne_Marathon_2016.pickle')"
   ]
  },
  {
   "cell_type": "code",
   "execution_count": null,
   "metadata": {
    "collapsed": false
   },
   "outputs": [],
   "source": [
    "!head './Data/Lausanne_Marathon_2016.csv'"
   ]
  },
  {
   "cell_type": "markdown",
   "metadata": {
    "collapsed": true
   },
   "source": [
    "## All Marathon Lausanne"
   ]
  },
  {
   "cell_type": "code",
   "execution_count": null,
   "metadata": {
    "collapsed": false,
    "scrolled": true
   },
   "outputs": [],
   "source": [
    "lauf_directories = [\n",
    "    'Lausanne_Marathon_2016',\n",
    "    'Lausanne_Marathon_2015',\n",
    "    'Lausanne_Marathon_2014',\n",
    "    'Lausanne_Marathon_2013',\n",
    "    'Lausanne_Marathon_2012',\n",
    "    'Lausanne_Marathon_2011',\n",
    "    'Lausanne_Marathon_2010',\n",
    "    'Lausanne_Marathon_2009',\n",
    "    'Lausanne_Marathon_2005',\n",
    "    'Lausanne_Marathon_2004',\n",
    "    'Lausanne_Marathon_2003',\n",
    "    'Lausanne_Marathon_2002',\n",
    "    'Lausanne_Marathon_2001',\n",
    "    'Lausanne_Marathon_2000',\n",
    "    'Lausanne_Marathon_2008',\n",
    "    'Lausanne_Marathon_2007',\n",
    "    'Lausanne_Marathon_2006',\n",
    "    'Lausanne_Marathon_1999',\n",
    "]\n",
    "\n",
    "for directory in lauf_directories:\n",
    "    directory_path = './Data/' + directory\n",
    "    print('Start ' + directory_path)\n",
    "    dataframes = []\n",
    "    for filename in os.listdir(directory_path):\n",
    "        print('    Read and clean: ' + filename)\n",
    "        uncleaned_df = pd.read_csv(directory_path + '/' + filename, index_col=0)\n",
    "        dataframes.append(clean_dataframe(uncleaned_df))\n",
    "    merged_df = pd.concat(dataframes)\n",
    "    merged_df.to_csv(directory_path + '.csv')\n",
    "    merged_df.to_pickle(directory_path + '.pickle')\n",
    "    print('End ' + directory_path + '\\n')"
   ]
  },
  {
   "cell_type": "code",
   "execution_count": null,
   "metadata": {
    "collapsed": true
   },
   "outputs": [],
   "source": []
  }
 ],
 "metadata": {
  "anaconda-cloud": {},
  "kernelspec": {
   "display_name": "Python [default]",
   "language": "python",
   "name": "python3"
  },
  "language_info": {
   "codemirror_mode": {
    "name": "ipython",
    "version": 3
   },
   "file_extension": ".py",
   "mimetype": "text/x-python",
   "name": "python",
   "nbconvert_exporter": "python",
   "pygments_lexer": "ipython3",
   "version": "3.5.2"
  }
 },
 "nbformat": 4,
 "nbformat_minor": 1
}
