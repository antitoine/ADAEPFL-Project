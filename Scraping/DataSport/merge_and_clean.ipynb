{
 "cells": [
  {
   "cell_type": "code",
   "execution_count": null,
   "metadata": {
    "collapsed": true
   },
   "outputs": [],
   "source": [
    "from IPython.display import HTML\n",
    "import pandas as pd\n",
    "import numpy as np\n",
    "import os"
   ]
  },
  {
   "cell_type": "markdown",
   "metadata": {},
   "source": [
    "# Clean every dataframes and merge"
   ]
  },
  {
   "cell_type": "markdown",
   "metadata": {},
   "source": [
    "## Marathon Lausanne 2016"
   ]
  },
  {
   "cell_type": "code",
   "execution_count": null,
   "metadata": {
    "collapsed": false
   },
   "outputs": [],
   "source": [
    "DATA_DIR = './Data/Lausanne_Marathon_2016'\n",
    "!ls -hl './Data/Lausanne_Marathon_2016'"
   ]
  },
  {
   "cell_type": "code",
   "execution_count": null,
   "metadata": {
    "collapsed": true
   },
   "outputs": [],
   "source": [
    "def clean_dataframe(df, fields=['catégorie', 'rang', 'nom', 'an', 'lieu', 'équipe', 'pénalité', 'temps', 'retard', 'acode'], to_numeric_column = ['rang', 'pénalité']):\n",
    "\n",
    "    # Drop last row\n",
    "    dataframe = df.drop(df.index[len(df)-1])[fields]\n",
    "\n",
    "    # Parse column in numeric\n",
    "    for column in to_numeric_column:\n",
    "        if column in dataframe.columns:\n",
    "            dataframe[column] = pd.to_numeric(dataframe[column], errors='coerce')\n",
    "\n",
    "    for row in dataframe.itertuples():\n",
    "        \n",
    "        # Fix issue in overall and moyenne columns\n",
    "        if 'overall' in fields:\n",
    "            # Split last column\n",
    "            split = str(row.moyenne).split('. ', 1)\n",
    "            if 'moyenne' in fields and len(split) > 1:\n",
    "                dataframe.set_value(row.Index, 'overall', split[0])\n",
    "                dataframe.set_value(row.Index, 'moyenne', split[1])\n",
    "            else:\n",
    "                dataframe.set_value(row.Index, 'overall', np.nan)\n",
    "\n",
    "        # Remove () in doss column\n",
    "        if 'doss' in fields and  str(row.doss)[0] == '(' and str(row.doss)[len(row.doss) - 1] == ')':\n",
    "            dataframe.set_value(row.Index, 'doss', row.doss[1:-1])\n",
    "\n",
    "        # Parse time\n",
    "        if 'temps' in fields:\n",
    "            try:\n",
    "                dataframe.set_value(row.Index, 'temps', pd.to_datetime(row.temps, format='%H:%M.%S,%f'))\n",
    "            except ValueError:\n",
    "                dataframe.set_value(row.Index, 'temps', pd.to_datetime(row.temps, format='%M.%S,%f', errors='coerce'))\n",
    "        if 'retard' in fields:\n",
    "            try:\n",
    "                dataframe.set_value(row.Index, 'retard', pd.to_datetime(row.retard, format='%H:%M.%S,%f'))\n",
    "            except ValueError:\n",
    "                dataframe.set_value(row.Index, 'retard', pd.to_datetime(row.retard, format='%M.%S,%f', errors='coerce'))\n",
    "        if 'an' in fields:\n",
    "            dataframe.set_value(row.Index, 'an', pd.to_datetime(row.an, format='%Y.0', errors='coerce'))\n",
    "\n",
    "    return dataframe"
   ]
  },
  {
   "cell_type": "markdown",
   "metadata": {},
   "source": [
    "### Runners: A"
   ]
  },
  {
   "cell_type": "code",
   "execution_count": null,
   "metadata": {
    "collapsed": false
   },
   "outputs": [],
   "source": [
    "!head ./Data/Lausanne_Marathon_2016/services.datasport.com_2016_lauf_lamara_ALFAA.HTM.csv"
   ]
  },
  {
   "cell_type": "code",
   "execution_count": null,
   "metadata": {
    "collapsed": false
   },
   "outputs": [],
   "source": [
    "df_2016_lauf_lamara_ALFAA = pd.read_csv(DATA_DIR + '/services.datasport.com_2016_lauf_lamara_ALFAA.HTM.csv', index_col=0)\n",
    "df_2016_lauf_lamara_ALFAA.head()"
   ]
  },
  {
   "cell_type": "code",
   "execution_count": null,
   "metadata": {
    "collapsed": false
   },
   "outputs": [],
   "source": [
    "clean_dataframe(df_2016_lauf_lamara_ALFAA).head()"
   ]
  },
  {
   "cell_type": "markdown",
   "metadata": {},
   "source": [
    "### All runners"
   ]
  },
  {
   "cell_type": "code",
   "execution_count": null,
   "metadata": {
    "collapsed": false
   },
   "outputs": [],
   "source": [
    "dataframes = []\n",
    "for filename in os.listdir(DATA_DIR):\n",
    "    print('Read and clean: ' + filename)\n",
    "    uncleaned_df = pd.read_csv(DATA_DIR + '/' + filename, index_col=0)\n",
    "    dataframes.append(clean_dataframe(uncleaned_df))"
   ]
  },
  {
   "cell_type": "code",
   "execution_count": null,
   "metadata": {
    "collapsed": false
   },
   "outputs": [],
   "source": [
    "merged_df = pd.concat(dataframes)\n",
    "merged_df.head()"
   ]
  },
  {
   "cell_type": "code",
   "execution_count": null,
   "metadata": {
    "collapsed": true
   },
   "outputs": [],
   "source": [
    "merged_df.to_csv('./Data/Lausanne_Marathon_2016.csv')\n",
    "merged_df.to_pickle('./Data/Lausanne_Marathon_2016.pickle')"
   ]
  },
  {
   "cell_type": "code",
   "execution_count": null,
   "metadata": {
    "collapsed": false
   },
   "outputs": [],
   "source": [
    "!head './Data/Lausanne_Marathon_2016.csv'"
   ]
  },
  {
   "cell_type": "markdown",
   "metadata": {
    "collapsed": true
   },
   "source": [
    "## All Marathon Lausanne"
   ]
  },
  {
   "cell_type": "code",
   "execution_count": null,
   "metadata": {
    "collapsed": false,
    "scrolled": true
   },
   "outputs": [],
   "source": [
    "lauf_directories = [\n",
    "    'Lausanne_Marathon_2016',\n",
    "    'Lausanne_Marathon_2015',\n",
    "    'Lausanne_Marathon_2014',\n",
    "    'Lausanne_Marathon_2013',\n",
    "    'Lausanne_Marathon_2012',\n",
    "    'Lausanne_Marathon_2011',\n",
    "    'Lausanne_Marathon_2010',\n",
    "    'Lausanne_Marathon_2009',\n",
    "    'Lausanne_Marathon_2005',\n",
    "    'Lausanne_Marathon_2004',\n",
    "    'Lausanne_Marathon_2003',\n",
    "    'Lausanne_Marathon_2002',\n",
    "    'Lausanne_Marathon_2001',\n",
    "    'Lausanne_Marathon_2000',\n",
    "    'Lausanne_Marathon_2008',\n",
    "    'Lausanne_Marathon_2007',\n",
    "    'Lausanne_Marathon_2006',\n",
    "    'Lausanne_Marathon_1999',\n",
    "]\n",
    "\n",
    "for directory in lauf_directories:\n",
    "    directory_path = './Data/' + directory\n",
    "    print('Start ' + directory_path)\n",
    "    dataframes = []\n",
    "    for filename in os.listdir(directory_path):\n",
    "        print('    Read and clean: ' + filename)\n",
    "        uncleaned_df = pd.read_csv(directory_path + '/' + filename, index_col=0)\n",
    "        fields = [column for column in uncleaned_df.columns if column in ['catégorie', 'rang', 'nom', 'an', 'lieu', 'équipe', 'pénalité', 'temps', 'retard', 'acode']]\n",
    "        to_numeric_column = [column for column in ['rang', 'pénalité'] if column in fields]\n",
    "        dataframes.append(clean_dataframe(uncleaned_df, fields, to_numeric_column))\n",
    "    merged_df = pd.concat(dataframes)\n",
    "    merged_df.to_csv(directory_path + '.csv')\n",
    "    merged_df.to_pickle(directory_path + '.pickle')\n",
    "    print('End ' + directory_path + '\\n')"
   ]
  },
  {
   "cell_type": "code",
   "execution_count": null,
   "metadata": {
    "collapsed": true
   },
   "outputs": [],
   "source": []
  }
 ],
 "metadata": {
  "anaconda-cloud": {},
  "kernelspec": {
   "display_name": "Python [default]",
   "language": "python",
   "name": "python3"
  },
  "language_info": {
   "codemirror_mode": {
    "name": "ipython",
    "version": 3
   },
   "file_extension": ".py",
   "mimetype": "text/x-python",
   "name": "python",
   "nbconvert_exporter": "python",
   "pygments_lexer": "ipython3",
   "version": "3.5.2"
  }
 },
 "nbformat": 4,
 "nbformat_minor": 1
}
