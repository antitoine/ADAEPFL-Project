{
 "cells": [
  {
   "cell_type": "code",
   "execution_count": null,
   "metadata": {
    "collapsed": true
   },
   "outputs": [],
   "source": [
    "import pandas as pd\n",
    "import numpy as np\n",
    "import os\n",
    "import collections"
   ]
  },
  {
   "cell_type": "markdown",
   "metadata": {},
   "source": [
    "# Find runners with multiple Lausanne marathon with acode (2016 - 2009)"
   ]
  },
  {
   "cell_type": "code",
   "execution_count": null,
   "metadata": {
    "collapsed": false
   },
   "outputs": [],
   "source": [
    "acodes = set()\n",
    "\n",
    "for filename in os.listdir('./Data'):\n",
    "    if filename.startswith('Lausanne_Marathon_') and filename.endswith('.pickle'):\n",
    "        df = pd.read_pickle('./Data/' + filename)\n",
    "        if 'acode' in df.columns:\n",
    "            acodes |= set(df['acode'])"
   ]
  },
  {
   "cell_type": "code",
   "execution_count": null,
   "metadata": {
    "collapsed": false
   },
   "outputs": [],
   "source": [
    "len(acodes)"
   ]
  },
  {
   "cell_type": "code",
   "execution_count": null,
   "metadata": {
    "collapsed": false
   },
   "outputs": [],
   "source": [
    "runners = collections.defaultdict(list)\n",
    "\n",
    "for filename in os.listdir('./Data'):\n",
    "    if filename.startswith('Lausanne_Marathon_') and filename.endswith('.pickle'):\n",
    "        df = pd.read_pickle('./Data/' + filename)\n",
    "        if 'acode' in df.columns:\n",
    "            year = filename.split('_')[-1].split('.')[0]\n",
    "            for acode in set(df['acode']):\n",
    "                runners[acode].append(year)"
   ]
  },
  {
   "cell_type": "code",
   "execution_count": null,
   "metadata": {
    "collapsed": false
   },
   "outputs": [],
   "source": [
    "for acode, runs in runners.items():\n",
    "    if len(runs) > 1:\n",
    "        print(acode + ' with ' + str(len(runs)))"
   ]
  },
  {
   "cell_type": "markdown",
   "metadata": {},
   "source": [
    "The acode is not a unique key between runs. We can't use it."
   ]
  },
  {
   "cell_type": "markdown",
   "metadata": {},
   "source": [
    "# Find runners with multiple Lausanne marathon with name"
   ]
  },
  {
   "cell_type": "code",
   "execution_count": null,
   "metadata": {
    "collapsed": true
   },
   "outputs": [],
   "source": [
    "names = set()\n",
    "\n",
    "for filename in os.listdir('./Data'):\n",
    "    if filename.startswith('Lausanne_Marathon_') and filename.endswith('.pickle'):\n",
    "        df = pd.read_pickle('./Data/' + filename)\n",
    "        if 'name' in df.columns:\n",
    "            names |= set(df['name'])"
   ]
  },
  {
   "cell_type": "code",
   "execution_count": null,
   "metadata": {
    "collapsed": false
   },
   "outputs": [],
   "source": [
    "len(names)"
   ]
  },
  {
   "cell_type": "code",
   "execution_count": null,
   "metadata": {
    "collapsed": false
   },
   "outputs": [],
   "source": [
    "runners = collections.defaultdict(dict)\n",
    "\n",
    "for filename in os.listdir('./Data'):\n",
    "    if filename.startswith('Lausanne_Marathon_') and filename.endswith('.pickle'):\n",
    "        df = pd.read_pickle('./Data/' + filename)\n",
    "        if 'name' in df.columns:\n",
    "            year = filename.split('_')[-1].split('.')[0]\n",
    "            for row in df.itertuples():\n",
    "                runners[row.name][year] = {}\n",
    "                runners[row.name][year]['index'] = row.Index\n",
    "                if 'acode' in df.columns:\n",
    "                    runners[row.name][year]['acode'] = row.acode"
   ]
  },
  {
   "cell_type": "code",
   "execution_count": null,
   "metadata": {
    "collapsed": false
   },
   "outputs": [],
   "source": [
    "selected_runners = {}\n",
    "\n",
    "for name, runs in runners.items():\n",
    "    if len(runs) > 15:\n",
    "        print(str(len(runs)) + ' Lausanne Marathon: ' + name)\n",
    "        selected_runners[name] = runs"
   ]
  },
  {
   "cell_type": "code",
   "execution_count": null,
   "metadata": {
    "collapsed": false
   },
   "outputs": [],
   "source": [
    "len(selected_runners)"
   ]
  },
  {
   "cell_type": "code",
   "execution_count": null,
   "metadata": {
    "collapsed": false
   },
   "outputs": [],
   "source": [
    "years = []\n",
    "\n",
    "frames = []\n",
    "\n",
    "for year, runs in selected_runners.items():\n",
    "    years.append(year)\n",
    "    frames.append(pd.DataFrame.from_dict(runs, orient='index'))\n",
    "\n",
    "df_selected_runners = pd.concat(frames, keys=years)\n",
    "df_selected_runners.index.names = ['name', 'year']\n",
    "df_selected_runners.head(20)"
   ]
  },
  {
   "cell_type": "code",
   "execution_count": null,
   "metadata": {
    "collapsed": true
   },
   "outputs": [],
   "source": [
    "df_selected_runners.to_csv('./Data/Runners/selected_runners.csv')\n",
    "df_selected_runners.to_pickle('./Data/Runners/selected_runners.pickle')"
   ]
  },
  {
   "cell_type": "code",
   "execution_count": null,
   "metadata": {
    "collapsed": false
   },
   "outputs": [],
   "source": [
    "df_selected_runners.xs('2009', level='year').reset_index().set_index('index').to_csv('./Data/Runners/selected_runners_2009.csv')"
   ]
  },
  {
   "cell_type": "code",
   "execution_count": null,
   "metadata": {
    "collapsed": true
   },
   "outputs": [],
   "source": []
  }
 ],
 "metadata": {
  "anaconda-cloud": {},
  "kernelspec": {
   "display_name": "Python [default]",
   "language": "python",
   "name": "python3"
  },
  "language_info": {
   "codemirror_mode": {
    "name": "ipython",
    "version": 3
   },
   "file_extension": ".py",
   "mimetype": "text/x-python",
   "name": "python",
   "nbconvert_exporter": "python",
   "pygments_lexer": "ipython3",
   "version": "3.5.2"
  }
 },
 "nbformat": 4,
 "nbformat_minor": 1
}
