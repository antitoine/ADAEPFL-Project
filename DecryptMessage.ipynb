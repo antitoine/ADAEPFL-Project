{
 "cells": [
  {
   "cell_type": "markdown",
   "metadata": {
    "collapsed": true
   },
   "source": [
    "https://www.datasport.com/sys/myds/ajax/getDSInfo.htm?acode=5CHP784HD\n",
    "\n",
    "JS: \n",
    "```\n",
    "var key = CryptoJS.enc.Base64.parse(\"AYf833rD2Q1oM0r6A7h+/g==\");\n",
    "var iv  = CryptoJS.enc.Base64.parse(\"M6OUM+Td58TdudRQK4kF1A==\");\n",
    "var decrypted = CryptoJS.AES.decrypt(resultEnc, key, {iv: iv});\n",
    "var result = JSON.parse(decrypted.toString(CryptoJS.enc.Utf8));\n",
    "```\n",
    "\n",
    "Results:\n",
    "```\n",
    "resultEnc = '3zxaer+64X4MlhwuD6brwEHBNFvFQ1/1v6HvtgY6H8cXvrxxGlWtGdWGRqfdmh5BmOnTTj0AplYL4GXExOqQU8s2quJTqvawdfazWRNL/9y76ldSjVbEl3XaFhl7yzA3uX36uOswsfUEXvQrvXeSWd8+KaVlbzyUDZnlytuBi+GWaipKz6NdSqmY8U3nPdaoVDf7euSP/7Z3L3sLLYLmQ0UgOtp+2+GSDL8cVHNMZTHsBXwP7LOQtXKjOLBJ0wm7svr+omqmh1Hr8kG2Kcj2JTkUQd+mrvbTeofzmzYLWezHJzwMeYMXsx5VdgbJtnaJoi5Jv6MVVJkeQFOJ8t1hYfuQoFfpIrDZLS4pdY8FhQFFOuPELOZuDeAAXwAG8Y2idzpaZIPD1V+4+iisal0Ud0Sl6XyjTqSaz4L9ceYJMKAdo5/kXZWqiBotN/u+rUdmtAaVAoMVA7zhPN7EIvpN+dWfLn/37ukWY1R51m99C5ryH0JoZSA2DmFpziEfqLk6y6jvGEY/EVx3sRiFgh1VsYs+o3VDKlYEsKh5sPoGi9pmQiZOTdGazXFxbCpVJJT3KxU12bleNrQdrABVvxAhh9GgtfWLFdozlpW11K8TbhTheu6Qr8yRBnJpq5gKe5ti'\n",
    "\n",
    "key = {\n",
    "    sigBytes: 16,\n",
    "    words: {\n",
    "        0: 25689311,\n",
    "        1: 2059655437,\n",
    "        2: 1748191994,\n",
    "        3: 62422782\n",
    "    }\n",
    "}\n",
    "\n",
    "iv = {\n",
    "    sigBytes: 16,\n",
    "    words: {\n",
    "        0: 866358323,\n",
    "        1: -455219260,\n",
    "        2: -575024048,\n",
    "        3: 730400212\n",
    "    }\n",
    "}\n",
    "\n",
    "result = {\n",
    "    catRank: 43,\n",
    "    categoryName: \"STC Olympic Hommes CA 35-44\",\n",
    "    entryArt: \"Bezahlt\",\n",
    "    entryPayart: \"Online\",\n",
    "    eventDate: \"11.09.2016\",\n",
    "    eventName: \"Triathlon Yverdon-les-Bains\",\n",
    "    eventRaceNr: \"B628CCC3D9A7DDBF558DA920B9E33C7D\"\n",
    "    overCategoryName: \"STC Olympic Hommes Overall\",\n",
    "    overRank: 122,\n",
    "    provider: \"Datasport\",\n",
    "    raceNr: 18594,\n",
    "    racePayload: \"E09137F006F1390053225B57ABFA512DF7BC65269C53D92AC9AB3E2E044E6DFD\",\n",
    "    resultState: \"Klassiert\",\n",
    "    runtime: \"3:02.32,0\",\n",
    "    startNumber: 166\n",
    "}\n",
    "```"
   ]
  },
  {
   "cell_type": "code",
   "execution_count": 1,
   "metadata": {
    "collapsed": true
   },
   "outputs": [],
   "source": [
    "from Crypto.Cipher import AES\n",
    "from Crypto import Random\n",
    "import base64\n",
    "import binascii\n",
    "import numpy as np"
   ]
  },
  {
   "cell_type": "code",
   "execution_count": 19,
   "metadata": {
    "collapsed": true
   },
   "outputs": [],
   "source": [
    "def int32_to_bytes(value):\n",
    "    bits = np.binary_repr(value)\n",
    "    return int(bits, 2).to_bytes(len(bits) // 4, byteorder='big')"
   ]
  },
  {
   "cell_type": "code",
   "execution_count": 24,
   "metadata": {
    "collapsed": false
   },
   "outputs": [
    {
     "data": {
      "text/plain": [
       "b'\\x00\\x00\\x01\\x87\\xfc\\xdf\\x00\\x00\\x00z\\xc3\\xd9\\r\\x00\\x00\\x00h3J\\xfa\\x00\\x00\\x03\\xb8~\\xfe'"
      ]
     },
     "execution_count": 24,
     "metadata": {},
     "output_type": "execute_result"
    }
   ],
   "source": [
    "js_key_values = np.array([25689311, 2059655437, 1748191994, 62422782], dtype='int32')\n",
    "\n",
    "key = b''\n",
    "key += int32_to_bytes(js_key_values[0])\n",
    "key += int32_to_bytes(js_key_values[1])\n",
    "key += int32_to_bytes(js_key_values[2])\n",
    "key += int32_to_bytes(js_key_values[3])\n",
    "\n",
    "key"
   ]
  },
  {
   "cell_type": "code",
   "execution_count": 23,
   "metadata": {
    "collapsed": false
   },
   "outputs": [
    {
     "ename": "TypeError",
     "evalue": "ord() expected string of length 1, but int found",
     "output_type": "error",
     "traceback": [
      "\u001b[0;31m---------------------------------------------------------------------------\u001b[0m",
      "\u001b[0;31mTypeError\u001b[0m                                 Traceback (most recent call last)",
      "\u001b[0;32m<ipython-input-23-64257b17626c>\u001b[0m in \u001b[0;36m<module>\u001b[0;34m()\u001b[0m\n\u001b[1;32m      9\u001b[0m \u001b[0munpad\u001b[0m \u001b[0;34m=\u001b[0m \u001b[0;32mlambda\u001b[0m \u001b[0ms\u001b[0m \u001b[0;34m:\u001b[0m \u001b[0ms\u001b[0m\u001b[0;34m[\u001b[0m\u001b[0;36m0\u001b[0m\u001b[0;34m:\u001b[0m\u001b[0;34m-\u001b[0m\u001b[0mord\u001b[0m\u001b[0;34m(\u001b[0m\u001b[0ms\u001b[0m\u001b[0;34m[\u001b[0m\u001b[0;34m-\u001b[0m\u001b[0;36m1\u001b[0m\u001b[0;34m]\u001b[0m\u001b[0;34m)\u001b[0m\u001b[0;34m]\u001b[0m\u001b[0;34m\u001b[0m\u001b[0m\n\u001b[1;32m     10\u001b[0m \u001b[0;34m\u001b[0m\u001b[0m\n\u001b[0;32m---> 11\u001b[0;31m \u001b[0mdecrypted\u001b[0m \u001b[0;34m=\u001b[0m \u001b[0munpad\u001b[0m\u001b[0;34m(\u001b[0m\u001b[0maes\u001b[0m\u001b[0;34m.\u001b[0m\u001b[0mdecrypt\u001b[0m\u001b[0;34m(\u001b[0m\u001b[0mresultEnc\u001b[0m\u001b[0;34m)\u001b[0m\u001b[0;34m)\u001b[0m\u001b[0;34m\u001b[0m\u001b[0m\n\u001b[0m\u001b[1;32m     12\u001b[0m \u001b[0mprint\u001b[0m\u001b[0;34m(\u001b[0m\u001b[0mdecrypted\u001b[0m\u001b[0;34m)\u001b[0m\u001b[0;34m\u001b[0m\u001b[0m\n",
      "\u001b[0;32m<ipython-input-23-64257b17626c>\u001b[0m in \u001b[0;36m<lambda>\u001b[0;34m(s)\u001b[0m\n\u001b[1;32m      7\u001b[0m \u001b[0;34m\u001b[0m\u001b[0m\n\u001b[1;32m      8\u001b[0m \u001b[0;34m\u001b[0m\u001b[0m\n\u001b[0;32m----> 9\u001b[0;31m \u001b[0munpad\u001b[0m \u001b[0;34m=\u001b[0m \u001b[0;32mlambda\u001b[0m \u001b[0ms\u001b[0m \u001b[0;34m:\u001b[0m \u001b[0ms\u001b[0m\u001b[0;34m[\u001b[0m\u001b[0;36m0\u001b[0m\u001b[0;34m:\u001b[0m\u001b[0;34m-\u001b[0m\u001b[0mord\u001b[0m\u001b[0;34m(\u001b[0m\u001b[0ms\u001b[0m\u001b[0;34m[\u001b[0m\u001b[0;34m-\u001b[0m\u001b[0;36m1\u001b[0m\u001b[0;34m]\u001b[0m\u001b[0;34m)\u001b[0m\u001b[0;34m]\u001b[0m\u001b[0;34m\u001b[0m\u001b[0m\n\u001b[0m\u001b[1;32m     10\u001b[0m \u001b[0;34m\u001b[0m\u001b[0m\n\u001b[1;32m     11\u001b[0m \u001b[0mdecrypted\u001b[0m \u001b[0;34m=\u001b[0m \u001b[0munpad\u001b[0m\u001b[0;34m(\u001b[0m\u001b[0maes\u001b[0m\u001b[0;34m.\u001b[0m\u001b[0mdecrypt\u001b[0m\u001b[0;34m(\u001b[0m\u001b[0mresultEnc\u001b[0m\u001b[0;34m)\u001b[0m\u001b[0;34m)\u001b[0m\u001b[0;34m\u001b[0m\u001b[0m\n",
      "\u001b[0;31mTypeError\u001b[0m: ord() expected string of length 1, but int found"
     ]
    }
   ],
   "source": [
    "key = base64.b64decode(b'AYf833rD2Q1oM0r6A7h+/g==')\n",
    "iv = base64.b64decode(b'M6OUM+Td58TdudRQK4kF1A==')\n",
    "\n",
    "resultEnc = base64.b64decode(b'3zxaer+64X4MlhwuD6brwEHBNFvFQ1/1v6HvtgY6H8cXvrxxGlWtGdWGRqfdmh5BmOnTTj0AplYL4GXExOqQU8s2quJTqvawdfazWRNL/9y76ldSjVbEl3XaFhl7yzA3uX36uOswsfUEXvQrvXeSWd8+KaVlbzyUDZnlytuBi+GWaipKz6NdSqmY8U3nPdaoVDf7euSP/7Z3L3sLLYLmQ0UgOtp+2+GSDL8cVHNMZTHsBXwP7LOQtXKjOLBJ0wm7svr+omqmh1Hr8kG2Kcj2JTkUQd+mrvbTeofzmzYLWezHJzwMeYMXsx5VdgbJtnaJoi5Jv6MVVJkeQFOJ8t1hYfuQoFfpIrDZLS4pdY8FhQFFOuPELOZuDeAAXwAG8Y2idzpaZIPD1V+4+iisal0Ud0Sl6XyjTqSaz4L9ceYJMKAdo5/kXZWqiBotN/u+rUdmtAaVAoMVA7zhPN7EIvpN+dWfLn/37ukWY1R51m99C5ryH0JoZSA2DmFpziEfqLk6y6jvGEY/EVx3sRiFgh1VsYs+o3VDKlYEsKh5sPoGi9pmQiZOTdGazXFxbCpVJJT3KxU12bleNrQdrABVvxAhh9GgtfWLFdozlpW11K8TbhTheu6Qr8yRBnJpq5gKe5ti')\n",
    "\n",
    "aes = AES.new(key = key, mode = AES.MODE_OFB, IV = iv)\n",
    "\n",
    "decrypted = unpad(aes.decrypt(resultEnc))\n",
    "print(decrypted)"
   ]
  },
  {
   "cell_type": "code",
   "execution_count": 38,
   "metadata": {
    "collapsed": false
   },
   "outputs": [
    {
     "name": "stdout",
     "output_type": "stream",
     "text": [
      "b'51566c6d4f444d7a636b517955544676545442794e6b4533614373765a7a3039'\n",
      "b'TTZPVU0rVGQ1OFRk'\n",
      "b'54545a5056553072564751314f46526b'\n",
      "b'VZ\\xa3\\n\\xe9\\xbf\\xedu\\xd6\\xc1$\\x91\\xef(\\xac\\x08@u\\xaanix\\xbatC,z\\xf0f\\xe6\\xebR\\x86\\x06\\xcc\\xe9\\xf7\\x90\\xd5/\\xaf\\x82/3\\xdd\\xbb;\\xc9\\x87\\x93Q\\x04\\xab\\x0e\\x05\\xf5\\xf9\\x87\\xb6\\xde\\x91\\x14\\xdd\\xd3%\\x9b\\x906}L\\xca<\\xd2\\xe8.\\x90F\\xbf\\xfaE(\\xb2\\xbc\\xc4\\xe9\\xfaM\\x89P\\xdc\\x9b/\\x86n\\xaa\\xba\\x88\\x8bw\\xf9\\xaaN\\xca\\xafZ\\x82\\xc7\\x10\\xe6!\\xddu\\x98\\xd7\\xb1\\xec\\x015\\x1d\\xf7\\x03\\x84\\xdc\\xb0\\xb9\\xfb\\xf6\\x13\\xc3q,<\\xe8\\xa5K?\\x9d\\x10\\xaa\\x02d\\xfe\\xf9\\xfe\\xb0\\x83i\\x8aL)\\x88{\\xb7\\x91h13\\r\\xc9r\\xe1O*u\\'\\xa7\\xbbl\\x9a\\xa8\\xd4kJ\\xbd\\x05F\\x95[\\xb3yLh\\x9a\\xfc\\x06\\xab\\x00\\r\\xa2\\xd4yWHAT\\xa5\\xf9W\\xf5\\x03\\xcdb\\xa7\\xdb\\xd2\\xad\\x8d\\x9e\\x96\\xd1\\x0c\\xea3F\\xbb\\xa7\\x97\\x1f\\x97\\xa8\\xb1\\xa5%\\x04\\x1fn\\xb6\\xe6\\xc4qP\\xd3\\xd7j\\x93\\xb14(f\\x92)\\xf5\\x82}c\\xe5\\xbd\\x8c\\xa8\\x83\\x83i{4\\xddI\\xb3\\xa1\\xc4U\\xfd\\xf7z\\xf7\\xbep~\\xd8&|[m\\x14\\xc3[O\\x18\\xab1\\xd6\\x90=9{^\\xa0J\\x81-S\\x86$\\x05\\xbbc\\x94\\xd6\"KH`s#\\xab\\xa7Z\\xc1\\x16]\\xf2\\x0f\\xd0\\xb7\\xe6\\xfa\\xca\\xc9Q\\x85\\xa8\\xec\\xc4@\\xeb\\xcc\\xaa\\xf0\\xeb\\x8a\\x81\\xe9H\\x93 |\\x91\\x8c\\xf2\\x96\\xc9\\x8anB\\xa5 \\x1bn\\xd2\\xc1\\xe6\\xcd\\xe9\\xea\\xf7\\xb7\\xc9d\\xbe\\x87\\xd9\\xc8\\x1b\\x88\\xb6\\xda,\\xfd\\xdf\"1\\xe8\\t:\\xff\\x90EW)\\x90s\\x7f!\\x04z\\r$W\\'3\\xea \\x1dm7\\xa0\\xde\\xc7\\x86\\xf0\\xa8\\xc5\\xb6o\\x84\\x8d\\xe4\\xd8\\x8by\\x1d\\xfeG\\x07\\xe9\\xa2\\'&\\x85\\xa1\\x91[\\x86\\xcdn\\xd9\\x0c}w\\xe4V\\x9bQ3\\xee\\'\\xf9\\x9c\\xea&P\\x9b\\xee\\xa8\\xeaT\\x16\\x10\\x90\\xf5_a\\xcf\\xa5\\x94<{\\xf4 \\xfd\\xa4\\x8e\\xd0\\x04s\\xf2\\xf0S\\x8c\\xb3C/\\xaa\\xdc\\xfe2\\xf7\\xcci\\xc0\\xdf\\xa1\\xff4\\'B\\x8b\\x18\\x85\\x8b\\x0fW\\xea>\\x81Ahi\\xcboEv\\x10\\x99h\\xb8\\x06\\xa4k\\xd9\\xfe\\xbc\\xa2\\xb3\\xec\\x01\\x83\\x08\\xd1\\xe6\\xa4K\"\\xe6\\xfdN\\xe7?F\\x1cw?\\xc7\\xf4\\xf3\\xf5\\xb7\\x004\\r\\xe4\\x1al\\x12K\\x07\\xb4\\x88g\\xc1\\x8a\\x10\\xa4-\\x95\\xc6\\xe9\\xd3\\xf5\\xa6\\xd5\\xe7\\x1f\\x96j\\xb5M2\\xe16Z\\xda\\x83\\xe34s{\\xb2\\x8f\\xf4\\xb0\\xb2r\\xe3K{\\xb5;\\xa0\\xe8\\xd6\\xeea\\xf6Z\\rJ\\x1e\\x10\\x99@\\xff;K0\\xf6U\\xf8\\x0b\\x80\\xcf^\\xcd\\x12\\x0b\\x96-\\xe5O\\xe6,\\x06^\\x10*'\n"
     ]
    },
    {
     "ename": "TypeError",
     "evalue": "object of type 'int' has no len()",
     "output_type": "error",
     "traceback": [
      "\u001b[0;31m---------------------------------------------------------------------------\u001b[0m",
      "\u001b[0;31mTypeError\u001b[0m                                 Traceback (most recent call last)",
      "\u001b[0;32m<ipython-input-38-b6a71f5f378e>\u001b[0m in \u001b[0;36m<module>\u001b[0;34m()\u001b[0m\n\u001b[1;32m     45\u001b[0m \u001b[0;34m\u001b[0m\u001b[0m\n\u001b[1;32m     46\u001b[0m \u001b[0maes\u001b[0m \u001b[0;34m=\u001b[0m \u001b[0mAES\u001b[0m\u001b[0;34m.\u001b[0m\u001b[0mnew\u001b[0m\u001b[0;34m(\u001b[0m\u001b[0mkeyEncode\u001b[0m\u001b[0;34m,\u001b[0m \u001b[0mAES\u001b[0m\u001b[0;34m.\u001b[0m\u001b[0mMODE_CBC\u001b[0m\u001b[0;34m,\u001b[0m \u001b[0mivEncode\u001b[0m\u001b[0;34m,\u001b[0m \u001b[0msegment_size\u001b[0m\u001b[0;34m=\u001b[0m\u001b[0;36m128\u001b[0m\u001b[0;34m)\u001b[0m\u001b[0;34m\u001b[0m\u001b[0m\n\u001b[0;32m---> 47\u001b[0;31m \u001b[0mprint\u001b[0m\u001b[0;34m(\u001b[0m\u001b[0munpad\u001b[0m\u001b[0;34m(\u001b[0m\u001b[0maes\u001b[0m\u001b[0;34m.\u001b[0m\u001b[0mdecrypt\u001b[0m\u001b[0;34m(\u001b[0m\u001b[0mencrypted\u001b[0m\u001b[0;34m[\u001b[0m\u001b[0mAES\u001b[0m\u001b[0;34m.\u001b[0m\u001b[0mblock_size\u001b[0m\u001b[0;34m:\u001b[0m\u001b[0;34m]\u001b[0m\u001b[0;34m)\u001b[0m\u001b[0;34m)\u001b[0m\u001b[0;34m)\u001b[0m\u001b[0;34m\u001b[0m\u001b[0m\n\u001b[0m\u001b[1;32m     48\u001b[0m \u001b[0;34m\u001b[0m\u001b[0m\n\u001b[1;32m     49\u001b[0m \u001b[0;31m#encrypt\u001b[0m\u001b[0;34m\u001b[0m\u001b[0;34m\u001b[0m\u001b[0m\n",
      "\u001b[0;32m<ipython-input-38-b6a71f5f378e>\u001b[0m in \u001b[0;36munpad\u001b[0;34m(data)\u001b[0m\n\u001b[1;32m     41\u001b[0m \u001b[0;32mdef\u001b[0m \u001b[0munpad\u001b[0m\u001b[0;34m(\u001b[0m\u001b[0mdata\u001b[0m\u001b[0;34m)\u001b[0m\u001b[0;34m:\u001b[0m\u001b[0;34m\u001b[0m\u001b[0m\n\u001b[1;32m     42\u001b[0m     \u001b[0mprint\u001b[0m\u001b[0;34m(\u001b[0m\u001b[0mdata\u001b[0m\u001b[0;34m)\u001b[0m\u001b[0;34m\u001b[0m\u001b[0m\n\u001b[0;32m---> 43\u001b[0;31m     \u001b[0;32mif\u001b[0m \u001b[0mdata\u001b[0m\u001b[0;34m[\u001b[0m\u001b[0;34m-\u001b[0m\u001b[0;36m1\u001b[0m\u001b[0;34m]\u001b[0m \u001b[0;32mand\u001b[0m \u001b[0mlen\u001b[0m\u001b[0;34m(\u001b[0m\u001b[0mdata\u001b[0m\u001b[0;34m[\u001b[0m\u001b[0;34m-\u001b[0m\u001b[0;36m1\u001b[0m\u001b[0;34m]\u001b[0m\u001b[0;34m)\u001b[0m \u001b[0;34m>\u001b[0m \u001b[0;36m0\u001b[0m\u001b[0;34m:\u001b[0m\u001b[0;34m\u001b[0m\u001b[0m\n\u001b[0m\u001b[1;32m     44\u001b[0m         \u001b[0;32mreturn\u001b[0m \u001b[0mdata\u001b[0m\u001b[0;34m[\u001b[0m\u001b[0;34m:\u001b[0m\u001b[0;34m-\u001b[0m\u001b[0mord\u001b[0m\u001b[0;34m(\u001b[0m\u001b[0mdata\u001b[0m\u001b[0;34m[\u001b[0m\u001b[0;34m-\u001b[0m\u001b[0;36m1\u001b[0m\u001b[0;34m]\u001b[0m\u001b[0;34m)\u001b[0m\u001b[0;34m]\u001b[0m\u001b[0;34m\u001b[0m\u001b[0m\n\u001b[1;32m     45\u001b[0m \u001b[0;34m\u001b[0m\u001b[0m\n",
      "\u001b[0;31mTypeError\u001b[0m: object of type 'int' has no len()"
     ]
    }
   ],
   "source": [
    "encrypted='3zxaer+64X4MlhwuD6brwEHBNFvFQ1/1v6HvtgY6H8cXvrxxGlWtGdWGRqfdmh5BmOnTTj0AplYL4GXExOqQU8s2quJTqvawdfazWRNL/9y76ldSjVbEl3XaFhl7yzA3uX36uOswsfUEXvQrvXeSWd8+KaVlbzyUDZnlytuBi+GWaipKz6NdSqmY8U3nPdaoVDf7euSP/7Z3L3sLLYLmQ0UgOtp+2+GSDL8cVHNMZTHsBXwP7LOQtXKjOLBJ0wm7svr+omqmh1Hr8kG2Kcj2JTkUQd+mrvbTeofzmzYLWezHJzwMeYMXsx5VdgbJtnaJoi5Jv6MVVJkeQFOJ8t1hYfuQoFfpIrDZLS4pdY8FhQFFOuPELOZuDeAAXwAG8Y2idzpaZIPD1V+4+iisal0Ud0Sl6XyjTqSaz4L9ceYJMKAdo5/kXZWqiBotN/u+rUdmtAaVAoMVA7zhPN7EIvpN+dWfLn/37ukWY1R51m99C5ryH0JoZSA2DmFpziEfqLk6y6jvGEY/EVx3sRiFgh1VsYs+o3VDKlYEsKh5sPoGi9pmQiZOTdGazXFxbCpVJJT3KxU12bleNrQdrABVvxAhh9GgtfWLFdozlpW11K8TbhTheu6Qr8yRBnJpq5gKe5ti'\n",
    "key = \"AYf833rD2Q1oM0r6A7h+/g==\"\n",
    "iv = \"M6OUM+Td58TdudRQK4kF1A==\"\n",
    "\n",
    "\n",
    "# Vlaleurs qu'on doit obtenir\n",
    "keyTest = \"0187fcdf7ac3d90d68334afa03b87efe\"\n",
    "ivTest  = \"33a39433e4dde7c4ddb9d4502b8905d4\"\n",
    "\n",
    "\n",
    "#encryptor = AES.new(keyTest,AES.MODE_CBC, ivTest)\n",
    "#result = encryptor.decrypt(encrypted)\n",
    "#print(result)\n",
    "\n",
    "#decrypted = unpad(encryptor.decrypt((encodedEncrypted[AES.block_size:])))\n",
    "#print(decrypted.decode('latin-1'))\n",
    "#print(decrypted.decode('utf-8'))\n",
    "\n",
    "#aes = AES.new(key, AES.MODE_CFB, iv, segment_size=128)\n",
    "#decrypted = aes.decrypt(binascii.a2b_base64(encrypted).rstrip())\n",
    "#print(decrypted.decode('ascii'))\n",
    "\n",
    "\n",
    "keyEncode = base64.b64encode(bytes(key, \"utf-8\"))\n",
    "\n",
    "keyhex = binascii.hexlify(keyEncode)\n",
    "print(keyhex)\n",
    "\n",
    "\n",
    "ivEncode = base64.b64encode(iv.encode())[:AES.block_size] \n",
    "print(ivEncode)\n",
    "\n",
    "ivHex  = binascii.hexlify(ivEncode)\n",
    "print(ivHex)\n",
    "\n",
    "\n",
    "#encrypt\n",
    "#encodedEncrypted = base64.b64decode(str.encode(encrypted))\n",
    "#key  = base64.b64encode(str.encode(key))\n",
    "\n",
    "#block_size is 16\n",
    "#iv  = base64.b64encode(str.encode(iv))[:AES.block_size] \n",
    "\n",
    "#print(iv.decode('utf-8'))\n",
    "#print(key.decode('utf-8'))\n",
    "\n",
    "#encryptor = AES.new(key,AES.MODE_CBC, iv)\n",
    "#result = encryptor.decrypt(encrypted)\n",
    "#print(result)\n",
    "\n",
    "#decrypted = unpad(encryptor.decrypt((encodedEncrypted[AES.block_size:])))\n",
    "#print(decrypted.decode('latin-1'))\n",
    "#print(decrypted.decode('utf-8'))\n",
    "\n",
    "#aes = AES.new(key, AES.MODE_CFB, iv, segment_size=128)\n",
    "#decrypted = aes.decrypt(binascii.a2b_base64(encrypted).rstrip())\n",
    "\n",
    "#print(decrypted.decode('ascii'))"
   ]
  }
 ],
 "metadata": {
  "anaconda-cloud": {},
  "kernelspec": {
   "display_name": "Python [default]",
   "language": "python",
   "name": "python3"
  },
  "language_info": {
   "codemirror_mode": {
    "name": "ipython",
    "version": 3
   },
   "file_extension": ".py",
   "mimetype": "text/x-python",
   "name": "python",
   "nbconvert_exporter": "python",
   "pygments_lexer": "ipython3",
   "version": "3.5.2"
  }
 },
 "nbformat": 4,
 "nbformat_minor": 0
}
