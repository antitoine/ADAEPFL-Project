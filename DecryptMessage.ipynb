{
 "cells": [
  {
   "cell_type": "code",
   "execution_count": null,
   "metadata": {
    "collapsed": false
   },
   "outputs": [],
   "source": [
    "HTML('<iframe src=https://www.datasport.com/sys/myds/ajax/getDSInfo.htm?acode=5CHP784HD width=1000 height=350></iframe>')"
   ]
  },
  {
   "cell_type": "markdown",
   "metadata": {
    "collapsed": true
   },
   "source": [
    "https://www.datasport.com/sys/myds/ajax/getDSInfo.htm?acode=5CHP784HD\n",
    "\n",
    "JS: \n",
    "```\n",
    "var key = CryptoJS.enc.Base64.parse(\"AYf833rD2Q1oM0r6A7h+/g==\");\n",
    "var iv  = CryptoJS.enc.Base64.parse(\"M6OUM+Td58TdudRQK4kF1A==\");\n",
    "var decrypted = CryptoJS.AES.decrypt(resultEnc, key, {iv: iv});\n",
    "var result = JSON.parse(decrypted.toString(CryptoJS.enc.Utf8));\n",
    "```\n",
    "\n",
    "Results:\n",
    "```\n",
    "resultEnc = '3zxaer+64X4MlhwuD6brwEHBNFvFQ1/1v6HvtgY6H8cXvrxxGlWtGdWGRqfdmh5BmOnTTj0AplYL4GXExOqQU8s2quJTqvawdfazWRNL/9y76ldSjVbEl3XaFhl7yzA3uX36uOswsfUEXvQrvXeSWd8+KaVlbzyUDZnlytuBi+GWaipKz6NdSqmY8U3nPdaoVDf7euSP/7Z3L3sLLYLmQ0UgOtp+2+GSDL8cVHNMZTHsBXwP7LOQtXKjOLBJ0wm7svr+omqmh1Hr8kG2Kcj2JTkUQd+mrvbTeofzmzYLWezHJzwMeYMXsx5VdgbJtnaJoi5Jv6MVVJkeQFOJ8t1hYfuQoFfpIrDZLS4pdY8FhQFFOuPELOZuDeAAXwAG8Y2idzpaZIPD1V+4+iisal0Ud0Sl6XyjTqSaz4L9ceYJMKAdo5/kXZWqiBotN/u+rUdmtAaVAoMVA7zhPN7EIvpN+dWfLn/37ukWY1R51m99C5ryH0JoZSA2DmFpziEfqLk6y6jvGEY/EVx3sRiFgh1VsYs+o3VDKlYEsKh5sPoGi9pmQiZOTdGazXFxbCpVJJT3KxU12bleNrQdrABVvxAhh9GgtfWLFdozlpW11K8TbhTheu6Qr8yRBnJpq5gKe5ti'\n",
    "\n",
    "key = {\n",
    "    sigBytes: 16,\n",
    "    words: {\n",
    "        0: 25689311,\n",
    "        1: 2059655437,\n",
    "        2: 1748191994,\n",
    "        3: 62422782\n",
    "    }\n",
    "}\n",
    "\n",
    "iv = {\n",
    "    sigBytes: 16,\n",
    "    words: {\n",
    "        0: 866358323,\n",
    "        1: -455219260,\n",
    "        2: -575024048,\n",
    "        3: 730400212\n",
    "    }\n",
    "}\n",
    "\n",
    "result = {\n",
    "    catRank: 43,\n",
    "    categoryName: \"STC Olympic Hommes CA 35-44\",\n",
    "    entryArt: \"Bezahlt\",\n",
    "    entryPayart: \"Online\",\n",
    "    eventDate: \"11.09.2016\",\n",
    "    eventName: \"Triathlon Yverdon-les-Bains\",\n",
    "    eventRaceNr: \"B628CCC3D9A7DDBF558DA920B9E33C7D\"\n",
    "    overCategoryName: \"STC Olympic Hommes Overall\",\n",
    "    overRank: 122,\n",
    "    provider: \"Datasport\",\n",
    "    raceNr: 18594,\n",
    "    racePayload: \"E09137F006F1390053225B57ABFA512DF7BC65269C53D92AC9AB3E2E044E6DFD\",\n",
    "    resultState: \"Klassiert\",\n",
    "    runtime: \"3:02.32,0\",\n",
    "    startNumber: 166\n",
    "}\n",
    "```"
   ]
  },
  {
   "cell_type": "code",
   "execution_count": null,
   "metadata": {
    "collapsed": true
   },
   "outputs": [],
   "source": [
    "from Crypto.Cipher import AES\n",
    "from Crypto import Random\n",
    "import base64\n",
    "import binascii\n",
    "import numpy as np\n",
    "from IPython.display import HTML"
   ]
  },
  {
   "cell_type": "code",
   "execution_count": null,
   "metadata": {
    "collapsed": false
   },
   "outputs": [],
   "source": [
    "html_page = \"\"\"<p id=\"crypted\">\"\"\"\n",
    "html_page += '3zxaer+64X4MlhwuD6brwEHBNFvFQ1/1v6HvtgY6H8cXvrxxGlWtGdWGRqfdmh5BmOnTTj0AplYL4GXExOqQU8s2quJTqvawdfazWRNL/9y76ldSjVbEl3XaFhl7yzA3uX36uOswsfUEXvQrvXeSWd8+KaVlbzyUDZnlytuBi+GWaipKz6NdSqmY8U3nPdaoVDf7euSP/7Z3L3sLLYLmQ0UgOtp+2+GSDL8cVHNMZTHsBXwP7LOQtXKjOLBJ0wm7svr+omqmh1Hr8kG2Kcj2JTkUQd+mrvbTeofzmzYLWezHJzwMeYMXsx5VdgbJtnaJoi5Jv6MVVJkeQFOJ8t1hYfuQoFfpIrDZLS4pdY8FhQFFOuPELOZuDeAAXwAG8Y2idzpaZIPD1V+4+iisal0Ud0Sl6XyjTqSaz4L9ceYJMKAdo5/kXZWqiBotN/u+rUdmtAaVAoMVA7zhPN7EIvpN+dWfLn/37ukWY1R51m99C5ryH0JoZSA2DmFpziEfqLk6y6jvGEY/EVx3sRiFgh1VsYs+o3VDKlYEsKh5sPoGi9pmQiZOTdGazXFxbCpVJJT3KxU12bleNrQdrABVvxAhh9GgtfWLFdozlpW11K8TbhTheu6Qr8yRBnJpq5gKe5ti'\n",
    "html_page += \"\"\"</p>\"\"\"\n",
    "\n",
    "jquery_file = open('Lib/jquery.min.js', 'r')\n",
    "crypto_js_file = open('Lib/cryptojs-aes.js', 'r')\n",
    "\n",
    "\n",
    "javascript = ''\n",
    "javascript += \"\"\"<script type=\"text/Javascript\">\"\"\" + jquery_file.read() + \"\"\"</script>\"\"\"\n",
    "javascript += \"\"\"<script type=\"text/Javascript\">\"\"\" + crypto_js_file.read() + \"\"\"</script>\"\"\"\n",
    "javascript += \"\"\"\n",
    "<script type=\"text/Javascript\">\n",
    "    var key = CryptoJS.enc.Base64.parse(\"AYf833rD2Q1oM0r6A7h+/g==\");\n",
    "    var iv  = CryptoJS.enc.Base64.parse(\"M6OUM+Td58TdudRQK4kF1A==\");\n",
    "    \n",
    "    var crypted = document.getElementById('crypted').text;\n",
    "\n",
    "    var decrypted = CryptoJS.AES.decrypt(crypted, key, {iv: iv});\n",
    "    //var result = decrypted.toString(CryptoJS.enc.Utf8);\n",
    "\n",
    "    //var command = \"result = '\" + result + \"'\";\n",
    "\n",
    "    //var kernel = IPython.notebook.kernel;\n",
    "    //kernel.execute(command);\n",
    "\n",
    "</script>\n",
    "\"\"\"\n",
    "\n",
    "HTML(html_page + javascript)"
   ]
  },
  {
   "cell_type": "code",
   "execution_count": null,
   "metadata": {
    "collapsed": false
   },
   "outputs": [],
   "source": [
    "print(result)"
   ]
  },
  {
   "cell_type": "code",
   "execution_count": null,
   "metadata": {
    "collapsed": true
   },
   "outputs": [],
   "source": [
    "def int32_to_bytes(value):\n",
    "    bits = np.binary_repr(value)\n",
    "    return int(bits, 2).to_bytes(len(bits) // 4, byteorder='big')"
   ]
  },
  {
   "cell_type": "code",
   "execution_count": null,
   "metadata": {
    "collapsed": false
   },
   "outputs": [],
   "source": [
    "js_key_values = np.array([25689311, 2059655437, 1748191994, 62422782], dtype='int32')\n",
    "\n",
    "key = b''\n",
    "key += int32_to_bytes(js_key_values[0])\n",
    "key += int32_to_bytes(js_key_values[1])\n",
    "key += int32_to_bytes(js_key_values[2])\n",
    "key += int32_to_bytes(js_key_values[3])\n",
    "\n",
    "key"
   ]
  },
  {
   "cell_type": "code",
   "execution_count": null,
   "metadata": {
    "collapsed": false
   },
   "outputs": [],
   "source": [
    "b'25689311'\n",
    "str(25689311).encode()"
   ]
  },
  {
   "cell_type": "code",
   "execution_count": null,
   "metadata": {
    "collapsed": false
   },
   "outputs": [],
   "source": [
    "key = base64.b64decode(b'AYf833rD2Q1oM0r6A7h+/g==')\n",
    "iv = base64.b64decode(b'M6OUM+Td58TdudRQK4kF1A==')\n",
    "\n",
    "resultEnc = base64.b64decode(b'3zxaer+64X4MlhwuD6brwEHBNFvFQ1/1v6HvtgY6H8cXvrxxGlWtGdWGRqfdmh5BmOnTTj0AplYL4GXExOqQU8s2quJTqvawdfazWRNL/9y76ldSjVbEl3XaFhl7yzA3uX36uOswsfUEXvQrvXeSWd8+KaVlbzyUDZnlytuBi+GWaipKz6NdSqmY8U3nPdaoVDf7euSP/7Z3L3sLLYLmQ0UgOtp+2+GSDL8cVHNMZTHsBXwP7LOQtXKjOLBJ0wm7svr+omqmh1Hr8kG2Kcj2JTkUQd+mrvbTeofzmzYLWezHJzwMeYMXsx5VdgbJtnaJoi5Jv6MVVJkeQFOJ8t1hYfuQoFfpIrDZLS4pdY8FhQFFOuPELOZuDeAAXwAG8Y2idzpaZIPD1V+4+iisal0Ud0Sl6XyjTqSaz4L9ceYJMKAdo5/kXZWqiBotN/u+rUdmtAaVAoMVA7zhPN7EIvpN+dWfLn/37ukWY1R51m99C5ryH0JoZSA2DmFpziEfqLk6y6jvGEY/EVx3sRiFgh1VsYs+o3VDKlYEsKh5sPoGi9pmQiZOTdGazXFxbCpVJJT3KxU12bleNrQdrABVvxAhh9GgtfWLFdozlpW11K8TbhTheu6Qr8yRBnJpq5gKe5ti')\n",
    "\n",
    "aes = AES.new(key = key, mode = AES.MODE_OFB, IV = iv)\n",
    "\n",
    "decrypted = unpad(aes.decrypt(resultEnc))\n",
    "print(decrypted)"
   ]
  },
  {
   "cell_type": "code",
   "execution_count": null,
   "metadata": {
    "collapsed": false
   },
   "outputs": [],
   "source": [
    "encrypted='3zxaer+64X4MlhwuD6brwEHBNFvFQ1/1v6HvtgY6H8cXvrxxGlWtGdWGRqfdmh5BmOnTTj0AplYL4GXExOqQU8s2quJTqvawdfazWRNL/9y76ldSjVbEl3XaFhl7yzA3uX36uOswsfUEXvQrvXeSWd8+KaVlbzyUDZnlytuBi+GWaipKz6NdSqmY8U3nPdaoVDf7euSP/7Z3L3sLLYLmQ0UgOtp+2+GSDL8cVHNMZTHsBXwP7LOQtXKjOLBJ0wm7svr+omqmh1Hr8kG2Kcj2JTkUQd+mrvbTeofzmzYLWezHJzwMeYMXsx5VdgbJtnaJoi5Jv6MVVJkeQFOJ8t1hYfuQoFfpIrDZLS4pdY8FhQFFOuPELOZuDeAAXwAG8Y2idzpaZIPD1V+4+iisal0Ud0Sl6XyjTqSaz4L9ceYJMKAdo5/kXZWqiBotN/u+rUdmtAaVAoMVA7zhPN7EIvpN+dWfLn/37ukWY1R51m99C5ryH0JoZSA2DmFpziEfqLk6y6jvGEY/EVx3sRiFgh1VsYs+o3VDKlYEsKh5sPoGi9pmQiZOTdGazXFxbCpVJJT3KxU12bleNrQdrABVvxAhh9GgtfWLFdozlpW11K8TbhTheu6Qr8yRBnJpq5gKe5ti'\n",
    "key = \"AYf833rD2Q1oM0r6A7h+/g==\"\n",
    "iv = \"M6OUM+Td58TdudRQK4kF1A==\"\n",
    "\n",
    "\n",
    "# Vlaleurs qu'on doit obtenir\n",
    "keyTest = \"0187fcdf7ac3d90d68334afa03b87efe\"\n",
    "ivTest  = \"33a39433e4dde7c4ddb9d4502b8905d4\"\n",
    "\n",
    "\n",
    "#encryptor = AES.new(keyTest,AES.MODE_CBC, ivTest)\n",
    "#result = encryptor.decrypt(encrypted)\n",
    "#print(result)\n",
    "\n",
    "#decrypted = unpad(encryptor.decrypt((encodedEncrypted[AES.block_size:])))\n",
    "#print(decrypted.decode('latin-1'))\n",
    "#print(decrypted.decode('utf-8'))\n",
    "\n",
    "#aes = AES.new(key, AES.MODE_CFB, iv, segment_size=128)\n",
    "#decrypted = aes.decrypt(binascii.a2b_base64(encrypted).rstrip())\n",
    "#print(decrypted.decode('ascii'))\n",
    "\n",
    "\n",
    "keyEncode = base64.b64encode(bytes(key, \"utf-8\"))\n",
    "\n",
    "keyhex = binascii.hexlify(keyEncode)\n",
    "print(keyhex)\n",
    "\n",
    "\n",
    "ivEncode = base64.b64encode(iv.encode())[:AES.block_size] \n",
    "print(ivEncode)\n",
    "\n",
    "ivHex  = binascii.hexlify(ivEncode)\n",
    "print(ivHex)\n",
    "\n",
    "\n",
    "#encrypt\n",
    "#encodedEncrypted = base64.b64decode(str.encode(encrypted))\n",
    "#key  = base64.b64encode(str.encode(key))\n",
    "\n",
    "#block_size is 16\n",
    "#iv  = base64.b64encode(str.encode(iv))[:AES.block_size] \n",
    "\n",
    "#print(iv.decode('utf-8'))\n",
    "#print(key.decode('utf-8'))\n",
    "\n",
    "#encryptor = AES.new(key,AES.MODE_CBC, iv)\n",
    "#result = encryptor.decrypt(encrypted)\n",
    "#print(result)\n",
    "\n",
    "#decrypted = unpad(encryptor.decrypt((encodedEncrypted[AES.block_size:])))\n",
    "#print(decrypted.decode('latin-1'))\n",
    "#print(decrypted.decode('utf-8'))\n",
    "\n",
    "#aes = AES.new(key, AES.MODE_CFB, iv, segment_size=128)\n",
    "#decrypted = aes.decrypt(binascii.a2b_base64(encrypted).rstrip())\n",
    "\n",
    "#print(decrypted.decode('ascii'))"
   ]
  }
 ],
 "metadata": {
  "anaconda-cloud": {},
  "kernelspec": {
   "display_name": "Python [default]",
   "language": "python",
   "name": "python3"
  },
  "language_info": {
   "codemirror_mode": {
    "name": "ipython",
    "version": 3
   },
   "file_extension": ".py",
   "mimetype": "text/x-python",
   "name": "python",
   "nbconvert_exporter": "python",
   "pygments_lexer": "ipython3",
   "version": "3.5.2"
  }
 },
 "nbformat": 4,
 "nbformat_minor": 0
}
